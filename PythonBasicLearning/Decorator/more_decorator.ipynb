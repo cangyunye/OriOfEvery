{
 "cells": [
  {
   "cell_type": "markdown",
   "metadata": {},
   "source": [
    "# property\n",
    "\n",
    "@property把一个getter方法变成属性\n",
    "\n",
    "@property本身又创建了另一个装饰器@func.setter，负责把一个setter方法变成属性赋值"
   ]
  },
  {
   "cell_type": "code",
   "execution_count": 50,
   "metadata": {},
   "outputs": [
    {
     "name": "stdout",
     "output_type": "stream",
     "text": [
      "yu 1999 19\n"
     ]
    }
   ],
   "source": [
    "\n",
    "class Student(object):\n",
    "    def __init__(self,name):\n",
    "        self._name = name\n",
    "        \n",
    "    @property\n",
    "    def name(self):\n",
    "        return self._name #这里的return出来的类型任意，名称任意，相当于重新初始化了\n",
    "    \n",
    "    @name.setter #使name具备赋值功能\n",
    "    def name(self,value):\n",
    "        self._name = value\n",
    "        \n",
    "    @property\n",
    "    def birth(self):\n",
    "        return self._birth\n",
    "\n",
    "    @birth.setter #使birth具备赋值功能\n",
    "    def birth(self, value):\n",
    "        self._birth = value\n",
    "\n",
    "    @property\n",
    "    def age(self):\n",
    "        return 2018 - self._birth\n",
    "stu=Student('hui')\n",
    "stu.name=\"yu\"#如果不加@name.setter，这里就无法赋值\n",
    "stu.birth=1999\n",
    "print(stu.name,stu.birth,stu.age) ##因为有了@property，所以可以直接通过getter方法获得各方法的属性值\n"
   ]
  },
  {
   "cell_type": "markdown",
   "metadata": {},
   "source": [
    "# wraps\n",
    "\n",
    "由于被装饰器装饰的函数实际上是变成了另一个函数，（函数名等函数属性会发生改变），为了不影响，我们使用functools中的wraps可以消除影响"
   ]
  },
  {
   "cell_type": "code",
   "execution_count": 7,
   "metadata": {},
   "outputs": [
    {
     "name": "stdout",
     "output_type": "stream",
     "text": [
      "Additional Func without wraps\n",
      "Called without wrapper function\n",
      "wrapper decorator\n",
      "Additional Func with wraps\n",
      "Called with wrapper function\n",
      "show2 Docstring\n"
     ]
    }
   ],
   "source": [
    "from functools import wraps\n",
    "#wraps可以使，被装饰器装饰的函数，维持原有名称\n",
    "\n",
    "def AddFun1(func):\n",
    "    def wrapper(*args, **kwargs):\n",
    "        \"\"\"decorator\"\"\"\n",
    "        print('Additional Func without wraps')\n",
    "        return func(*args, **kwargs)\n",
    "    return wrapper  \n",
    " \n",
    "@AddFun1 \n",
    "def show1():\n",
    "    \"\"\"Docstring\"\"\" \n",
    "    print('Called without wrapper function')\n",
    "    print(show1.__name__, show1.__doc__)\n",
    "\n",
    "show1()\n",
    "\n",
    "def AddFun2(func):\n",
    "    @wraps(func)\n",
    "    def wrapper(*args, **kwargs):\n",
    "        \"\"\"decorator\"\"\"\n",
    "        print('Additional Func with wraps')\n",
    "        return func(*args, **kwargs)\n",
    "    return wrapper  \n",
    " \n",
    "@AddFun2 \n",
    "def show2():\n",
    "    \"\"\"Docstring\"\"\" \n",
    "    print('Called with wrapper function')\n",
    "    print(show2.__name__, show2.__doc__)\n",
    "\n",
    "show2()\n"
   ]
  },
  {
   "cell_type": "markdown",
   "metadata": {},
   "source": [
    "假设装饰器是通过 @wraps (参考9.2小节)来实现的，那么你可以通过访问 __wrapped__ 属性来访问原始函数：\n",
    "\n",
    "show2_w = show2.__wrapped__\n",
    "\n",
    "show2_w()"
   ]
  },
  {
   "cell_type": "markdown",
   "metadata": {},
   "source": [
    "在上面，我们定义了一个装饰器 singleton，它返回了一个内部函数 getinstance，该函数会判断某个类是否在字典 instances 中，如果不存在，则会将 cls 作为 key，cls(*args, **kw) 作为 value 存到 instances 中，否则，直接返回 instances[cls]。"
   ]
  },
  {
   "cell_type": "code",
   "execution_count": null,
   "metadata": {},
   "outputs": [],
   "source": [
    "from functools import wraps\n",
    "def singleton(cls):\n",
    "    instances = {}\n",
    "    @wraps(cls)\n",
    "    def getinstance(*args, **kw):\n",
    "        if cls not in instances:\n",
    "            instances[cls] = cls(*args, **kw)\n",
    "        return instances[cls]\n",
    "    return getinstance\n",
    "@singleton\n",
    "class MyClass(object):\n",
    "    a = 1"
   ]
  }
 ],
 "metadata": {
  "kernelspec": {
   "display_name": "Python 3",
   "language": "python",
   "name": "python3"
  },
  "language_info": {
   "codemirror_mode": {
    "name": "ipython",
    "version": 3
   },
   "file_extension": ".py",
   "mimetype": "text/x-python",
   "name": "python",
   "nbconvert_exporter": "python",
   "pygments_lexer": "ipython3",
   "version": "3.7.1"
  },
  "toc": {
   "base_numbering": 1,
   "nav_menu": {},
   "number_sections": true,
   "sideBar": true,
   "skip_h1_title": false,
   "title_cell": "Table of Contents",
   "title_sidebar": "Contents",
   "toc_cell": false,
   "toc_position": {},
   "toc_section_display": true,
   "toc_window_display": false
  },
  "varInspector": {
   "cols": {
    "lenName": 16,
    "lenType": 16,
    "lenVar": 40
   },
   "kernels_config": {
    "python": {
     "delete_cmd_postfix": "",
     "delete_cmd_prefix": "del ",
     "library": "var_list.py",
     "varRefreshCmd": "print(var_dic_list())"
    },
    "r": {
     "delete_cmd_postfix": ") ",
     "delete_cmd_prefix": "rm(",
     "library": "var_list.r",
     "varRefreshCmd": "cat(var_dic_list()) "
    }
   },
   "types_to_exclude": [
    "module",
    "function",
    "builtin_function_or_method",
    "instance",
    "_Feature"
   ],
   "window_display": false
  }
 },
 "nbformat": 4,
 "nbformat_minor": 2
}
