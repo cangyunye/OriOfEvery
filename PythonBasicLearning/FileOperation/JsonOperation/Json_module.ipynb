{
 "cells": [
  {
   "cell_type": "markdown",
   "metadata": {},
   "source": [
    "### 输入Json数据"
   ]
  },
  {
   "cell_type": "code",
   "execution_count": null,
   "metadata": {},
   "outputs": [],
   "source": [
    "import json\n",
    "#字典内容\n",
    "json_content_dict ={\n",
    "        'First':\n",
    "        {\n",
    "            'Name':'Hui',\n",
    "            'Age':26,\n",
    "            'Characters':'Want to create anything never seen',\n",
    "            'Hobbies':'May be games',\n",
    "            'Job':'Test Engineer',\n",
    "            'Skills':'Tooooooo Much!'\n",
    "        },\n",
    "        'Second':\n",
    "        {\n",
    "            'Name':'Yu',\n",
    "            'Age':18,\n",
    "            'Characters':'Desire to be loved',\n",
    "            'Hobbies':'Offcourse games',\n",
    "            'Job':'IT Engineer',\n",
    "            'Skills':'Solve Problem which troubles!'\n",
    "        }\n",
    "}\n",
    "\n",
    "print(json_content_dict)\n",
    "\n",
    "#字典导出成json格式，字符串格式，并写入文件\n",
    "json_file_dict = 'json_dict.json'\n",
    "jdd = json.dumps(json_content_dict)\n",
    "print(jdd)\n",
    "print(type(jdd))\n",
    "with open(json_file_dict,'w') as jw:\n",
    "    jw.write(jdd)\n",
    "\n",
    "\n",
    "#从Json文件导入，导回字典格式，并查询变量\n",
    "with open(json_file_dict,'r') as jr:\n",
    "    content = jr.read()\n",
    "print(content)\n",
    "print(type(content))\n",
    "\n",
    "\n",
    "#对字典格式进行查询\n",
    "jl = json.loads(content)\n",
    "print(jl)\n",
    "print(type(jl))\n",
    "value=jl['First']['Name']\n",
    "print(value)\n",
    "\n",
    "\n"
   ]
  },
  {
   "cell_type": "markdown",
   "metadata": {},
   "source": [
    "### 列表转换"
   ]
  },
  {
   "cell_type": "code",
   "execution_count": null,
   "metadata": {},
   "outputs": [],
   "source": [
    "#列表内容\n",
    "json_content_list =[\n",
    "        'First',\n",
    "        {\n",
    "            'Name':'Hui',\n",
    "            'Age':26,\n",
    "            'Characters':'Want to create anything never seen',\n",
    "            'Hobbies':'May be games',\n",
    "            'Job':'Test Engineer',\n",
    "            'Skills':'Tooooooo Much!'\n",
    "        },\n",
    "        'Second',\n",
    "        {\n",
    "            'Name':'Yu',\n",
    "            'Age':18,\n",
    "            'Characters':'Desire to be loved',\n",
    "            'Hobbies':'Offcourse games',\n",
    "            'Job':'IT Engineer',\n",
    "            'Skills':'Solve Problem which troubles!'\n",
    "        }\n",
    "]\n",
    "\n",
    "print(json_content_list)\n",
    "#列表导出成json格式，字符串格式，并写入文件\n",
    "json_file_list = 'json_list.json'\n",
    "jdl = json.dumps(json_content_list)\n",
    "print(jdl)\n",
    "print(type(jdl))\n",
    "with open(json_file_list,'w') as jw:\n",
    "    jw.write(jdl)\n",
    "\n",
    "\n",
    "#从Json文件导入，导回列表格式，并查询变量\n",
    "with open(json_file_list,'r') as jr:\n",
    "    content = jr.read()\n",
    "print(content)\n",
    "print(type(content))\n",
    "\n",
    "#对列表格式进行查询\n",
    "jl = json.loads(content)\n",
    "print(jl)\n",
    "print(type(jl))\n",
    "index = jl.index('Second')\n",
    "print(index)\n",
    "value=jl[index+1]['Name']\n",
    "print(value)\n"
   ]
  },
  {
   "cell_type": "code",
   "execution_count": null,
   "metadata": {},
   "outputs": [],
   "source": []
  }
 ],
 "metadata": {
  "kernelspec": {
   "display_name": "Python 3",
   "language": "python",
   "name": "python3"
  },
  "language_info": {
   "codemirror_mode": {
    "name": "ipython",
    "version": 3
   },
   "file_extension": ".py",
   "mimetype": "text/x-python",
   "name": "python",
   "nbconvert_exporter": "python",
   "pygments_lexer": "ipython3",
   "version": "3.6.5"
  }
 },
 "nbformat": 4,
 "nbformat_minor": 2
}
