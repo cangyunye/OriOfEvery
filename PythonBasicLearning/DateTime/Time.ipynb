{
 "cells": [
  {
   "cell_type": "code",
   "execution_count": 1,
   "metadata": {
    "collapsed": true
   },
   "outputs": [],
   "source": [
    "import time as t"
   ]
  },
  {
   "cell_type": "markdown",
   "metadata": {},
   "source": [
    "# 输出当前时间"
   ]
  },
  {
   "cell_type": "code",
   "execution_count": 2,
   "metadata": {},
   "outputs": [
    {
     "name": "stdout",
     "output_type": "stream",
     "text": [
      "Wed Jul 18 08:02:31 2018\n",
      "Wed Jul 18 08:02:31 2018\n",
      "1531872151.149777\n",
      "2018-07-18 08:02:31\n",
      "time.struct_time(tm_year=2018, tm_mon=7, tm_mday=18, tm_hour=0, tm_min=2, tm_sec=31, tm_wday=2, tm_yday=199, tm_isdst=0)\n",
      "time.struct_time(tm_year=2018, tm_mon=7, tm_mday=18, tm_hour=8, tm_min=2, tm_sec=31, tm_wday=2, tm_yday=199, tm_isdst=0)\n"
     ]
    }
   ],
   "source": [
    "thisTm0=t.asctime() #将一个struct_time(默认为当时时间)，转换成字符串。\n",
    "thisTm00=t.ctime() #将一个时间戳(默认为当前时间)转换成一个时间字符串。\n",
    "thisTm000=t.time() #返回当前时间的时间戳。\n",
    "thisTm0000=t.strftime(\"%Y-%m-%d %H:%M:%S\") #返回当前时间的时间戳。\n",
    "thisTm1=t.gmtime() #将一个时间戳转换成一个UTC时区(0时区)的struct_time，如果seconds参数未输入，则以当前时间为转换标准。\n",
    "thisTm11=t.localtime() #将一个时间戳转换成一个当前时区的struct_time，如果seconds参数未输入，则以当前时间为转换标准。\n",
    "print(thisTm0)\n",
    "print(thisTm00)\n",
    "print(thisTm000)\n",
    "print(thisTm0000)\n",
    "print(thisTm1)\n",
    "print(thisTm11)"
   ]
  },
  {
   "cell_type": "markdown",
   "metadata": {},
   "source": [
    "# 将时间字符串转换成元组"
   ]
  },
  {
   "cell_type": "code",
   "execution_count": 3,
   "metadata": {},
   "outputs": [
    {
     "name": "stdout",
     "output_type": "stream",
     "text": [
      "time.struct_time(tm_year=2017, tm_mon=6, tm_mday=15, tm_hour=12, tm_min=12, tm_sec=12, tm_wday=3, tm_yday=166, tm_isdst=-1)\n"
     ]
    }
   ],
   "source": [
    "thisTmstr = \"2017-06-15 12:12:12\"\n",
    "thisTm2=t.strptime(thisTmstr,\"%Y-%m-%d %H:%M:%S\") #将时间字符串根据指定的格式化符转换成数组形式的时间。\n",
    "print(thisTm2)"
   ]
  },
  {
   "cell_type": "markdown",
   "metadata": {
    "collapsed": true
   },
   "source": [
    "# 时间差值计算"
   ]
  },
  {
   "cell_type": "code",
   "execution_count": 4,
   "metadata": {},
   "outputs": [
    {
     "name": "stdout",
     "output_type": "stream",
     "text": [
      "1531843351.0\n",
      "1497499932.0\n"
     ]
    }
   ],
   "source": [
    "tmstamp1=t.mktime(thisTm1) # 将一个struct_time转换为时间戳。\n",
    "tmstamp2=t.mktime(thisTm2)\n",
    "print(tmstamp1)\n",
    "print(tmstamp2)"
   ]
  },
  {
   "cell_type": "markdown",
   "metadata": {},
   "source": [
    "## 差值天"
   ]
  },
  {
   "cell_type": "code",
   "execution_count": 5,
   "metadata": {},
   "outputs": [
    {
     "name": "stdout",
     "output_type": "stream",
     "text": [
      "397.49\n"
     ]
    }
   ],
   "source": [
    "DeltaDay=round((tmstamp1-tmstamp2)/3600/24,2)\n",
    "print(DeltaDay)"
   ]
  },
  {
   "cell_type": "markdown",
   "metadata": {},
   "source": [
    "## 差值月"
   ]
  },
  {
   "cell_type": "code",
   "execution_count": 6,
   "metadata": {},
   "outputs": [
    {
     "name": "stdout",
     "output_type": "stream",
     "text": [
      "1 1\n"
     ]
    }
   ],
   "source": [
    "if thisTm1.tm_year == thisTm2.tm_year:\n",
    "    DeltaMon=thisTm1.tm_mon-thisTm2.tm_mon\n",
    "    print(DeltaMon)\n",
    "else:\n",
    "    DeltaYear=thisTm1.tm_year-thisTm2.tm_year\n",
    "    DeltaMon=thisTm1.tm_mon-thisTm2.tm_mon\n",
    "    print(DeltaYear,DeltaMon)"
   ]
  },
  {
   "cell_type": "markdown",
   "metadata": {},
   "source": [
    "# 时间戳转换为字符串"
   ]
  },
  {
   "cell_type": "code",
   "execution_count": 7,
   "metadata": {},
   "outputs": [
    {
     "name": "stdout",
     "output_type": "stream",
     "text": [
      "Thu Jun 15 12:12:12 2017\n"
     ]
    }
   ],
   "source": [
    "thisTm3=t.ctime(tmstamp2)\n",
    "print(thisTm3)\n"
   ]
  },
  {
   "cell_type": "markdown",
   "metadata": {},
   "source": [
    "# 将元组转换成字符串"
   ]
  },
  {
   "cell_type": "code",
   "execution_count": 8,
   "metadata": {},
   "outputs": [
    {
     "name": "stdout",
     "output_type": "stream",
     "text": [
      "2017/06/15 12:12:12\n"
     ]
    }
   ],
   "source": [
    "thisTm4=t.strftime(\"%Y/%m/%d %H:%M:%S\",thisTm2) #将指定的struct_time(默认为当前时间)，根据指定的格式化字符串输出。\n",
    "print(thisTm4)"
   ]
  }
 ],
 "metadata": {
  "kernelspec": {
   "display_name": "Python 3",
   "language": "python",
   "name": "python3"
  },
  "language_info": {
   "codemirror_mode": {
    "name": "ipython",
    "version": 3
   },
   "file_extension": ".py",
   "mimetype": "text/x-python",
   "name": "python",
   "nbconvert_exporter": "python",
   "pygments_lexer": "ipython3",
   "version": "3.6.3"
  },
  "widgets": {
   "application/vnd.jupyter.widget-state+json": {
    "state": {},
    "version_major": 2,
    "version_minor": 0
   }
  }
 },
 "nbformat": 4,
 "nbformat_minor": 2
}
