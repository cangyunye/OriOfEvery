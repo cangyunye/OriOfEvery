{
 "cells": [
  {
   "cell_type": "markdown",
   "metadata": {},
   "source": [
    "# next()和send()\n",
    "\n",
    "实际上next()和send()在一定意义上作用是相似的，区别是send()可以传递yield表达式的值进去，而next()不能传递特定的值，只能传递None进去。因此，我们可以看做calc_average.next() 和 calc_average.send(None) 作用是一样的。\n",
    "\n",
    "为什么第一次调用时，需使用next()语句或是send(None)\n",
    "PEP 342中有\n",
    "> \n",
    "Because generator-iterators begin execution at the top of the\n",
    "    generator's function body, there is no yield expression to receive\n",
    "    a value when the generator has just been created.  Therefore,\n",
    "    calling send() with a non-None argument is prohibited when the\n",
    "    generator iterator has just started, and a TypeError is raised if\n",
    "    this occurs (presumably due to a logic error of some kind).  Thus,\n",
    "    before you can communicate with a coroutine you must first call\n",
    "    next() or send(None) to advance its execution to the first yield\n",
    "    expression.\n",
    "\n",
    "https://www.zhihu.com/question/28105502\n",
    "\n",
    "\n",
    "下面说明下send执行的顺序。new_num = yield average这句话是从右往左执行的。当第一次send（None）（对应27行）时，启动生成器，从生成器函数的第一行代码开始执行，直到第一次执行完yield（对应第7行）后，**跳出生成器函数**。这个过程中，new_num一直没有定义。\n",
    "\n",
    "运行到send（10）时，进入生成器函数，此时，将yield average看做一个整体，赋值给它并且传回。此时即相当于把10赋值给new_num，但是并不执行yield部分。下面继续从yield的下一语句继续执行，然后重新运行到yield语句，执行后，跳出生成器函数。即send和next相比，只是开始多了一次赋值的动作，其他运行流程是相同的。\n"
   ]
  },
  {
   "cell_type": "code",
   "execution_count": 112,
   "metadata": {},
   "outputs": [
    {
     "name": "stdout",
     "output_type": "stream",
     "text": [
      "10.0\n",
      "15.0\n",
      "20.0\n",
      "计算完毕！！\n",
      "总共传入 3 个数值， 总和：60，平均数：20.0\n"
     ]
    }
   ],
   "source": [
    "# 子生成器\n",
    "def average_gen():\n",
    "    total = 0\n",
    "    count = 0\n",
    "    average = 0\n",
    "    while True:\n",
    "        new_num = yield average\n",
    "        if new_num is None:\n",
    "            break\n",
    "        count += 1\n",
    "        total += new_num\n",
    "        average = total/count\n",
    "\n",
    "    # 每一次return，都意味着当前协程结束。\n",
    "    return total,count,average\n",
    "\n",
    "# 委托生成器\n",
    "def proxy_gen():\n",
    "    while True:\n",
    "        # 只有子生成器要结束（return）了，yield from左边的变量才会被赋值，后面的代码才会执行。\n",
    "        total, count, average = yield from average_gen()\n",
    "        print(\"计算完毕！！\\n总共传入 {} 个数值， 总和：{}，平均数：{}\".format(count, total, average))\n",
    "\n",
    "# 调用方\n",
    "def main():\n",
    "    calc_average = proxy_gen()\n",
    "    next(calc_average)            # 预激协程\n",
    "    print(calc_average.send(10))  # 打印：10.0\n",
    "    print(calc_average.send(20))  # 打印：15.0\n",
    "    print(calc_average.send(30))  # 打印：20.0\n",
    "    calc_average.send(None)      # 结束协程\n",
    "    # 如果此处再调用calc_average.send(10)，由于上一协程已经结束，将重开一协程\n",
    "\n",
    "\n",
    "main()\n",
    "\n"
   ]
  },
  {
   "cell_type": "code",
   "execution_count": null,
   "metadata": {},
   "outputs": [],
   "source": []
  }
 ],
 "metadata": {
  "kernelspec": {
   "display_name": "Python 3",
   "language": "python",
   "name": "python3"
  },
  "language_info": {
   "codemirror_mode": {
    "name": "ipython",
    "version": 3
   },
   "file_extension": ".py",
   "mimetype": "text/x-python",
   "name": "python",
   "nbconvert_exporter": "python",
   "pygments_lexer": "ipython3",
   "version": "3.7.1"
  },
  "toc": {
   "base_numbering": 1,
   "nav_menu": {},
   "number_sections": true,
   "sideBar": true,
   "skip_h1_title": false,
   "title_cell": "Table of Contents",
   "title_sidebar": "Contents",
   "toc_cell": false,
   "toc_position": {},
   "toc_section_display": true,
   "toc_window_display": false
  },
  "varInspector": {
   "cols": {
    "lenName": 16,
    "lenType": 16,
    "lenVar": 40
   },
   "kernels_config": {
    "python": {
     "delete_cmd_postfix": "",
     "delete_cmd_prefix": "del ",
     "library": "var_list.py",
     "varRefreshCmd": "print(var_dic_list())"
    },
    "r": {
     "delete_cmd_postfix": ") ",
     "delete_cmd_prefix": "rm(",
     "library": "var_list.r",
     "varRefreshCmd": "cat(var_dic_list()) "
    }
   },
   "types_to_exclude": [
    "module",
    "function",
    "builtin_function_or_method",
    "instance",
    "_Feature"
   ],
   "window_display": false
  }
 },
 "nbformat": 4,
 "nbformat_minor": 2
}
