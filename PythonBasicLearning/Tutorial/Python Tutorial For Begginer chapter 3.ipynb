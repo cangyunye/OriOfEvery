{
 "cells": [
  {
   "cell_type": "markdown",
   "metadata": {},
   "source": [
    "# while 循环\n",
    "\n",
    "`while condition`\n"
   ]
  },
  {
   "cell_type": "code",
   "execution_count": null,
   "metadata": {},
   "outputs": [],
   "source": [
    "i = 1\n",
    "count = 10\n",
    "while i<= count:\n",
    "    print(i)\n",
    "    i += 1\n",
    "print(\"while done.\")\n"
   ]
  },
  {
   "cell_type": "code",
   "execution_count": null,
   "metadata": {},
   "outputs": [],
   "source": [
    "while i<=20 and  i>5 :\n",
    "    print(i)\n",
    "    i +=1"
   ]
  },
  {
   "cell_type": "markdown",
   "metadata": {},
   "source": [
    "# Guess Game\n",
    "\n",
    "1. 设定一个数字为靶值\n",
    "2. 输入一个数字，猜测是否为靶值，并提示偏大或偏小"
   ]
  },
  {
   "cell_type": "code",
   "execution_count": null,
   "metadata": {},
   "outputs": [],
   "source": [
    "target = 99\n",
    "gameover = False\n",
    "count = 0\n",
    "while not gameover  :\n",
    "    get = int(input(\"Enter your guess number between 0 to 100:\"))\n",
    "    count += 1\n",
    "    if target > get:\n",
    "        print(\"Less than it.\")\n",
    "    elif target == get:\n",
    "        gameover = True\n",
    "        print(f\"Correct ,after {count} times.\")\n",
    "    else :\n",
    "        print(\"More than it.\")\n",
    "    "
   ]
  },
  {
   "cell_type": "markdown",
   "metadata": {},
   "source": [
    "# for 循环\n",
    "\n",
    "`for iterator`\n",
    "\n",
    "1. 对一个可迭代对象进行有序轮询\n",
    "2. 搭配`range`进行一定轮次的循环"
   ]
  },
  {
   "cell_type": "code",
   "execution_count": null,
   "metadata": {},
   "outputs": [],
   "source": [
    "for letter in \"Billing Academy\":\n",
    "    print(letter)\n",
    "# for fruit in ['apple','banana',';cherry']:\n",
    "#     print(fruit)\n"
   ]
  },
  {
   "cell_type": "markdown",
   "metadata": {},
   "source": [
    "## 多维迭代对象循环"
   ]
  },
  {
   "cell_type": "code",
   "execution_count": null,
   "metadata": {},
   "outputs": [],
   "source": [
    "month = dict([(1, \"January\"),\n",
    "    (2, \"February\"),\n",
    "    (3, \"March\"),\n",
    "    (4, \"April\"),\n",
    "    (5, \"May\"),\n",
    "    (6, \"June\"),\n",
    "    (7, \"July\"),\n",
    "    (8, \"August\"),\n",
    "    (9, \"September\"),\n",
    "    (10, \"October\"),\n",
    "    (11, \"November\"),\n",
    "    (12, \"December\")])\n",
    "# TODO how to use the for syntax through dict\n",
    "for dic in month:\n",
    "    print(dic)\n",
    "    "
   ]
  },
  {
   "cell_type": "code",
   "execution_count": null,
   "metadata": {},
   "outputs": [],
   "source": [
    "listin2d = [[1, \"January\"],[2, \"February\"]]\n",
    "# TODO \n",
    "#     print(m,M)"
   ]
  },
  {
   "cell_type": "code",
   "execution_count": null,
   "metadata": {},
   "outputs": [],
   "source": [
    "text = [\"show\",\"me\",\"the\",\"money\"]\n",
    "#TODO what number should be filled. \n",
    "for i in range(?):\n",
    "    print(text[i])"
   ]
  },
  {
   "cell_type": "markdown",
   "metadata": {},
   "source": [
    "# 指数函数"
   ]
  },
  {
   "cell_type": "code",
   "execution_count": null,
   "metadata": {},
   "outputs": [],
   "source": [
    "# 求2的立方\n",
    "print(2*2*2)\n",
    "print(2**3)"
   ]
  },
  {
   "cell_type": "code",
   "execution_count": null,
   "metadata": {},
   "outputs": [],
   "source": [
    "def raise_to_power(base_n,pow_n):\n",
    "#     return base_n ** pow_n\n",
    "    result = 1\n",
    "    for index in range(pow_n):\n",
    "        result = result * base_n\n",
    "    return result\n",
    "    "
   ]
  },
  {
   "cell_type": "markdown",
   "metadata": {},
   "source": [
    "# 翻译器\n",
    "\n",
    "1. 翻译字典\n",
    "2. 待译文本\n",
    "3. 文本分词\n"
   ]
  },
  {
   "cell_type": "code",
   "execution_count": null,
   "metadata": {},
   "outputs": [],
   "source": [
    "text = \"Hello everybody, it's the first time i show you the python language.\"\n",
    "text = text.split()\n",
    "# 如何继续分组\n",
    "text = text.split().split(\",\")\n",
    "print(text)"
   ]
  },
  {
   "cell_type": "code",
   "execution_count": null,
   "metadata": {},
   "outputs": [],
   "source": [
    "text = \"Hello everybody, it's the first time i show you the python language.\"\n",
    "transdict = {\n",
    "    \"hello\":\"幸会\",\n",
    "    \"everybody\":\"诸君\",\n",
    "    \"it's\":\"彼时为\",\n",
    "    \"the\":\"~\",\n",
    "    \"first\":\"第一\",\n",
    "    \"time\":\"次\",\n",
    "    \"i\":\"鄙人\",\n",
    "    \"show\":\"展示\",\n",
    "    \"you\":\"你\"\n",
    "}\n",
    "def translator(text,transdict):\n",
    "    trans = []\n",
    "    # 文本分词\n",
    "    # 剔除标点符号\n",
    "    text = text.replace(\",\",\" ,\").replace(\".\",\" .\")\n",
    "    ## 需要将文字按空格分组\n",
    "    text = text.split()\n",
    "    for word in text:\n",
    "        # 转换为小写\n",
    "        word = word.lower()\n",
    "        # 按词翻译\n",
    "        result = transdict.get(word) if  transdict.get(word) else word\n",
    "        trans.append(result)\n",
    "    return trans"
   ]
  },
  {
   "cell_type": "code",
   "execution_count": null,
   "metadata": {},
   "outputs": [],
   "source": [
    "transresult = translator(text,transdict)\n",
    "print(transresult)\n",
    "# print(\"\".join(transresult))\n",
    "# print(*transresult,sep='')"
   ]
  },
  {
   "cell_type": "markdown",
   "metadata": {},
   "source": [
    "# try/except\n",
    "\n",
    "程序在无法运行的时候会报错，抛出异常，此时，无法再进行下去了\n",
    "\n",
    "通过`try/except` 来抓捕特定时候的异常，并设计逻辑对应处理或者打印可能的报错原因。\n",
    "\n",
    "`try/except/finally` finally部分为无论前面的程序成功与否，后面都会执行。\n"
   ]
  },
  {
   "cell_type": "markdown",
   "metadata": {},
   "source": [
    "## ValueError"
   ]
  },
  {
   "cell_type": "code",
   "execution_count": null,
   "metadata": {
    "scrolled": false
   },
   "outputs": [],
   "source": [
    "# 输入值无法处理\n",
    "number = int(input(\"Enter a number:\"))\n",
    "print(number)"
   ]
  },
  {
   "cell_type": "code",
   "execution_count": null,
   "metadata": {},
   "outputs": [],
   "source": [
    "#TODO  针对报错输入原因。\n",
    "try:\n",
    "    number = int(input(\"Enter a number:\"))\n",
    "    print(number)\n",
    "except:\n",
    "    print(\"Invalid Input\")"
   ]
  },
  {
   "cell_type": "markdown",
   "metadata": {},
   "source": [
    "## NameError"
   ]
  },
  {
   "cell_type": "code",
   "execution_count": null,
   "metadata": {
    "scrolled": true
   },
   "outputs": [],
   "source": [
    "# 无定义名称异常\n",
    "print(numberr)"
   ]
  },
  {
   "cell_type": "markdown",
   "metadata": {},
   "source": [
    "## IndentationError"
   ]
  },
  {
   "cell_type": "code",
   "execution_count": null,
   "metadata": {
    "scrolled": true
   },
   "outputs": [],
   "source": [
    "# indent错误\n",
    "   print(1)"
   ]
  },
  {
   "cell_type": "markdown",
   "metadata": {},
   "source": [
    "## AttributeError\n",
    "\n",
    "解释：不存在的属性（或方法）"
   ]
  },
  {
   "cell_type": "code",
   "execution_count": null,
   "metadata": {
    "scrolled": false
   },
   "outputs": [],
   "source": [
    "# 属性错误\n",
    "print.s"
   ]
  },
  {
   "cell_type": "code",
   "execution_count": null,
   "metadata": {},
   "outputs": [],
   "source": [
    "\"\".read"
   ]
  },
  {
   "cell_type": "markdown",
   "metadata": {},
   "source": [
    "## IndexError\n",
    "\n",
    "解释： 超出了数组的索引范围"
   ]
  },
  {
   "cell_type": "code",
   "execution_count": null,
   "metadata": {
    "scrolled": true
   },
   "outputs": [],
   "source": [
    "a=[1,2,3]\n",
    "a[3]"
   ]
  },
  {
   "cell_type": "markdown",
   "metadata": {},
   "source": [
    "## SyntaxError\n",
    "\n",
    "解释：关键词的语法输入不完整"
   ]
  },
  {
   "cell_type": "code",
   "execution_count": null,
   "metadata": {},
   "outputs": [],
   "source": [
    "# 语法错误\n",
    "if 3<2\n",
    "    print(s)"
   ]
  },
  {
   "cell_type": "markdown",
   "metadata": {},
   "source": [
    "## ZeroDivisionError\n",
    "\n",
    "解释：0不能做分母"
   ]
  },
  {
   "cell_type": "code",
   "execution_count": null,
   "metadata": {},
   "outputs": [],
   "source": [
    "# 0除异常\n",
    "value = 10/0"
   ]
  },
  {
   "cell_type": "markdown",
   "metadata": {},
   "source": [
    "## ModuleNotFoundError\n",
    "\n",
    "解释：未找到指定模块"
   ]
  },
  {
   "cell_type": "code",
   "execution_count": null,
   "metadata": {},
   "outputs": [],
   "source": [
    "import useless"
   ]
  },
  {
   "cell_type": "code",
   "execution_count": 7,
   "metadata": {
    "scrolled": true
   },
   "outputs": [
    {
     "name": "stdout",
     "output_type": "stream",
     "text": [
      "('division by zero',)\n",
      "exit the program.\n"
     ]
    }
   ],
   "source": [
    "# 多种可能异常，捕捉固定异常\n",
    "try:\n",
    "    value = 10/0\n",
    "    number = int(input(\"Enter a number:\"))\n",
    "    print(number)\n",
    "except ZeroDivisionError as ze:\n",
    "    print(ze.args)\n",
    "except ValueError as ve:\n",
    "    print(ve)\n",
    "except (ZeroDivisionError,ValueError) as e:\n",
    "    print(\"Absolutely wrong with the program.\")\n",
    "finally :\n",
    "    print(\"exit the program.\")\n",
    "# TODO，为什么不能直接print打印ZeroDivisionError"
   ]
  },
  {
   "cell_type": "code",
   "execution_count": null,
   "metadata": {},
   "outputs": [],
   "source": [
    "help(ZeroDivisionError)"
   ]
  }
 ],
 "metadata": {
  "kernelspec": {
   "display_name": "Python 3",
   "language": "python",
   "name": "python3"
  },
  "language_info": {
   "codemirror_mode": {
    "name": "ipython",
    "version": 3
   },
   "file_extension": ".py",
   "mimetype": "text/x-python",
   "name": "python",
   "nbconvert_exporter": "python",
   "pygments_lexer": "ipython3",
   "version": "3.7.1"
  },
  "toc": {
   "base_numbering": 1,
   "nav_menu": {},
   "number_sections": true,
   "sideBar": true,
   "skip_h1_title": false,
   "title_cell": "Table of Contents",
   "title_sidebar": "Contents",
   "toc_cell": false,
   "toc_position": {
    "height": "calc(100% - 180px)",
    "left": "10px",
    "top": "150px",
    "width": "172.637px"
   },
   "toc_section_display": true,
   "toc_window_display": true
  },
  "varInspector": {
   "cols": {
    "lenName": 16,
    "lenType": 16,
    "lenVar": 40
   },
   "kernels_config": {
    "python": {
     "delete_cmd_postfix": "",
     "delete_cmd_prefix": "del ",
     "library": "var_list.py",
     "varRefreshCmd": "print(var_dic_list())"
    },
    "r": {
     "delete_cmd_postfix": ") ",
     "delete_cmd_prefix": "rm(",
     "library": "var_list.r",
     "varRefreshCmd": "cat(var_dic_list()) "
    }
   },
   "types_to_exclude": [
    "module",
    "function",
    "builtin_function_or_method",
    "instance",
    "_Feature"
   ],
   "window_display": false
  }
 },
 "nbformat": 4,
 "nbformat_minor": 2
}
