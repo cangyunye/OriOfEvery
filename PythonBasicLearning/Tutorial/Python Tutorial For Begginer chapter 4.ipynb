{
 "cells": [
  {
   "cell_type": "markdown",
   "metadata": {},
   "source": [
    "# 文件读写\n",
    "\n",
    "完整形式\n",
    "`open(file, mode='r', buffering=-1, encoding=None, errors=None, newline=None, closefd=True, opener=None)`\n",
    "\n",
    "常用形式\n",
    "`open(file,mode,encoding)`\n",
    "\n",
    "`mode`参数\n",
    "\n",
    "https://www.runoob.com/python3/python3-inputoutput.html\n",
    "\n",
    "w:从头开始写\n",
    "\n",
    "r:从头开始读\n",
    "\n",
    "w+:可写可读，并覆盖原有\n",
    "\n",
    "r+:可写可读，并覆盖原有\n",
    "\n",
    "wb:二进制写\n",
    "\n",
    "rb:二进制读\n",
    "\n",
    "a:追加，即指针在尾部\n",
    "\n",
    "ab+:二进制追加\n",
    "\n",
    "方法：\n",
    "file.seek(offset[,whence])\n",
    "> offset，偏移字节数，\n",
    "> whence为0，从头开始偏移，1，从当前位置偏移，2从尾部逆向偏移(需要b模式)\n",
    "\n",
    "file.read([size])\n",
    "> 读取size大写字节数据，不填则读取所有\n",
    "\n",
    "file.readline()\n",
    "> 读取整行\n",
    "\n",
    "file.readlines([sizeint])\n",
    "> 按行追加到列表，直到总大小刚好大于sizeint\n",
    "\n",
    "file.write(str)\n",
    "> 写入字符串，追加行尾换行符\n",
    "\n",
    "file.writelines(sequence)\n",
    "> 将一个字符串列表写入，不会有行尾换行符追加\n",
    "\n",
    "file.close()\n",
    "> 关闭文件\n",
    "\n"
   ]
  },
  {
   "cell_type": "markdown",
   "metadata": {},
   "source": [
    "## 覆盖写入"
   ]
  },
  {
   "cell_type": "code",
   "execution_count": null,
   "metadata": {},
   "outputs": [],
   "source": [
    "content=\"\"\"1,湖南,长沙\n",
    "2,广东,广州\n",
    "3,河南,开封\n",
    "4,新疆,乌鲁木齐\n",
    "5,广西,南宁\n",
    "6,浙江,杭州\n",
    "7,江西,南昌\n",
    "8,福建,福州\n",
    "9,山东,济南\n",
    "10,安徽,合肥\n",
    "11,海南,海口\n",
    "12,湖北,武汉\n",
    "13,四川,成都\n",
    "\"\"\"\n",
    "content2=\"结尾\"\n",
    "# 创建一个新文件实例化保存到变量\n",
    "file = open('ProvincialCapital.txt','w')\n",
    "file.write(content)\n",
    "# file.write(content2)\n",
    "file.close()\n",
    "!cat 'ProvincialCapital.txt'\n",
    "# TODO 为什么要关闭文件。\n",
    "# 如果不关闭文件，那么写入数据会停留在缓存，占用资源，也可能丢失。\n",
    "\n",
    "    \n",
    "    "
   ]
  },
  {
   "cell_type": "markdown",
   "metadata": {},
   "source": [
    "## 序列化对象写入"
   ]
  },
  {
   "cell_type": "code",
   "execution_count": null,
   "metadata": {},
   "outputs": [],
   "source": [
    "content=\"江山如此多娇\"\n",
    "content2=\"引无数英雄竞折腰\"\n",
    "# encoding = [gbk,utf-8,ascii,gb2312,latin-1]\n",
    "file = open('ProvincialCapital.txt','w+',encoding='gbk')\n",
    "file.writelines(content)\n",
    "# file.writelines(content2)\n",
    "file.close()\n",
    "!cat 'ProvincialCapital.txt'"
   ]
  },
  {
   "cell_type": "markdown",
   "metadata": {},
   "source": [
    "## 读取文件"
   ]
  },
  {
   "cell_type": "code",
   "execution_count": null,
   "metadata": {},
   "outputs": [],
   "source": [
    "with open('ProvincialCapital.txt','r') as f:\n",
    "    # 从头开始读取文件\n",
    "    print(\"L0\",f.readline())\n",
    "    print(\"L1\",f.readline())\n",
    "    print(\"L2\",f.readline())\n",
    "    # TODO 为什么每次调用的readline结果不同\n",
    "    sizex = f.readline()\n",
    "    print(\"Lx\",f.readlines())\n",
    "    print(\"Lleft\",f.read())\n",
    "    f.seek(2)\n",
    "    print(\"Lreset\\n\",f.read())\n",
    "\n",
    "\"\"\"\n",
    "什么是with\n",
    "with将跟在with后的对象，赋值给as后的变量。\n",
    "在完成with内的代码块后，将会调用前面对象的退出方法\n",
    "open函数的退出方法，默认为close()\n",
    "\"\"\""
   ]
  },
  {
   "cell_type": "markdown",
   "metadata": {},
   "source": [
    "## 二进制读写"
   ]
  },
  {
   "cell_type": "code",
   "execution_count": null,
   "metadata": {},
   "outputs": [],
   "source": [
    "bcontent = b'write strings encode'\n",
    "bcnstring = '写入中文二进制'.encode('utf-8')\n",
    "with open('bytescontent.txt','wb+') as b:\n",
    "    b.write(bcontent)\n",
    "    # TODO 为什么到了二进制下写write就没有换行了\n",
    "    b.write(bcnstring)\n",
    "    b.seek(0)\n",
    "    print(b.read().decode('utf-8'))\n",
    "    "
   ]
  },
  {
   "cell_type": "markdown",
   "metadata": {},
   "source": [
    "# 模块导入和安装\n",
    "\n",
    "由于自带库并不能满足我们的需求，所以需要引入外部的库\n",
    "\n",
    "通过`pip install modulename`命令，可以从`~/.pip/pip.conf `指定的源中下载并安装新的库\n",
    "\n",
    "\n",
    "在安装之前，可以先`pip search module`\n",
    "\n",
    "```bash\n",
    "pip.conf中的内容：\n",
    "[global]\n",
    "trusted-host=pypi.aliyun.com              #豆瓣源，可以换成其他的源\n",
    "index-url=https://pypi.aliyun.com/pypi// #添加豆瓣源为可信主机，要不然可能报错\n",
    "```"
   ]
  },
  {
   "cell_type": "code",
   "execution_count": null,
   "metadata": {},
   "outputs": [],
   "source": [
    "# 将math脚本，指定为mt进行读取\n",
    "import math as mt\n",
    "\n",
    "print(mt.cos(2))\n",
    "\n",
    "# 从random脚本导入randint方法\n",
    "from random import randint\n",
    "\n",
    "print(randint(1,10))\n",
    "\n",
    "# 载入os模块中所有的方法\n",
    "from os import *\n",
    "\n",
    "print(getcwd())\n",
    "\n",
    "\n"
   ]
  },
  {
   "cell_type": "markdown",
   "metadata": {},
   "source": [
    "# 类(class)\n",
    "\n",
    "将一系列方法定义到一个集合\n",
    "\n",
    "[初级类](https://docs.python.org/zh-cn/3/tutorial/classes.html#private-variables)\n",
    "\n",
    "[类的定制化](https://docs.python.org/zh-cn/3/reference/datamodel.html?highlight=__slots__#slots)"
   ]
  },
  {
   "cell_type": "code",
   "execution_count": null,
   "metadata": {},
   "outputs": [],
   "source": [
    "class employee:\n",
    "# class employee(object):  \n",
    "    # self指定类本身\n",
    "    def __init__(self,name,jobid):\n",
    "        # __init__固有方法，但不是必须方法，用于接受入参\n",
    "        self.name = name\n",
    "        self.jobid = jobid\n",
    "    def work(self):\n",
    "        # 写给类本身的方法，需要加入self在第一个参数\n",
    "        print(\"Work,work.\")\n",
    "        # 通过self定义的变量，即类本身可用变量\n",
    "        self.location = 'GZ'\n",
    "    def ident(self):\n",
    "        print(f\"name:{self.name}\\nid:{self.jobid}\")\n",
    "\n",
    "    \n",
    "    def other(self):\n",
    "        print(self.location)\n",
    "        \n",
    "    # 不带self的方法可以在类内部使用，但无法被实例化对象使用\n",
    "    def another(info):\n",
    "        print(info)\n",
    "        \n",
    "        \n",
    "        "
   ]
  },
  {
   "cell_type": "markdown",
   "metadata": {},
   "source": [
    "> self，表示创建的实例本身，可以将方法内部的实现作用于self即本实例"
   ]
  },
  {
   "cell_type": "code",
   "execution_count": null,
   "metadata": {},
   "outputs": [],
   "source": [
    "# 实例化类\n",
    "hyh = employee('yh','403284')\n",
    "# 调用类方法\n",
    "hyh.work()\n",
    "hyh.ident()\n",
    "# 读取类变量（属性）\n",
    "hyh.name\n",
    "hyh.other()\n",
    "hyh.another('s')"
   ]
  },
  {
   "cell_type": "markdown",
   "metadata": {},
   "source": [
    "## 类的继承\n",
    "\n",
    "如果需要某一个类的方法，可以通过类的继承实现"
   ]
  },
  {
   "cell_type": "code",
   "execution_count": 5,
   "metadata": {},
   "outputs": [],
   "source": [
    "class chef:\n",
    "    def make_chicken(self):\n",
    "        print(\"chef makes a chicken.\")\n",
    "    def make_salad(self):\n",
    "        print(\"chef makes a salad.\")\n",
    "    def make_dish(self):\n",
    "        print(\"chef makes a dish.\")\n",
    "    def make_sandwich(self):\n",
    "        print(\"chef makes a sandwich.\")\n",
    "        \n",
    "# print(dir(chef))      \n",
    "class chineseChef:\n",
    "    def make_chicken(self):\n",
    "        print(\"chef makes a chicken.\")\n",
    "    def make_fish(self):\n",
    "        print(\"chef makes a salad.\")\n",
    "    def make_dish(self):\n",
    "        print(\"chef makes a dish.\")\n",
    "    def make_soup(self):\n",
    "        print(\"chef makes a soup.\")\n",
    "    def make_spicyfood(self):\n",
    "        print(\"chef makes a spicyfood.\")\n",
    "            \n",
    "# print(dir(chineseChef))     "
   ]
  },
  {
   "cell_type": "code",
   "execution_count": 7,
   "metadata": {},
   "outputs": [
    {
     "name": "stdout",
     "output_type": "stream",
     "text": [
      "chef makes a chicken.\n",
      "chef makes a spicyfood.\n",
      "['__class__', '__delattr__', '__dict__', '__dir__', '__doc__', '__eq__', '__format__', '__ge__', '__getattribute__', '__gt__', '__hash__', '__init__', '__init_subclass__', '__le__', '__lt__', '__module__', '__ne__', '__new__', '__reduce__', '__reduce_ex__', '__repr__', '__setattr__', '__sizeof__', '__str__', '__subclasshook__', '__weakref__', 'make_chicken', 'make_dish', 'make_fish', 'make_fried_rice', 'make_salad', 'make_sandwich', 'make_soup', 'make_spicyfood']\n"
     ]
    }
   ],
   "source": [
    "class cnChef(chef):\n",
    "    def make_fish(self):\n",
    "        print(\"chef makes a salad.\")\n",
    "    def make_soup(self):\n",
    "        print(\"chef makes a soup.\")\n",
    "    def make_spicyfood(self):\n",
    "        print(\"chef makes a spicyfood.\")\n",
    "    def make_fried_rice(self):\n",
    "        print(\"chef makes a fried_rice.\")\n",
    "            \n",
    "cnc = cnChef()\n",
    "cnc.make_chicken()\n",
    "cnc.make_spicyfood()\n",
    "print(dir(cnc))\n"
   ]
  },
  {
   "cell_type": "markdown",
   "metadata": {},
   "source": [
    "## 访问限制\n",
    "\n",
    "在Python中，实例的变量名如果以双下划线__开头，就变成了一个私有变量（private）"
   ]
  },
  {
   "cell_type": "markdown",
   "metadata": {},
   "source": [
    "### 私有变量\n",
    "\n",
    "带有一个下划线的名称 (例如 `_spam`) \n",
    "应该被当作是 API 的非仅供部分 (无论它是函数、方法或是数据成员)。 这应当被视为一个实现细节，可能不经通知即加以改变。"
   ]
  },
  {
   "cell_type": "markdown",
   "metadata": {},
   "source": [
    "### 变量的领域"
   ]
  },
  {
   "cell_type": "markdown",
   "metadata": {},
   "source": [
    "## 属性绑定\n",
    "\n",
    "`__slots__` 限制实例的属性"
   ]
  },
  {
   "cell_type": "code",
   "execution_count": 9,
   "metadata": {},
   "outputs": [
    {
     "data": {
      "text/plain": [
       "['__class__',\n",
       " '__delattr__',\n",
       " '__dir__',\n",
       " '__doc__',\n",
       " '__eq__',\n",
       " '__format__',\n",
       " '__ge__',\n",
       " '__getattribute__',\n",
       " '__gt__',\n",
       " '__hash__',\n",
       " '__init__',\n",
       " '__init_subclass__',\n",
       " '__le__',\n",
       " '__lt__',\n",
       " '__module__',\n",
       " '__ne__',\n",
       " '__new__',\n",
       " '__reduce__',\n",
       " '__reduce_ex__',\n",
       " '__repr__',\n",
       " '__setattr__',\n",
       " '__sizeof__',\n",
       " '__slots__',\n",
       " '__str__',\n",
       " '__subclasshook__',\n",
       " 'id',\n",
       " 'name']"
      ]
     },
     "execution_count": 9,
     "metadata": {},
     "output_type": "execute_result"
    }
   ],
   "source": [
    "class employee(object):\n",
    "    __slots__ = ('name', 'id')\n",
    "    \n",
    "e = employee()\n",
    "e.name='h'\n",
    "e.id='284'\n",
    "e.age=18\n",
    "# dir(e)"
   ]
  },
  {
   "cell_type": "markdown",
   "metadata": {},
   "source": [
    "## @property"
   ]
  },
  {
   "cell_type": "markdown",
   "metadata": {},
   "source": [
    "## Python 作用域和命名空间\n",
    "\n",
    "https://docs.python.org/zh-cn/3/tutorial/classes.html\n",
    "\n",
    "\n",
    "**命名空间**\n",
    "\n",
    "保存了对象所有的属性和方法以及变量\n",
    "\n",
    "**作用域**\n",
    "\n",
    "范围大的可以改写小的\n",
    "\n",
    "global > nonlocal > 按层级定义"
   ]
  },
  {
   "cell_type": "code",
   "execution_count": null,
   "metadata": {},
   "outputs": [],
   "source": [
    "def scope_test():\n",
    "    def do_local():\n",
    "        spam = \"local spam\"\n",
    "\n",
    "    def do_nonlocal():\n",
    "        nonlocal spam\n",
    "        spam = \"nonlocal spam\"\n",
    "\n",
    "    def do_global():\n",
    "        global spam\n",
    "        spam = \"global spam\"\n",
    "\n",
    "    spam = \"test spam\"\n",
    "    do_local()\n",
    "    print(\"After local assignment:\", spam)\n",
    "    do_nonlocal()\n",
    "    print(\"After nonlocal assignment:\", spam)\n",
    "    do_global()\n",
    "    print(\"After global assignment:\", spam)\n",
    "\n",
    "scope_test()\n",
    "print(\"In global scope:\", spam)\n",
    "\n"
   ]
  }
 ],
 "metadata": {
  "kernelspec": {
   "display_name": "Python 3",
   "language": "python",
   "name": "python3"
  },
  "language_info": {
   "codemirror_mode": {
    "name": "ipython",
    "version": 3
   },
   "file_extension": ".py",
   "mimetype": "text/x-python",
   "name": "python",
   "nbconvert_exporter": "python",
   "pygments_lexer": "ipython3",
   "version": "3.7.1"
  },
  "toc": {
   "base_numbering": 1,
   "nav_menu": {},
   "number_sections": true,
   "sideBar": true,
   "skip_h1_title": false,
   "title_cell": "Table of Contents",
   "title_sidebar": "Contents",
   "toc_cell": false,
   "toc_position": {
    "height": "calc(100% - 180px)",
    "left": "10px",
    "top": "150px",
    "width": "172.637px"
   },
   "toc_section_display": true,
   "toc_window_display": true
  },
  "varInspector": {
   "cols": {
    "lenName": 16,
    "lenType": 16,
    "lenVar": 40
   },
   "kernels_config": {
    "python": {
     "delete_cmd_postfix": "",
     "delete_cmd_prefix": "del ",
     "library": "var_list.py",
     "varRefreshCmd": "print(var_dic_list())"
    },
    "r": {
     "delete_cmd_postfix": ") ",
     "delete_cmd_prefix": "rm(",
     "library": "var_list.r",
     "varRefreshCmd": "cat(var_dic_list()) "
    }
   },
   "types_to_exclude": [
    "module",
    "function",
    "builtin_function_or_method",
    "instance",
    "_Feature"
   ],
   "window_display": false
  }
 },
 "nbformat": 4,
 "nbformat_minor": 2
}
