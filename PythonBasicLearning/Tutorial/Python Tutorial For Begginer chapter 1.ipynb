{
 "cells": [
  {
   "cell_type": "markdown",
   "metadata": {},
   "source": [
    "# 打印 \n",
    "\n",
    "在控制台(console)交互界面打印出你需要的信息，类似linux中的echo命令，c中的printf和java中的println命令"
   ]
  },
  {
   "cell_type": "code",
   "execution_count": null,
   "metadata": {},
   "outputs": [],
   "source": [
    "print(\"Hello World\")"
   ]
  },
  {
   "cell_type": "markdown",
   "metadata": {},
   "source": [
    "# 运行\n",
    "\n",
    "在命令行中 `python`+`脚本.py`运行\n",
    "\n",
    "eg.`python3.7 helloworld.py`"
   ]
  },
  {
   "cell_type": "markdown",
   "metadata": {},
   "source": [
    "# 注释"
   ]
  },
  {
   "cell_type": "code",
   "execution_count": null,
   "metadata": {},
   "outputs": [],
   "source": [
    "# 我就住是在这里\n",
    "\"\"\"\n",
    "我\n",
    "  还\n",
    "    可\n",
    "      以\n",
    "        很\n",
    "          有\n",
    "            风\n",
    "              度\"\"\"\n",
    "# 想怎么写怎么写"
   ]
  },
  {
   "cell_type": "markdown",
   "metadata": {},
   "source": [
    "# print构型\n",
    "\n",
    "利用print在控制台输出三角形\n",
    "\n",
    "`print(*objects, sep=' ', end='\\n', file=sys.stdout)`\n",
    "\n",
    "- objects -- 复数，表示可以一次输出多个对象。输出多个对象时，需要用 , 分隔。\n",
    "- sep -- 用来间隔多个对象，默认值是一个空格。\n",
    "- end -- 用来设定以什么结尾。默认值是换行符 \\n，我们可以换成其他字符串。\n",
    "- file -- 要写入的文件对象。\n",
    "\n",
    "特性：\n",
    "1. 每一行`print`语句，都表示进行了换行\n",
    "2. `print`按顺序输出\n"
   ]
  },
  {
   "cell_type": "code",
   "execution_count": null,
   "metadata": {},
   "outputs": [],
   "source": [
    "print(\"Triangle By Print Statement.\")\n",
    "print(\"    /|\")\n",
    "print(\"   / |\")\n",
    "print(\"  /  |\")\n",
    "print(\" /   |\")\n",
    "print(\"/____|\")  "
   ]
  },
  {
   "cell_type": "markdown",
   "metadata": {},
   "source": [
    "# 字符串-Strings\n",
    "\n",
    "1. 双引号`\"\"`包含的内容即为字符串\n",
    "2. 单引号同样可以将内容转化为字符串，但是如果想在单引号内再使用单引号，则需要通过`\\`转义\n",
    "3. 双引号中包含的单引号`'`，可以直接作为字符串打印\n",
    "4. print可以有各种形式打印变量\n",
    "5. print 本身是单行输出，但是可以通过\\n进行换行\n",
    "6. \"\"\"strings\"\"\" 可以构造很有风格的文本\n"
   ]
  },
  {
   "cell_type": "code",
   "execution_count": null,
   "metadata": {},
   "outputs": [],
   "source": [
    "print(\"There is a bug on this white tree.\")\n",
    "print('I\\'ve traveled  many cities,such as beijing,shanghai,when i was 17 years old.')\n",
    "print(\"It's 30 miles from my company to my house.\")\n",
    "print(\"Billing\\nAcademy!\")"
   ]
  },
  {
   "cell_type": "markdown",
   "metadata": {},
   "source": [
    "# print中的变量输出\n",
    "\n",
    "对于多段文字，如果你有想重复利用的地方，或者想进行更改，但又不希望一遍又一遍的手动更改，那么就可以使用变量进行替换。\n"
   ]
  },
  {
   "cell_type": "code",
   "execution_count": null,
   "metadata": {},
   "outputs": [],
   "source": [
    "item = 'meet'\n",
    "name = 'Kevin'\n",
    "print(\"Nice to\",item,\"you.\"+ name)"
   ]
  },
  {
   "cell_type": "code",
   "execution_count": null,
   "metadata": {},
   "outputs": [],
   "source": [
    "item = 'Monkey'\n",
    "color = 'golden'\n",
    "print(\"There is a %s on this %s tree.\" % (item,color))"
   ]
  },
  {
   "cell_type": "code",
   "execution_count": null,
   "metadata": {
    "scrolled": true
   },
   "outputs": [],
   "source": [
    "item = 'countries'\n",
    "countries = 'Australia,Sweden,美国'\n",
    "年龄 = '25'\n",
    "# print('I've traveled  many {},such as {},when i was {} years old.'.format(item,countries,年龄))\n",
    "print('I\\'ve traveled  many {},such as {},when i was {} years old.'.format(item,countries,年龄))"
   ]
  },
  {
   "cell_type": "code",
   "execution_count": null,
   "metadata": {},
   "outputs": [],
   "source": [
    "item = 'Academy!'\n",
    "print(f\"Billing\\n{item}\")"
   ]
  },
  {
   "cell_type": "markdown",
   "metadata": {},
   "source": [
    "## 字符串数据的大小写转化"
   ]
  },
  {
   "cell_type": "code",
   "execution_count": null,
   "metadata": {},
   "outputs": [],
   "source": [
    "\"Billing Academy!\".lower()"
   ]
  },
  {
   "cell_type": "code",
   "execution_count": null,
   "metadata": {},
   "outputs": [],
   "source": [
    "\"Billing Academy!\".upper()"
   ]
  },
  {
   "cell_type": "markdown",
   "metadata": {},
   "source": [
    "## 判断大小写"
   ]
  },
  {
   "cell_type": "code",
   "execution_count": null,
   "metadata": {},
   "outputs": [],
   "source": [
    "\"Billing Academy!\".upper().isupper()"
   ]
  },
  {
   "cell_type": "code",
   "execution_count": null,
   "metadata": {},
   "outputs": [],
   "source": [
    "\"Billing Academy!\".lower().isupper()"
   ]
  },
  {
   "cell_type": "markdown",
   "metadata": {},
   "source": [
    "## 判断字符串数据长度"
   ]
  },
  {
   "cell_type": "code",
   "execution_count": null,
   "metadata": {},
   "outputs": [],
   "source": [
    "print(len(\"Billing\"))"
   ]
  },
  {
   "cell_type": "markdown",
   "metadata": {},
   "source": [
    "## 提取字符串指定位数字符\n",
    "\n",
    "1. 用`[]`定位数组\n",
    "2. 数组的索引，从0开始\n",
    "3. 使用index方法获取匹配字符串的第一个索引序号"
   ]
  },
  {
   "cell_type": "code",
   "execution_count": null,
   "metadata": {},
   "outputs": [],
   "source": [
    "print(\"array:Billing\")\n",
    "print(\"index:0123456\")\n",
    "print(\"Billing\"[0])\n",
    "print(\"Billing\"[-1])\n",
    "print(\"Billing\"[1:2])\n",
    "# print(\"Billing\"[7])\n",
    "b = \"Billing\"\n",
    "b.index('ll') #可用来判断字符串中是否包含相应值"
   ]
  },
  {
   "cell_type": "markdown",
   "metadata": {},
   "source": [
    "## 字符串替换\n",
    "\n",
    "- `replace(origin,dest)`"
   ]
  },
  {
   "cell_type": "code",
   "execution_count": null,
   "metadata": {},
   "outputs": [],
   "source": [
    "'Panda'.replace(\"Panda\",\"胖达\")"
   ]
  },
  {
   "cell_type": "markdown",
   "metadata": {},
   "source": [
    "## 字符串分组\n",
    "\n",
    "- `split(sep)`\n",
    "- 默认对空格分组\n",
    "- 分组结果输出为列表"
   ]
  },
  {
   "cell_type": "code",
   "execution_count": null,
   "metadata": {},
   "outputs": [],
   "source": [
    "\"Panda^Giraffe^Elephant^Tiger^Owl\".split('^')"
   ]
  },
  {
   "cell_type": "markdown",
   "metadata": {},
   "source": [
    "# 数字(Number)"
   ]
  },
  {
   "cell_type": "markdown",
   "metadata": {},
   "source": [
    "## 数字的常用方法"
   ]
  },
  {
   "cell_type": "code",
   "execution_count": null,
   "metadata": {
    "scrolled": false
   },
   "outputs": [],
   "source": [
    "print(\"整数：\",2)             \n",
    "print(\"浮点数：\",3.1415)   \n",
    "print(\"负数：\",-3.21)        \n",
    "print(\"绝对值：\",abs(-3.21))    \n",
    "print(\"算术表达式：\",3+4.5*2)      \n",
    "print(\"幂：\",pow(2,3))      \n",
    "print(\"余：\",10%3)          \n",
    "print(\"商余：\",divmod(10,3))  \n",
    "print(\"数字转换为string类型：\",str(315))    \n",
    "print(\"最大值：\",max(1,2,3,4))\n",
    "print(\"最小值：\",min(1,2,3,4))\n",
    "print(\"四舍五入：\",round(3.4),round(3.5))\n"
   ]
  },
  {
   "cell_type": "markdown",
   "metadata": {},
   "source": [
    "## 数学工具包math\n",
    "\n",
    "常见的方法其实不足以提供我们对数学计算的需求，所以引入math库\n",
    "\n",
    "[math][https://docs.python.org/zh-cn/3/library/math.html]"
   ]
  },
  {
   "cell_type": "code",
   "execution_count": null,
   "metadata": {},
   "outputs": [],
   "source": [
    "from math import *\n",
    "print(\"地板取整：\",floor(3.9))\n",
    "print(\"天花板取整：\",ceil(3.1))\n",
    "print(\"开方：\",sqrt(36))"
   ]
  },
  {
   "cell_type": "markdown",
   "metadata": {},
   "source": [
    "## 字符串形式数字相加做字符串合并"
   ]
  },
  {
   "cell_type": "code",
   "execution_count": null,
   "metadata": {},
   "outputs": [],
   "source": [
    "print(3+5)\n",
    "print(str(3)+str(5))\n",
    "# print(14+\"个同学\")"
   ]
  },
  {
   "cell_type": "markdown",
   "metadata": {},
   "source": [
    "## 与界面交互的输入\n",
    "\n",
    "1. `input(prompt)`方法，从控制台获取用户输入\n",
    "2. `input`返回为str"
   ]
  },
  {
   "cell_type": "code",
   "execution_count": null,
   "metadata": {},
   "outputs": [],
   "source": [
    "name = input(\"Hey.Friends!Who Are you:\")\n",
    "print(f\"This is Teacher 胡，awful to see you {name}.\") "
   ]
  },
  {
   "cell_type": "markdown",
   "metadata": {},
   "source": [
    "# 计算器\n",
    "\n",
    "- 实现2个数字的输入\n",
    "- 输出两个数字求和"
   ]
  },
  {
   "cell_type": "code",
   "execution_count": null,
   "metadata": {},
   "outputs": [],
   "source": [
    "num1 =  input(\"Enter a number:\")\n",
    "num2 =  input(\"Enter another number:\")"
   ]
  },
  {
   "cell_type": "code",
   "execution_count": null,
   "metadata": {},
   "outputs": [],
   "source": [
    "result = num1 + num2\n",
    "print(result)"
   ]
  },
  {
   "cell_type": "code",
   "execution_count": null,
   "metadata": {},
   "outputs": [],
   "source": [
    "result = int(num1)+int(num2)\n",
    "print(result)"
   ]
  },
  {
   "cell_type": "code",
   "execution_count": null,
   "metadata": {},
   "outputs": [],
   "source": [
    "result = float(num1)+float(num2)\n",
    "print(result)"
   ]
  },
  {
   "cell_type": "markdown",
   "metadata": {},
   "source": [
    "小结：\n",
    "- 在使用input获取输入时，务必确认，所获取的输入值是否需要转化"
   ]
  },
  {
   "cell_type": "markdown",
   "metadata": {},
   "source": [
    "# 查看对象属性\n",
    "\n",
    "`dir` 函数不带参数，返回当前范围内的变量、方法和定义类型列表。带参数则返回对象的属性列表\n",
    "\n",
    "`help` 查看对象的详细说明\n",
    "\n",
    "`type` 查看对象的类型"
   ]
  },
  {
   "cell_type": "code",
   "execution_count": 4,
   "metadata": {
    "scrolled": false
   },
   "outputs": [
    {
     "data": {
      "text/plain": [
       "['In',\n",
       " 'NamespaceMagics',\n",
       " 'Out',\n",
       " '_',\n",
       " '_2',\n",
       " '_Jupyter',\n",
       " '__',\n",
       " '___',\n",
       " '__builtin__',\n",
       " '__builtins__',\n",
       " '__doc__',\n",
       " '__loader__',\n",
       " '__name__',\n",
       " '__package__',\n",
       " '__spec__',\n",
       " '_dh',\n",
       " '_getshapeof',\n",
       " '_getsizeof',\n",
       " '_i',\n",
       " '_i1',\n",
       " '_i2',\n",
       " '_i3',\n",
       " '_i4',\n",
       " '_ih',\n",
       " '_ii',\n",
       " '_iii',\n",
       " '_nms',\n",
       " '_oh',\n",
       " 'autopep8',\n",
       " 'exit',\n",
       " 'get_ipython',\n",
       " 'getsizeof',\n",
       " 'json',\n",
       " 'np',\n",
       " 'quit',\n",
       " 'var_dic_list',\n",
       " 'yapf_reformat']"
      ]
     },
     "execution_count": 4,
     "metadata": {},
     "output_type": "execute_result"
    }
   ],
   "source": [
    "dir()"
   ]
  },
  {
   "cell_type": "code",
   "execution_count": 3,
   "metadata": {},
   "outputs": [
    {
     "name": "stdout",
     "output_type": "stream",
     "text": [
      "Help on built-in function print in module builtins:\n",
      "\n",
      "print(...)\n",
      "    print(value, ..., sep=' ', end='\\n', file=sys.stdout, flush=False)\n",
      "    \n",
      "    Prints the values to a stream, or to sys.stdout by default.\n",
      "    Optional keyword arguments:\n",
      "    file:  a file-like object (stream); defaults to the current sys.stdout.\n",
      "    sep:   string inserted between values, default a space.\n",
      "    end:   string appended after the last value, default a newline.\n",
      "    flush: whether to forcibly flush the stream.\n",
      "\n"
     ]
    }
   ],
   "source": [
    "help(print)"
   ]
  },
  {
   "cell_type": "code",
   "execution_count": null,
   "metadata": {},
   "outputs": [],
   "source": [
    "type('')"
   ]
  }
 ],
 "metadata": {
  "kernelspec": {
   "display_name": "Python 3",
   "language": "python",
   "name": "python3"
  },
  "language_info": {
   "codemirror_mode": {
    "name": "ipython",
    "version": 3
   },
   "file_extension": ".py",
   "mimetype": "text/x-python",
   "name": "python",
   "nbconvert_exporter": "python",
   "pygments_lexer": "ipython3",
   "version": "3.7.1"
  },
  "toc": {
   "base_numbering": 1,
   "nav_menu": {
    "height": "301px",
    "width": "202px"
   },
   "number_sections": true,
   "sideBar": true,
   "skip_h1_title": false,
   "title_cell": "Table of Contents",
   "title_sidebar": "Contents",
   "toc_cell": false,
   "toc_position": {},
   "toc_section_display": true,
   "toc_window_display": false
  },
  "varInspector": {
   "cols": {
    "lenName": 16,
    "lenType": 16,
    "lenVar": 40
   },
   "kernels_config": {
    "python": {
     "delete_cmd_postfix": "",
     "delete_cmd_prefix": "del ",
     "library": "var_list.py",
     "varRefreshCmd": "print(var_dic_list())"
    },
    "r": {
     "delete_cmd_postfix": ") ",
     "delete_cmd_prefix": "rm(",
     "library": "var_list.r",
     "varRefreshCmd": "cat(var_dic_list()) "
    }
   },
   "types_to_exclude": [
    "module",
    "function",
    "builtin_function_or_method",
    "instance",
    "_Feature"
   ],
   "window_display": false
  }
 },
 "nbformat": 4,
 "nbformat_minor": 2
}
