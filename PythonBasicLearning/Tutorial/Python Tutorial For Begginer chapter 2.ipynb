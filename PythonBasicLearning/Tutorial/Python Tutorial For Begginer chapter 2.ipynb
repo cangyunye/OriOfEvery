{
 "cells": [
  {
   "cell_type": "markdown",
   "metadata": {},
   "source": [
    "# 数据类型(data-types) \n",
    "\n",
    "- list\n",
    "- tuple\n",
    "- dict"
   ]
  },
  {
   "cell_type": "markdown",
   "metadata": {},
   "source": [
    "## 列表（List）\n",
    "\n",
    "`list.append(x)`\n",
    "\n",
    "在列表的末尾添加一个元素。相当于 a[len(a):] = [x] 。\n",
    "\n",
    "`list.extend(iterable)`\n",
    "\n",
    "使用可迭代对象中的所有元素来扩展列表。相当于 a[len(a):] = iterable 。\n",
    "\n",
    "`list.insert(i, x)`\n",
    "\n",
    "在给定的位置插入一个元素。第一个参数是要插入的元素的索引，所以 a.insert(0, x) 插入列表头部， a.insert(len(a), x) 等同于 a.append(x) 。\n",
    "\n",
    "`list.remove(x)`\n",
    "\n",
    "移除列表中第一个值为 x 的元素。如果没有这样的元素，则抛出 ValueError 异常。\n",
    "\n",
    "`list.pop([i])`\n",
    "\n",
    "删除列表中给定位置的元素并返回它。如果没有给定位置，a.pop() 将会删除并返回列表中的最后一个元素。（ 方法签名中 i 两边的方括号表示这个参数是可选的，而不是要你输入方括号。你会在 Python 参考库中经常看到这种表示方法)。\n",
    "\n",
    "`list.clear()`\n",
    "\n",
    "删除列表中所有的元素。相当于 del a[:] 。\n",
    "\n",
    "`list.index(x[, start[, end]])`\n",
    "\n",
    "返回列表中第一个值为 x 的元素的从零开始的索引。如果没有这样的元素将会抛出 ValueError 异常。\n",
    "\n",
    "可选参数 start 和 end 是切片符号，用于将搜索限制为列表的特定子序列。返回的索引是相对于整个序列的开始计算的，而不是 start 参数。\n",
    "\n",
    "`list.count(x)`\n",
    "\n",
    "返回元素 x 在列表中出现的次数。\n",
    "\n",
    "`list.sort(key=None, reverse=False)`\n",
    "\n",
    "对列表中的元素进行排序（参数可用于自定义排序，解释请参见 sorted()）。\n",
    "\n",
    "`list.reverse()`\n",
    "\n",
    "反转列表中的元素。\n",
    "\n",
    "- 通过`[]`创建\n",
    "- 或者通过list()方法进行转换\n",
    "- 列表内的对象，可以是任意对象\n",
    "- 列表可以通过索引查找具体元素\n",
    "- 列表内的数据可以变更"
   ]
  },
  {
   "cell_type": "code",
   "execution_count": null,
   "metadata": {},
   "outputs": [],
   "source": [
    "friends = [\"桃宝\",\"铛铛\",\"惊冬\",\"莓糰\"]\n",
    "index = \"     0     1        2\"\n",
    "print(friends)\n",
    "print(index)\n"
   ]
  },
  {
   "cell_type": "markdown",
   "metadata": {},
   "source": [
    "### 列表推导式\n",
    "\n",
    "`[ return statement ]`\n",
    "- return:可以是任意对象\n",
    "- statement: 可迭代循环的语句"
   ]
  },
  {
   "cell_type": "code",
   "execution_count": null,
   "metadata": {},
   "outputs": [],
   "source": [
    "[i for i in range(10)]"
   ]
  },
  {
   "cell_type": "markdown",
   "metadata": {},
   "source": [
    "### 列表拓展"
   ]
  },
  {
   "cell_type": "code",
   "execution_count": null,
   "metadata": {
    "scrolled": true
   },
   "outputs": [],
   "source": [
    "list_a = ['dawn','morning']\n",
    "list_a+=['midday','afternoon']\n",
    "print(list_a)\n",
    "list_a.extend(['dusk'])\n",
    "# list_a.extend('dusk')\n",
    "print(list_a)\n",
    "list_a.append('night')\n",
    "print(list_a)"
   ]
  },
  {
   "cell_type": "markdown",
   "metadata": {},
   "source": [
    "### 列表值提取与删除"
   ]
  },
  {
   "cell_type": "code",
   "execution_count": null,
   "metadata": {},
   "outputs": [],
   "source": [
    "list_a.pop()\n",
    "print(list_a)"
   ]
  },
  {
   "cell_type": "markdown",
   "metadata": {},
   "source": [
    "### 列表值修改"
   ]
  },
  {
   "cell_type": "code",
   "execution_count": null,
   "metadata": {},
   "outputs": [],
   "source": [
    "list_a[-1]='deep night'\n",
    "print(list_a)"
   ]
  },
  {
   "cell_type": "markdown",
   "metadata": {},
   "source": [
    "### 列表中的值定位"
   ]
  },
  {
   "cell_type": "code",
   "execution_count": null,
   "metadata": {},
   "outputs": [],
   "source": [
    "list_a.index('midday')"
   ]
  },
  {
   "cell_type": "markdown",
   "metadata": {},
   "source": [
    "### 通过split分组到列表"
   ]
  },
  {
   "cell_type": "code",
   "execution_count": null,
   "metadata": {},
   "outputs": [],
   "source": [
    "\"1 2 3 4 5\".split()\n",
    "# mi = map(int,\"1 2 3 4 5\".split())\n",
    "# [i for i in mi]"
   ]
  },
  {
   "cell_type": "markdown",
   "metadata": {},
   "source": [
    "### 二维列表"
   ]
  },
  {
   "cell_type": "code",
   "execution_count": null,
   "metadata": {},
   "outputs": [],
   "source": [
    "#TODO 2 Dimension list\n",
    "\n",
    "#TODO Show the value"
   ]
  },
  {
   "cell_type": "markdown",
   "metadata": {},
   "source": [
    "## 切片"
   ]
  },
  {
   "cell_type": "code",
   "execution_count": null,
   "metadata": {},
   "outputs": [],
   "source": [
    "a = ['hello','world','1','2']\n",
    "l1=a[0::2]\n",
    "l2=a[1::2]\n",
    "print(l1) #分片(起点：终点：步长）\n",
    "print(l2)"
   ]
  },
  {
   "cell_type": "markdown",
   "metadata": {},
   "source": [
    "## 元组（Tuple）\n",
    "\n",
    "- 通过闭合的小括号`()`创建\n",
    "- 通过tuple()对数据进行转换创建\n",
    "- 各元素有序摆放\n",
    "- 元素间用`,`分割\n",
    "- 元素不可变更\n",
    "- 每个单元包含一个后缀逗号"
   ]
  },
  {
   "cell_type": "code",
   "execution_count": null,
   "metadata": {},
   "outputs": [],
   "source": [
    "students = ('jack','captain','ferret','ferret')\n",
    "print(students[1])"
   ]
  },
  {
   "cell_type": "code",
   "execution_count": null,
   "metadata": {},
   "outputs": [],
   "source": [
    "students = ['jack','captain','ferret','ferret']\n",
    "tuple(students)"
   ]
  },
  {
   "cell_type": "code",
   "execution_count": null,
   "metadata": {},
   "outputs": [],
   "source": [
    "# TODO 如何修改元组\n",
    "# students[0]='jacket'"
   ]
  },
  {
   "cell_type": "code",
   "execution_count": null,
   "metadata": {},
   "outputs": [],
   "source": [
    "# TODO [(4,5),(6,7)]可否变更？"
   ]
  },
  {
   "cell_type": "markdown",
   "metadata": {},
   "source": [
    "## 集合（set）\n",
    "\n",
    "- 可以使用`{}`或者`set()`创建集合\n",
    "- 空集合只能用`set()`创建，而`{}`不是创建空集合而是创建字典\n",
    "- 集合是无序\n",
    "- 集合不重复"
   ]
  },
  {
   "cell_type": "code",
   "execution_count": null,
   "metadata": {
    "scrolled": true
   },
   "outputs": [],
   "source": [
    "fruit = {'apple','banana','cherry','durian'}\n",
    "print(fruit)"
   ]
  },
  {
   "cell_type": "code",
   "execution_count": null,
   "metadata": {},
   "outputs": [],
   "source": [
    "# TODO\n",
    "# animals = set('ant','bat','cat','dog')\n",
    "animals = set()"
   ]
  },
  {
   "cell_type": "markdown",
   "metadata": {},
   "source": [
    "https://docs.python.org/zh-cn/3/library/stdtypes.html?highlight=set#set"
   ]
  },
  {
   "cell_type": "markdown",
   "metadata": {},
   "source": [
    "### 集合推导式"
   ]
  },
  {
   "cell_type": "code",
   "execution_count": null,
   "metadata": {},
   "outputs": [],
   "source": [
    "{x for x in 'shelly' if x not in 'abc'}"
   ]
  },
  {
   "cell_type": "markdown",
   "metadata": {},
   "source": [
    "## 字典（dict）\n",
    "\n",
    "通过关键词映射**对象**\n",
    "\n",
    "1. `key-value` 键值对数据\n",
    "2. `{}`创建字典\n",
    "3. `dict`函数创建字典\n",
    "4. `key`是唯一主键\n",
    "\n",
    "https://www.runoob.com/manual/pythontutorial3/docs/html/datastructures.html\n"
   ]
  },
  {
   "cell_type": "code",
   "execution_count": null,
   "metadata": {},
   "outputs": [],
   "source": [
    "monthExtend = {\n",
    "    \"Jan\": \"January\",\n",
    "    \"Feb\": \"February\",\n",
    "    \"Mar\": \"March\",\n",
    "    \"Apr\": \"April\",\n",
    "    \"May\": \"May\",\n",
    "    \"Jun\": \"June\",\n",
    "    \"Jul\": \"July\",\n",
    "    \"Aug\": \"August\",\n",
    "    \"Sep\": \"September\",\n",
    "    \"Oct\": \"October\",\n",
    "    \"Nov\": \"November\",\n",
    "    \"Dec\": \"December\"\n",
    "}\n",
    "\n",
    "print(\"11月:\"+monthExtend[\"Nov\"])\n",
    "\n",
    "print(\"12月:\"+monthExtend.get(\"Dec\"))\n",
    "# TODO输入一个key，不存在于字典中\n",
    "# print(\"13月:\",monthExtend[\"Thirteen\"])\n",
    "# print(\"13月:\",monthExtend.get(\"Thirteen\"))"
   ]
  },
  {
   "cell_type": "markdown",
   "metadata": {},
   "source": [
    "### 打印字典"
   ]
  },
  {
   "cell_type": "code",
   "execution_count": null,
   "metadata": {
    "scrolled": true
   },
   "outputs": [],
   "source": [
    "from pprint import pprint\n",
    "month = dict([(1, \"January\"),\n",
    "    (2, \"February\"),\n",
    "    (3, \"March\"),\n",
    "    (4, \"April\"),\n",
    "    (5, \"May\"),\n",
    "    (6, \"June\"),\n",
    "    (7, \"July\"),\n",
    "    (8, \"August\"),\n",
    "    (9, \"September\"),\n",
    "    (10, \"October\"),\n",
    "    (11, \"November\"),\n",
    "    (12, \"December\"),\n",
    "    (13,monthExtend)])\n",
    "# TODO 能输出什么来\n",
    "# pprint(month)\n",
    "\n",
    "for k,v in monthExtend.items():\n",
    "    print(k,v)"
   ]
  },
  {
   "cell_type": "code",
   "execution_count": null,
   "metadata": {},
   "outputs": [],
   "source": [
    "# 删除字典某一对\n",
    "del month[13]"
   ]
  },
  {
   "cell_type": "markdown",
   "metadata": {},
   "source": [
    "### 字典推导式"
   ]
  },
  {
   "cell_type": "code",
   "execution_count": null,
   "metadata": {},
   "outputs": [],
   "source": [
    "# TODO 在学了列表和集合推导式后，字典推导式又是怎样的\n",
    "# {k:v for k,v in month.items()}"
   ]
  },
  {
   "cell_type": "markdown",
   "metadata": {},
   "source": [
    "## 可迭代"
   ]
  },
  {
   "cell_type": "code",
   "execution_count": null,
   "metadata": {},
   "outputs": [],
   "source": [
    "# TODO  什么是可迭代\n",
    "# https://foofish.net/iterators-vs-generators.html\n",
    "from collections import Iterable\n",
    "isinstance(\"who are you\",Iterable)"
   ]
  },
  {
   "cell_type": "code",
   "execution_count": null,
   "metadata": {},
   "outputs": [],
   "source": [
    "\"who\".__iter__()"
   ]
  },
  {
   "cell_type": "code",
   "execution_count": null,
   "metadata": {},
   "outputs": [],
   "source": [
    "\"who\"[0]"
   ]
  },
  {
   "cell_type": "code",
   "execution_count": null,
   "metadata": {},
   "outputs": [],
   "source": [
    "'who' in \"who are you\""
   ]
  },
  {
   "cell_type": "markdown",
   "metadata": {},
   "source": [
    "## 对象嵌合/复合\n"
   ]
  },
  {
   "cell_type": "code",
   "execution_count": null,
   "metadata": {},
   "outputs": [],
   "source": [
    "#TODO 迭中迭\n",
    "[[1,2],[2,3]]"
   ]
  },
  {
   "cell_type": "markdown",
   "metadata": {},
   "source": [
    "## 可变类型与不可变类型\n",
    "\n",
    "**不可变类型**指对象的值改变，然内存地址不变，其固有的值有固有的地址。\n",
    "\n",
    "- 字符串，元组，整型，浮点型都是不可变类型\n",
    "\n",
    "**可变类型**指对象的值改变，然地址改变，同样的值，在不同的对象重新分配不同的地址。\n",
    "\n",
    "- 列表，字典属于可变类型\n",
    "\n",
    "对于**复合对象**\n",
    "\n",
    "- 通过改变值并用id函数查看"
   ]
  },
  {
   "cell_type": "code",
   "execution_count": 2,
   "metadata": {},
   "outputs": [
    {
     "name": "stdout",
     "output_type": "stream",
     "text": [
      "False\n",
      "True\n"
     ]
    }
   ],
   "source": [
    "l1 = [1,2,3]\n",
    "l2 = [1,2,3]\n",
    "# 创建新列表，内存重新分配了\n",
    "print(id(l1) == id(l2))\n",
    "\n",
    "s1 = 'hello'\n",
    "s2 = 'hello'\n",
    "# 创建新字符串，内存并未重新分配\n",
    "print(id(s1) == id(s2))"
   ]
  },
  {
   "cell_type": "code",
   "execution_count": 4,
   "metadata": {},
   "outputs": [
    {
     "name": "stdout",
     "output_type": "stream",
     "text": [
      "2635448244936\n",
      "2635448244936\n"
     ]
    }
   ],
   "source": [
    "# 对象的值变更，不影响内存地址\n",
    "l3 = [1,2,3]\n",
    "print(id(l3))\n",
    "l3.append(4)\n",
    "print(id(l3))"
   ]
  },
  {
   "cell_type": "code",
   "execution_count": 5,
   "metadata": {},
   "outputs": [
    {
     "name": "stdout",
     "output_type": "stream",
     "text": [
      "2635444291208\n",
      "2635448239216\n"
     ]
    }
   ],
   "source": [
    "s3 = 'hello'\n",
    "print(id(s3))\n",
    "s3 += 'world'\n",
    "print(id(s3))"
   ]
  },
  {
   "cell_type": "markdown",
   "metadata": {},
   "source": [
    "## 小游戏-根据你的工号后面六位测出你前世的身份\n",
    "\n",
    "需要掌握 \n",
    "1. 字符串split方法转换为列表\n",
    "2. 列表的索引\n",
    "3. if语句\n",
    "4. input方法\n",
    "5. 取余法\n",
    "\n",
    "\n",
    "- 输入6位数字\n",
    "- if 判断6位数字\n",
    "- 第1位取余结果，选择形容词大类\n",
    "- 第2位取余结果选择名词大类\n",
    "- 第3,4位取余算形容词索引\n",
    "- 第5,6位取余做名词索引\n",
    "- 打开诗集随机赠诗一首"
   ]
  },
  {
   "cell_type": "code",
   "execution_count": null,
   "metadata": {},
   "outputs": [],
   "source": [
    "# 形容词组\n",
    "仙女下凡 = \"明眸皓齿、肤若凝脂、柳叶弯眉、冰肌玉骨、仙女下凡、冰清玉洁、出水芙蓉、艳若桃李\".split(\"、\")\n",
    "仙女下凡 = 仙女下凡 + \"眉目如画 面赛芙蓉 韶颜雅容 淑逸闲华 春雨落雁 闭月羞花 秀色可餐 倾国倾城 \".split()\n",
    "仙女下凡 = 仙女下凡 + \"如花似玉,冰清玉洁,倾国倾城,端庄秀丽,眉清目秀,小家碧玉,温婉可人\".split(\",\")\n",
    "谦谦君子 = \"昂藏七尺 面如傅粉 城北徐公 彪形大汉 断雁孤鸿 文质彬彬 器宇轩昂\".split()\n",
    "谦谦君子 += \"谦谦君子 气宇轩昂 美如冠玉 浪蝶狂蜂 彬彬有礼 风度翩翩 怜香惜玉 温文儒雅 \".split()\n",
    "八面玲珑 = \"精明强干 伶俐乖巧 伶牙俐齿 老谋深算 足智多谋\".split()\n",
    "# 名词组\n",
    "男性身份 = \"皇帝 王爷 太子 令丞 卿士 太史 左史 右史 司徒 司马 司空 司寇 职方 太师 太傅 大保 少师 少傅 少保 太宰 少宰 六卿 封人 工正 相国 庶长 令尹 柱国 公主 驸马 三公 丞相 宰相 御史 太尉 九卿 太仆 廷尉 宗正 少府 将军 洗马 大夫 博士 郎中 侍郎 中郎 议郎 令史 尚书 六曹 合阁 仆射 侍中 内史 刺史 州牧 别驾 主薄 郡守 太守 长史 从事 督邮 县令 县尉 三老 亭长 列侯 主事 三省 行台 都督 录事 护军 可汗 六部 三馆 学士 总管 元帅 留守 判官 巡检 提刑 提辖 通判 孔目 押司 大人 内阁 厂卫 太监 都司 知府 亲王 总督 巡抚 监司 州判 知县 提督 总兵 参将 散官 流内 流外 贝勒 大良造 左丞相 右丞相 大司徒 大司空 御史台 大司马 郎中令 大司农 大将军 执金吾 中郎将 尚书省 尚书令 结事中 京兆尹 左冯翊 右扶风 关内侯 中书省 中书令 门下省 秘书省 枢密使 员外郎 著作郎 国子监 节度使 招讨使 都点检 观察使 按察使 衍圣公 大学土 宣政院 集贤院 军机处 翰林院 钦天监 内务府 布政使 未入流 税务司 资政院 咨议局 国务院 枢密院 三闾大夫 御史大夫 司隶校尉 将作大匠 谏议大夫 光禄大夫 绣衣直指 监察御史 同平章事 参知政事 翰林学土 中书舍人 都指挥使 钦差大臣 牛录额真 参赞大臣 总税务司 海军衙门 典农中郎将 北洋通商大臣 南洋通商大臣\".split()\n",
    "女性身份 = \"皇后|昭仪|婕妤|经娥|容华|美人|八子|充依|七子|良人|长使|少使\".split('|')\n",
    "江湖身份 = \"杀手，刺客，小厮，马夫，账房，游侠，世家，歌女，跑堂，掌柜，家丁，百姓，农民，商人，神医，大家闺秀，良家妇女，和尚，尼姑，道士，大臣，小吏，县令\".split(\"，\")\n",
    "# 代表诗组\n",
    "唐诗就三首 = {'春晓': \"春眠不觉晓，处处闻啼鸟。夜来风雨声，花落知多少。\",\n",
    "'鹿柴': \"空山不见人，但闻人语响。返影入深林，复照青苔上。\",\n",
    "'相思':\"红豆生南国，春来发几枝。愿君多采撷，此物最相思。\"}\n",
    "\n",
    "# number = int(input(\"请输入工号后6位：\"))\n"
   ]
  },
  {
   "cell_type": "code",
   "execution_count": 6,
   "metadata": {
    "scrolled": true
   },
   "outputs": [
    {
     "ename": "NameError",
     "evalue": "name '谦谦君子' is not defined",
     "output_type": "error",
     "traceback": [
      "\u001b[1;31m---------------------------------------------------------------------------\u001b[0m",
      "\u001b[1;31mNameError\u001b[0m                                 Traceback (most recent call last)",
      "\u001b[1;32m<ipython-input-6-4162311d1e39>\u001b[0m in \u001b[0;36m<module>\u001b[1;34m\u001b[0m\n\u001b[1;32m----> 1\u001b[1;33m \u001b[0mmod_adj\u001b[0m \u001b[1;33m=\u001b[0m \u001b[0mlen\u001b[0m\u001b[1;33m(\u001b[0m\u001b[0m谦谦君子\u001b[0m\u001b[1;33m)\u001b[0m\u001b[1;33m\u001b[0m\u001b[1;33m\u001b[0m\u001b[0m\n\u001b[0m\u001b[0;32m      2\u001b[0m \u001b[0mmod_id\u001b[0m \u001b[1;33m=\u001b[0m \u001b[0mlen\u001b[0m\u001b[1;33m(\u001b[0m\u001b[0m男性身份\u001b[0m\u001b[1;33m)\u001b[0m\u001b[1;33m\u001b[0m\u001b[1;33m\u001b[0m\u001b[0m\n\u001b[0;32m      3\u001b[0m \u001b[1;33m\u001b[0m\u001b[0m\n\u001b[0;32m      4\u001b[0m \u001b[1;31m# 以字符串形式输入\u001b[0m\u001b[1;33m\u001b[0m\u001b[1;33m\u001b[0m\u001b[1;33m\u001b[0m\u001b[0m\n\u001b[0;32m      5\u001b[0m \u001b[0mnumber\u001b[0m\u001b[1;33m=\u001b[0m\u001b[1;34m'100284'\u001b[0m\u001b[1;33m\u001b[0m\u001b[1;33m\u001b[0m\u001b[0m\n",
      "\u001b[1;31mNameError\u001b[0m: name '谦谦君子' is not defined"
     ]
    }
   ],
   "source": [
    "mod_adj = len(谦谦君子)\n",
    "mod_id = len(男性身份)\n",
    "\n",
    "# 以字符串形式输入\n",
    "number='100284'\n",
    "# 必须转换为int，自动解决0开头数字\n",
    "adj = int(number[0:2])\n",
    "noun = int(number[2:4])\n",
    "poem = int(number[4:6])\n",
    "\n",
    "adjtext = 谦谦君子[adj % mod_adj]\n",
    "jobtext = 男性身份[noun % mod_id]\n",
    "# 字典通过key-value配对，没有索引\n",
    "pd = [k for k in 唐诗就三首.keys()]\n",
    "pk = pd[poem % 3]\n",
    "poemtext=唐诗就三首[pk]\n",
    "\n",
    "print(f\"你作为{jobtext}，那般{adjtext},伴诗一首{poemtext}\")\n",
    "\n",
    "# TODO 如何设计给女生测试\n",
    "# TODO 如何同时设计给男女测试"
   ]
  },
  {
   "cell_type": "markdown",
   "metadata": {},
   "source": [
    "# 函数(Function)\n",
    "\n",
    "- 组织代码,缩进控制\n",
    "- 有具体输入和逻辑\n",
    "- 可重复利用\n",
    "- 关键词`def`\n",
    "- 多种入参\n",
    "- `()`进行调用(call)\n",
    "\n"
   ]
  },
  {
   "cell_type": "code",
   "execution_count": null,
   "metadata": {},
   "outputs": [],
   "source": [
    "def hello_academy(name):\n",
    "    # 4 blank indent \n",
    "    print(f\"Welcom to join the academy, {name}.\")\n",
    "    #hello_academy()\n",
    "  print(\"Begin\")\n",
    "#hello_academy() \n",
    "#hello_acadamy\n",
    "hello_academy('Amy')\n",
    "# TODO 多种入参\n",
    "# TODO重复利用 \n",
    "print(\"End\")"
   ]
  },
  {
   "cell_type": "markdown",
   "metadata": {},
   "source": [
    "## 缩进(indent)\n",
    "\n",
    "通常，在一个代码块中，或者在`:`之后的下一行\n",
    "\n",
    "我们会有一次缩进调整\n",
    "\n",
    "可以使用1个tab(\\t)或者4个空格(blanks/spaces)\n",
    "\n",
    "相比于其他语言，好处在于规范严格，易于阅读，每个层次的语句，缩进一致\n",
    "\n",
    "并省去了闭合括号{}的操作\n"
   ]
  },
  {
   "cell_type": "code",
   "execution_count": null,
   "metadata": {},
   "outputs": [],
   "source": [
    "# 求立方\n",
    "def cube(num):\n",
    "    num*num*num\n",
    "    \n",
    "cube(3)\n",
    "# TODO为何什么都没出现\n",
    "print(cube(3))"
   ]
  },
  {
   "cell_type": "code",
   "execution_count": null,
   "metadata": {},
   "outputs": [],
   "source": [
    "# 变量实例化为调用函数结果 \n",
    "result = cube(4)"
   ]
  },
  {
   "cell_type": "markdown",
   "metadata": {},
   "source": [
    "## 函数的返回值(return)\n",
    "\n",
    "1. 函数的返回值表示调用函数返回的对象，不是代表直接输出\n",
    "2. 在控制台输出可以用print在函数中输出\n",
    "3. return可将函数的值赋给对象\n",
    "4. 函数一旦return，即表示函数结束，不会再执行后面的内容\n",
    "5. return 返回一个对象而不是一个简单的值"
   ]
  },
  {
   "cell_type": "code",
   "execution_count": null,
   "metadata": {},
   "outputs": [],
   "source": [
    "def afterprint(go):\n",
    "    return go\n",
    "    print(\"Function is Over.\")\n",
    "    \n",
    "afterprint(\"1\")"
   ]
  },
  {
   "cell_type": "code",
   "execution_count": null,
   "metadata": {},
   "outputs": [],
   "source": [
    "# 函数返回对象\n",
    "x,y,z = afterprint([1,2,3])\n",
    "print(x,y,z)"
   ]
  },
  {
   "cell_type": "markdown",
   "metadata": {},
   "source": [
    "## 函数的参数 (paramter)\n",
    "\n",
    "1. 位置参数\n",
    "\n",
    "> 需要按照位置顺序依次输入参数\n",
    "\n",
    "2. 默认参数\n",
    "\n",
    "> 不能处于位置参数前，指定了参数值，在函数调用时可以不输入本参数\n",
    "\n",
    "3. 可变参数\n",
    "\n",
    "> 不限制参数个数，由`*`解压序列对象如(list,tuple)\n",
    "\n",
    "4. 关键字参数\n",
    "\n",
    "> 不限制参数个数，由`**`解压字典对象(dict)，不限制参数名称\n",
    "\n",
    "5. 命名关键字参数\n",
    "\n",
    "> 可变关键字参数之后的关键字参数或者`*`之后的关键字参数，参数名称将会被固定"
   ]
  },
  {
   "cell_type": "code",
   "execution_count": null,
   "metadata": {},
   "outputs": [],
   "source": [
    "def positionparam(name,idx):\n",
    "    print(name,idx)\n",
    "    \n",
    "positionparam('hyh',1)"
   ]
  },
  {
   "cell_type": "code",
   "execution_count": null,
   "metadata": {},
   "outputs": [],
   "source": [
    "def defaultparam(name,idx=1):\n",
    "    print(name,idx)\n",
    "    \n",
    "defaultparam('huyh')"
   ]
  },
  {
   "cell_type": "code",
   "execution_count": null,
   "metadata": {},
   "outputs": [],
   "source": [
    "def param2(idx=1):\n",
    "    print(idx)\n",
    "param2()"
   ]
  },
  {
   "cell_type": "code",
   "execution_count": null,
   "metadata": {},
   "outputs": [],
   "source": [
    "def calc(numbers):\n",
    "    sum = 0\n",
    "    for n in numbers:\n",
    "        sum = sum + n * n\n",
    "    return sum\n",
    "\n",
    "calc([1, 2, 3])\n",
    "# 要实现对1,2,3的相加\n",
    "# 由于入参只有一个，需要组装成一个对象输入，即元组或list\n"
   ]
  },
  {
   "cell_type": "code",
   "execution_count": null,
   "metadata": {},
   "outputs": [],
   "source": [
    "# 利用星号，解压序列对象\n",
    "a = [1,2,3]\n",
    "print(*a)\n",
    "\n",
    "def calc(*numbers):\n",
    "    sum = 0\n",
    "    for n in numbers:\n",
    "        sum = sum + n * n\n",
    "    return sum\n",
    "\n",
    "calc(1, 2, 3)"
   ]
  },
  {
   "cell_type": "code",
   "execution_count": null,
   "metadata": {},
   "outputs": [],
   "source": [
    "def person(name, age, **kw):\n",
    "    print('name:', name, 'age:', age, 'other:', kw)\n",
    "    \n",
    "person('hyh',47,city='GZ',hobby='python')"
   ]
  },
  {
   "cell_type": "code",
   "execution_count": null,
   "metadata": {},
   "outputs": [],
   "source": [
    "def person(name, age,*, city):\n",
    "    print('name:', name, 'age:', age, 'city:', city)\n",
    "    \n",
    "person('hyh',47,city='GZ',hobby='python')\n"
   ]
  },
  {
   "cell_type": "markdown",
   "metadata": {},
   "source": [
    "## print函数\n",
    "\n",
    "`print(*objects, sep=' ', end='\\n', file=sys.stdout, flush=False)`\n",
    "\n",
    "分析：\n"
   ]
  },
  {
   "cell_type": "code",
   "execution_count": null,
   "metadata": {},
   "outputs": [],
   "source": [
    "dir(print)"
   ]
  },
  {
   "cell_type": "markdown",
   "metadata": {},
   "source": [
    "## 匿名函数(lambda)\n",
    "\n",
    "`lambda 入参:返回` "
   ]
  },
  {
   "cell_type": "code",
   "execution_count": 10,
   "metadata": {},
   "outputs": [
    {
     "data": {
      "text/plain": [
       "True"
      ]
     },
     "execution_count": 10,
     "metadata": {},
     "output_type": "execute_result"
    }
   ],
   "source": [
    "def add2num(x,y):\n",
    "    return x*y\n",
    "\n",
    "# 等效\n",
    "f = lambda x,y:x*y\n",
    "f(3,2) == add2num(3,2)"
   ]
  },
  {
   "cell_type": "markdown",
   "metadata": {},
   "source": [
    "# 逻辑(logic)"
   ]
  },
  {
   "cell_type": "markdown",
   "metadata": {},
   "source": [
    "## if statements\n",
    "\n",
    "python的if语句，只要表达式成立即表示肯定，如表达式的值为`True`或者表达式是一个非空数据\n",
    "\n",
    "**比较式**\n",
    "\n",
    "1. `==` 和 `!=`判断\n",
    "2. `is`判断\n",
    "3. `bool`判断\n",
    "4. `and` 与 `or`\n",
    "\n"
   ]
  },
  {
   "cell_type": "code",
   "execution_count": null,
   "metadata": {},
   "outputs": [],
   "source": [
    "# 早上醒来\n",
    "print(\"7点半，醒来。\")\n",
    "饥饿 = True\n",
    "if 饥饿:\n",
    "    print(\"吃早餐\")\n",
    "print(\"准备出发\")\n",
    "天气 = input(\"现在天气如何>[阴天,烈日]\")\n",
    "if 天气 == \"阴天\":\n",
    "    print(\"带上伞\")\n",
    "elif 天气 == \"烈日\":\n",
    "    print(\"戴上太阳镜\")\n",
    "else :\n",
    "    print(\"穿休闲装\")\n",
    "饥饿 = input(\"感到饥饿了吗>[True,False]\")\n",
    "时间 = input(\"时间到了>[中午,晚上]\")\n",
    "if 饥饿 and 时间 == \"中午\":\n",
    "    print(\"到了中午，去一家餐厅。\")\n",
    "    食性 = \"囍辣\"\n",
    "    # 有人问为什么这里食性没得选择\n",
    "    # 因为我就是不给你选择\n",
    "    if 食性 == \"囍辣\":\n",
    "        print(\"菜品加辣\")\n",
    "    else:\n",
    "        print(\"菜品不加辣\")\n",
    "elif not(饥饿) or 时间 != \"中午\":\n",
    "    print(\"逛街\")\n",
    "elif 时间 == \"晚上\":\n",
    "    print(\"回家\")\n"
   ]
  },
  {
   "cell_type": "markdown",
   "metadata": {},
   "source": [
    "买衣服\n",
    "\n",
    "身高，性别，"
   ]
  },
  {
   "cell_type": "code",
   "execution_count": null,
   "metadata": {},
   "outputs": [],
   "source": [
    "gender = 'male'\n",
    "height = 160\n",
    "\n",
    "if gender is 'male' && height>170:\n",
    "    print(\"适合搬砖\")\n",
    "elif gender is not 'male':\n",
    "    print(\"适合理财\")\n",
    "else :\n",
    "    print(\"大有潜力\")\n",
    "    \n",
    "# TODO is 和 ==的区别"
   ]
  },
  {
   "cell_type": "markdown",
   "metadata": {},
   "source": [
    "### 多个return的函数"
   ]
  },
  {
   "cell_type": "code",
   "execution_count": null,
   "metadata": {},
   "outputs": [],
   "source": [
    "def min_num(n1,n2,n3):\n",
    "    if n1<= n2 and n1 <= n3:\n",
    "        return n1\n",
    "    elif n2<=n1 and n2 <=n3:\n",
    "        return n2\n",
    "    else :\n",
    "        return n3\n",
    "\n",
    "print(min_num(5,2,3))"
   ]
  },
  {
   "cell_type": "markdown",
   "metadata": {},
   "source": [
    "## 更高级点的计算器"
   ]
  },
  {
   "cell_type": "code",
   "execution_count": null,
   "metadata": {},
   "outputs": [],
   "source": [
    "num1 = float(input(\"Enter the first number:\"))\n",
    "op = input(\"Enther operator:\")\n",
    "num2 = float(input(\"Enter the second number:\"))\n",
    "\n",
    "def calculator(num1,num2,op):\n",
    "    if op == \"+\":\n",
    "        print(num1 + num2)\n",
    "    elif op == \"-\":\n",
    "        print(num1 + num2)\n",
    "    elif op == \"/\":\n",
    "        print(num1 / num2)\n",
    "    elif op == \"*\":\n",
    "        print(num1 * num2)\n",
    "    else:\n",
    "        print(\"Invalid operator\")\n",
    "        \n",
    "calculator(num1,num2,op)"
   ]
  },
  {
   "cell_type": "markdown",
   "metadata": {},
   "source": [
    "#  递归"
   ]
  },
  {
   "cell_type": "code",
   "execution_count": null,
   "metadata": {},
   "outputs": [],
   "source": [
    "# 递归\n",
    "\n",
    "# TODO 如何实现一个能对多个数进行连续运算的计算器\n",
    "# 如1 + 1 + 1"
   ]
  }
 ],
 "metadata": {
  "kernelspec": {
   "display_name": "Python 3",
   "language": "python",
   "name": "python3"
  },
  "language_info": {
   "codemirror_mode": {
    "name": "ipython",
    "version": 3
   },
   "file_extension": ".py",
   "mimetype": "text/x-python",
   "name": "python",
   "nbconvert_exporter": "python",
   "pygments_lexer": "ipython3",
   "version": "3.7.1"
  },
  "toc": {
   "base_numbering": 1,
   "nav_menu": {},
   "number_sections": true,
   "sideBar": true,
   "skip_h1_title": false,
   "title_cell": "Table of Contents",
   "title_sidebar": "Contents",
   "toc_cell": false,
   "toc_position": {
    "height": "calc(100% - 180px)",
    "left": "10px",
    "top": "150px",
    "width": "307.038px"
   },
   "toc_section_display": true,
   "toc_window_display": true
  },
  "varInspector": {
   "cols": {
    "lenName": 16,
    "lenType": 16,
    "lenVar": 40
   },
   "kernels_config": {
    "python": {
     "delete_cmd_postfix": "",
     "delete_cmd_prefix": "del ",
     "library": "var_list.py",
     "varRefreshCmd": "print(var_dic_list())"
    },
    "r": {
     "delete_cmd_postfix": ") ",
     "delete_cmd_prefix": "rm(",
     "library": "var_list.r",
     "varRefreshCmd": "cat(var_dic_list()) "
    }
   },
   "types_to_exclude": [
    "module",
    "function",
    "builtin_function_or_method",
    "instance",
    "_Feature"
   ],
   "window_display": false
  }
 },
 "nbformat": 4,
 "nbformat_minor": 2
}
