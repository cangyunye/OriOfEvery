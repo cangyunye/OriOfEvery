{
 "cells": [
  {
   "cell_type": "markdown",
   "metadata": {},
   "source": [
    "# collections 模块\n",
    "## defaultdict\n",
    "\n",
    "对于字典中不存在的key，使其返回为默认值"
   ]
  },
  {
   "cell_type": "code",
   "execution_count": 14,
   "metadata": {},
   "outputs": [
    {
     "name": "stdout",
     "output_type": "stream",
     "text": [
      "abc\n",
      "N/A\n"
     ]
    }
   ],
   "source": [
    "from collections import defaultdict\n",
    "\"\"\"\n",
    "使用dict时，如果引用的Key不存在，就会抛出KeyError。如果希望key不存在时，返回一个默认值，就可以用defaultdict\n",
    "\"\"\"\n",
    "\n",
    "dd = defaultdict(lambda: 'N/A')\n",
    "dd['key1'] = 'abc'\n",
    "print(dd['key1'])  # key1存在\n",
    "print(dd['key2'])  # key2不存在，返回默认值\n"
   ]
  },
  {
   "cell_type": "markdown",
   "metadata": {},
   "source": [
    "## deque\n",
    "\n",
    "高效插入和删除双向列表，适用于队列和栈"
   ]
  },
  {
   "cell_type": "code",
   "execution_count": 13,
   "metadata": {},
   "outputs": [
    {
     "name": "stdout",
     "output_type": "stream",
     "text": [
      "Show the deque_list:deque(['1', '2', '3', '4', '0'])\n",
      "The first in deq_list is: 1,the last in deq_list is: 0\n"
     ]
    }
   ],
   "source": [
    "from collections import deque\n",
    "\n",
    "deq_list = deque(['1', '2', '3', '4'])  # 初始化列表\n",
    "deq_list.append('0')  # 最后边增加元素\n",
    "deq_list.appendleft('5')  # 最左边增加元素\n",
    "deq_list.popleft()  # 删除最左边元素\n",
    "print(f'Show the deque_list:{deq_list}\\nThe first in deq_list is: {deq_list[0]},the last in deq_list is: {deq_list[-1]}')"
   ]
  },
  {
   "cell_type": "markdown",
   "metadata": {},
   "source": [
    "##  namedtuple"
   ]
  },
  {
   "cell_type": "code",
   "execution_count": 9,
   "metadata": {},
   "outputs": [
    {
     "name": "stdout",
     "output_type": "stream",
     "text": [
      "ThreeD_Point_def(x=1, y=3, z=5),x=1,y=3, z=5\n",
      "Point=tuplename(x=1, y=3),x=1,y=3\n"
     ]
    }
   ],
   "source": [
    "from collections import namedtuple\n",
    "\"\"\"\n",
    "namedtuple是一个函数，它用来创建一个自定义的tuple对象，\n",
    "并且规定了tuple元素的个数，并可以用属性而不是索引来引用tuple的某个元素。\n",
    "\"\"\"\n",
    "\n",
    "\n",
    "def Point_def():\n",
    "    Point = namedtuple('tuplename', ['x', 'y'])\n",
    "    p = Point(1, 3)\n",
    "    print(f'Point={p},x={p.x},y={p.y}')\n",
    "\n",
    "\n",
    "def ThreeD_Point_def():\n",
    "    Point = namedtuple('ThreeD_Point_def', ['x', 'y', 'z'])\n",
    "    p = Point(1, 3, 5)\n",
    "    print(f'{p},x={p.x},y={p.y}, z={p.z}')\n",
    "\n",
    "\n",
    "\n",
    "ThreeD_Point_def()\n",
    "\n",
    "Point_def()\n"
   ]
  },
  {
   "cell_type": "markdown",
   "metadata": {},
   "source": [
    "## OrderedDict\n",
    "\n",
    "按照key插入顺序排序字典"
   ]
  },
  {
   "cell_type": "code",
   "execution_count": 12,
   "metadata": {},
   "outputs": [
    {
     "name": "stdout",
     "output_type": "stream",
     "text": [
      "odict_values([1, 2, 3]),odict_keys(['a', 'b', 'c']),odict_items([('a', 1), ('b', 2), ('c', 3)])\n"
     ]
    }
   ],
   "source": [
    "from collections import OrderedDict\n",
    "\n",
    "def OrderedDict_dict():\n",
    "    d = dict([('a', 1), ('b', 2), ('c', 3)])\n",
    "    od = OrderedDict([('a', 1), ('b', 2), ('c', 3)])  # 按顺序插入\n",
    "    print(f'{od.values()},{od.keys()},{od.items()}')\n",
    "\n",
    "OrderedDict_dict()\n"
   ]
  },
  {
   "cell_type": "markdown",
   "metadata": {},
   "source": [
    "## ChainMap \n",
    "\n",
    "使用 `collections` 模块中的 `ChainMap` 类。同时查找a和b字典。"
   ]
  },
  {
   "cell_type": "code",
   "execution_count": 11,
   "metadata": {},
   "outputs": [
    {
     "name": "stdout",
     "output_type": "stream",
     "text": [
      "1\n",
      "2\n",
      "3\n"
     ]
    }
   ],
   "source": [
    "from collections import ChainMap\n",
    "\n",
    "a = {'x': 1, 'z': 3 }\n",
    "b = {'y': 2, 'z': 4 }\n",
    "\n",
    "c = ChainMap(a,b)\n",
    "\n",
    "print(c['x']) # Outputs 1 (from a)\n",
    "print(c['y']) # Outputs 2 (from b)\n",
    "print(c['z']) # Outputs 3 (from a)"
   ]
  },
  {
   "cell_type": "code",
   "execution_count": null,
   "metadata": {},
   "outputs": [],
   "source": []
  }
 ],
 "metadata": {
  "kernelspec": {
   "display_name": "Python 3",
   "language": "python",
   "name": "python3"
  },
  "language_info": {
   "codemirror_mode": {
    "name": "ipython",
    "version": 3
   },
   "file_extension": ".py",
   "mimetype": "text/x-python",
   "name": "python",
   "nbconvert_exporter": "python",
   "pygments_lexer": "ipython3",
   "version": "3.7.1"
  },
  "toc": {
   "base_numbering": 1,
   "nav_menu": {},
   "number_sections": true,
   "sideBar": true,
   "skip_h1_title": false,
   "title_cell": "Table of Contents",
   "title_sidebar": "Contents",
   "toc_cell": false,
   "toc_position": {},
   "toc_section_display": true,
   "toc_window_display": false
  },
  "varInspector": {
   "cols": {
    "lenName": 16,
    "lenType": 16,
    "lenVar": 40
   },
   "kernels_config": {
    "python": {
     "delete_cmd_postfix": "",
     "delete_cmd_prefix": "del ",
     "library": "var_list.py",
     "varRefreshCmd": "print(var_dic_list())"
    },
    "r": {
     "delete_cmd_postfix": ") ",
     "delete_cmd_prefix": "rm(",
     "library": "var_list.r",
     "varRefreshCmd": "cat(var_dic_list()) "
    }
   },
   "types_to_exclude": [
    "module",
    "function",
    "builtin_function_or_method",
    "instance",
    "_Feature"
   ],
   "window_display": false
  }
 },
 "nbformat": 4,
 "nbformat_minor": 2
}
