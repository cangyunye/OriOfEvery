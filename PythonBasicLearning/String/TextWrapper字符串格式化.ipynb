{
 "cells": [
  {
   "cell_type": "markdown",
   "metadata": {},
   "source": [
    "# textwrap文本修饰器模块"
   ]
  },
  {
   "cell_type": "markdown",
   "metadata": {},
   "source": [
    "## fill 方法指定每行宽度"
   ]
  },
  {
   "cell_type": "code",
   "execution_count": 1,
   "metadata": {
    "scrolled": true
   },
   "outputs": [
    {
     "name": "stdout",
     "output_type": "stream",
     "text": [
      "This sentence is count for more than 15 characters.\n",
      "This sentence is count for more than 15 characters.\n",
      "This sentence is count for more than 15 characters.\n",
      "\n",
      "This sentence is count for\n",
      "more than 15 characters. This\n",
      "sentence is count for more\n",
      "than 15 characters. This\n",
      "sentence is count for more\n",
      "than 15 characters.\n"
     ]
    }
   ],
   "source": [
    "import textwrap\n",
    "text = \"\"\"This sentence is count for more than 15 characters.\n",
    "This sentence is count for more than 15 characters.\n",
    "This sentence is count for more than 15 characters.\n",
    "\"\"\"\n",
    "print(text)\n",
    "print(textwrap.fill(text, width=30))\n",
    "\n"
   ]
  },
  {
   "cell_type": "markdown",
   "metadata": {},
   "source": [
    "## indent 设计每行前缀"
   ]
  },
  {
   "cell_type": "code",
   "execution_count": 2,
   "metadata": {},
   "outputs": [
    {
     "name": "stdout",
     "output_type": "stream",
     "text": [
      "# /usr/bin/python3\n",
      "# -*- coding :utf-8 -*-\n",
      "# @author :cangyunye\n",
      "# @email :cangyunye@gmail.com\n",
      "# version:1.0\n",
      "\n"
     ]
    }
   ],
   "source": [
    "text = \"\"\"/usr/bin/python3\n",
    "-*- coding :utf-8 -*-\n",
    "@author :cangyunye\n",
    "@email :cangyunye@gmail.com\n",
    "version:1.0\n",
    "\"\"\"\n",
    "print(textwrap.indent(text,prefix='# '))"
   ]
  },
  {
   "cell_type": "markdown",
   "metadata": {},
   "source": [
    "## 分别控制首行缩进符号和其他行缩进符号"
   ]
  },
  {
   "cell_type": "code",
   "execution_count": 3,
   "metadata": {},
   "outputs": [
    {
     "name": "stdout",
     "output_type": "stream",
     "text": [
      "#!/usr/bin/python3 -*- coding :utf-8 -*- @author :cangyunye @email\n",
      "#:cangyunye@gmail.com version:1.0\n"
     ]
    }
   ],
   "source": [
    "print(textwrap.fill(text,\n",
    "                    initial_indent='#!',\n",
    "                    subsequent_indent='#'))\n",
    "\n"
   ]
  },
  {
   "cell_type": "markdown",
   "metadata": {},
   "source": [
    "## 超出行宽进行省略"
   ]
  },
  {
   "cell_type": "code",
   "execution_count": 4,
   "metadata": {},
   "outputs": [
    {
     "name": "stdout",
     "output_type": "stream",
     "text": [
      "hello ..>\n"
     ]
    }
   ],
   "source": [
    "text=\"\"\"hello\n",
    "where are you\n",
    "where is my packet.\"\"\"\n",
    "print(textwrap.shorten(text, width=12, placeholder=\" ..>\"))"
   ]
  },
  {
   "cell_type": "markdown",
   "metadata": {},
   "source": [
    "## 构造修饰属性\n",
    "\n",
    "[`TextWrapper`](https://yiyibooks.cn/__trs__/xx/python_352/library/textwrap.html#textwrap.TextWrapper)实例属性（以及构造函数的关键字参数）如下：\n",
    "\n",
    "- `width` \n",
    "\n",
    "  （默认值：`70`）包装线的最大长度。只要输入文本中没有长度小于[`width`](https://yiyibooks.cn/__trs__/xx/python_352/library/textwrap.html#textwrap.TextWrapper.width)的单个单词，[`TextWrapper`](https://yiyibooks.cn/__trs__/xx/python_352/library/textwrap.html#textwrap.TextWrapper)可保证没有输出行长于[`width`](https://yiyibooks.cn/__trs__/xx/python_352/library/textwrap.html#textwrap.TextWrapper.width)个字符。\n",
    "\n",
    "- `expand_tabs` \n",
    "\n",
    "  (default: `True`) 如果True，将文本中所有tab转换为空格。\n",
    "\n",
    "- `tabsize` \n",
    "\n",
    "  （默认：`8`）如果[`expand_tabs`](https://yiyibooks.cn/__trs__/xx/python_352/library/textwrap.html#textwrap.TextWrapper.expand_tabs)为真，则*文本*中的所有制表符将扩展为零个或多个空格，列和给定的制表符大小。*版本3.3中的新功能。*\n",
    "\n",
    "- `replace_whitespace` \n",
    "\n",
    "  （默认值：`True`）如果为true，在tab展开之后但在换行之前，[`wrap()`](https://yiyibooks.cn/__trs__/xx/python_352/library/textwrap.html#textwrap.wrap)方法将用一个空白符替换每个空格。替换的空格字符如下：制表符，换行符，垂直制表符，换行符和回车符（`'\\t\\n\\v\\f\\r'`）。注意如果[`expand_tabs`](https://yiyibooks.cn/__trs__/xx/python_352/library/textwrap.html#textwrap.TextWrapper.expand_tabs)为false，且[`replace_whitespace`](https://yiyibooks.cn/__trs__/xx/python_352/library/textwrap.html#textwrap.TextWrapper.replace_whitespace)为真，则每个制表符字符将被替换为单个空格，即*而不是制表符展开。*注意如果[`replace_whitespace`](https://yiyibooks.cn/__trs__/xx/python_352/library/textwrap.html#textwrap.TextWrapper.replace_whitespace)为false，则换行符可能会出现在行的中间并导致奇怪的输出。出于这个原因，文本应该被分割成段（使用[`str.splitlines()`](https://yiyibooks.cn/__trs__/xx/python_352/library/stdtypes.html#str.splitlines)或类似）。\n",
    "\n",
    "- `drop_whitespace` \n",
    "\n",
    "  （默认值：`True`）如果为true，则删除每行的开头和结尾处的空格（在换行之后但在缩进之前）。但是，如果非空白跟在它后面，则在段落开头的空格不会被删除。如果删除的空白占据整个行，则整行将被删除。\n",
    "\n",
    "- `initial_indent` \n",
    "\n",
    "  （默认值：`''`）将被添加到包装输出的第一行的字符串。计数到第一行的长度。空字符串不缩进。\n",
    "\n",
    "- `subsequent_indent` \n",
    "\n",
    "  （默认：`''`）将添加到除第一个之外的所有换行输出行的字符串。计算每行的长度，除了第一行。\n",
    "\n",
    "- `fix_sentence_endings` \n",
    "\n",
    "  （默认：`False`）如果为true，则[`TextWrapper`](https://yiyibooks.cn/__trs__/xx/python_352/library/textwrap.html#textwrap.TextWrapper)会尝试检测句末，并确保句子总是以两个空格分隔。这通常对于等宽字体中的文本是期望的。然而，句子检测算法是不完美的：假设句子结尾由小写字母，后面跟着`'.'`，`'!'`或`'?'`，可能后跟`'\"'`或`\"'\"`之一，后跟一个空格。这方面的一个问题是算法是无法检测到“博士”之间的差异`[...] Dr. Frankenstein's monster [...] `和“Spot”`[...] See Spot. See Spot run [...] `默认情况下，[`fix_sentence_endings`](https://yiyibooks.cn/__trs__/xx/python_352/library/textwrap.html#textwrap.TextWrapper.fix_sentence_endings)为false。因为语句检测算法依赖于`string.lowercase`来定义“小写字母”，以及在句点之后使用两个空格来分隔同一行上的句子的惯例，所以它特定于英语 - 语言文本。\n",
    "\n",
    "- `break_long_words` \n",
    "\n",
    "  （默认值：`True`）如果为true，则长度大于[`width`](https://yiyibooks.cn/__trs__/xx/python_352/library/textwrap.html#textwrap.TextWrapper.width)的字符将被破坏，以确保没有行长度大于[`width`](https://yiyibooks.cn/__trs__/xx/python_352/library/textwrap.html#textwrap.TextWrapper.width)。如果为假，长字不会被破坏，并且一些行可能长于[`width`](https://yiyibooks.cn/__trs__/xx/python_352/library/textwrap.html#textwrap.TextWrapper.width)。（长字自行放在一条线上，以尽量减少超过[`width`](https://yiyibooks.cn/__trs__/xx/python_352/library/textwrap.html#textwrap.TextWrapper.width)的量。）\n",
    "\n",
    "- `break_on_hyphens` \n",
    "\n",
    "  （默认值：`True`）如果为true，则包装将优先在空格中出现，紧跟在复合词中的连字符后面，这是英语中习惯的。如果为false，则只有空格被视为换行符的潜在好位置，但如果您想要真正不可靠的字词，则需要将[`break_long_words`](https://yiyibooks.cn/__trs__/xx/python_352/library/textwrap.html#textwrap.TextWrapper.break_long_words)设置为false。以前版本中的默认行为是始终允许断开连字符词。\n",
    "\n",
    "- `max_lines` \n",
    "\n",
    "  （默认：`None`）如果不是`None`，则输出将包含最多*max_lines*行，并显示*占位符*在输出结束时。*新版本3.4.*\n",
    "\n",
    "- `placeholder`\n",
    "\n",
    "  （默认值：`' [...]'`）将在输出文本末尾出现的字符串*新版本3.4.*\n",
    "\n",
    "[`TextWrapper`](https://yiyibooks.cn/__trs__/xx/python_352/library/textwrap.html#textwrap.TextWrapper)还提供了一些公共方法，类似于模块级的方便功能：\n",
    "\n",
    "- `wrap`(*text*)\n",
    "\n",
    "  将单个段落包含在*文本*（字符串）中，以使每行最多[`width`](https://yiyibooks.cn/__trs__/xx/python_352/library/textwrap.html#textwrap.TextWrapper.width)个字符长。所有包装选项都取自[`TextWrapper`](https://yiyibooks.cn/__trs__/xx/python_352/library/textwrap.html#textwrap.TextWrapper)实例的实例属性。返回输出行的列表，不包含最终换行符。如果包装的输出没有内容，则返回的列表为空。\n",
    "\n",
    "- `fill`(*text*)\n",
    "\n",
    "  将单个段落包含在*文本*中，并返回包含包装段落的单个字符串。"
   ]
  },
  {
   "cell_type": "markdown",
   "metadata": {},
   "source": [
    "##通过修饰属性完成文本修饰"
   ]
  },
  {
   "cell_type": "code",
   "execution_count": 5,
   "metadata": {},
   "outputs": [
    {
     "name": "stdout",
     "output_type": "stream",
     "text": [
      "----Start----\n",
      "Happy to see you today,I'm reading a\n",
      "novel and ready for my next speech.I've been\n",
      "exercise for a long time. Will you help my as my\n",
      "listener?\n",
      "[\"----Start----\\nHappy to see you today,I'm reading a\", \"novel and ready for my next speech.I've been\", 'exercise for a long time. Will you help my as my', 'listener?']\n"
     ]
    }
   ],
   "source": [
    "text = \"\"\"Happy to see you today,I'm reading a novel\n",
    "and ready for my next speech.I've been exercise for a long time.\n",
    "Will you help my as my listener?\n",
    "\"\"\"\n",
    "Wrap=textwrap.TextWrapper(width=50,expand_tabs=True,tabsize=4,replace_whitespace=True ,initial_indent='----Start----\\n')\n",
    "print(Wrap.fill(text))\n",
    "print(Wrap.wrap(text))"
   ]
  },
  {
   "cell_type": "code",
   "execution_count": 6,
   "metadata": {},
   "outputs": [
    {
     "name": "stdout",
     "output_type": "stream",
     "text": [
      "50\n",
      "44\n",
      "48\n",
      "9\n"
     ]
    }
   ],
   "source": [
    "for i in Wrap.wrap(text):\n",
    "    print(len(i))"
   ]
  }
 ],
 "metadata": {
  "kernelspec": {
   "display_name": "Python 3",
   "language": "python",
   "name": "python3"
  },
  "language_info": {
   "codemirror_mode": {
    "name": "ipython",
    "version": 3
   },
   "file_extension": ".py",
   "mimetype": "text/x-python",
   "name": "python",
   "nbconvert_exporter": "python",
   "pygments_lexer": "ipython3",
   "version": "3.7.1"
  },
  "toc": {
   "base_numbering": 1,
   "nav_menu": {},
   "number_sections": true,
   "sideBar": true,
   "skip_h1_title": false,
   "title_cell": "Table of Contents",
   "title_sidebar": "Contents",
   "toc_cell": false,
   "toc_position": {},
   "toc_section_display": true,
   "toc_window_display": false
  },
  "varInspector": {
   "cols": {
    "lenName": 16,
    "lenType": 16,
    "lenVar": 40
   },
   "kernels_config": {
    "python": {
     "delete_cmd_postfix": "",
     "delete_cmd_prefix": "del ",
     "library": "var_list.py",
     "varRefreshCmd": "print(var_dic_list())"
    },
    "r": {
     "delete_cmd_postfix": ") ",
     "delete_cmd_prefix": "rm(",
     "library": "var_list.r",
     "varRefreshCmd": "cat(var_dic_list()) "
    }
   },
   "types_to_exclude": [
    "module",
    "function",
    "builtin_function_or_method",
    "instance",
    "_Feature"
   ],
   "window_display": false
  }
 },
 "nbformat": 4,
 "nbformat_minor": 2
}
