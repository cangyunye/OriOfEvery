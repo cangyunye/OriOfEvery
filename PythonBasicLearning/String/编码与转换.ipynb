{
 "cells": [
  {
   "cell_type": "markdown",
   "metadata": {},
   "source": [
    "# 单个字符串编码\n",
    "\n",
    "\n",
    "1. ord()函数获取字符的整数表示\n",
    "2. chr()函数把编码转换为对应的字符\n",
    "3. 但是无法处理多个字符串\n"
   ]
  },
  {
   "cell_type": "code",
   "execution_count": 1,
   "metadata": {},
   "outputs": [
    {
     "name": "stdout",
     "output_type": "stream",
     "text": [
      "ord对A编码： 65\n",
      "ord对优编码： 20248\n",
      "chr对66解码： B\n",
      "chr对20248解码： 优\n",
      "ord() expected a character, but string of length 2 found\n",
      "31168\n"
     ]
    }
   ],
   "source": [
    "print(\"ord对A编码：\",ord('A'))\n",
    "print(\"ord对优编码：\",ord('优'))\n",
    "print(\"chr对66解码：\",chr(66))\n",
    "print(\"chr对20248解码：\",chr(20248))\n",
    "try:\n",
    "    print(ord('优秀'))\n",
    "except TypeError as e:\n",
    "    print(e)\n",
    "    print(ord('秀'))"
   ]
  },
  {
   "cell_type": "markdown",
   "metadata": {},
   "source": [
    "# 字符串转换为二进制\n",
    "\n",
    "为了方便传输文件或者二进制方式读取\n",
    "\n",
    "通过字符串的str.encode方法，指定编码格式，即可转换为二进制编码\n",
    "\n",
    "对于中文，无法使用ascii编码，因为ascii编码仅2^8=256位，对于可以编码的符号，请参考对照表\n",
    "\n",
    "https://baike.baidu.com/item/ASCII/309296\n",
    "\n",
    "同样的道理，其他特殊符号，需要依赖编码格式本身就包含相应字符串"
   ]
  },
  {
   "cell_type": "code",
   "execution_count": 2,
   "metadata": {},
   "outputs": [
    {
     "name": "stdout",
     "output_type": "stream",
     "text": [
      "'ascii' codec can't encode characters in position 0-2: ordinal not in range(128)\n",
      "b'\\xe8\\xbe\\xbe\\xe8\\x8a\\xac\\xe5\\xa5\\x87'\n",
      "b'\\xb4\\xef\\xb7\\xd2\\xc6\\xe6'\n"
     ]
    }
   ],
   "source": [
    "str2ascii='达芬奇'\n",
    "try:\n",
    "    print(str2ascii.encode('ascii'))\n",
    "except UnicodeEncodeError as e:\n",
    "    print(e)\n",
    "    print(str2ascii.encode('utf-8'))\n",
    "    print(str2ascii.encode('gbk'))"
   ]
  },
  {
   "cell_type": "markdown",
   "metadata": {},
   "source": [
    "# 二进制解码\n",
    "\n",
    "对于b开头的二进制编码，通过decode方式解码，需要匹配正确的编码方式\n",
    "\n",
    "如果解码选择编码错误，则会报异常"
   ]
  },
  {
   "cell_type": "code",
   "execution_count": 3,
   "metadata": {
    "scrolled": true
   },
   "outputs": [
    {
     "name": "stdout",
     "output_type": "stream",
     "text": [
      "'ascii' codec can't decode byte 0xe8 in position 0: ordinal not in range(128)\n",
      "达芬奇\n"
     ]
    }
   ],
   "source": [
    "\n",
    "ascii2uni=b'\\xe8\\xbe\\xbe\\xe8\\x8a\\xac\\xe5\\xa5\\x87'\n",
    "try:\n",
    "    print(ascii2uni.decode('ascii'))\n",
    "except UnicodeDecodeError as e:\n",
    "    print(e)\n",
    "    print(ascii2uni.decode('utf-8'))"
   ]
  },
  {
   "cell_type": "markdown",
   "metadata": {},
   "source": [
    "# 二八十六进制整数\n",
    "\n",
    "为了将整数转换为二进制、八进制或十六进制的文本串， 可以分别使用 bin() , oct() 或 hex() 函数：\n"
   ]
  },
  {
   "cell_type": "code",
   "execution_count": 4,
   "metadata": {},
   "outputs": [
    {
     "name": "stdout",
     "output_type": "stream",
     "text": [
      "十进制输出为二进制： 0b1111101101001\n",
      "十进制输出为八进制： 0o17551\n",
      "十六进制输出为二进制： 0x1f69\n"
     ]
    }
   ],
   "source": [
    "t=8041\n",
    "print(\"十进制输出为二进制：\",bin(t))\n",
    "print(\"十进制输出为八进制：\",oct(t))\n",
    "print(\"十六进制输出为二进制：\",hex(t))"
   ]
  },
  {
   "cell_type": "markdown",
   "metadata": {},
   "source": [
    "# 二八十六进制整数无前缀标识"
   ]
  },
  {
   "cell_type": "code",
   "execution_count": 5,
   "metadata": {
    "scrolled": true
   },
   "outputs": [
    {
     "name": "stdout",
     "output_type": "stream",
     "text": [
      "1111101101001\n",
      "17551\n",
      "1f69\n"
     ]
    }
   ],
   "source": [
    "print(format(t, 'b'))\n",
    "\n",
    "print(format(t, 'o'))\n",
    "\n",
    "print(format(t, 'x'))\n"
   ]
  },
  {
   "cell_type": "markdown",
   "metadata": {},
   "source": [
    "# 非10进制转换为10进制\n",
    "\n",
    "对于其他进制数据，需要转换为十进制整数,通过int(),第一个参数为需转换数据的字符串形式，参数base表示原始数据进制。\n"
   ]
  },
  {
   "cell_type": "code",
   "execution_count": 6,
   "metadata": {
    "scrolled": false
   },
   "outputs": [
    {
     "name": "stdout",
     "output_type": "stream",
     "text": [
      "8041\n",
      "8041\n",
      "8041\n"
     ]
    }
   ],
   "source": [
    "print(int(format(t, 'b'),base=2))\n",
    "print(int(oct(t),base=8))\n",
    "print(int(hex(t),base=16))"
   ]
  },
  {
   "cell_type": "markdown",
   "metadata": {},
   "source": [
    "# 汉字转码为\\u格式的unicode编码\n",
    "\n",
    "对于不支持汉字显示的系统，我们可以先转换为unicode表示。unicode编码的字符实际是十六进制表示，外加前缀\\u\n",
    "\n",
    "1. 通过encode('unicode_escape')转换为二进制表示\n",
    "2. 再使用utf-8进行解码"
   ]
  },
  {
   "cell_type": "code",
   "execution_count": 7,
   "metadata": {},
   "outputs": [
    {
     "name": "stdout",
     "output_type": "stream",
     "text": [
      "b'\\\\u9999\\\\u6c5f\\\\u5929\\\\u8d4b'\n",
      "\\u9999\\u6c5f\\u5929\\u8d4b\n"
     ]
    }
   ],
   "source": [
    "s = \"香江天赋\"\n",
    "se = s.encode('unicode_escape')\n",
    "print(se)\n",
    "sd = se.decode('utf-8') \n",
    "print(sd)"
   ]
  },
  {
   "cell_type": "markdown",
   "metadata": {},
   "source": [
    "# 解码\\\\u类型的字符串\n",
    "\n",
    "对于网站爬取下来的数据，可能存在如\\\\u745b如何直接输出中文，屏蔽多余的\\\n",
    "\n",
    "和上节操作步骤相反"
   ]
  },
  {
   "cell_type": "code",
   "execution_count": 8,
   "metadata": {},
   "outputs": [
    {
     "name": "stdout",
     "output_type": "stream",
     "text": [
      "瑛\n"
     ]
    }
   ],
   "source": [
    "x='\\\\u745b'\n",
    "print (x.encode('utf-8').decode('unicode_escape'))"
   ]
  },
  {
   "cell_type": "markdown",
   "metadata": {},
   "source": [
    "# 一个字符串的unicode,十进制，十六进制转换"
   ]
  },
  {
   "cell_type": "code",
   "execution_count": 9,
   "metadata": {},
   "outputs": [
    {
     "name": "stdout",
     "output_type": "stream",
     "text": [
      "29787\n",
      "0x745b\n",
      "瑛\n",
      "29787\n"
     ]
    }
   ],
   "source": [
    "# 中文转十进制\n",
    "print(ord('瑛'))\n",
    "# 十进制转十六进制\n",
    "print(hex(29787))\n",
    "# 十六进制+\\u\n",
    "print('\\u745b')\n",
    "# 十六进制转十进制\n",
    "print(int('745b',16))"
   ]
  },
  {
   "cell_type": "markdown",
   "metadata": {},
   "source": [
    "# 处理url编码\n",
    "\n",
    "1. python3 中的urllib.parse.urlencode函数，将字典形式的参数，返回成url所需的格式，`user=yunye&name=天赋`转换，默认转换为`utf-8`，可以进行指定\n",
    "2. unquote进行解码,quote对字符串直接编码\n"
   ]
  },
  {
   "cell_type": "code",
   "execution_count": 10,
   "metadata": {
    "scrolled": true
   },
   "outputs": [
    {
     "name": "stdout",
     "output_type": "stream",
     "text": [
      "user=yunye&name=%E5%A4%A9%E8%B5%8B\n",
      "user=yunye&name=天赋\n",
      "%E5%A4%A9%E8%B5%8B\n"
     ]
    }
   ],
   "source": [
    "from urllib.parse import quote, unquote, urlencode\n",
    "data = {\n",
    "    'user': 'yunye',\n",
    "    'name': '天赋'\n",
    "}\n",
    "aften=urlencode(data,encoding='utf-8')\n",
    "print(aften)\n",
    "\n",
    "aftde=unquote(aften)\n",
    "print(aftde)\n",
    "\n",
    "print(quote(data['name']))"
   ]
  },
  {
   "cell_type": "markdown",
   "metadata": {},
   "source": [
    "# base64编码\n",
    "\n",
    "**基本概念**\n",
    "\n",
    "1. 基于64个字符的查码表\n",
    "\n",
    "`['A', 'B', 'C', ... 'a', 'b', 'c', ... '0', '1', ... '+', '/']`\n",
    "\n",
    "2. 对于待编码的字符串，以字节统计\n",
    "3. 每3个字节作为一组，每个字节为8bit，即每组24bit\n",
    "4. 再对每组划分4段，每段6bit，那么2^6=64\n",
    "\n",
    "**notes**\n",
    "\n",
    "1. 对每组可以用4段，即4个码表示，码源于64字符查码表。即base64编码永远是4的倍数\n",
    "\n",
    "2. 对于待编码字符串每组不足3个字节，末位补充`\\x00`，编码后末位补充`=`表示补充的字节\n",
    "\n",
    "3. 无法直接对非二进制进行编码\n",
    "\n"
   ]
  },
  {
   "cell_type": "code",
   "execution_count": 11,
   "metadata": {},
   "outputs": [
    {
     "name": "stdout",
     "output_type": "stream",
     "text": [
      "a bytes-like object is required, not 'str'\n",
      "字符utf-8编码后字节数： 6\n",
      "b64编码： b'5L2g5aW9'\n",
      "b64解码： b'\\xe4\\xbd\\xa0\\xe5\\xa5\\xbd'\n",
      "二进制解码： 你好\n"
     ]
    }
   ],
   "source": [
    "import base64\n",
    "try:\n",
    "    ste = base64.b64encode(u'你好')\n",
    "except TypeError as e:\n",
    "    print(e)\n",
    "    st = '你好'.encode('utf-8')\n",
    "    print(\"字符utf-8编码后字节数：\",len(st))\n",
    "    ste = base64.b64encode(st)\n",
    "\n",
    "std=base64.b64decode(ste)\n",
    "print(\"b64编码：\",ste)\n",
    "print(\"b64解码：\",std)\n",
    "print(\"二进制解码：\",std.decode('utf-8'))"
   ]
  },
  {
   "cell_type": "markdown",
   "metadata": {},
   "source": [
    "由于标准的Base64编码后可能出现字符+和/，\n",
    "\n",
    "在URL中就不能直接作为参数，\n",
    "\n",
    "通过\"url safe\"的base64编码，\n",
    "\n",
    "把字符`+`和`/`分别变成`-`和`_`"
   ]
  },
  {
   "cell_type": "code",
   "execution_count": 12,
   "metadata": {},
   "outputs": [
    {
     "name": "stdout",
     "output_type": "stream",
     "text": [
      "b'abcd++//'\n",
      "b'abcd--__'\n",
      "b'i\\xb7\\x1d\\xfb\\xef\\xff'\n"
     ]
    }
   ],
   "source": [
    "t1 = base64.b64encode(b'i\\xb7\\x1d\\xfb\\xef\\xff')\n",
    "\n",
    "t2 = base64.urlsafe_b64encode(b'i\\xb7\\x1d\\xfb\\xef\\xff')\n",
    "\n",
    "t3 = base64.urlsafe_b64decode('abcd--__')\n",
    "\n",
    "print(f\"{t1}\\n{t2}\\n{t3}\")"
   ]
  },
  {
   "cell_type": "markdown",
   "metadata": {},
   "source": [
    "# 十六进制二进制binascii转换\n",
    "\n",
    "'b2a_hex', 'hexlify'  字符串转16进制\n",
    "\n",
    "'a2b_hex', 'unhexlify' 16进制转字符串\n",
    "\n",
    "'b2a_base64'base64加密\n",
    "\n",
    "'a2b_base64' base64解密\n",
    "\n",
    "'crc32' #增量计算 CRC-32"
   ]
  },
  {
   "cell_type": "code",
   "execution_count": 33,
   "metadata": {},
   "outputs": [
    {
     "name": "stdout",
     "output_type": "stream",
     "text": [
      "b'\\xe8\\x92\\x82\\xe8\\x8a\\xb1\\xe4\\xb9\\x8b\\xe7\\xa7\\x80'\n",
      "b'e89282e88ab1e4b98be7a780'\n",
      "b'e89282e88ab1e4b98be7a780'\n"
     ]
    }
   ],
   "source": [
    "import binascii\n",
    "string = \"蒂花之秀\"\n",
    "# 先将字符串编码为二进制，在进行二进制转换为十六进制\n",
    "bst=string.encode('utf-8')\n",
    "print(bst)\n",
    "print(binascii.b2a_hex(bst))\n",
    "print(binascii.hexlify(bst))\n"
   ]
  },
  {
   "cell_type": "code",
   "execution_count": 31,
   "metadata": {},
   "outputs": [
    {
     "name": "stdout",
     "output_type": "stream",
     "text": [
      "蒂花之秀\n",
      "b'\\xe8\\x92\\x82\\xe8\\x8a\\xb1\\xe4\\xb9\\x8b\\xe7\\xa7\\x80'\n"
     ]
    }
   ],
   "source": [
    "# 十六进制转换回二进制\n",
    "print(binascii.a2b_hex('e89282e88ab1e4b98be7a780').decode('utf-8'))\n",
    "print(binascii.unhexlify('e89282e88ab1e4b98be7a780'))"
   ]
  },
  {
   "cell_type": "code",
   "execution_count": 43,
   "metadata": {},
   "outputs": [
    {
     "name": "stdout",
     "output_type": "stream",
     "text": [
      "b'5L2g5aW9\\n'\n",
      "你好\n"
     ]
    }
   ],
   "source": [
    "# base64编码\n",
    "print(binascii.b2a_base64('你好'.encode('utf-8')))\n",
    "# base64解码\n",
    "print(binascii.a2b_base64(b'5L2g5aW9\\n').decode('utf-8'))"
   ]
  }
 ],
 "metadata": {
  "kernelspec": {
   "display_name": "Python 3",
   "language": "python",
   "name": "python3"
  },
  "language_info": {
   "codemirror_mode": {
    "name": "ipython",
    "version": 3
   },
   "file_extension": ".py",
   "mimetype": "text/x-python",
   "name": "python",
   "nbconvert_exporter": "python",
   "pygments_lexer": "ipython3",
   "version": "3.7.1"
  },
  "toc": {
   "base_numbering": 1,
   "nav_menu": {},
   "number_sections": true,
   "sideBar": true,
   "skip_h1_title": false,
   "title_cell": "Table of Contents",
   "title_sidebar": "Contents",
   "toc_cell": false,
   "toc_position": {
    "height": "calc(100% - 180px)",
    "left": "10px",
    "top": "150px",
    "width": "307.038px"
   },
   "toc_section_display": true,
   "toc_window_display": true
  },
  "varInspector": {
   "cols": {
    "lenName": 16,
    "lenType": 16,
    "lenVar": 40
   },
   "kernels_config": {
    "python": {
     "delete_cmd_postfix": "",
     "delete_cmd_prefix": "del ",
     "library": "var_list.py",
     "varRefreshCmd": "print(var_dic_list())"
    },
    "r": {
     "delete_cmd_postfix": ") ",
     "delete_cmd_prefix": "rm(",
     "library": "var_list.r",
     "varRefreshCmd": "cat(var_dic_list()) "
    }
   },
   "types_to_exclude": [
    "module",
    "function",
    "builtin_function_or_method",
    "instance",
    "_Feature"
   ],
   "window_display": false
  }
 },
 "nbformat": 4,
 "nbformat_minor": 2
}
