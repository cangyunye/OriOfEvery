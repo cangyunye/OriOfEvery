{
 "cells": [
  {
   "cell_type": "markdown",
   "metadata": {},
   "source": [
    "# StringIO/BytesIO\n",
    "\n",
    "- StringIO模块是进行内存里的读写str，和open在硬盘上的有些区别。\n",
    "- BytesIO模块是在内存中读写bytes\n",
    "\n",
    "s=io.StringIO([buf])\n",
    "\n",
    "此实例类似于open方法，不同的是它并不会在硬盘中生成文件，而只寄存在缓冲区；可选参数buf是一个str或unicode类型。它将会与其他后续写入的数据存放在一起（注意，若要在初始化数据之后继续写入数据，则在写入数据之前，应先将读写位置移动到结尾，然后再写入，否则，初始化数据会被覆盖掉，因为读写**位置默认是0**）。\n",
    "\n",
    "StringIO/BytesIO类中的方法：\n",
    "\n",
    "## s.read([n])\n",
    "\n",
    "参数n限定读取长度，int类型；缺省状态为从当前读写位置读取对象s中存储的所有数据。读取结束后，读写位置被移动。\n",
    "\n",
    "## s.readline([length])\n",
    "\n",
    "参数length限定读取的结束位置，int类型，缺省状态为None：从当前读写位置读取至下一个以“\\n”为结束符的当前行。读写位置被移动。\n",
    "\n",
    "## s.readlines([sizehint])\n",
    "\n",
    "参数sizehint为int类型，缺省状态为读取所有行并作为列表返回，除此之外从当前读写位置读取至下一个以“\\n”为结束符的当前行。读写位置被移动。\n",
    "\n",
    "## s.write(s)\n",
    "\n",
    "从读写位置将参数s写入给对象s。参数s为str或unicode类型。读写位置被移动。\n",
    "\n",
    "## s.writelines(list)\n",
    "\n",
    "从读写位置将list写入给对象s。参数list为一个列表，列表的成员为str或unicode类型。读写位置被移动。\n",
    "\n",
    "## s.getvalue()\n",
    "\n",
    "此函数没有参数，无论读写位置在哪里，都能够返回对象s中的所有数据。\n",
    "\n",
    "\n",
    "## s.close()\n",
    "\n",
    "释放缓冲区，执行此函数后，数据将被释放，也不可再进行操作。\n",
    "\n",
    "## s.isatty()\n",
    "\n",
    "此函数总是返回0。\n",
    "\n",
    "## s.flush()\n",
    "\n",
    "一般输出到屏幕的时候是一组数据一次性全部显示出来得。这是因为电脑为了提高效率，数据会先暂时放入缓存，等缓存满了或者操作结束了，再一次性将数据进行处理。\n",
    "\n",
    "类似进度条的情况需要字符一次一个的蹦出来，这时候就需要使用flush()来强制执行这个处理缓存内数据的操作。\n",
    "\n"
   ]
  },
  {
   "cell_type": "markdown",
   "metadata": {},
   "source": [
    "## s.tell()\n",
    "\n",
    "返回当前读写位置。"
   ]
  },
  {
   "cell_type": "code",
   "execution_count": 65,
   "metadata": {
    "scrolled": false
   },
   "outputs": [
    {
     "name": "stdout",
     "output_type": "stream",
     "text": [
      "Current: python\n",
      "When tell: 0\n",
      "After tell.\n"
     ]
    }
   ],
   "source": [
    "from io import StringIO\n",
    "\n",
    "def writedata(file, msg):\n",
    "    file.write(msg)\n",
    "    \n",
    "s = StringIO('python')\n",
    "\n",
    "print(\"Current:\",s.getvalue())\n",
    "print(\"When tell:\",s.tell())#读写位置默认是0，因此，之后写入的数据（\"xxxxx!!!xxxxxx\"）会将之前的数据（'python'）覆盖掉\n",
    "writedata(s, \"After tell.\")\n",
    "print(s.getvalue())\n",
    "s.close()"
   ]
  },
  {
   "cell_type": "markdown",
   "metadata": {},
   "source": [
    "## s.truncate([size])\n",
    "\n",
    "1》有size参数\n",
    "\n",
    "无论读写位置在哪里，都从起始位置开始，裁剪size字\n",
    "节的数据。\n",
    "\n",
    "2》不带size参数\n",
    "\n",
    "将当前读写位置之前的数据，裁剪下来。\n"
   ]
  },
  {
   "cell_type": "code",
   "execution_count": 66,
   "metadata": {},
   "outputs": [
    {
     "name": "stdout",
     "output_type": "stream",
     "text": [
      "Current: Loo\n",
      "Seek(0,1): XiaoYing\n",
      "truncate(4): Xiao\n",
      "truncate(): Xi\n"
     ]
    }
   ],
   "source": [
    "from io import StringIO\n",
    "s = StringIO(\"Loo\")\n",
    "print(\"Current:\",s.getvalue())\n",
    "s.write(\"Xiao\")\n",
    "s.writelines(\"Ying\")\n",
    "print(\"Seek(0,1):\",s.getvalue())\n",
    "s.truncate(4)\n",
    "print(\"truncate(4):\",s.getvalue())\n",
    "s.seek(2,0) #指定读写位置为2\n",
    "s.truncate()\n",
    "print(\"truncate():\",s.getvalue())\n",
    "s.close()"
   ]
  },
  {
   "cell_type": "markdown",
   "metadata": {},
   "source": [
    "## s.seek(pos[,mode])\n",
    "\n",
    "- 移动当前读写位置至pos处，可选参数mode为0时将读写位置移动至pos处，\n",
    "- 为1时将读写位置从当前位置起向前或向后移动|pos|个长度，\n",
    "- 为2时将读写位置置于末尾处再向前或向后移动|pos|个长度；\n",
    "\n",
    "mode的默认值为0。"
   ]
  },
  {
   "cell_type": "code",
   "execution_count": 67,
   "metadata": {
    "scrolled": true
   },
   "outputs": [
    {
     "name": "stdout",
     "output_type": "stream",
     "text": [
      "Current: NoneSeek\n",
      "After Seek: NoneSeekWang\n",
      "After Writelines: NoneSeekWangXiaoYing\n",
      "After Write: NoneSeekWangXiaoYingWrite\n",
      "Located by seek : SeekWangXiaoYingWrite\n"
     ]
    }
   ],
   "source": [
    "from io import StringIO\n",
    "s = StringIO('NoneSeek')\n",
    "print(\"Current:\",s.getvalue())\n",
    "s.seek(0,2)#将读写位置移动到结尾，如果不移动，将会被write覆盖\n",
    "s.write(\"Wang\")\n",
    "print(\"After Seek:\",s.getvalue())\n",
    "lines = ['Xiao', 'Ying']\n",
    "s.writelines(lines)\n",
    "print(\"After Writelines:\",s.getvalue())\n",
    "s.write(\"Write\")\n",
    "print(\"After Write:\",s.getvalue())\n",
    "#如果使用read方法获取其中的数据，必须通过seek先设置\"文件指针\"的位置。\n",
    "s.seek(4,0)#使用s.read()来读取所有数据前，应将读写位置移动到开头\n",
    "print(\"Located by seek :\",s.read())\n",
    "s.close()"
   ]
  },
  {
   "cell_type": "code",
   "execution_count": 2,
   "metadata": {},
   "outputs": [
    {
     "name": "stdout",
     "output_type": "stream",
     "text": [
      "中文\n",
      " b'\\xe4\\xb8\\xad\\xe6\\x96\\x87'\n"
     ]
    }
   ],
   "source": [
    "from io import BytesIO\n",
    "f = BytesIO()\n",
    "f.write('中文'.encode('utf-8'))\n",
    "print(\"中文\\n\",f.getvalue())"
   ]
  }
 ],
 "metadata": {
  "kernelspec": {
   "display_name": "Python 3",
   "language": "python",
   "name": "python3"
  },
  "language_info": {
   "codemirror_mode": {
    "name": "ipython",
    "version": 3
   },
   "file_extension": ".py",
   "mimetype": "text/x-python",
   "name": "python",
   "nbconvert_exporter": "python",
   "pygments_lexer": "ipython3",
   "version": "3.7.1"
  },
  "toc": {
   "base_numbering": 1,
   "nav_menu": {},
   "number_sections": true,
   "sideBar": true,
   "skip_h1_title": false,
   "title_cell": "Table of Contents",
   "title_sidebar": "Contents",
   "toc_cell": false,
   "toc_position": {},
   "toc_section_display": true,
   "toc_window_display": false
  },
  "varInspector": {
   "cols": {
    "lenName": 16,
    "lenType": 16,
    "lenVar": 40
   },
   "kernels_config": {
    "python": {
     "delete_cmd_postfix": "",
     "delete_cmd_prefix": "del ",
     "library": "var_list.py",
     "varRefreshCmd": "print(var_dic_list())"
    },
    "r": {
     "delete_cmd_postfix": ") ",
     "delete_cmd_prefix": "rm(",
     "library": "var_list.r",
     "varRefreshCmd": "cat(var_dic_list()) "
    }
   },
   "types_to_exclude": [
    "module",
    "function",
    "builtin_function_or_method",
    "instance",
    "_Feature"
   ],
   "window_display": false
  }
 },
 "nbformat": 4,
 "nbformat_minor": 2
}
