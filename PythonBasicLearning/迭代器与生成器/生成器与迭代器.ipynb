{
 "cells": [
  {
   "cell_type": "markdown",
   "metadata": {},
   "source": [
    "# next()和send()\n",
    "\n",
    "实际上next()和send()在一定意义上作用是相似的，区别是send()可以传递yield表达式的值进去，而next()不能传递特定的值，只能传递None进去。因此，我们可以看做calc_average.next() 和 calc_average.send(None) 作用是一样的。\n",
    "\n",
    "为什么第一次调用时，需使用next()语句或是send(None)\n",
    "PEP 342中有\n",
    "> \n",
    "Because generator-iterators begin execution at the top of the\n",
    "    generator's function body, there is no yield expression to receive\n",
    "    a value when the generator has just been created.  Therefore,\n",
    "    calling send() with a non-None argument is prohibited when the\n",
    "    generator iterator has just started, and a TypeError is raised if\n",
    "    this occurs (presumably due to a logic error of some kind).  Thus,\n",
    "    before you can communicate with a coroutine you must first call\n",
    "    next() or send(None) to advance its execution to the first yield\n",
    "    expression.\n",
    "\n",
    "https://www.zhihu.com/question/28105502\n",
    "\n",
    "\n",
    "下面说明下send执行的顺序。new_num = yield average这句话是从右往左执行的。当第一次send（None）（对应27行）时，启动生成器，从生成器函数的第一行代码开始执行，直到第一次执行完yield（对应第7行）后，**跳出生成器函数**。这个过程中，new_num一直没有定义。\n",
    "\n",
    "运行到send（10）时，进入生成器函数，此时，将yield average看做一个整体，赋值给它并且传回。此时即相当于把10赋值给new_num，但是并不执行yield部分。下面继续从yield的下一语句继续执行，然后重新运行到yield语句，执行后，跳出生成器函数。即send和next相比，只是开始多了一次赋值的动作，其他运行流程是相同的。\n"
   ]
  },
  {
   "cell_type": "code",
   "execution_count": 112,
   "metadata": {},
   "outputs": [
    {
     "name": "stdout",
     "output_type": "stream",
     "text": [
      "10.0\n",
      "15.0\n",
      "20.0\n",
      "计算完毕！！\n",
      "总共传入 3 个数值， 总和：60，平均数：20.0\n"
     ]
    }
   ],
   "source": [
    "# 子生成器\n",
    "def average_gen():\n",
    "    total = 0\n",
    "    count = 0\n",
    "    average = 0\n",
    "    while True:\n",
    "        new_num = yield average\n",
    "        if new_num is None:\n",
    "            break\n",
    "        count += 1\n",
    "        total += new_num\n",
    "        average = total/count\n",
    "\n",
    "    # 每一次return，都意味着当前协程结束。\n",
    "    return total,count,average\n",
    "\n",
    "# 委托生成器\n",
    "def proxy_gen():\n",
    "    while True:\n",
    "        # 只有子生成器要结束（return）了，yield from左边的变量才会被赋值，后面的代码才会执行。\n",
    "        total, count, average = yield from average_gen()\n",
    "        print(\"计算完毕！！\\n总共传入 {} 个数值， 总和：{}，平均数：{}\".format(count, total, average))\n",
    "\n",
    "# 调用方\n",
    "def main():\n",
    "    calc_average = proxy_gen()\n",
    "    next(calc_average)            # 预激协程\n",
    "    print(calc_average.send(10))  # 打印：10.0\n",
    "    print(calc_average.send(20))  # 打印：15.0\n",
    "    print(calc_average.send(30))  # 打印：20.0\n",
    "    calc_average.send(None)      # 结束协程\n",
    "    # 如果此处再调用calc_average.send(10)，由于上一协程已经结束，将重开一协程\n",
    "\n",
    "\n",
    "main()\n",
    "\n"
   ]
  },
  {
   "cell_type": "markdown",
   "metadata": {},
   "source": [
    "# 解析 4.4 实现迭代器协议\n",
    "\n",
    "1. 类中的`__repr__`方法可以打印出类的结果，如下\n",
    "\n",
    "```python\n",
    "print(Node(1))\n",
    ">>Node(1)\n",
    "```\n",
    "\n",
    "2. `depth_first`方法通过yield 返回Node类本身的`__iter__`\n",
    "\n"
   ]
  },
  {
   "cell_type": "code",
   "execution_count": 30,
   "metadata": {},
   "outputs": [
    {
     "name": "stdout",
     "output_type": "stream",
     "text": [
      "Node(0)\n",
      "Node(1)\n",
      "Node(3)\n",
      "Node(4)\n",
      "Node(2)\n",
      "Node(5)\n"
     ]
    }
   ],
   "source": [
    "class Node:\n",
    "    def __init__(self, value):\n",
    "        self._value = value\n",
    "        self._children = []\n",
    "\n",
    "    def __repr__(self):\n",
    "        return 'Node({!r})'.format(self._value)\n",
    "\n",
    "    def add_child(self, node):\n",
    "        self._children.append(node)\n",
    "\n",
    "    def __iter__(self):\n",
    "        return iter(self._children)\n",
    "\n",
    "    def depth_first(self):\n",
    "        # 这里的self返回的实际为Node.__repr__\n",
    "        yield self\n",
    "        for c in self:\n",
    "            # 出了第一个root = Node(0)外，其他root._value都为yield解压的__iter__，即其他add_child到self._children列表的值\n",
    "            yield from c.depth_first()\n",
    "            \n",
    "def main():\n",
    "    root = Node(0)\n",
    "    child1 = Node(1)\n",
    "    child2 = Node(2)\n",
    "    root.add_child(child1)\n",
    "    root.add_child(child2)\n",
    "    child1.add_child(Node(3))\n",
    "    child1.add_child(Node(4))\n",
    "    child2.add_child(Node(5))\n",
    "    # 解压depth_first\n",
    "    for ch in root.depth_first():\n",
    "        print(ch)\n",
    "main()\n",
    "\n"
   ]
  },
  {
   "cell_type": "markdown",
   "metadata": {},
   "source": [
    "# 含有__next__()函数的对象都是一个迭代器\n",
    "\n",
    "所以test也可以说是一个迭代器。如果去掉`__iter__`函数，test这个类也不会报错。如下代码所示："
   ]
  },
  {
   "cell_type": "code",
   "execution_count": 31,
   "metadata": {
    "scrolled": true
   },
   "outputs": [
    {
     "name": "stdout",
     "output_type": "stream",
     "text": [
      "4\n",
      "5\n",
      "6\n"
     ]
    }
   ],
   "source": [
    "class test():\n",
    "    def __init__(self,data=1):\n",
    "        self.data = data\n",
    "\n",
    "    def __next__(self):\n",
    "        if self.data > 5:\n",
    "            raise StopIteration\n",
    "        else:\n",
    "            self.data+=1\n",
    "            return self.data\n",
    "\n",
    "t = test(3)   \n",
    "for i in range(3):\n",
    "    print(t.__next__())\n"
   ]
  },
  {
   "cell_type": "markdown",
   "metadata": {},
   "source": [
    "https://blog.csdn.net/jpch89/article/details/87036970"
   ]
  },
  {
   "cell_type": "code",
   "execution_count": null,
   "metadata": {},
   "outputs": [],
   "source": [
    "def gen():\n",
    "    n = 0\n",
    "    while True:\n",
    "        try:\n",
    "            yield n\n",
    "            n += 1\n",
    "        except ZeroDivisionError:\n",
    "            print('捕获到了 ZeroDivisionError')\n",
    "            n  = 999\n",
    "            print('此时的 n 为：%s' % n)\n",
    "\n",
    "g = gen()\n",
    "ret = next(g)\n",
    "print('第一次 yield 的返回值：%s' % ret)\n",
    "\"\"\"\n",
    "第一次 yield 的返回值：0\n",
    "\"\"\"\n",
    "\n",
    "print()\n",
    "ret = g.throw(ZeroDivisionError)\n",
    "print('第二次 yield 的返回值：%s' % ret)\n",
    "\"\"\"\n",
    "捕获到了 ZeroDivisionError\n",
    "此时的 n 为：999\n",
    "第二次 yield 的返回值：999\n",
    "\"\"\"\n",
    "\n",
    "print()\n",
    "ret = next(g)\n",
    "print('第三次 yield 的返回值：%s' % ret)\n",
    "\"\"\"\n",
    "第三次 yield 的返回值：1000\n",
    "\"\"\""
   ]
  },
  {
   "cell_type": "markdown",
   "metadata": {},
   "source": []
  }
 ],
 "metadata": {
  "kernelspec": {
   "display_name": "Python 3",
   "language": "python",
   "name": "python3"
  },
  "language_info": {
   "codemirror_mode": {
    "name": "ipython",
    "version": 3
   },
   "file_extension": ".py",
   "mimetype": "text/x-python",
   "name": "python",
   "nbconvert_exporter": "python",
   "pygments_lexer": "ipython3",
   "version": "3.7.1"
  },
  "toc": {
   "base_numbering": 1,
   "nav_menu": {},
   "number_sections": true,
   "sideBar": true,
   "skip_h1_title": false,
   "title_cell": "Table of Contents",
   "title_sidebar": "Contents",
   "toc_cell": false,
   "toc_position": {},
   "toc_section_display": true,
   "toc_window_display": false
  },
  "varInspector": {
   "cols": {
    "lenName": 16,
    "lenType": 16,
    "lenVar": 40
   },
   "kernels_config": {
    "python": {
     "delete_cmd_postfix": "",
     "delete_cmd_prefix": "del ",
     "library": "var_list.py",
     "varRefreshCmd": "print(var_dic_list())"
    },
    "r": {
     "delete_cmd_postfix": ") ",
     "delete_cmd_prefix": "rm(",
     "library": "var_list.r",
     "varRefreshCmd": "cat(var_dic_list()) "
    }
   },
   "types_to_exclude": [
    "module",
    "function",
    "builtin_function_or_method",
    "instance",
    "_Feature"
   ],
   "window_display": false
  }
 },
 "nbformat": 4,
 "nbformat_minor": 2
}
