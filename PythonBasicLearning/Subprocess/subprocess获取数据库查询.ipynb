{
 "cells": [
  {
   "cell_type": "markdown",
   "metadata": {},
   "source": [
    "# 通过subprocess获取数据库输出"
   ]
  },
  {
   "cell_type": "code",
   "execution_count": 1,
   "metadata": {
    "scrolled": true
   },
   "outputs": [
    {
     "name": "stdout",
     "output_type": "stream",
     "text": [
      "film_id\ttitle\tdescription\trelease_year\tlanguage_id\toriginal_language_id\trental_duration\trental_rate\tlength\treplacement_cost\trating\tspecial_features\tlast_update\r\n",
      "1\tACADEMY DINOSAUR\tA Epic Drama of a Feminist And a Mad Scientist who must Battle a Teacher in The Canadian Rockies\t2006\t1\tNULL\t6\t0.99\t86\t20.99\tPG\tDeleted Scenes,Behind the Scenes\t2006-02-15 05:03:42\r\n",
      "2\tACE GOLDFINGER\tA Astounding Epistle of a Database Administrator And a Explorer who must Find a Car in Ancient China\t2006\t1\tNULL\t3\t4.99\t48\t12.99\tG\tTrailers,Deleted Scenes\t2006-02-15 05:03:42\r\n",
      "3\tADAPTATION HOLES\tA Astounding Reflection of a Lumberjack And a Car who must Sink a Lumberjack in A Baloon Factory\t2006\t1\tNULL\t7\t2.99\t50\t18.99\tNC-17\tTrailers,Deleted Scenes\t2006-02-15 05:03:42\r\n",
      "4\tAFFAIR PREJUDICE\tA Fanciful Documentary of a Frisbee And a Lumberjack who must Chase a Monkey in A Shark Tank\t2006\t1\tNULL\t5\t2.99\t117\t26.99\tG\tCommentaries,Behind the Scenes\t2006-02-15 05:03:42\r\n",
      "5\tAFRICAN EGG\tA Fast-Paced Documentary of a Pastry Chef And a Dentist who must Pursue a Forensic Psychologist in The Gulf of Mexico\t2006\t1\tNULL\t6\t2.99\t130\t22.99\tG\tDeleted Scenes\t2006-02-15 05:03:42\r\n",
      "\n"
     ]
    }
   ],
   "source": [
    "from subprocess import Popen, PIPE\n",
    "\n",
    "def mysqlPin(user,passwd, host):\n",
    "    try:\n",
    "        conn = 'mysql -u%s -p%s -h%s -B' % (user,\n",
    "                                            passwd, host)\n",
    "        # conn = 'mysql -u%s -p%s -h%s -s'%(self.user,self.passwd,self.host)\n",
    "        Pin = Popen(conn, shell=True, stdin=PIPE, stdout=PIPE, stderr=PIPE)\n",
    "        return Pin\n",
    "    except Exception as e:\n",
    "        print(e)\n",
    "p=mysqlPin('root', 'paw', '127.0.0.1')\n",
    "p.stdin.write('select * from sakila.film  limit 0,5;'.encode('ascii')+b'\\n')\n",
    "stdout=p.communicate()[0]\n",
    "print(stdout.decode('utf-8'))"
   ]
  },
  {
   "cell_type": "markdown",
   "metadata": {},
   "source": [
    "returncode 返回管道语句执行后的结果，0表示成功"
   ]
  },
  {
   "cell_type": "code",
   "execution_count": 2,
   "metadata": {},
   "outputs": [],
   "source": [
    "assert p.returncode == 0, 'Popen cmd failed.'"
   ]
  },
  {
   "cell_type": "markdown",
   "metadata": {},
   "source": [
    "# communicate命令\n",
    "\n",
    "与子进程进行交互。\n",
    "\n",
    "可选参数input指定发送到子进程的参数。\n",
    "\n",
    "Communicate()返回一个元组：(stdoutdata, stderrdata)。\n",
    "\n",
    "注意：如果希望通过进程的stdin向其发送数据，在创建Popen对象的时候，参数stdin必须被设置为PIPE。同样，如果希望从stdout和stderr获取数据，必须将stdout和stderr设置为PIPE。"
   ]
  },
  {
   "cell_type": "code",
   "execution_count": 3,
   "metadata": {},
   "outputs": [
    {
     "name": "stdout",
     "output_type": "stream",
     "text": [
      "Tables_in_sakila\r\n",
      "actor\r\n",
      "actor_info\r\n",
      "address\r\n",
      "category\r\n",
      "city\r\n",
      "country\r\n",
      "customer\r\n",
      "customer_list\r\n",
      "film\r\n",
      "film_actor\r\n",
      "film_category\r\n",
      "film_list\r\n",
      "film_text\r\n",
      "inventory\r\n",
      "language\r\n",
      "nicer_but_slower_film_list\r\n",
      "payment\r\n",
      "rental\r\n",
      "sales_by_film_category\r\n",
      "sales_by_store\r\n",
      "staff\r\n",
      "staff_list\r\n",
      "store\r\n",
      "\n"
     ]
    }
   ],
   "source": [
    "p=mysqlPin('root', 'paw', '127.0.0.1')\n",
    "p.stdin.write('use sakila;'.encode('ascii')+b'\\n')\n",
    "stdout=p.communicate(input='show tables;'.encode('ascii'))[0]\n",
    "print(stdout.decode('utf-8'))"
   ]
  },
  {
   "cell_type": "markdown",
   "metadata": {},
   "source": [
    "# 连接多管道\n",
    "\n",
    "类似 ls -l | grep mysql 即，在当前目录下，查询文件名称为mysql得到行\n",
    "\n",
    "我们这里实现从上节查询的数据库结果查询行\n"
   ]
  },
  {
   "cell_type": "code",
   "execution_count": 4,
   "metadata": {
    "scrolled": true
   },
   "outputs": [
    {
     "name": "stdout",
     "output_type": "stream",
     "text": [
      "b'-rw-r--r-- 1 Administrator 197121  1144 Apr 14 17:50 mysql.tmp\\n'\n"
     ]
    }
   ],
   "source": [
    "p=Popen('ls -l',shell=True, stdin=PIPE, stdout=PIPE, stderr=PIPE)\n",
    "# 如果调用p.communicate()会使I/O operation on closed file，即管道关闭，无法传入到下个管道\n",
    "# p2的stdin选择p.stdout\n",
    "p2= Popen('grep mysql', shell=True, stdin=p.stdout, stdout=PIPE, stderr=PIPE)\n",
    "print(p2.stdout.read())"
   ]
  },
  {
   "cell_type": "markdown",
   "metadata": {},
   "source": [
    "# 输出到文件"
   ]
  },
  {
   "cell_type": "code",
   "execution_count": 5,
   "metadata": {},
   "outputs": [
    {
     "name": "stdout",
     "output_type": "stream",
     "text": [
      "film_id\ttitle\tdescription\trelease_year\tlanguage_id\toriginal_language_id\trental_duration\trental_rate\tlength\treplacement_cost\trating\tspecial_features\tlast_update\r\n",
      "\n",
      "1\tACADEMY DINOSAUR\tA Epic Drama of a Feminist And a Mad Scientist who must Battle a Teacher in The Canadian Rockies\t2006\t1\tNULL\t6\t0.99\t86\t20.99\tPG\tDeleted Scenes,Behind the Scenes\t2006-02-15 05:03:42\r\n",
      "\n",
      "2\tACE GOLDFINGER\tA Astounding Epistle of a Database Administrator And a Explorer who must Find a Car in Ancient China\t2006\t1\tNULL\t3\t4.99\t48\t12.99\tG\tTrailers,Deleted Scenes\t2006-02-15 05:03:42\r\n",
      "\n",
      "3\tADAPTATION HOLES\tA Astounding Reflection of a Lumberjack And a Car who must Sink a Lumberjack in A Baloon Factory\t2006\t1\tNULL\t7\t2.99\t50\t18.99\tNC-17\tTrailers,Deleted Scenes\t2006-02-15 05:03:42\r\n",
      "\n",
      "4\tAFFAIR PREJUDICE\tA Fanciful Documentary of a Frisbee And a Lumberjack who must Chase a Monkey in A Shark Tank\t2006\t1\tNULL\t5\t2.99\t117\t26.99\tG\tCommentaries,Behind the Scenes\t2006-02-15 05:03:42\r\n",
      "\n",
      "5\tAFRICAN EGG\tA Fast-Paced Documentary of a Pastry Chef And a Dentist who must Pursue a Forensic Psychologist in The Gulf of Mexico\t2006\t1\tNULL\t6\t2.99\t130\t22.99\tG\tDeleted Scenes\t2006-02-15 05:03:42\r\n",
      "\n"
     ]
    }
   ],
   "source": [
    "def mysqlPinf(user,passwd, host):\n",
    "    try:\n",
    "        conn = 'mysql -u%s -p%s -h%s -B' % (user,\n",
    "                                            passwd, host)\n",
    "        # conn = 'mysql -u%s -p%s -h%s -s'%(self.user,self.passwd,self.host)\n",
    "        Pin = Popen(conn, shell=True, stdin=PIPE, stdout=open('mysql.tmp','wb'), stderr=PIPE)\n",
    "        return Pin\n",
    "    except Exception as e:\n",
    "        print(e)\n",
    "p3=mysqlPinf('root', 'paw', '127.0.0.1')\n",
    "p3.stdin.write('select * from sakila.film  limit 0,5;'.encode('ascii')+b'\\n')\n",
    "p3.communicate()\n",
    "f=open('mysql.tmp','rb')\n",
    "for line in f:\n",
    "    print(line.decode('utf-8'))"
   ]
  }
 ],
 "metadata": {
  "kernelspec": {
   "display_name": "Python 3",
   "language": "python",
   "name": "python3"
  },
  "language_info": {
   "codemirror_mode": {
    "name": "ipython",
    "version": 3
   },
   "file_extension": ".py",
   "mimetype": "text/x-python",
   "name": "python",
   "nbconvert_exporter": "python",
   "pygments_lexer": "ipython3",
   "version": "3.7.1"
  },
  "toc": {
   "base_numbering": 1,
   "nav_menu": {},
   "number_sections": true,
   "sideBar": true,
   "skip_h1_title": false,
   "title_cell": "Table of Contents",
   "title_sidebar": "Contents",
   "toc_cell": false,
   "toc_position": {},
   "toc_section_display": true,
   "toc_window_display": false
  },
  "varInspector": {
   "cols": {
    "lenName": 16,
    "lenType": 16,
    "lenVar": 40
   },
   "kernels_config": {
    "python": {
     "delete_cmd_postfix": "",
     "delete_cmd_prefix": "del ",
     "library": "var_list.py",
     "varRefreshCmd": "print(var_dic_list())"
    },
    "r": {
     "delete_cmd_postfix": ") ",
     "delete_cmd_prefix": "rm(",
     "library": "var_list.r",
     "varRefreshCmd": "cat(var_dic_list()) "
    }
   },
   "types_to_exclude": [
    "module",
    "function",
    "builtin_function_or_method",
    "instance",
    "_Feature"
   ],
   "window_display": false
  }
 },
 "nbformat": 4,
 "nbformat_minor": 2
}
