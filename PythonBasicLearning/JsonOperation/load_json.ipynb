{
 "cells": [
  {
   "cell_type": "code",
   "execution_count": 1,
   "metadata": {},
   "outputs": [],
   "source": [
    "#设置json文件\n",
    "#with open读取json\n",
    "#json.loads(json_str)\n",
    "\n",
    "import json\n",
    "\n",
    "data = {\n",
    "    'name' : 'ACME',\n",
    "    'shares' : 100,\n",
    "    'price' : 542.23\n",
    "}\n",
    "\n",
    "json_str = json.dumps(data)\n",
    "data = json.loads(json_str)  # 解码"
   ]
  },
  {
   "cell_type": "code",
   "execution_count": 2,
   "metadata": {},
   "outputs": [],
   "source": [
    "print(type(json_str))\n",
    "print(type(data))"
   ]
  },
  {
   "cell_type": "code",
   "execution_count": 3,
   "metadata": {},
   "outputs": [
    {
     "data": {
      "text/plain": [
       "{'name': 'ACME', 'shares': 100, 'price': 542.23}"
      ]
     },
     "execution_count": 3,
     "metadata": {},
     "output_type": "execute_result"
    }
   ],
   "source": [
    "data"
   ]
  },
  {
   "cell_type": "code",
   "execution_count": 4,
   "metadata": {},
   "outputs": [
    {
     "data": {
      "text/plain": [
       "'ACME'"
      ]
     },
     "execution_count": 4,
     "metadata": {},
     "output_type": "execute_result"
    }
   ],
   "source": [
    "data['name']"
   ]
  },
  {
   "cell_type": "code",
   "execution_count": 5,
   "metadata": {},
   "outputs": [
    {
     "name": "stdout",
     "output_type": "stream",
     "text": [
      "[{'aqi': 20, 'area': '上海', 'pm2_5': 14, 'pm2_5_24h': 14, 'position_name': '十五厂', 'primary_pollutant': None, 'quality': '优', 'station_code': '1142A', 'time_point': '2017-07-29T14:00:00Z'}, {'aqi': 46, 'area': '上海', 'pm2_5': 32, 'pm2_5_24h': 7, 'position_name': '虹口', 'primary_pollutant': None, 'quality': '优', 'station_code': '1143A', 'time_point': '2017-07-29T14:00:00Z'}, {'aqi': 30, 'area': '上海', 'pm2_5': 19, 'pm2_5_24h': 16, 'position_name': '徐汇上师大', 'primary_pollutant': None, 'quality': '优', 'station_code': '1144A', 'time_point': '2017-07-29T14:00:00Z'}, {'aqi': 42, 'area': '上海', 'pm2_5': 15, 'pm2_5_24h': 18, 'position_name': '杨浦四漂', 'primary_pollutant': None, 'quality': '优', 'station_code': '1145A', 'time_point': '2017-07-29T14:00:00Z'}, {'aqi': 36, 'area': '上海', 'pm2_5': 20, 'pm2_5_24h': 19, 'position_name': '青浦淀山湖', 'primary_pollutant': None, 'quality': '优', 'station_code': '1146A', 'time_point': '2017-07-29T14:00:00Z'}, {'aqi': 29, 'area': '上海', 'pm2_5': 20, 'pm2_5_24h': 17, 'position_name': '静安监测站', 'primary_pollutant': None, 'quality': '优', 'station_code': '1147A', 'time_point': '2017-07-29T14:00:00Z'}, {'aqi': 51, 'area': '上海', 'pm2_5': 17, 'pm2_5_24h': 16, 'position_name': '浦东川沙', 'primary_pollutant': '颗粒物(PM10)', 'quality': '良', 'station_code': '1148A', 'time_point': '2017-07-29T14:00:00Z'}, {'aqi': 29, 'area': '上海', 'pm2_5': 20, 'pm2_5_24h': 11, 'position_name': '浦东新区监测站', 'primary_pollutant': None, 'quality': '优', 'station_code': '1149A', 'time_point': '2017-07-29T14:00:00Z'}, {'aqi': 35, 'area': '上海', 'pm2_5': 24, 'pm2_5_24h': 20, 'position_name': '浦东张江', 'primary_pollutant': None, 'quality': '优', 'station_code': '1150A', 'time_point': '2017-07-29T14:00:00Z'}, {'aqi': 36, 'area': '上海', 'pm2_5': 17, 'pm2_5_24h': 14, 'position_name': '普陀', 'primary_pollutant': None, 'quality': '优', 'station_code': '1141A', 'time_point': '2017-07-29T14:00:00Z'}, {'aqi': 34, 'area': '上海', 'pm2_5': 19, 'pm2_5_24h': 15, 'position_name': None, 'primary_pollutant': '', 'quality': '优', 'station_code': None, 'time_point': '2017-07-29T14:00:00Z'}]\n"
     ]
    }
   ],
   "source": [
    "with open('Json_Variables.json','r',encoding='utf-8') as f:\n",
    "#     z=f.read()\n",
    "#     print(z)\n",
    "\n",
    "    city_list=json.load(f)\n",
    "    print(city_list)\n"
   ]
  },
  {
   "cell_type": "code",
   "execution_count": 6,
   "metadata": {},
   "outputs": [
    {
     "name": "stdout",
     "output_type": "stream",
     "text": [
      "0 {'aqi': 20, 'area': '上海', 'pm2_5': 14, 'pm2_5_24h': 14, 'position_name': '十五厂', 'primary_pollutant': None, 'quality': '优', 'station_code': '1142A', 'time_point': '2017-07-29T14:00:00Z'}\n",
      "1 {'aqi': 46, 'area': '上海', 'pm2_5': 32, 'pm2_5_24h': 7, 'position_name': '虹口', 'primary_pollutant': None, 'quality': '优', 'station_code': '1143A', 'time_point': '2017-07-29T14:00:00Z'}\n",
      "2 {'aqi': 30, 'area': '上海', 'pm2_5': 19, 'pm2_5_24h': 16, 'position_name': '徐汇上师大', 'primary_pollutant': None, 'quality': '优', 'station_code': '1144A', 'time_point': '2017-07-29T14:00:00Z'}\n",
      "3 {'aqi': 42, 'area': '上海', 'pm2_5': 15, 'pm2_5_24h': 18, 'position_name': '杨浦四漂', 'primary_pollutant': None, 'quality': '优', 'station_code': '1145A', 'time_point': '2017-07-29T14:00:00Z'}\n",
      "4 {'aqi': 36, 'area': '上海', 'pm2_5': 20, 'pm2_5_24h': 19, 'position_name': '青浦淀山湖', 'primary_pollutant': None, 'quality': '优', 'station_code': '1146A', 'time_point': '2017-07-29T14:00:00Z'}\n",
      "5 {'aqi': 29, 'area': '上海', 'pm2_5': 20, 'pm2_5_24h': 17, 'position_name': '静安监测站', 'primary_pollutant': None, 'quality': '优', 'station_code': '1147A', 'time_point': '2017-07-29T14:00:00Z'}\n",
      "6 {'aqi': 51, 'area': '上海', 'pm2_5': 17, 'pm2_5_24h': 16, 'position_name': '浦东川沙', 'primary_pollutant': '颗粒物(PM10)', 'quality': '良', 'station_code': '1148A', 'time_point': '2017-07-29T14:00:00Z'}\n",
      "7 {'aqi': 29, 'area': '上海', 'pm2_5': 20, 'pm2_5_24h': 11, 'position_name': '浦东新区监测站', 'primary_pollutant': None, 'quality': '优', 'station_code': '1149A', 'time_point': '2017-07-29T14:00:00Z'}\n",
      "8 {'aqi': 35, 'area': '上海', 'pm2_5': 24, 'pm2_5_24h': 20, 'position_name': '浦东张江', 'primary_pollutant': None, 'quality': '优', 'station_code': '1150A', 'time_point': '2017-07-29T14:00:00Z'}\n",
      "9 {'aqi': 36, 'area': '上海', 'pm2_5': 17, 'pm2_5_24h': 14, 'position_name': '普陀', 'primary_pollutant': None, 'quality': '优', 'station_code': '1141A', 'time_point': '2017-07-29T14:00:00Z'}\n",
      "10 {'aqi': 34, 'area': '上海', 'pm2_5': 19, 'pm2_5_24h': 15, 'position_name': None, 'primary_pollutant': '', 'quality': '优', 'station_code': None, 'time_point': '2017-07-29T14:00:00Z'}\n"
     ]
    }
   ],
   "source": [
    "for i,item in enumerate(city_list):\n",
    "    print(i,item)\n",
    "# print(type(city_list[0]))\n",
    "# print(city_list[0])"
   ]
  }
 ],
 "metadata": {
  "kernelspec": {
   "display_name": "Python 3",
   "language": "python",
   "name": "python3"
  },
  "language_info": {
   "codemirror_mode": {
    "name": "ipython",
    "version": 3
   },
   "file_extension": ".py",
   "mimetype": "text/x-python",
   "name": "python",
   "nbconvert_exporter": "python",
   "pygments_lexer": "ipython3",
   "version": "3.6.5"
  }
 },
 "nbformat": 4,
 "nbformat_minor": 2
}
