{
 "cells": [
  {
   "cell_type": "code",
   "execution_count": 6,
   "metadata": {},
   "outputs": [
    {
     "name": "stdout",
     "output_type": "stream",
     "text": [
      "False\n",
      "False\n"
     ]
    }
   ],
   "source": [
    "from urllib.robotparser import RobotFileParser\n",
    "#声明类\n",
    "rp = RobotFileParser()\n",
    "#设置robots.txt文件链接\n",
    "rp.set_url('https://www.jianshu.com/robots.txt')\n",
    "#读取并分析（其他操作之前必须执行）\n",
    "rp.read()\n",
    "#can_fetch()，传入User-agent和URL\n",
    "print(rp.can_fetch('*','https://www.jianshu.com/p/ce636d6e9923'))\n",
    "print(rp.can_fetch('*',\"https://www.jianshu.com/search?=q=python&page=1&type=collections\"))"
   ]
  },
  {
   "cell_type": "code",
   "execution_count": null,
   "metadata": {},
   "outputs": [],
   "source": [
    "from urllib.robotparser import RobotFileParser\n",
    "from urllib.request import urlopen\n",
    "#声明类\n",
    "rp = RobotFileParser()\n",
    "#解析robots.txt文件\n",
    "rp.parse(urlopen('https://www.jianshu.com/robots.txt').read().decode('utf-8').split('\\n'))\n",
    "print(rp.can_fetch('*','https://www.jianshu.com/p/ce636d6e9923'))\n",
    "print(rp.can_fetch('*',\"https://www.jianshu.com/search?=q=python&page=1&type=collections\"))"
   ]
  }
 ],
 "metadata": {
  "kernelspec": {
   "display_name": "Python 3",
   "language": "python",
   "name": "python3"
  },
  "language_info": {
   "codemirror_mode": {
    "name": "ipython",
    "version": 3
   },
   "file_extension": ".py",
   "mimetype": "text/x-python",
   "name": "python",
   "nbconvert_exporter": "python",
   "pygments_lexer": "ipython3",
   "version": "3.6.5"
  }
 },
 "nbformat": 4,
 "nbformat_minor": 2
}
