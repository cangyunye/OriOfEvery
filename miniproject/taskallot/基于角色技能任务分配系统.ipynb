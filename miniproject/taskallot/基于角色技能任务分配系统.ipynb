{
 "cells": [
  {
   "cell_type": "code",
   "execution_count": 1,
   "metadata": {},
   "outputs": [],
   "source": [
    "import numpy as np\n",
    "from operator import itemgetter\n",
    "from collections import Counter\n",
    "# import matplotlib\n",
    "\n",
    "def datafromDB():\n",
    "    pass\n",
    "\n",
    "\n",
    "def datafromExcel():\n",
    "    pass\n",
    "\n",
    "\n",
    "def datafromtxt():\n",
    "    pass\n",
    "\n",
    "\n",
    "def datas_test():\n",
    "    \"\"\"\n",
    "    设置数据\n",
    "    第一列为名称，最后一列为时间，中间为技能\n",
    "    人物技能：\n",
    "    任务属性：\n",
    "    \"\"\"\n",
    "    # 角色,CPP,JAVA,SHELL,PYTHON,SQL,可分配量。\n",
    "    role_info = [['hwx', 30, 60, 70, 80, 50, 50], ['cwx', 0, 0, 40, 50, 40, 100], [\n",
    "        'dwx', 50, 30, 80, 70, 60, 30], ['nwx', 0, 100, 80, 0, 30, 70]]\n",
    "    # 任务,CPP,JAVA,SHELL,PYTHON,SQL,预分配量,执行人数\n",
    "    task_info = [['testframe', 0, 10, 20, 70, 30, 100, 5], ['database', 30, 30, 20, 20, 80, 20, 2], [\n",
    "        'excel', 0, 0, 0, 60, 60, 20, 2], ['scriptcomp', 0, 0, 50, 60, 10, 10, 1]]\n",
    "    return role_info, task_info\n",
    "\n"
   ]
  },
  {
   "cell_type": "code",
   "execution_count": 2,
   "metadata": {},
   "outputs": [],
   "source": [
    "def skillBasedRecommend(roles, task):\n",
    "    \"\"\"根据任务需求技能比重系数C与人物能力比重系数S的矢量相乘,即得内积，任务适应值D。\n",
    "    :param roles:所有角色\n",
    "    eg [['hwx',30,60,70,80,50,50],['cwx',0,0,40,50,40,100],['dwx',50,30,80,70,60,30],['nwx',0,100,80,0,30,70]]\n",
    "    :param task:一个任务，并含有所有技能需求系数和执行人数\n",
    "    eg ['testframe', 0, 10, 20, 70, 30, 100, 5]\n",
    "    :return :对每个任务按技能最适应排序\n",
    "    \"\"\"\n",
    "    # 初始化技能推荐字典\n",
    "    skillRecommend = {}\n",
    "    # 任务能力需求系数\n",
    "    C = np.array(task[1:-2])  # [0,10,20,70,30]\n",
    "    # 任务能力涉及度\n",
    "    N = len(C)\n",
    "    for role in roles:\n",
    "        # 个人能力系数\n",
    "        S = np.array(role[1:-1])  # [30,60,70,80,50]\n",
    "        # 任务适应度\n",
    "        D = S*C\n",
    "        # 求方差\n",
    "        delta = (D - C) ** 2\n",
    "        distance = np.max(delta) - np.min(delta)\n",
    "        divide = N * np.tile(1 * distance, C.shape)\n",
    "        sq = np.sqrt((D - C) ** 2 / divide)\n",
    "        s_sum = np.sum(sq, axis=0)\n",
    "        # 添加角色对应适应匹配值到字典\n",
    "        skillRecommend[role[0]] = s_sum\n",
    "    # 对每个任务按技能最适应排序,sorted返回为list\n",
    "    return sorted(skillRecommend.items(), key=lambda item: item[1], reverse=True)"
   ]
  },
  {
   "cell_type": "code",
   "execution_count": 3,
   "metadata": {},
   "outputs": [],
   "source": [
    "def allTaskFit(roles, tasks):\n",
    "    \"\"\"遍历所有任务获取角色能力推荐\n",
    "    :param roles:\n",
    "    :param tasks:\n",
    "    :return :返回为字典，key为任务,value为list型角色适应度排序\n",
    "    \"\"\"\n",
    "    allTask = {}\n",
    "    for task in tasks:\n",
    "        allTask[task[0]] = skillBasedRecommend(roles, task)\n",
    "    return allTask"
   ]
  },
  {
   "cell_type": "code",
   "execution_count": 7,
   "metadata": {},
   "outputs": [],
   "source": [
    "def allotTasks(roles, tasks):\n",
    "    \"\"\"\n",
    "    :param Tasks:所有任务及对应任务适应角色匹配度排序\n",
    "    \"\"\"\n",
    "    # 获取所有任务角色能力分配(字典)\n",
    "    # {'testframe':[['hwx',200],['cwx',100]]}\n",
    "    allFit = allTaskFit(roles, tasks)\n",
    "    # 所有人员\n",
    "    workers = set(r[0] for r in roles)  # {'cwx', 'dwx', 'hwx', 'nwx'}\n",
    "    # 人员工量\n",
    "    assignment = {k[0]: k[-1] for k in roles} # {'hwx': 70.0, 'cwx': 130.0, 'dwx': 46.0, 'nwx': 94.0}\n",
    "    # 任务分配结果\n",
    "    allot = []\n",
    "    # 任务已分配人员\n",
    "    Executors = []\n",
    "    for task in tasks:\n",
    "        # 任务执行者数量\n",
    "        ExecutorNum = task[-1]\n",
    "        # 当前人选\n",
    "        fit = 0\n",
    "        # 已分配人数\n",
    "        i = 1\n",
    "        while i <= ExecutorNum:\n",
    "            # 任务匹配人选\n",
    "            BestFit = allFit[task[0]][fit]  # ['hwx',200]\n",
    "            if Executors.count(BestFit[0]) == 0 and BestFit[1] >= task[-2]:\n",
    "                # 人物可分配量重新赋值\n",
    "                assignment[BestFit[0]] -= task[-2]\n",
    "                # 添加(任务，人选)\n",
    "                allot.append([task[0], BestFit]) # ['testframe',['hwx',200]]\n",
    "                Executors.append(BestFit[0])\n",
    "                i += 1\n",
    "            elif workers.difference(Executors):\n",
    "                # 如果有剩余待命人，选择下个人员\n",
    "                fit += 1\n",
    "                # 保留一个bug，fit > ExecutorNum\n",
    "                continue\n",
    "            else:\n",
    "                # 如果每个人都轮回一次则重置待命人员列表\n",
    "                Executors = []\n",
    "                # 所有人员可分配量按定义配量补充\n",
    "                assignment = {k[0]: k[-1] * 0.2 + 10 + v for k,v in zip(roles,assignment.values())}\n",
    "                continue\n",
    "            print(f\"{task[0]}分配完毕\")\n",
    "    print(allot) #[['testframe', ('hwx', 22183627.91253946)]]\n",
    "    return allot \n"
   ]
  },
  {
   "cell_type": "code",
   "execution_count": 8,
   "metadata": {},
   "outputs": [
    {
     "ename": "IndexError",
     "evalue": "list index out of range",
     "output_type": "error",
     "traceback": [
      "\u001b[1;31m---------------------------------------------------------------------------\u001b[0m",
      "\u001b[1;31mIndexError\u001b[0m                                Traceback (most recent call last)",
      "\u001b[1;32m<ipython-input-8-09229d9473dd>\u001b[0m in \u001b[0;36m<module>\u001b[1;34m\u001b[0m\n\u001b[0;32m      4\u001b[0m \u001b[1;31m# allTask = allTaskFit(roles, tasks)\u001b[0m\u001b[1;33m\u001b[0m\u001b[1;33m\u001b[0m\u001b[1;33m\u001b[0m\u001b[0m\n\u001b[0;32m      5\u001b[0m \u001b[1;31m# 任务分配\u001b[0m\u001b[1;33m\u001b[0m\u001b[1;33m\u001b[0m\u001b[1;33m\u001b[0m\u001b[0m\n\u001b[1;32m----> 6\u001b[1;33m \u001b[0mallotTasks\u001b[0m\u001b[1;33m(\u001b[0m\u001b[0mroles\u001b[0m\u001b[1;33m,\u001b[0m \u001b[0mtasks\u001b[0m\u001b[1;33m)\u001b[0m\u001b[1;33m\u001b[0m\u001b[1;33m\u001b[0m\u001b[0m\n\u001b[0m",
      "\u001b[1;32m<ipython-input-7-3514885b4ff6>\u001b[0m in \u001b[0;36mallotTasks\u001b[1;34m(roles, tasks)\u001b[0m\n\u001b[0;32m     23\u001b[0m         \u001b[1;32mwhile\u001b[0m \u001b[0mi\u001b[0m \u001b[1;33m<=\u001b[0m \u001b[0mExecutorNum\u001b[0m\u001b[1;33m:\u001b[0m\u001b[1;33m\u001b[0m\u001b[1;33m\u001b[0m\u001b[0m\n\u001b[0;32m     24\u001b[0m             \u001b[1;31m# 任务匹配人选\u001b[0m\u001b[1;33m\u001b[0m\u001b[1;33m\u001b[0m\u001b[1;33m\u001b[0m\u001b[0m\n\u001b[1;32m---> 25\u001b[1;33m             \u001b[0mBestFit\u001b[0m \u001b[1;33m=\u001b[0m \u001b[0mallFit\u001b[0m\u001b[1;33m[\u001b[0m\u001b[0mtask\u001b[0m\u001b[1;33m[\u001b[0m\u001b[1;36m0\u001b[0m\u001b[1;33m]\u001b[0m\u001b[1;33m]\u001b[0m\u001b[1;33m[\u001b[0m\u001b[0mfit\u001b[0m\u001b[1;33m]\u001b[0m  \u001b[1;31m# ['hwx',200]\u001b[0m\u001b[1;33m\u001b[0m\u001b[1;33m\u001b[0m\u001b[0m\n\u001b[0m\u001b[0;32m     26\u001b[0m             \u001b[1;32mif\u001b[0m \u001b[0mExecutors\u001b[0m\u001b[1;33m.\u001b[0m\u001b[0mcount\u001b[0m\u001b[1;33m(\u001b[0m\u001b[0mBestFit\u001b[0m\u001b[1;33m[\u001b[0m\u001b[1;36m0\u001b[0m\u001b[1;33m]\u001b[0m\u001b[1;33m)\u001b[0m \u001b[1;33m==\u001b[0m \u001b[1;36m0\u001b[0m \u001b[1;32mand\u001b[0m \u001b[0mBestFit\u001b[0m\u001b[1;33m[\u001b[0m\u001b[1;36m1\u001b[0m\u001b[1;33m]\u001b[0m \u001b[1;33m>=\u001b[0m \u001b[0mtask\u001b[0m\u001b[1;33m[\u001b[0m\u001b[1;33m-\u001b[0m\u001b[1;36m2\u001b[0m\u001b[1;33m]\u001b[0m\u001b[1;33m:\u001b[0m\u001b[1;33m\u001b[0m\u001b[1;33m\u001b[0m\u001b[0m\n\u001b[0;32m     27\u001b[0m                 \u001b[1;31m# 人物可分配量重新赋值\u001b[0m\u001b[1;33m\u001b[0m\u001b[1;33m\u001b[0m\u001b[1;33m\u001b[0m\u001b[0m\n",
      "\u001b[1;31mIndexError\u001b[0m: list index out of range"
     ]
    }
   ],
   "source": [
    "# 获取数据\n",
    "roles, tasks = datas_test()\n",
    "# 任务适应分析\n",
    "# allTask = allTaskFit(roles, tasks)\n",
    "# 任务分配\n",
    "allotTasks(roles, tasks)"
   ]
  },
  {
   "cell_type": "code",
   "execution_count": 6,
   "metadata": {},
   "outputs": [],
   "source": [
    "for task in tasks:\n",
    "    skillBasedRecommend(roles, task)"
   ]
  },
  {
   "cell_type": "code",
   "execution_count": 11,
   "metadata": {},
   "outputs": [
    {
     "data": {
      "text/plain": [
       "('dwx', 0.93763623404339)"
      ]
     },
     "execution_count": 11,
     "metadata": {},
     "output_type": "execute_result"
    }
   ],
   "source": [
    "allTaskFit(roles, tasks)[task[0]][0]"
   ]
  },
  {
   "cell_type": "code",
   "execution_count": null,
   "metadata": {},
   "outputs": [],
   "source": []
  }
 ],
 "metadata": {
  "kernelspec": {
   "display_name": "Python 3",
   "language": "python",
   "name": "python3"
  },
  "language_info": {
   "codemirror_mode": {
    "name": "ipython",
    "version": 3
   },
   "file_extension": ".py",
   "mimetype": "text/x-python",
   "name": "python",
   "nbconvert_exporter": "python",
   "pygments_lexer": "ipython3",
   "version": "3.7.1"
  },
  "toc": {
   "base_numbering": 1,
   "nav_menu": {},
   "number_sections": true,
   "sideBar": true,
   "skip_h1_title": false,
   "title_cell": "Table of Contents",
   "title_sidebar": "Contents",
   "toc_cell": false,
   "toc_position": {},
   "toc_section_display": true,
   "toc_window_display": false
  },
  "varInspector": {
   "cols": {
    "lenName": 16,
    "lenType": 16,
    "lenVar": 40
   },
   "kernels_config": {
    "python": {
     "delete_cmd_postfix": "",
     "delete_cmd_prefix": "del ",
     "library": "var_list.py",
     "varRefreshCmd": "print(var_dic_list())"
    },
    "r": {
     "delete_cmd_postfix": ") ",
     "delete_cmd_prefix": "rm(",
     "library": "var_list.r",
     "varRefreshCmd": "cat(var_dic_list()) "
    }
   },
   "types_to_exclude": [
    "module",
    "function",
    "builtin_function_or_method",
    "instance",
    "_Feature"
   ],
   "window_display": false
  }
 },
 "nbformat": 4,
 "nbformat_minor": 2
}
