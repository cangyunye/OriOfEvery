{
 "cells": [
  {
   "cell_type": "code",
   "execution_count": 82,
   "metadata": {},
   "outputs": [],
   "source": [
    "import requests\n",
    "from urllib.parse import urlencode\n",
    "from urllib.parse import urljoin\n",
    "from requests import codes\n",
    "import os\n",
    "import random\n",
    "from bs4 import BeautifulSoup\n",
    "import re\n",
    "headers={\n",
    "    'user-agent':'Mozilla/5.0 (Windows NT 10.0; Win64; x64) AppleWebKit/537.36 (KHTML, like Gecko) Chrome/70.0.3538.77 Safari/537.36'\n",
    "}"
   ]
  },
  {
   "cell_type": "code",
   "execution_count": 83,
   "metadata": {},
   "outputs": [],
   "source": [
    "headers={\n",
    "    'user-agent':'Mozilla/5.0 (Windows NT 10.0; Win64; x64) AppleWebKit/537.36 (KHTML, like Gecko) Chrome/70.0.3538.77 Safari/537.36'\n",
    "}\n",
    "url='https://bcy.net/u/605084/like'\n",
    "rg=requests.get(url,headers=headers)\n",
    "soup = BeautifulSoup(rg.text,'lxml')\n",
    "detail_page='https://bcy.net/item/detail/6579931499263426820'\n",
    "rgd=requests.get(detail_page,headers=headers)\n",
    "#中文编码\n",
    "rgd.encoding='utf-8'\n",
    "soupd = BeautifulSoup(rgd.text,'lxml')"
   ]
  },
  {
   "cell_type": "code",
   "execution_count": 47,
   "metadata": {
    "collapsed": true
   },
   "outputs": [
    {
     "ename": "SyntaxError",
     "evalue": "unexpected character after line continuation character (<string>, line 1)",
     "output_type": "error",
     "traceback": [
      "Traceback \u001b[1;36m(most recent call last)\u001b[0m:\n",
      "  File \u001b[0;32m\"F:\\ProgramData\\Anaconda3\\lib\\site-packages\\IPython\\core\\interactiveshell.py\"\u001b[0m, line \u001b[0;32m3265\u001b[0m, in \u001b[0;35mrun_code\u001b[0m\n    exec(code_obj, self.user_global_ns, self.user_ns)\n",
      "\u001b[1;36m  File \u001b[1;32m\"<ipython-input-47-7c4fd454813d>\"\u001b[1;36m, line \u001b[1;32m5\u001b[1;36m, in \u001b[1;35m<module>\u001b[1;36m\u001b[0m\n\u001b[1;33m    str_j=eval(\"'{}'\".format(json_img[0]))\u001b[0m\n",
      "\u001b[1;36m  File \u001b[1;32m\"<string>\"\u001b[1;36m, line \u001b[1;32m1\u001b[0m\n\u001b[1;33m    '\"{\\\"detail\\\":{\\\"post_data\\\":{\\\"item_id\\\":\\\"6579931499263426820\\\",\\\"uid\\\":\\\"2138826\\\",\\\"ctime\\\":\\\"1532009686\\\",\\\"type\\\":\\\"note\\\",\\\"title\\\":\\\"\\\",\\\"summary\\\":\\\"\\\",\\\"content\\\":\\\"\\\",\\\"plain\\\":\\\"黑叔的场照啦\\\\u003Cbr\\\\u003E爆喜欢！！\\\\u003Cbr\\\\u003E偷偷截掉了自己的小短腿'\\\",\\\"word_count\\\":0,\\\"multi\\\":[{\\\"path\\\":\\\"https:\\\\u002F\\\\u002Fimg-bcy-qn.pstatp.com\\\\u002Fuser\\\\u002F2138826\\\\u002Fitem\\\\u002Fc0jjj\\\\u002Fef1707de9eaa4ec2839a681caa74248d.jpg\\\\u002Fw650\\\",\\\"type\\\":\\\"image\\\",\\\"mid\\\":\\\"10571278\\\",\\\"w\\\":2178,\\\"h\\\":2413,\\\"original_path\\\":\\\"https:\\\\u002F\\\\u002Fimg-bcy-qn.pstatp.com\\\\u002Fuser\\\\u002F2138826\\\\u002Fitem\\\\u002Fc0jjj\\\\u002Fef1707de9eaa4ec2839a681caa74248d.jpg\\\"},{\\\"path\\\":\\\"https:\\\\u002F\\\\u002Fimg-bcy-qn.pstatp.com\\\\u002Fuser\\\\u002F2138826\\\\u002Fitem\\\\u002Fc0jjj\\\\u002Fac8fbc3aa68b439b81a6716256ffd276.jpg\\\\u002Fw650\\\",\\\"type\\\":\\\"image\\\",\\\"mid\\\":\\\"10571279\\\",\\\"w\\\":2178,\\\"h\\\":2272,\\\"original_path\\\":\\\"https:\\\\u002F\\\\u002Fimg-bcy-qn.pstatp.com\\\\u002Fuser\\\\u002F2138826\\\\u002Fitem\\\\u002Fc0jjj\\\\u002Fac8fbc3aa68b439b81a6716256ffd276.jpg\\\"},{\\\"path\\\":\\\"https:\\\\u002F\\\\u002Fimg-bcy-qn.pstatp.com\\\\u002Fuser\\\\u002F2138826\\\\u002Fitem\\\\u002Fc0jjj\\\\u002Ff3f7187a688c4b48b57280583f723a44.jpg\\\\u002Fw650\\\",\\\"type\\\":\\\"image\\\",\\\"mid\\\":\\\"10571280\\\",\\\"w\\\":2178,\\\"h\\\":2292,\\\"original_path\\\":\\\"https:\\\\u002F\\\\u002Fimg-bcy-qn.pstatp.com\\\\u002Fuser\\\\u002F2138826\\\\u002Fitem\\\\u002Fc0jjj\\\\u002Ff3f7187a688c4b48b57280583f723a44.jpg\\\"},{\\\"path\\\":\\\"https:\\\\u002F\\\\u002Fimg-bcy-qn.pstatp.com\\\\u002Fuser\\\\u002F2138826\\\\u002Fitem\\\\u002Fc0jjj\\\\u002Fe0235a947b9b4cfdabb65ca204e382ba.jpg\\\\u002Fw650\\\",\\\"type\\\":\\\"image\\\",\\\"mid\\\":\\\"10571281\\\",\\\"w\\\":2178,\\\"h\\\":1618,\\\"original_path\\\":\\\"https:\\\\u002F\\\\u002Fimg-bcy-qn.pstatp.com\\\\u002Fuser\\\\u002F2138826\\\\u002Fitem\\\\u002Fc0jjj\\\\u002Fe0235a947b9b4cfdabb65ca204e382ba.jpg\\\"},{\\\"path\\\":\\\"https:\\\\u002F\\\\u002Fimg-bcy-qn.pstatp.com\\\\u002Fuser\\\\u002F2138826\\\\u002Fitem\\\\u002Fc0jjj\\\\u002F5a61983b1587416db39d517865b0b60c.jpg\\\\u002Fw650\\\",\\\"type\\\":\\\"image\\\",\\\"mid\\\":\\\"10571282\\\",\\\"w\\\":2178,\\\"h\\\":1563,\\\"original_path\\\":\\\"https:\\\\u002F\\\\u002Fimg-bcy-qn.pstatp.com\\\\u002Fuser\\\\u002F2138826\\\\u002Fitem\\\\u002Fc0jjj\\\\u002F5a61983b1587416db39d517865b0b60c.jpg\\\"},{\\\"path\\\":\\\"https:\\\\u002F\\\\u002Fimg-bcy-qn.pstatp.com\\\\u002Fuser\\\\u002F2138826\\\\u002Fitem\\\\u002Fc0jjj\\\\u002F3c57141205304a85b2b0703aaf62bb86.jpg\\\\u002Fw650\\\",\\\"type\\\":\\\"image\\\",\\\"mid\\\":\\\"10571283\\\",\\\"w\\\":2164,\\\"h\\\":2266,\\\"original_path\\\":\\\"https:\\\\u002F\\\\u002Fimg-bcy-qn.pstatp.com\\\\u002Fuser\\\\u002F2138826\\\\u002Fitem\\\\u002Fc0jjj\\\\u002F3c57141205304a85b2b0703aaf62bb86.jpg\\\"}],\\\"pic_num\\\":6,\\\"work\\\":\\\"少年锦衣卫\\\",\\\"wid\\\":\\\"8238\\\",\\\"work_real_name\\\":\\\"少年锦衣卫\\\",\\\"post_tags\\\":[{\\\"tag_id\\\":\\\"137405\\\",\\\"tag_name\\\":\\\"九公主\\\",\\\"type\\\":\\\"tag\\\",\\\"cover\\\":\\\"https:\\\\u002F\\\\u002Fimg-bcy-qn.pstatp.com\\\\u002Fcoser\\\\u002F7039\\\\u002Fpost\\\\u002F4bql\\\\u002F2c2c4a70215f11e89d94fd4733c19f99.jpg\\\\u002F2X2\\\",\\\"post_count\\\":\\\"401\\\"},{\\\"tag_id\\\":\\\"27236\\\",\\\"tag_name\\\":\\\"返图\\\",\\\"type\\\":\\\"tag\\\",\\\"cover\\\":\\\"https:\\\\u002F\\\\u002Fimg-bcy-qn.pstatp.com\\\\u002Fuser\\\\u002F2534626\\\\u002Fitem\\\\u002Fweb\\\\u002F1796l\\\\u002F1ed9d350cbd311e8bd936d239ac31695.jpg\\\\u002F2X2\\\",\\\"post_count\\\":\\\"2527\\\"},{\\\"tag_id\\\":\\\"2788\\\",\\\"tag_name\\\":\\\"漫展\\\",\\\"type\\\":\\\"tag\\\",\\\"cover\\\":\\\"https:\\\\u002F\\\\u002Fimg-bcy-qn.pstatp.com\\\\u002Fcore\\\\u002Ftags\\\\u002Fflag\\\\u002F178t9\\\\u002F8dab1f405ca911e7906cabd0f6d7335a.jpg\\\\u002F2X2\\\",\\\"post_count\\\":\\\"11123\\\"},{\\\"tag_id\\\":\\\"502\\\",\\\"tag_name\\\":\\\"国漫\\\",\\\"type\\\":\\\"tag\\\",\\\"cover\\\":\\\"https:\\\\u002F\\\\u002Fimg-bcy-qn.pstatp.com\\\\u002Fuser\\\\u002F928611\\\\u002Fitem\\\\u002Fc0jmi\\\\u002Fe0ecef7eb66946e4b98198a4fd4c6cd4.jpg\\\\u002F2X2\\\",\\\"post_count\\\":\\\"2893\\\"},{\\\"tag_id\\\":\\\"381807\\\",\\\"tag_name\\\":\\\"DC17\\\",\\\"type\\\":\\\"tag\\\",\\\"cover\\\":\\\"https:\\\\u002F\\\\u002Fimg-bcy-qn.pstatp.com\\\\u002FPublic\\\\u002FImage\\\\u002Ftag\\\\u002Ftag_cover.png\\\",\\\"post_count\\\":\\\"2\\\"},{\\\"tag_id\\\":\\\"51\\\",\\\"tag_name\\\":\\\"萝莉\\\",\\\"type\\\":\\\"tag\\\",\\\"cover\\\":\\\"https:\\\\u002F\\\\u002Fimg-bcy-qn.pstatp.com\\\\u002Fcore\\\\u002Fwork\\\\u002Fflag\\\\u002Fbzwp4\\\\u002Fc2e129e088e611e5a8ab516039cd7c57.jpg\\\\u002F2X2\\\",\\\"post_count\\\":\\\"118817\\\"},{\\\"tag_id\\\":\\\"140012\\\",\\\"tag_name\\\":\\\"少年锦衣卫\\\",\\\"type\\\":\\\"tag\\\",\\\"cover\\\":\\\"https:\\\\u002F\\\\u002Fimg-bcy-qn.pstatp.com\\\\u002Fuser\\\\u002F1422021\\\\u002Fitem\\\\u002Fc0jgp\\\\u002Fvht2wyg5f5bxqvsrdmwvriqtdt4251ml.jpg\\\\u002F2X2\\\",\\\"post_count\\\":\\\"93\\\"}],\\\"like_count\\\":39,\\\"user_liked\\\":false,\\\"reply_count\\\":2,\\\"share_count\\\":0,\\\"at_user_infos\\\":[],\\\"editor_status\\\":\\\"all_public\\\",\\\"forbidden_right_click\\\":false,\\\"view_need_login\\\":false,\\\"view_need_fans\\\":false,\\\"no_trans\\\":false,\\\"no_modify\\\":false,\\\"postStatus\\\":\\\"normal\\\"},\\\"detail_user\\\":{\\\"uid\\\":\\\"2138826\\\",\\\"avatar\\\":\\\"https:\\\\u002F\\\\u002Fimg-bcy-qn.pstatp.com\\\\u002FPublic\\\\u002FUpload\\\\u002Favatar\\\\u002F2138826\\\\u002Feef613139d394d07a6b0994bf3ff83ed\\\\u002Ffat.jpg\\\\u002Fabig\\\",\\\"uname\\\":\\\"励志高产的依笙\\\",\\\"self_intro\\\":\\\"hello~这儿依笙 坐标青岛 透明低产小coser\\\\u002F现役jk 企鹅：2978184590 欢迎扩列哦~\\\",\\\"sex\\\":0,\\\"following\\\":\\\"18\\\",\\\"follower\\\":\\\"1188\\\",\\\"followstate\\\":\\\"unfollow\\\",\\\"value_user\\\":0,\\\"show_utags\\\":true,\\\"utags\\\":[{\\\"ut_id\\\":\\\"1\\\",\\\"ut_name\\\":\\\"Coser\\\"}]},\\\"detail_banners\\\":[{\\\"link\\\":\\\"https:\\\\u002F\\\\u002Fbcy.net\\\\u002Fhuodong\\\\u002F214?order=index#nav\\\",\\\"path\\\":\\\"https:\\\\u002F\\\\u002Fimg-bcy-qn.pstatp.com\\\\u002Feditor\\\\u002Fflag\\\\u002Fc0jxd\\\\u002F9684cd5001a811e98ca7d9bc61641d51.jpg\\\",\\\"title\\\":\\\"\\\"},{\\\"link\\\":\\\"https:\\\\u002F\\\\u002Fbcy.net\\\\u002Fstatic\\\\u002Fbcycos8intro#nav\\\",\\\"path\\\":\\\"https:\\\\u002F\\\\u002Fimg-bcy-qn.pstatp.com\\\\u002Feditor\\\\u002Fflag\\\\u002Fc0jut\\\\u002F0b260430f07911e89b51db8a4ed73562.png\\\",\\\"title\\\":\\\"\\\"}],\\\"self\\\":false,\\\"abTest\\\":{\\\"info\\\":[{\\\"rsp_type\\\":5,\\\"flight_name\\\":\\\"146451\\\",\\\"version_name\\\":\\\"\\\",\\\"parameters\\\":\\\"{}\\\",\\\"client_version_name\\\":\\\"662421\\\",\\\"client_parameters\\\":\\\"{\\\\\\\"bcy_wap_detail_choose_pic\\\\\\\":{\\\\\\\"type\\\\\\\":0}}\\\",\\\"env_flag\\\":0}]},\\\"currentStyle\\\":{\\\"bgColor\\\":\\\"white\\\",\\\"fontSize\\\":\\\"m\\\",\\\"indent\\\":\\\"noindent\\\"}},\\\"user\\\":{\\\"uid\\\":\\\"0\\\"}}\"'\u001b[0m\n\u001b[1;37m                                                                                                                                                                                                                                                                                                                                                                                                                                                                                                                                                                                                                                                                                                                                                                                                                                                                                                                                                                                                                                                                                                                                                                                                                                                                                                                                                                                                                                                                                                                                                                                                                                                                                                                                                                                                                                                                                                                                                                                                                                                                                                                                                                                                                                                                                                                                                                                                                                                                                                                                                                                                                                                                                                                                                                                                                                                                                                                                                                                                                                                                                                                                                                                                                                                                                                                                                                                                                                                                                                                                                                                                                                                                                                                                                                                                                                                                                                                                                                                                                                                                                                                                                                                                                                                                                                                                                                                                                                                                                                                                                                                                                                                                                                                                                                                                                                                                                                                                                                                                                                                                                                                                                                                                                                                                                                                                                                                                                                                                                                                                                                                                                                                                                                                                                                                                                                                                                                                                                                                                                                                                                                                          ^\u001b[0m\n\u001b[1;31mSyntaxError\u001b[0m\u001b[1;31m:\u001b[0m unexpected character after line continuation character\n"
     ]
    }
   ],
   "source": [
    "json_img=soupd.find_all(name='script',text=re.compile('JSON.parse(.*);(.*)'))\n",
    "json_img=re.findall('JSON.parse\\((.*)\\);',json_img[0].text)\n",
    "import json\n",
    "str_j=eval(\"'{}'\".format(json_img[0]))\n",
    "jd=json.loads(str_j)\n",
    "#图片链接\n",
    "jd_multi=jd['detail']['post_data']['multi']\n",
    "jd_uid = jd['detail']['detail_user']['uid']\n",
    "jd_name = jd['detail']['detail_user']['uname']"
   ]
  },
  {
   "cell_type": "code",
   "execution_count": 84,
   "metadata": {},
   "outputs": [
    {
     "name": "stdout",
     "output_type": "stream",
     "text": [
      "\n",
      "      window.__ssr_data = JSON.parse(\"{\\\"detail\\\":{\\\"post_data\\\":{\\\"item_id\\\":\\\"6579931499263426820\\\",\\\"uid\\\":\\\"2138826\\\",\\\"ctime\\\":\\\"1532009686\\\",\\\"type\\\":\\\"note\\\",\\\"title\\\":\\\"\\\",\\\"summary\\\":\\\"\\\",\\\"content\\\":\\\"\\\",\\\"plain\\\":\\\"黑叔的场照啦\\\\u003Cbr\\\\u003E爆喜欢！！\\\\u003Cbr\\\\u003E偷偷截掉了自己的小短腿'\\\",\\\"word_count\\\":0,\\\"multi\\\":[{\\\"path\\\":\\\"https:\\\\u002F\\\\u002Fimg-bcy-qn.pstatp.com\\\\u002Fuser\\\\u002F2138826\\\\u002Fitem\\\\u002Fc0jjj\\\\u002Fef1707de9eaa4ec2839a681caa74248d.jpg\\\\u002Fw650\\\",\\\"type\\\":\\\"image\\\",\\\"mid\\\":\\\"10571278\\\",\\\"w\\\":2178,\\\"h\\\":2413,\\\"original_path\\\":\\\"https:\\\\u002F\\\\u002Fimg-bcy-qn.pstatp.com\\\\u002Fuser\\\\u002F2138826\\\\u002Fitem\\\\u002Fc0jjj\\\\u002Fef1707de9eaa4ec2839a681caa74248d.jpg\\\"},{\\\"path\\\":\\\"https:\\\\u002F\\\\u002Fimg-bcy-qn.pstatp.com\\\\u002Fuser\\\\u002F2138826\\\\u002Fitem\\\\u002Fc0jjj\\\\u002Fac8fbc3aa68b439b81a6716256ffd276.jpg\\\\u002Fw650\\\",\\\"type\\\":\\\"image\\\",\\\"mid\\\":\\\"10571279\\\",\\\"w\\\":2178,\\\"h\\\":2272,\\\"original_path\\\":\\\"https:\\\\u002F\\\\u002Fimg-bcy-qn.pstatp.com\\\\u002Fuser\\\\u002F2138826\\\\u002Fitem\\\\u002Fc0jjj\\\\u002Fac8fbc3aa68b439b81a6716256ffd276.jpg\\\"},{\\\"path\\\":\\\"https:\\\\u002F\\\\u002Fimg-bcy-qn.pstatp.com\\\\u002Fuser\\\\u002F2138826\\\\u002Fitem\\\\u002Fc0jjj\\\\u002Ff3f7187a688c4b48b57280583f723a44.jpg\\\\u002Fw650\\\",\\\"type\\\":\\\"image\\\",\\\"mid\\\":\\\"10571280\\\",\\\"w\\\":2178,\\\"h\\\":2292,\\\"original_path\\\":\\\"https:\\\\u002F\\\\u002Fimg-bcy-qn.pstatp.com\\\\u002Fuser\\\\u002F2138826\\\\u002Fitem\\\\u002Fc0jjj\\\\u002Ff3f7187a688c4b48b57280583f723a44.jpg\\\"},{\\\"path\\\":\\\"https:\\\\u002F\\\\u002Fimg-bcy-qn.pstatp.com\\\\u002Fuser\\\\u002F2138826\\\\u002Fitem\\\\u002Fc0jjj\\\\u002Fe0235a947b9b4cfdabb65ca204e382ba.jpg\\\\u002Fw650\\\",\\\"type\\\":\\\"image\\\",\\\"mid\\\":\\\"10571281\\\",\\\"w\\\":2178,\\\"h\\\":1618,\\\"original_path\\\":\\\"https:\\\\u002F\\\\u002Fimg-bcy-qn.pstatp.com\\\\u002Fuser\\\\u002F2138826\\\\u002Fitem\\\\u002Fc0jjj\\\\u002Fe0235a947b9b4cfdabb65ca204e382ba.jpg\\\"},{\\\"path\\\":\\\"https:\\\\u002F\\\\u002Fimg-bcy-qn.pstatp.com\\\\u002Fuser\\\\u002F2138826\\\\u002Fitem\\\\u002Fc0jjj\\\\u002F5a61983b1587416db39d517865b0b60c.jpg\\\\u002Fw650\\\",\\\"type\\\":\\\"image\\\",\\\"mid\\\":\\\"10571282\\\",\\\"w\\\":2178,\\\"h\\\":1563,\\\"original_path\\\":\\\"https:\\\\u002F\\\\u002Fimg-bcy-qn.pstatp.com\\\\u002Fuser\\\\u002F2138826\\\\u002Fitem\\\\u002Fc0jjj\\\\u002F5a61983b1587416db39d517865b0b60c.jpg\\\"},{\\\"path\\\":\\\"https:\\\\u002F\\\\u002Fimg-bcy-qn.pstatp.com\\\\u002Fuser\\\\u002F2138826\\\\u002Fitem\\\\u002Fc0jjj\\\\u002F3c57141205304a85b2b0703aaf62bb86.jpg\\\\u002Fw650\\\",\\\"type\\\":\\\"image\\\",\\\"mid\\\":\\\"10571283\\\",\\\"w\\\":2164,\\\"h\\\":2266,\\\"original_path\\\":\\\"https:\\\\u002F\\\\u002Fimg-bcy-qn.pstatp.com\\\\u002Fuser\\\\u002F2138826\\\\u002Fitem\\\\u002Fc0jjj\\\\u002F3c57141205304a85b2b0703aaf62bb86.jpg\\\"}],\\\"pic_num\\\":6,\\\"work\\\":\\\"少年锦衣卫\\\",\\\"wid\\\":\\\"8238\\\",\\\"work_real_name\\\":\\\"少年锦衣卫\\\",\\\"post_tags\\\":[{\\\"tag_id\\\":\\\"137405\\\",\\\"tag_name\\\":\\\"九公主\\\",\\\"type\\\":\\\"tag\\\",\\\"cover\\\":\\\"https:\\\\u002F\\\\u002Fimg-bcy-qn.pstatp.com\\\\u002Fcoser\\\\u002F7039\\\\u002Fpost\\\\u002F4bql\\\\u002F2c2c4a70215f11e89d94fd4733c19f99.jpg\\\\u002F2X2\\\",\\\"post_count\\\":\\\"401\\\"},{\\\"tag_id\\\":\\\"27236\\\",\\\"tag_name\\\":\\\"返图\\\",\\\"type\\\":\\\"tag\\\",\\\"cover\\\":\\\"https:\\\\u002F\\\\u002Fimg-bcy-qn.pstatp.com\\\\u002Fuser\\\\u002F2534626\\\\u002Fitem\\\\u002Fweb\\\\u002F1796l\\\\u002F1ed9d350cbd311e8bd936d239ac31695.jpg\\\\u002F2X2\\\",\\\"post_count\\\":\\\"2529\\\"},{\\\"tag_id\\\":\\\"2788\\\",\\\"tag_name\\\":\\\"漫展\\\",\\\"type\\\":\\\"tag\\\",\\\"cover\\\":\\\"https:\\\\u002F\\\\u002Fimg-bcy-qn.pstatp.com\\\\u002Fcore\\\\u002Ftags\\\\u002Fflag\\\\u002F178t9\\\\u002F8dab1f405ca911e7906cabd0f6d7335a.jpg\\\\u002F2X2\\\",\\\"post_count\\\":\\\"11124\\\"},{\\\"tag_id\\\":\\\"502\\\",\\\"tag_name\\\":\\\"国漫\\\",\\\"type\\\":\\\"tag\\\",\\\"cover\\\":\\\"https:\\\\u002F\\\\u002Fimg-bcy-qn.pstatp.com\\\\u002Fuser\\\\u002F928611\\\\u002Fitem\\\\u002Fc0jmi\\\\u002Fe0ecef7eb66946e4b98198a4fd4c6cd4.jpg\\\\u002F2X2\\\",\\\"post_count\\\":\\\"2894\\\"},{\\\"tag_id\\\":\\\"381807\\\",\\\"tag_name\\\":\\\"DC17\\\",\\\"type\\\":\\\"tag\\\",\\\"cover\\\":\\\"https:\\\\u002F\\\\u002Fimg-bcy-qn.pstatp.com\\\\u002FPublic\\\\u002FImage\\\\u002Ftag\\\\u002Ftag_cover.png\\\",\\\"post_count\\\":\\\"2\\\"},{\\\"tag_id\\\":\\\"51\\\",\\\"tag_name\\\":\\\"萝莉\\\",\\\"type\\\":\\\"tag\\\",\\\"cover\\\":\\\"https:\\\\u002F\\\\u002Fimg-bcy-qn.pstatp.com\\\\u002Fcore\\\\u002Fwork\\\\u002Fflag\\\\u002Fbzwp4\\\\u002Fc2e129e088e611e5a8ab516039cd7c57.jpg\\\\u002F2X2\\\",\\\"post_count\\\":\\\"118824\\\"},{\\\"tag_id\\\":\\\"140012\\\",\\\"tag_name\\\":\\\"少年锦衣卫\\\",\\\"type\\\":\\\"tag\\\",\\\"cover\\\":\\\"https:\\\\u002F\\\\u002Fimg-bcy-qn.pstatp.com\\\\u002Fuser\\\\u002F1422021\\\\u002Fitem\\\\u002Fc0jgp\\\\u002Fvht2wyg5f5bxqvsrdmwvriqtdt4251ml.jpg\\\\u002F2X2\\\",\\\"post_count\\\":\\\"93\\\"}],\\\"like_count\\\":39,\\\"user_liked\\\":false,\\\"reply_count\\\":2,\\\"share_count\\\":0,\\\"at_user_infos\\\":[],\\\"editor_status\\\":\\\"all_public\\\",\\\"forbidden_right_click\\\":false,\\\"view_need_login\\\":false,\\\"view_need_fans\\\":false,\\\"no_trans\\\":false,\\\"no_modify\\\":false,\\\"postStatus\\\":\\\"normal\\\"},\\\"detail_user\\\":{\\\"uid\\\":\\\"2138826\\\",\\\"avatar\\\":\\\"https:\\\\u002F\\\\u002Fimg-bcy-qn.pstatp.com\\\\u002FPublic\\\\u002FUpload\\\\u002Favatar\\\\u002F2138826\\\\u002Feef613139d394d07a6b0994bf3ff83ed\\\\u002Ffat.jpg\\\\u002Fabig\\\",\\\"uname\\\":\\\"励志高产的依笙\\\",\\\"self_intro\\\":\\\"hello~这儿依笙 坐标青岛 透明低产小coser\\\\u002F现役jk 企鹅：2978184590 欢迎扩列哦~\\\",\\\"sex\\\":0,\\\"following\\\":\\\"18\\\",\\\"follower\\\":\\\"1188\\\",\\\"followstate\\\":\\\"unfollow\\\",\\\"value_user\\\":0,\\\"show_utags\\\":true,\\\"utags\\\":[{\\\"ut_id\\\":\\\"1\\\",\\\"ut_name\\\":\\\"Coser\\\"}]},\\\"detail_banners\\\":[{\\\"link\\\":\\\"https:\\\\u002F\\\\u002Fbcy.net\\\\u002Fhuodong\\\\u002F214?order=index#nav\\\",\\\"path\\\":\\\"https:\\\\u002F\\\\u002Fimg-bcy-qn.pstatp.com\\\\u002Feditor\\\\u002Fflag\\\\u002Fc0jxd\\\\u002F9684cd5001a811e98ca7d9bc61641d51.jpg\\\",\\\"title\\\":\\\"\\\"},{\\\"link\\\":\\\"https:\\\\u002F\\\\u002Fbcy.net\\\\u002Fstatic\\\\u002Fbcycos8intro#nav\\\",\\\"path\\\":\\\"https:\\\\u002F\\\\u002Fimg-bcy-qn.pstatp.com\\\\u002Feditor\\\\u002Fflag\\\\u002Fc0jut\\\\u002F0b260430f07911e89b51db8a4ed73562.png\\\",\\\"title\\\":\\\"\\\"}],\\\"self\\\":false,\\\"abTest\\\":{\\\"info\\\":[{\\\"rsp_type\\\":5,\\\"flight_name\\\":\\\"146451\\\",\\\"version_name\\\":\\\"\\\",\\\"parameters\\\":\\\"{}\\\",\\\"client_version_name\\\":\\\"662421\\\",\\\"client_parameters\\\":\\\"{\\\\\\\"bcy_wap_detail_choose_pic\\\\\\\":{\\\\\\\"type\\\\\\\":0}}\\\",\\\"env_flag\\\":0}]},\\\"currentStyle\\\":{\\\"bgColor\\\":\\\"white\\\",\\\"fontSize\\\":\\\"m\\\",\\\"indent\\\":\\\"noindent\\\"}},\\\"user\\\":{\\\"uid\\\":\\\"0\\\"}}\");\n",
      "      window._UID_ = ''\n",
      "    \n"
     ]
    }
   ],
   "source": [
    "json_img=soupd.find_all(name='script',text=re.compile('JSON.parse(.*);(.*)'))\n",
    "print(json_img[0].text)\n",
    "json_img=re.findall('JSON.parse\\((.*)\\);',json_img[0].text)"
   ]
  },
  {
   "cell_type": "code",
   "execution_count": 86,
   "metadata": {},
   "outputs": [],
   "source": [
    "j=json_img[0]\n",
    "str_j=eval(j)\n",
    "jd=json.loads(str_j)"
   ]
  },
  {
   "cell_type": "code",
   "execution_count": 87,
   "metadata": {},
   "outputs": [
    {
     "data": {
      "text/plain": [
       "{'detail': {'post_data': {'item_id': '6579931499263426820',\n",
       "   'uid': '2138826',\n",
       "   'ctime': '1532009686',\n",
       "   'type': 'note',\n",
       "   'title': '',\n",
       "   'summary': '',\n",
       "   'content': '',\n",
       "   'plain': \"黑叔的场照啦<br>爆喜欢！！<br>偷偷截掉了自己的小短腿'\",\n",
       "   'word_count': 0,\n",
       "   'multi': [{'path': 'https://img-bcy-qn.pstatp.com/user/2138826/item/c0jjj/ef1707de9eaa4ec2839a681caa74248d.jpg/w650',\n",
       "     'type': 'image',\n",
       "     'mid': '10571278',\n",
       "     'w': 2178,\n",
       "     'h': 2413,\n",
       "     'original_path': 'https://img-bcy-qn.pstatp.com/user/2138826/item/c0jjj/ef1707de9eaa4ec2839a681caa74248d.jpg'},\n",
       "    {'path': 'https://img-bcy-qn.pstatp.com/user/2138826/item/c0jjj/ac8fbc3aa68b439b81a6716256ffd276.jpg/w650',\n",
       "     'type': 'image',\n",
       "     'mid': '10571279',\n",
       "     'w': 2178,\n",
       "     'h': 2272,\n",
       "     'original_path': 'https://img-bcy-qn.pstatp.com/user/2138826/item/c0jjj/ac8fbc3aa68b439b81a6716256ffd276.jpg'},\n",
       "    {'path': 'https://img-bcy-qn.pstatp.com/user/2138826/item/c0jjj/f3f7187a688c4b48b57280583f723a44.jpg/w650',\n",
       "     'type': 'image',\n",
       "     'mid': '10571280',\n",
       "     'w': 2178,\n",
       "     'h': 2292,\n",
       "     'original_path': 'https://img-bcy-qn.pstatp.com/user/2138826/item/c0jjj/f3f7187a688c4b48b57280583f723a44.jpg'},\n",
       "    {'path': 'https://img-bcy-qn.pstatp.com/user/2138826/item/c0jjj/e0235a947b9b4cfdabb65ca204e382ba.jpg/w650',\n",
       "     'type': 'image',\n",
       "     'mid': '10571281',\n",
       "     'w': 2178,\n",
       "     'h': 1618,\n",
       "     'original_path': 'https://img-bcy-qn.pstatp.com/user/2138826/item/c0jjj/e0235a947b9b4cfdabb65ca204e382ba.jpg'},\n",
       "    {'path': 'https://img-bcy-qn.pstatp.com/user/2138826/item/c0jjj/5a61983b1587416db39d517865b0b60c.jpg/w650',\n",
       "     'type': 'image',\n",
       "     'mid': '10571282',\n",
       "     'w': 2178,\n",
       "     'h': 1563,\n",
       "     'original_path': 'https://img-bcy-qn.pstatp.com/user/2138826/item/c0jjj/5a61983b1587416db39d517865b0b60c.jpg'},\n",
       "    {'path': 'https://img-bcy-qn.pstatp.com/user/2138826/item/c0jjj/3c57141205304a85b2b0703aaf62bb86.jpg/w650',\n",
       "     'type': 'image',\n",
       "     'mid': '10571283',\n",
       "     'w': 2164,\n",
       "     'h': 2266,\n",
       "     'original_path': 'https://img-bcy-qn.pstatp.com/user/2138826/item/c0jjj/3c57141205304a85b2b0703aaf62bb86.jpg'}],\n",
       "   'pic_num': 6,\n",
       "   'work': '少年锦衣卫',\n",
       "   'wid': '8238',\n",
       "   'work_real_name': '少年锦衣卫',\n",
       "   'post_tags': [{'tag_id': '137405',\n",
       "     'tag_name': '九公主',\n",
       "     'type': 'tag',\n",
       "     'cover': 'https://img-bcy-qn.pstatp.com/coser/7039/post/4bql/2c2c4a70215f11e89d94fd4733c19f99.jpg/2X2',\n",
       "     'post_count': '401'},\n",
       "    {'tag_id': '27236',\n",
       "     'tag_name': '返图',\n",
       "     'type': 'tag',\n",
       "     'cover': 'https://img-bcy-qn.pstatp.com/user/2534626/item/web/1796l/1ed9d350cbd311e8bd936d239ac31695.jpg/2X2',\n",
       "     'post_count': '2529'},\n",
       "    {'tag_id': '2788',\n",
       "     'tag_name': '漫展',\n",
       "     'type': 'tag',\n",
       "     'cover': 'https://img-bcy-qn.pstatp.com/core/tags/flag/178t9/8dab1f405ca911e7906cabd0f6d7335a.jpg/2X2',\n",
       "     'post_count': '11124'},\n",
       "    {'tag_id': '502',\n",
       "     'tag_name': '国漫',\n",
       "     'type': 'tag',\n",
       "     'cover': 'https://img-bcy-qn.pstatp.com/user/928611/item/c0jmi/e0ecef7eb66946e4b98198a4fd4c6cd4.jpg/2X2',\n",
       "     'post_count': '2894'},\n",
       "    {'tag_id': '381807',\n",
       "     'tag_name': 'DC17',\n",
       "     'type': 'tag',\n",
       "     'cover': 'https://img-bcy-qn.pstatp.com/Public/Image/tag/tag_cover.png',\n",
       "     'post_count': '2'},\n",
       "    {'tag_id': '51',\n",
       "     'tag_name': '萝莉',\n",
       "     'type': 'tag',\n",
       "     'cover': 'https://img-bcy-qn.pstatp.com/core/work/flag/bzwp4/c2e129e088e611e5a8ab516039cd7c57.jpg/2X2',\n",
       "     'post_count': '118824'},\n",
       "    {'tag_id': '140012',\n",
       "     'tag_name': '少年锦衣卫',\n",
       "     'type': 'tag',\n",
       "     'cover': 'https://img-bcy-qn.pstatp.com/user/1422021/item/c0jgp/vht2wyg5f5bxqvsrdmwvriqtdt4251ml.jpg/2X2',\n",
       "     'post_count': '93'}],\n",
       "   'like_count': 39,\n",
       "   'user_liked': False,\n",
       "   'reply_count': 2,\n",
       "   'share_count': 0,\n",
       "   'at_user_infos': [],\n",
       "   'editor_status': 'all_public',\n",
       "   'forbidden_right_click': False,\n",
       "   'view_need_login': False,\n",
       "   'view_need_fans': False,\n",
       "   'no_trans': False,\n",
       "   'no_modify': False,\n",
       "   'postStatus': 'normal'},\n",
       "  'detail_user': {'uid': '2138826',\n",
       "   'avatar': 'https://img-bcy-qn.pstatp.com/Public/Upload/avatar/2138826/eef613139d394d07a6b0994bf3ff83ed/fat.jpg/abig',\n",
       "   'uname': '励志高产的依笙',\n",
       "   'self_intro': 'hello~这儿依笙 坐标青岛 透明低产小coser/现役jk 企鹅：2978184590 欢迎扩列哦~',\n",
       "   'sex': 0,\n",
       "   'following': '18',\n",
       "   'follower': '1188',\n",
       "   'followstate': 'unfollow',\n",
       "   'value_user': 0,\n",
       "   'show_utags': True,\n",
       "   'utags': [{'ut_id': '1', 'ut_name': 'Coser'}]},\n",
       "  'detail_banners': [{'link': 'https://bcy.net/huodong/214?order=index#nav',\n",
       "    'path': 'https://img-bcy-qn.pstatp.com/editor/flag/c0jxd/9684cd5001a811e98ca7d9bc61641d51.jpg',\n",
       "    'title': ''},\n",
       "   {'link': 'https://bcy.net/static/bcycos8intro#nav',\n",
       "    'path': 'https://img-bcy-qn.pstatp.com/editor/flag/c0jut/0b260430f07911e89b51db8a4ed73562.png',\n",
       "    'title': ''}],\n",
       "  'self': False,\n",
       "  'abTest': {'info': [{'rsp_type': 5,\n",
       "     'flight_name': '146451',\n",
       "     'version_name': '',\n",
       "     'parameters': '{}',\n",
       "     'client_version_name': '662421',\n",
       "     'client_parameters': '{\"bcy_wap_detail_choose_pic\":{\"type\":0}}',\n",
       "     'env_flag': 0}]},\n",
       "  'currentStyle': {'bgColor': 'white', 'fontSize': 'm', 'indent': 'noindent'}},\n",
       " 'user': {'uid': '0'}}"
      ]
     },
     "execution_count": 87,
     "metadata": {},
     "output_type": "execute_result"
    }
   ],
   "source": [
    "jd"
   ]
  },
  {
   "cell_type": "code",
   "execution_count": 67,
   "metadata": {},
   "outputs": [],
   "source": [
    "print(json_img[0],file=open(\"xxx.txt\",\"w+\"))"
   ]
  },
  {
   "cell_type": "code",
   "execution_count": 12,
   "metadata": {},
   "outputs": [],
   "source": [
    "with open('json_img.txt','w+') as f:\n",
    "    f.writelines(json_img[0])"
   ]
  },
  {
   "cell_type": "code",
   "execution_count": 28,
   "metadata": {
    "collapsed": true
   },
   "outputs": [
    {
     "data": {
      "text/plain": [
       "'{\\\\\"detail\\\\\":{\\\\\"post_data\\\\\":{\\\\\"item_id\\\\\":\\\\\"6579931499263426820\\\\\",\\\\\"uid\\\\\":\\\\\"2138826\\\\\",\\\\\"ctime\\\\\":\\\\\"1532009686\\\\\",\\\\\"type\\\\\":\\\\\"note\\\\\",\\\\\"title\\\\\":\\\\\"\\\\\",\\\\\"summary\\\\\":\\\\\"\\\\\",\\\\\"content\\\\\":\\\\\"\\\\\",\\\\\"plain\\\\\":\\\\\"黑叔的场照啦\\\\\\\\u003Cbr\\\\\\\\u003E爆喜欢！！\\\\\\\\u003Cbr\\\\\\\\u003E偷偷截掉了自己的小短腿\\'\\\\\",\\\\\"word_count\\\\\":0,\\\\\"multi\\\\\":[{\\\\\"path\\\\\":\\\\\"https:\\\\\\\\u002F\\\\\\\\u002Fimg-bcy-qn.pstatp.com\\\\\\\\u002Fuser\\\\\\\\u002F2138826\\\\\\\\u002Fitem\\\\\\\\u002Fc0jjj\\\\\\\\u002Fef1707de9eaa4ec2839a681caa74248d.jpg\\\\\\\\u002Fw650\\\\\",\\\\\"type\\\\\":\\\\\"image\\\\\",\\\\\"mid\\\\\":\\\\\"10571278\\\\\",\\\\\"w\\\\\":2178,\\\\\"h\\\\\":2413,\\\\\"original_path\\\\\":\\\\\"https:\\\\\\\\u002F\\\\\\\\u002Fimg-bcy-qn.pstatp.com\\\\\\\\u002Fuser\\\\\\\\u002F2138826\\\\\\\\u002Fitem\\\\\\\\u002Fc0jjj\\\\\\\\u002Fef1707de9eaa4ec2839a681caa74248d.jpg\\\\\"},{\\\\\"path\\\\\":\\\\\"https:\\\\\\\\u002F\\\\\\\\u002Fimg-bcy-qn.pstatp.com\\\\\\\\u002Fuser\\\\\\\\u002F2138826\\\\\\\\u002Fitem\\\\\\\\u002Fc0jjj\\\\\\\\u002Fac8fbc3aa68b439b81a6716256ffd276.jpg\\\\\\\\u002Fw650\\\\\",\\\\\"type\\\\\":\\\\\"image\\\\\",\\\\\"mid\\\\\":\\\\\"10571279\\\\\",\\\\\"w\\\\\":2178,\\\\\"h\\\\\":2272,\\\\\"original_path\\\\\":\\\\\"https:\\\\\\\\u002F\\\\\\\\u002Fimg-bcy-qn.pstatp.com\\\\\\\\u002Fuser\\\\\\\\u002F2138826\\\\\\\\u002Fitem\\\\\\\\u002Fc0jjj\\\\\\\\u002Fac8fbc3aa68b439b81a6716256ffd276.jpg\\\\\"},{\\\\\"path\\\\\":\\\\\"https:\\\\\\\\u002F\\\\\\\\u002Fimg-bcy-qn.pstatp.com\\\\\\\\u002Fuser\\\\\\\\u002F2138826\\\\\\\\u002Fitem\\\\\\\\u002Fc0jjj\\\\\\\\u002Ff3f7187a688c4b48b57280583f723a44.jpg\\\\\\\\u002Fw650\\\\\",\\\\\"type\\\\\":\\\\\"image\\\\\",\\\\\"mid\\\\\":\\\\\"10571280\\\\\",\\\\\"w\\\\\":2178,\\\\\"h\\\\\":2292,\\\\\"original_path\\\\\":\\\\\"https:\\\\\\\\u002F\\\\\\\\u002Fimg-bcy-qn.pstatp.com\\\\\\\\u002Fuser\\\\\\\\u002F2138826\\\\\\\\u002Fitem\\\\\\\\u002Fc0jjj\\\\\\\\u002Ff3f7187a688c4b48b57280583f723a44.jpg\\\\\"},{\\\\\"path\\\\\":\\\\\"https:\\\\\\\\u002F\\\\\\\\u002Fimg-bcy-qn.pstatp.com\\\\\\\\u002Fuser\\\\\\\\u002F2138826\\\\\\\\u002Fitem\\\\\\\\u002Fc0jjj\\\\\\\\u002Fe0235a947b9b4cfdabb65ca204e382ba.jpg\\\\\\\\u002Fw650\\\\\",\\\\\"type\\\\\":\\\\\"image\\\\\",\\\\\"mid\\\\\":\\\\\"10571281\\\\\",\\\\\"w\\\\\":2178,\\\\\"h\\\\\":1618,\\\\\"original_path\\\\\":\\\\\"https:\\\\\\\\u002F\\\\\\\\u002Fimg-bcy-qn.pstatp.com\\\\\\\\u002Fuser\\\\\\\\u002F2138826\\\\\\\\u002Fitem\\\\\\\\u002Fc0jjj\\\\\\\\u002Fe0235a947b9b4cfdabb65ca204e382ba.jpg\\\\\"},{\\\\\"path\\\\\":\\\\\"https:\\\\\\\\u002F\\\\\\\\u002Fimg-bcy-qn.pstatp.com\\\\\\\\u002Fuser\\\\\\\\u002F2138826\\\\\\\\u002Fitem\\\\\\\\u002Fc0jjj\\\\\\\\u002F5a61983b1587416db39d517865b0b60c.jpg\\\\\\\\u002Fw650\\\\\",\\\\\"type\\\\\":\\\\\"image\\\\\",\\\\\"mid\\\\\":\\\\\"10571282\\\\\",\\\\\"w\\\\\":2178,\\\\\"h\\\\\":1563,\\\\\"original_path\\\\\":\\\\\"https:\\\\\\\\u002F\\\\\\\\u002Fimg-bcy-qn.pstatp.com\\\\\\\\u002Fuser\\\\\\\\u002F2138826\\\\\\\\u002Fitem\\\\\\\\u002Fc0jjj\\\\\\\\u002F5a61983b1587416db39d517865b0b60c.jpg\\\\\"},{\\\\\"path\\\\\":\\\\\"https:\\\\\\\\u002F\\\\\\\\u002Fimg-bcy-qn.pstatp.com\\\\\\\\u002Fuser\\\\\\\\u002F2138826\\\\\\\\u002Fitem\\\\\\\\u002Fc0jjj\\\\\\\\u002F3c57141205304a85b2b0703aaf62bb86.jpg\\\\\\\\u002Fw650\\\\\",\\\\\"type\\\\\":\\\\\"image\\\\\",\\\\\"mid\\\\\":\\\\\"10571283\\\\\",\\\\\"w\\\\\":2164,\\\\\"h\\\\\":2266,\\\\\"original_path\\\\\":\\\\\"https:\\\\\\\\u002F\\\\\\\\u002Fimg-bcy-qn.pstatp.com\\\\\\\\u002Fuser\\\\\\\\u002F2138826\\\\\\\\u002Fitem\\\\\\\\u002Fc0jjj\\\\\\\\u002F3c57141205304a85b2b0703aaf62bb86.jpg\\\\\"}],\\\\\"pic_num\\\\\":6,\\\\\"work\\\\\":\\\\\"少年锦衣卫\\\\\",\\\\\"wid\\\\\":\\\\\"8238\\\\\",\\\\\"work_real_name\\\\\":\\\\\"少年锦衣卫\\\\\",\\\\\"post_tags\\\\\":[{\\\\\"tag_id\\\\\":\\\\\"137405\\\\\",\\\\\"tag_name\\\\\":\\\\\"九公主\\\\\",\\\\\"type\\\\\":\\\\\"tag\\\\\",\\\\\"cover\\\\\":\\\\\"https:\\\\\\\\u002F\\\\\\\\u002Fimg-bcy-qn.pstatp.com\\\\\\\\u002Fcoser\\\\\\\\u002F7039\\\\\\\\u002Fpost\\\\\\\\u002F4bql\\\\\\\\u002F2c2c4a70215f11e89d94fd4733c19f99.jpg\\\\\\\\u002F2X2\\\\\",\\\\\"post_count\\\\\":\\\\\"401\\\\\"},{\\\\\"tag_id\\\\\":\\\\\"27236\\\\\",\\\\\"tag_name\\\\\":\\\\\"返图\\\\\",\\\\\"type\\\\\":\\\\\"tag\\\\\",\\\\\"cover\\\\\":\\\\\"https:\\\\\\\\u002F\\\\\\\\u002Fimg-bcy-qn.pstatp.com\\\\\\\\u002Fuser\\\\\\\\u002F2534626\\\\\\\\u002Fitem\\\\\\\\u002Fweb\\\\\\\\u002F1796l\\\\\\\\u002F1ed9d350cbd311e8bd936d239ac31695.jpg\\\\\\\\u002F2X2\\\\\",\\\\\"post_count\\\\\":\\\\\"2527\\\\\"},{\\\\\"tag_id\\\\\":\\\\\"2788\\\\\",\\\\\"tag_name\\\\\":\\\\\"漫展\\\\\",\\\\\"type\\\\\":\\\\\"tag\\\\\",\\\\\"cover\\\\\":\\\\\"https:\\\\\\\\u002F\\\\\\\\u002Fimg-bcy-qn.pstatp.com\\\\\\\\u002Fcore\\\\\\\\u002Ftags\\\\\\\\u002Fflag\\\\\\\\u002F178t9\\\\\\\\u002F8dab1f405ca911e7906cabd0f6d7335a.jpg\\\\\\\\u002F2X2\\\\\",\\\\\"post_count\\\\\":\\\\\"11123\\\\\"},{\\\\\"tag_id\\\\\":\\\\\"502\\\\\",\\\\\"tag_name\\\\\":\\\\\"国漫\\\\\",\\\\\"type\\\\\":\\\\\"tag\\\\\",\\\\\"cover\\\\\":\\\\\"https:\\\\\\\\u002F\\\\\\\\u002Fimg-bcy-qn.pstatp.com\\\\\\\\u002Fuser\\\\\\\\u002F928611\\\\\\\\u002Fitem\\\\\\\\u002Fc0jmi\\\\\\\\u002Fe0ecef7eb66946e4b98198a4fd4c6cd4.jpg\\\\\\\\u002F2X2\\\\\",\\\\\"post_count\\\\\":\\\\\"2893\\\\\"},{\\\\\"tag_id\\\\\":\\\\\"381807\\\\\",\\\\\"tag_name\\\\\":\\\\\"DC17\\\\\",\\\\\"type\\\\\":\\\\\"tag\\\\\",\\\\\"cover\\\\\":\\\\\"https:\\\\\\\\u002F\\\\\\\\u002Fimg-bcy-qn.pstatp.com\\\\\\\\u002FPublic\\\\\\\\u002FImage\\\\\\\\u002Ftag\\\\\\\\u002Ftag_cover.png\\\\\",\\\\\"post_count\\\\\":\\\\\"2\\\\\"},{\\\\\"tag_id\\\\\":\\\\\"51\\\\\",\\\\\"tag_name\\\\\":\\\\\"萝莉\\\\\",\\\\\"type\\\\\":\\\\\"tag\\\\\",\\\\\"cover\\\\\":\\\\\"https:\\\\\\\\u002F\\\\\\\\u002Fimg-bcy-qn.pstatp.com\\\\\\\\u002Fcore\\\\\\\\u002Fwork\\\\\\\\u002Fflag\\\\\\\\u002Fbzwp4\\\\\\\\u002Fc2e129e088e611e5a8ab516039cd7c57.jpg\\\\\\\\u002F2X2\\\\\",\\\\\"post_count\\\\\":\\\\\"118817\\\\\"},{\\\\\"tag_id\\\\\":\\\\\"140012\\\\\",\\\\\"tag_name\\\\\":\\\\\"少年锦衣卫\\\\\",\\\\\"type\\\\\":\\\\\"tag\\\\\",\\\\\"cover\\\\\":\\\\\"https:\\\\\\\\u002F\\\\\\\\u002Fimg-bcy-qn.pstatp.com\\\\\\\\u002Fuser\\\\\\\\u002F1422021\\\\\\\\u002Fitem\\\\\\\\u002Fc0jgp\\\\\\\\u002Fvht2wyg5f5bxqvsrdmwvriqtdt4251ml.jpg\\\\\\\\u002F2X2\\\\\",\\\\\"post_count\\\\\":\\\\\"93\\\\\"}],\\\\\"like_count\\\\\":39,\\\\\"user_liked\\\\\":false,\\\\\"reply_count\\\\\":2,\\\\\"share_count\\\\\":0,\\\\\"at_user_infos\\\\\":[],\\\\\"editor_status\\\\\":\\\\\"all_public\\\\\",\\\\\"forbidden_right_click\\\\\":false,\\\\\"view_need_login\\\\\":false,\\\\\"view_need_fans\\\\\":false,\\\\\"no_trans\\\\\":false,\\\\\"no_modify\\\\\":false,\\\\\"postStatus\\\\\":\\\\\"normal\\\\\"},\\\\\"detail_user\\\\\":{\\\\\"uid\\\\\":\\\\\"2138826\\\\\",\\\\\"avatar\\\\\":\\\\\"https:\\\\\\\\u002F\\\\\\\\u002Fimg-bcy-qn.pstatp.com\\\\\\\\u002FPublic\\\\\\\\u002FUpload\\\\\\\\u002Favatar\\\\\\\\u002F2138826\\\\\\\\u002Feef613139d394d07a6b0994bf3ff83ed\\\\\\\\u002Ffat.jpg\\\\\\\\u002Fabig\\\\\",\\\\\"uname\\\\\":\\\\\"励志高产的依笙\\\\\",\\\\\"self_intro\\\\\":\\\\\"hello~这儿依笙 坐标青岛 透明低产小coser\\\\\\\\u002F现役jk 企鹅：2978184590 欢迎扩列哦~\\\\\",\\\\\"sex\\\\\":0,\\\\\"following\\\\\":\\\\\"18\\\\\",\\\\\"follower\\\\\":\\\\\"1188\\\\\",\\\\\"followstate\\\\\":\\\\\"unfollow\\\\\",\\\\\"value_user\\\\\":0,\\\\\"show_utags\\\\\":true,\\\\\"utags\\\\\":[{\\\\\"ut_id\\\\\":\\\\\"1\\\\\",\\\\\"ut_name\\\\\":\\\\\"Coser\\\\\"}]},\\\\\"detail_banners\\\\\":[{\\\\\"link\\\\\":\\\\\"https:\\\\\\\\u002F\\\\\\\\u002Fbcy.net\\\\\\\\u002Fhuodong\\\\\\\\u002F214?order=index#nav\\\\\",\\\\\"path\\\\\":\\\\\"https:\\\\\\\\u002F\\\\\\\\u002Fimg-bcy-qn.pstatp.com\\\\\\\\u002Feditor\\\\\\\\u002Fflag\\\\\\\\u002Fc0jxd\\\\\\\\u002F9684cd5001a811e98ca7d9bc61641d51.jpg\\\\\",\\\\\"title\\\\\":\\\\\"\\\\\"},{\\\\\"link\\\\\":\\\\\"https:\\\\\\\\u002F\\\\\\\\u002Fbcy.net\\\\\\\\u002Fstatic\\\\\\\\u002Fbcycos8intro#nav\\\\\",\\\\\"path\\\\\":\\\\\"https:\\\\\\\\u002F\\\\\\\\u002Fimg-bcy-qn.pstatp.com\\\\\\\\u002Feditor\\\\\\\\u002Fflag\\\\\\\\u002Fc0jut\\\\\\\\u002F0b260430f07911e89b51db8a4ed73562.png\\\\\",\\\\\"title\\\\\":\\\\\"\\\\\"}],\\\\\"self\\\\\":false,\\\\\"abTest\\\\\":{\\\\\"info\\\\\":[{\\\\\"rsp_type\\\\\":5,\\\\\"flight_name\\\\\":\\\\\"146451\\\\\",\\\\\"version_name\\\\\":\\\\\"\\\\\",\\\\\"parameters\\\\\":\\\\\"{}\\\\\",\\\\\"client_version_name\\\\\":\\\\\"662421\\\\\",\\\\\"client_parameters\\\\\":\\\\\"{\\\\\\\\\\\\\"bcy_wap_detail_choose_pic\\\\\\\\\\\\\":{\\\\\\\\\\\\\"type\\\\\\\\\\\\\":0}}\\\\\",\\\\\"env_flag\\\\\":0}]},\\\\\"currentStyle\\\\\":{\\\\\"bgColor\\\\\":\\\\\"white\\\\\",\\\\\"fontSize\\\\\":\\\\\"m\\\\\",\\\\\"indent\\\\\":\\\\\"noindent\\\\\"}},\\\\\"user\\\\\":{\\\\\"uid\\\\\":\\\\\"0\\\\\"}}'"
      ]
     },
     "execution_count": 28,
     "metadata": {},
     "output_type": "execute_result"
    }
   ],
   "source": [
    "json_img=re.findall('JSON.parse\\(\"(.*)\"\\);',str(json_img))"
   ]
  },
  {
   "cell_type": "code",
   "execution_count": 17,
   "metadata": {
    "collapsed": true
   },
   "outputs": [
    {
     "name": "stdout",
     "output_type": "stream",
     "text": [
      "['{\\\\\"detail\\\\\":{\\\\\"post_data\\\\\":{\\\\\"item_id\\\\\":\\\\\"6579931499263426820\\\\\",\\\\\"uid\\\\\":\\\\\"2138826\\\\\",\\\\\"ctime\\\\\":\\\\\"1532009686\\\\\",\\\\\"type\\\\\":\\\\\"note\\\\\",\\\\\"title\\\\\":\\\\\"\\\\\",\\\\\"summary\\\\\":\\\\\"\\\\\",\\\\\"content\\\\\":\\\\\"\\\\\",\\\\\"plain\\\\\":\\\\\"黑叔的场照啦\\\\\\\\u003Cbr\\\\\\\\u003E爆喜欢！！\\\\\\\\u003Cbr\\\\\\\\u003E偷偷截掉了自己的小短腿\\'\\\\\",\\\\\"word_count\\\\\":0,\\\\\"multi\\\\\":[{\\\\\"path\\\\\":\\\\\"https:\\\\\\\\u002F\\\\\\\\u002Fimg-bcy-qn.pstatp.com\\\\\\\\u002Fuser\\\\\\\\u002F2138826\\\\\\\\u002Fitem\\\\\\\\u002Fc0jjj\\\\\\\\u002Fef1707de9eaa4ec2839a681caa74248d.jpg\\\\\\\\u002Fw650\\\\\",\\\\\"type\\\\\":\\\\\"image\\\\\",\\\\\"mid\\\\\":\\\\\"10571278\\\\\",\\\\\"w\\\\\":2178,\\\\\"h\\\\\":2413,\\\\\"original_path\\\\\":\\\\\"https:\\\\\\\\u002F\\\\\\\\u002Fimg-bcy-qn.pstatp.com\\\\\\\\u002Fuser\\\\\\\\u002F2138826\\\\\\\\u002Fitem\\\\\\\\u002Fc0jjj\\\\\\\\u002Fef1707de9eaa4ec2839a681caa74248d.jpg\\\\\"},{\\\\\"path\\\\\":\\\\\"https:\\\\\\\\u002F\\\\\\\\u002Fimg-bcy-qn.pstatp.com\\\\\\\\u002Fuser\\\\\\\\u002F2138826\\\\\\\\u002Fitem\\\\\\\\u002Fc0jjj\\\\\\\\u002Fac8fbc3aa68b439b81a6716256ffd276.jpg\\\\\\\\u002Fw650\\\\\",\\\\\"type\\\\\":\\\\\"image\\\\\",\\\\\"mid\\\\\":\\\\\"10571279\\\\\",\\\\\"w\\\\\":2178,\\\\\"h\\\\\":2272,\\\\\"original_path\\\\\":\\\\\"https:\\\\\\\\u002F\\\\\\\\u002Fimg-bcy-qn.pstatp.com\\\\\\\\u002Fuser\\\\\\\\u002F2138826\\\\\\\\u002Fitem\\\\\\\\u002Fc0jjj\\\\\\\\u002Fac8fbc3aa68b439b81a6716256ffd276.jpg\\\\\"},{\\\\\"path\\\\\":\\\\\"https:\\\\\\\\u002F\\\\\\\\u002Fimg-bcy-qn.pstatp.com\\\\\\\\u002Fuser\\\\\\\\u002F2138826\\\\\\\\u002Fitem\\\\\\\\u002Fc0jjj\\\\\\\\u002Ff3f7187a688c4b48b57280583f723a44.jpg\\\\\\\\u002Fw650\\\\\",\\\\\"type\\\\\":\\\\\"image\\\\\",\\\\\"mid\\\\\":\\\\\"10571280\\\\\",\\\\\"w\\\\\":2178,\\\\\"h\\\\\":2292,\\\\\"original_path\\\\\":\\\\\"https:\\\\\\\\u002F\\\\\\\\u002Fimg-bcy-qn.pstatp.com\\\\\\\\u002Fuser\\\\\\\\u002F2138826\\\\\\\\u002Fitem\\\\\\\\u002Fc0jjj\\\\\\\\u002Ff3f7187a688c4b48b57280583f723a44.jpg\\\\\"},{\\\\\"path\\\\\":\\\\\"https:\\\\\\\\u002F\\\\\\\\u002Fimg-bcy-qn.pstatp.com\\\\\\\\u002Fuser\\\\\\\\u002F2138826\\\\\\\\u002Fitem\\\\\\\\u002Fc0jjj\\\\\\\\u002Fe0235a947b9b4cfdabb65ca204e382ba.jpg\\\\\\\\u002Fw650\\\\\",\\\\\"type\\\\\":\\\\\"image\\\\\",\\\\\"mid\\\\\":\\\\\"10571281\\\\\",\\\\\"w\\\\\":2178,\\\\\"h\\\\\":1618,\\\\\"original_path\\\\\":\\\\\"https:\\\\\\\\u002F\\\\\\\\u002Fimg-bcy-qn.pstatp.com\\\\\\\\u002Fuser\\\\\\\\u002F2138826\\\\\\\\u002Fitem\\\\\\\\u002Fc0jjj\\\\\\\\u002Fe0235a947b9b4cfdabb65ca204e382ba.jpg\\\\\"},{\\\\\"path\\\\\":\\\\\"https:\\\\\\\\u002F\\\\\\\\u002Fimg-bcy-qn.pstatp.com\\\\\\\\u002Fuser\\\\\\\\u002F2138826\\\\\\\\u002Fitem\\\\\\\\u002Fc0jjj\\\\\\\\u002F5a61983b1587416db39d517865b0b60c.jpg\\\\\\\\u002Fw650\\\\\",\\\\\"type\\\\\":\\\\\"image\\\\\",\\\\\"mid\\\\\":\\\\\"10571282\\\\\",\\\\\"w\\\\\":2178,\\\\\"h\\\\\":1563,\\\\\"original_path\\\\\":\\\\\"https:\\\\\\\\u002F\\\\\\\\u002Fimg-bcy-qn.pstatp.com\\\\\\\\u002Fuser\\\\\\\\u002F2138826\\\\\\\\u002Fitem\\\\\\\\u002Fc0jjj\\\\\\\\u002F5a61983b1587416db39d517865b0b60c.jpg\\\\\"},{\\\\\"path\\\\\":\\\\\"https:\\\\\\\\u002F\\\\\\\\u002Fimg-bcy-qn.pstatp.com\\\\\\\\u002Fuser\\\\\\\\u002F2138826\\\\\\\\u002Fitem\\\\\\\\u002Fc0jjj\\\\\\\\u002F3c57141205304a85b2b0703aaf62bb86.jpg\\\\\\\\u002Fw650\\\\\",\\\\\"type\\\\\":\\\\\"image\\\\\",\\\\\"mid\\\\\":\\\\\"10571283\\\\\",\\\\\"w\\\\\":2164,\\\\\"h\\\\\":2266,\\\\\"original_path\\\\\":\\\\\"https:\\\\\\\\u002F\\\\\\\\u002Fimg-bcy-qn.pstatp.com\\\\\\\\u002Fuser\\\\\\\\u002F2138826\\\\\\\\u002Fitem\\\\\\\\u002Fc0jjj\\\\\\\\u002F3c57141205304a85b2b0703aaf62bb86.jpg\\\\\"}],\\\\\"pic_num\\\\\":6,\\\\\"work\\\\\":\\\\\"少年锦衣卫\\\\\",\\\\\"wid\\\\\":\\\\\"8238\\\\\",\\\\\"work_real_name\\\\\":\\\\\"少年锦衣卫\\\\\",\\\\\"post_tags\\\\\":[{\\\\\"tag_id\\\\\":\\\\\"137405\\\\\",\\\\\"tag_name\\\\\":\\\\\"九公主\\\\\",\\\\\"type\\\\\":\\\\\"tag\\\\\",\\\\\"cover\\\\\":\\\\\"https:\\\\\\\\u002F\\\\\\\\u002Fimg-bcy-qn.pstatp.com\\\\\\\\u002Fcoser\\\\\\\\u002F7039\\\\\\\\u002Fpost\\\\\\\\u002F4bql\\\\\\\\u002F2c2c4a70215f11e89d94fd4733c19f99.jpg\\\\\\\\u002F2X2\\\\\",\\\\\"post_count\\\\\":\\\\\"401\\\\\"},{\\\\\"tag_id\\\\\":\\\\\"27236\\\\\",\\\\\"tag_name\\\\\":\\\\\"返图\\\\\",\\\\\"type\\\\\":\\\\\"tag\\\\\",\\\\\"cover\\\\\":\\\\\"https:\\\\\\\\u002F\\\\\\\\u002Fimg-bcy-qn.pstatp.com\\\\\\\\u002Fuser\\\\\\\\u002F2534626\\\\\\\\u002Fitem\\\\\\\\u002Fweb\\\\\\\\u002F1796l\\\\\\\\u002F1ed9d350cbd311e8bd936d239ac31695.jpg\\\\\\\\u002F2X2\\\\\",\\\\\"post_count\\\\\":\\\\\"2527\\\\\"},{\\\\\"tag_id\\\\\":\\\\\"2788\\\\\",\\\\\"tag_name\\\\\":\\\\\"漫展\\\\\",\\\\\"type\\\\\":\\\\\"tag\\\\\",\\\\\"cover\\\\\":\\\\\"https:\\\\\\\\u002F\\\\\\\\u002Fimg-bcy-qn.pstatp.com\\\\\\\\u002Fcore\\\\\\\\u002Ftags\\\\\\\\u002Fflag\\\\\\\\u002F178t9\\\\\\\\u002F8dab1f405ca911e7906cabd0f6d7335a.jpg\\\\\\\\u002F2X2\\\\\",\\\\\"post_count\\\\\":\\\\\"11123\\\\\"},{\\\\\"tag_id\\\\\":\\\\\"502\\\\\",\\\\\"tag_name\\\\\":\\\\\"国漫\\\\\",\\\\\"type\\\\\":\\\\\"tag\\\\\",\\\\\"cover\\\\\":\\\\\"https:\\\\\\\\u002F\\\\\\\\u002Fimg-bcy-qn.pstatp.com\\\\\\\\u002Fuser\\\\\\\\u002F928611\\\\\\\\u002Fitem\\\\\\\\u002Fc0jmi\\\\\\\\u002Fe0ecef7eb66946e4b98198a4fd4c6cd4.jpg\\\\\\\\u002F2X2\\\\\",\\\\\"post_count\\\\\":\\\\\"2893\\\\\"},{\\\\\"tag_id\\\\\":\\\\\"381807\\\\\",\\\\\"tag_name\\\\\":\\\\\"DC17\\\\\",\\\\\"type\\\\\":\\\\\"tag\\\\\",\\\\\"cover\\\\\":\\\\\"https:\\\\\\\\u002F\\\\\\\\u002Fimg-bcy-qn.pstatp.com\\\\\\\\u002FPublic\\\\\\\\u002FImage\\\\\\\\u002Ftag\\\\\\\\u002Ftag_cover.png\\\\\",\\\\\"post_count\\\\\":\\\\\"2\\\\\"},{\\\\\"tag_id\\\\\":\\\\\"51\\\\\",\\\\\"tag_name\\\\\":\\\\\"萝莉\\\\\",\\\\\"type\\\\\":\\\\\"tag\\\\\",\\\\\"cover\\\\\":\\\\\"https:\\\\\\\\u002F\\\\\\\\u002Fimg-bcy-qn.pstatp.com\\\\\\\\u002Fcore\\\\\\\\u002Fwork\\\\\\\\u002Fflag\\\\\\\\u002Fbzwp4\\\\\\\\u002Fc2e129e088e611e5a8ab516039cd7c57.jpg\\\\\\\\u002F2X2\\\\\",\\\\\"post_count\\\\\":\\\\\"118817\\\\\"},{\\\\\"tag_id\\\\\":\\\\\"140012\\\\\",\\\\\"tag_name\\\\\":\\\\\"少年锦衣卫\\\\\",\\\\\"type\\\\\":\\\\\"tag\\\\\",\\\\\"cover\\\\\":\\\\\"https:\\\\\\\\u002F\\\\\\\\u002Fimg-bcy-qn.pstatp.com\\\\\\\\u002Fuser\\\\\\\\u002F1422021\\\\\\\\u002Fitem\\\\\\\\u002Fc0jgp\\\\\\\\u002Fvht2wyg5f5bxqvsrdmwvriqtdt4251ml.jpg\\\\\\\\u002F2X2\\\\\",\\\\\"post_count\\\\\":\\\\\"93\\\\\"}],\\\\\"like_count\\\\\":39,\\\\\"user_liked\\\\\":false,\\\\\"reply_count\\\\\":2,\\\\\"share_count\\\\\":0,\\\\\"at_user_infos\\\\\":[],\\\\\"editor_status\\\\\":\\\\\"all_public\\\\\",\\\\\"forbidden_right_click\\\\\":false,\\\\\"view_need_login\\\\\":false,\\\\\"view_need_fans\\\\\":false,\\\\\"no_trans\\\\\":false,\\\\\"no_modify\\\\\":false,\\\\\"postStatus\\\\\":\\\\\"normal\\\\\"},\\\\\"detail_user\\\\\":{\\\\\"uid\\\\\":\\\\\"2138826\\\\\",\\\\\"avatar\\\\\":\\\\\"https:\\\\\\\\u002F\\\\\\\\u002Fimg-bcy-qn.pstatp.com\\\\\\\\u002FPublic\\\\\\\\u002FUpload\\\\\\\\u002Favatar\\\\\\\\u002F2138826\\\\\\\\u002Feef613139d394d07a6b0994bf3ff83ed\\\\\\\\u002Ffat.jpg\\\\\\\\u002Fabig\\\\\",\\\\\"uname\\\\\":\\\\\"励志高产的依笙\\\\\",\\\\\"self_intro\\\\\":\\\\\"hello~这儿依笙 坐标青岛 透明低产小coser\\\\\\\\u002F现役jk 企鹅：2978184590 欢迎扩列哦~\\\\\",\\\\\"sex\\\\\":0,\\\\\"following\\\\\":\\\\\"18\\\\\",\\\\\"follower\\\\\":\\\\\"1188\\\\\",\\\\\"followstate\\\\\":\\\\\"unfollow\\\\\",\\\\\"value_user\\\\\":0,\\\\\"show_utags\\\\\":true,\\\\\"utags\\\\\":[{\\\\\"ut_id\\\\\":\\\\\"1\\\\\",\\\\\"ut_name\\\\\":\\\\\"Coser\\\\\"}]},\\\\\"detail_banners\\\\\":[{\\\\\"link\\\\\":\\\\\"https:\\\\\\\\u002F\\\\\\\\u002Fbcy.net\\\\\\\\u002Fhuodong\\\\\\\\u002F214?order=index#nav\\\\\",\\\\\"path\\\\\":\\\\\"https:\\\\\\\\u002F\\\\\\\\u002Fimg-bcy-qn.pstatp.com\\\\\\\\u002Feditor\\\\\\\\u002Fflag\\\\\\\\u002Fc0jxd\\\\\\\\u002F9684cd5001a811e98ca7d9bc61641d51.jpg\\\\\",\\\\\"title\\\\\":\\\\\"\\\\\"},{\\\\\"link\\\\\":\\\\\"https:\\\\\\\\u002F\\\\\\\\u002Fbcy.net\\\\\\\\u002Fstatic\\\\\\\\u002Fbcycos8intro#nav\\\\\",\\\\\"path\\\\\":\\\\\"https:\\\\\\\\u002F\\\\\\\\u002Fimg-bcy-qn.pstatp.com\\\\\\\\u002Feditor\\\\\\\\u002Fflag\\\\\\\\u002Fc0jut\\\\\\\\u002F0b260430f07911e89b51db8a4ed73562.png\\\\\",\\\\\"title\\\\\":\\\\\"\\\\\"}],\\\\\"self\\\\\":false,\\\\\"abTest\\\\\":{\\\\\"info\\\\\":[{\\\\\"rsp_type\\\\\":5,\\\\\"flight_name\\\\\":\\\\\"146451\\\\\",\\\\\"version_name\\\\\":\\\\\"\\\\\",\\\\\"parameters\\\\\":\\\\\"{}\\\\\",\\\\\"client_version_name\\\\\":\\\\\"662421\\\\\",\\\\\"client_parameters\\\\\":\\\\\"{\\\\\\\\\\\\\"bcy_wap_detail_choose_pic\\\\\\\\\\\\\":{\\\\\\\\\\\\\"type\\\\\\\\\\\\\":0}}\\\\\",\\\\\"env_flag\\\\\":0}]},\\\\\"currentStyle\\\\\":{\\\\\"bgColor\\\\\":\\\\\"white\\\\\",\\\\\"fontSize\\\\\":\\\\\"m\\\\\",\\\\\"indent\\\\\":\\\\\"noindent\\\\\"}},\\\\\"user\\\\\":{\\\\\"uid\\\\\":\\\\\"0\\\\\"}}']\n"
     ]
    },
    {
     "ename": "SyntaxError",
     "evalue": "unexpected character after line continuation character (<string>, line 1)",
     "output_type": "error",
     "traceback": [
      "Traceback \u001b[1;36m(most recent call last)\u001b[0m:\n",
      "  File \u001b[0;32m\"F:\\ProgramData\\Anaconda3\\lib\\site-packages\\IPython\\core\\interactiveshell.py\"\u001b[0m, line \u001b[0;32m3265\u001b[0m, in \u001b[0;35mrun_code\u001b[0m\n    exec(code_obj, self.user_global_ns, self.user_ns)\n",
      "\u001b[1;36m  File \u001b[1;32m\"<ipython-input-17-d7c8acc2e8b0>\"\u001b[1;36m, line \u001b[1;32m5\u001b[1;36m, in \u001b[1;35m<module>\u001b[1;36m\u001b[0m\n\u001b[1;33m    eval(x[0])\u001b[0m\n",
      "\u001b[1;36m  File \u001b[1;32m\"<string>\"\u001b[1;36m, line \u001b[1;32m1\u001b[0m\n\u001b[1;33m    {\\\"detail\\\":{\\\"post_data\\\":{\\\"item_id\\\":\\\"6579931499263426820\\\",\\\"uid\\\":\\\"2138826\\\",\\\"ctime\\\":\\\"1532009686\\\",\\\"type\\\":\\\"note\\\",\\\"title\\\":\\\"\\\",\\\"summary\\\":\\\"\\\",\\\"content\\\":\\\"\\\",\\\"plain\\\":\\\"黑叔的场照啦\\\\u003Cbr\\\\u003E爆喜欢！！\\\\u003Cbr\\\\u003E偷偷截掉了自己的小短腿'\\\",\\\"word_count\\\":0,\\\"multi\\\":[{\\\"path\\\":\\\"https:\\\\u002F\\\\u002Fimg-bcy-qn.pstatp.com\\\\u002Fuser\\\\u002F2138826\\\\u002Fitem\\\\u002Fc0jjj\\\\u002Fef1707de9eaa4ec2839a681caa74248d.jpg\\\\u002Fw650\\\",\\\"type\\\":\\\"image\\\",\\\"mid\\\":\\\"10571278\\\",\\\"w\\\":2178,\\\"h\\\":2413,\\\"original_path\\\":\\\"https:\\\\u002F\\\\u002Fimg-bcy-qn.pstatp.com\\\\u002Fuser\\\\u002F2138826\\\\u002Fitem\\\\u002Fc0jjj\\\\u002Fef1707de9eaa4ec2839a681caa74248d.jpg\\\"},{\\\"path\\\":\\\"https:\\\\u002F\\\\u002Fimg-bcy-qn.pstatp.com\\\\u002Fuser\\\\u002F2138826\\\\u002Fitem\\\\u002Fc0jjj\\\\u002Fac8fbc3aa68b439b81a6716256ffd276.jpg\\\\u002Fw650\\\",\\\"type\\\":\\\"image\\\",\\\"mid\\\":\\\"10571279\\\",\\\"w\\\":2178,\\\"h\\\":2272,\\\"original_path\\\":\\\"https:\\\\u002F\\\\u002Fimg-bcy-qn.pstatp.com\\\\u002Fuser\\\\u002F2138826\\\\u002Fitem\\\\u002Fc0jjj\\\\u002Fac8fbc3aa68b439b81a6716256ffd276.jpg\\\"},{\\\"path\\\":\\\"https:\\\\u002F\\\\u002Fimg-bcy-qn.pstatp.com\\\\u002Fuser\\\\u002F2138826\\\\u002Fitem\\\\u002Fc0jjj\\\\u002Ff3f7187a688c4b48b57280583f723a44.jpg\\\\u002Fw650\\\",\\\"type\\\":\\\"image\\\",\\\"mid\\\":\\\"10571280\\\",\\\"w\\\":2178,\\\"h\\\":2292,\\\"original_path\\\":\\\"https:\\\\u002F\\\\u002Fimg-bcy-qn.pstatp.com\\\\u002Fuser\\\\u002F2138826\\\\u002Fitem\\\\u002Fc0jjj\\\\u002Ff3f7187a688c4b48b57280583f723a44.jpg\\\"},{\\\"path\\\":\\\"https:\\\\u002F\\\\u002Fimg-bcy-qn.pstatp.com\\\\u002Fuser\\\\u002F2138826\\\\u002Fitem\\\\u002Fc0jjj\\\\u002Fe0235a947b9b4cfdabb65ca204e382ba.jpg\\\\u002Fw650\\\",\\\"type\\\":\\\"image\\\",\\\"mid\\\":\\\"10571281\\\",\\\"w\\\":2178,\\\"h\\\":1618,\\\"original_path\\\":\\\"https:\\\\u002F\\\\u002Fimg-bcy-qn.pstatp.com\\\\u002Fuser\\\\u002F2138826\\\\u002Fitem\\\\u002Fc0jjj\\\\u002Fe0235a947b9b4cfdabb65ca204e382ba.jpg\\\"},{\\\"path\\\":\\\"https:\\\\u002F\\\\u002Fimg-bcy-qn.pstatp.com\\\\u002Fuser\\\\u002F2138826\\\\u002Fitem\\\\u002Fc0jjj\\\\u002F5a61983b1587416db39d517865b0b60c.jpg\\\\u002Fw650\\\",\\\"type\\\":\\\"image\\\",\\\"mid\\\":\\\"10571282\\\",\\\"w\\\":2178,\\\"h\\\":1563,\\\"original_path\\\":\\\"https:\\\\u002F\\\\u002Fimg-bcy-qn.pstatp.com\\\\u002Fuser\\\\u002F2138826\\\\u002Fitem\\\\u002Fc0jjj\\\\u002F5a61983b1587416db39d517865b0b60c.jpg\\\"},{\\\"path\\\":\\\"https:\\\\u002F\\\\u002Fimg-bcy-qn.pstatp.com\\\\u002Fuser\\\\u002F2138826\\\\u002Fitem\\\\u002Fc0jjj\\\\u002F3c57141205304a85b2b0703aaf62bb86.jpg\\\\u002Fw650\\\",\\\"type\\\":\\\"image\\\",\\\"mid\\\":\\\"10571283\\\",\\\"w\\\":2164,\\\"h\\\":2266,\\\"original_path\\\":\\\"https:\\\\u002F\\\\u002Fimg-bcy-qn.pstatp.com\\\\u002Fuser\\\\u002F2138826\\\\u002Fitem\\\\u002Fc0jjj\\\\u002F3c57141205304a85b2b0703aaf62bb86.jpg\\\"}],\\\"pic_num\\\":6,\\\"work\\\":\\\"少年锦衣卫\\\",\\\"wid\\\":\\\"8238\\\",\\\"work_real_name\\\":\\\"少年锦衣卫\\\",\\\"post_tags\\\":[{\\\"tag_id\\\":\\\"137405\\\",\\\"tag_name\\\":\\\"九公主\\\",\\\"type\\\":\\\"tag\\\",\\\"cover\\\":\\\"https:\\\\u002F\\\\u002Fimg-bcy-qn.pstatp.com\\\\u002Fcoser\\\\u002F7039\\\\u002Fpost\\\\u002F4bql\\\\u002F2c2c4a70215f11e89d94fd4733c19f99.jpg\\\\u002F2X2\\\",\\\"post_count\\\":\\\"401\\\"},{\\\"tag_id\\\":\\\"27236\\\",\\\"tag_name\\\":\\\"返图\\\",\\\"type\\\":\\\"tag\\\",\\\"cover\\\":\\\"https:\\\\u002F\\\\u002Fimg-bcy-qn.pstatp.com\\\\u002Fuser\\\\u002F2534626\\\\u002Fitem\\\\u002Fweb\\\\u002F1796l\\\\u002F1ed9d350cbd311e8bd936d239ac31695.jpg\\\\u002F2X2\\\",\\\"post_count\\\":\\\"2527\\\"},{\\\"tag_id\\\":\\\"2788\\\",\\\"tag_name\\\":\\\"漫展\\\",\\\"type\\\":\\\"tag\\\",\\\"cover\\\":\\\"https:\\\\u002F\\\\u002Fimg-bcy-qn.pstatp.com\\\\u002Fcore\\\\u002Ftags\\\\u002Fflag\\\\u002F178t9\\\\u002F8dab1f405ca911e7906cabd0f6d7335a.jpg\\\\u002F2X2\\\",\\\"post_count\\\":\\\"11123\\\"},{\\\"tag_id\\\":\\\"502\\\",\\\"tag_name\\\":\\\"国漫\\\",\\\"type\\\":\\\"tag\\\",\\\"cover\\\":\\\"https:\\\\u002F\\\\u002Fimg-bcy-qn.pstatp.com\\\\u002Fuser\\\\u002F928611\\\\u002Fitem\\\\u002Fc0jmi\\\\u002Fe0ecef7eb66946e4b98198a4fd4c6cd4.jpg\\\\u002F2X2\\\",\\\"post_count\\\":\\\"2893\\\"},{\\\"tag_id\\\":\\\"381807\\\",\\\"tag_name\\\":\\\"DC17\\\",\\\"type\\\":\\\"tag\\\",\\\"cover\\\":\\\"https:\\\\u002F\\\\u002Fimg-bcy-qn.pstatp.com\\\\u002FPublic\\\\u002FImage\\\\u002Ftag\\\\u002Ftag_cover.png\\\",\\\"post_count\\\":\\\"2\\\"},{\\\"tag_id\\\":\\\"51\\\",\\\"tag_name\\\":\\\"萝莉\\\",\\\"type\\\":\\\"tag\\\",\\\"cover\\\":\\\"https:\\\\u002F\\\\u002Fimg-bcy-qn.pstatp.com\\\\u002Fcore\\\\u002Fwork\\\\u002Fflag\\\\u002Fbzwp4\\\\u002Fc2e129e088e611e5a8ab516039cd7c57.jpg\\\\u002F2X2\\\",\\\"post_count\\\":\\\"118817\\\"},{\\\"tag_id\\\":\\\"140012\\\",\\\"tag_name\\\":\\\"少年锦衣卫\\\",\\\"type\\\":\\\"tag\\\",\\\"cover\\\":\\\"https:\\\\u002F\\\\u002Fimg-bcy-qn.pstatp.com\\\\u002Fuser\\\\u002F1422021\\\\u002Fitem\\\\u002Fc0jgp\\\\u002Fvht2wyg5f5bxqvsrdmwvriqtdt4251ml.jpg\\\\u002F2X2\\\",\\\"post_count\\\":\\\"93\\\"}],\\\"like_count\\\":39,\\\"user_liked\\\":false,\\\"reply_count\\\":2,\\\"share_count\\\":0,\\\"at_user_infos\\\":[],\\\"editor_status\\\":\\\"all_public\\\",\\\"forbidden_right_click\\\":false,\\\"view_need_login\\\":false,\\\"view_need_fans\\\":false,\\\"no_trans\\\":false,\\\"no_modify\\\":false,\\\"postStatus\\\":\\\"normal\\\"},\\\"detail_user\\\":{\\\"uid\\\":\\\"2138826\\\",\\\"avatar\\\":\\\"https:\\\\u002F\\\\u002Fimg-bcy-qn.pstatp.com\\\\u002FPublic\\\\u002FUpload\\\\u002Favatar\\\\u002F2138826\\\\u002Feef613139d394d07a6b0994bf3ff83ed\\\\u002Ffat.jpg\\\\u002Fabig\\\",\\\"uname\\\":\\\"励志高产的依笙\\\",\\\"self_intro\\\":\\\"hello~这儿依笙 坐标青岛 透明低产小coser\\\\u002F现役jk 企鹅：2978184590 欢迎扩列哦~\\\",\\\"sex\\\":0,\\\"following\\\":\\\"18\\\",\\\"follower\\\":\\\"1188\\\",\\\"followstate\\\":\\\"unfollow\\\",\\\"value_user\\\":0,\\\"show_utags\\\":true,\\\"utags\\\":[{\\\"ut_id\\\":\\\"1\\\",\\\"ut_name\\\":\\\"Coser\\\"}]},\\\"detail_banners\\\":[{\\\"link\\\":\\\"https:\\\\u002F\\\\u002Fbcy.net\\\\u002Fhuodong\\\\u002F214?order=index#nav\\\",\\\"path\\\":\\\"https:\\\\u002F\\\\u002Fimg-bcy-qn.pstatp.com\\\\u002Feditor\\\\u002Fflag\\\\u002Fc0jxd\\\\u002F9684cd5001a811e98ca7d9bc61641d51.jpg\\\",\\\"title\\\":\\\"\\\"},{\\\"link\\\":\\\"https:\\\\u002F\\\\u002Fbcy.net\\\\u002Fstatic\\\\u002Fbcycos8intro#nav\\\",\\\"path\\\":\\\"https:\\\\u002F\\\\u002Fimg-bcy-qn.pstatp.com\\\\u002Feditor\\\\u002Fflag\\\\u002Fc0jut\\\\u002F0b260430f07911e89b51db8a4ed73562.png\\\",\\\"title\\\":\\\"\\\"}],\\\"self\\\":false,\\\"abTest\\\":{\\\"info\\\":[{\\\"rsp_type\\\":5,\\\"flight_name\\\":\\\"146451\\\",\\\"version_name\\\":\\\"\\\",\\\"parameters\\\":\\\"{}\\\",\\\"client_version_name\\\":\\\"662421\\\",\\\"client_parameters\\\":\\\"{\\\\\\\"bcy_wap_detail_choose_pic\\\\\\\":{\\\\\\\"type\\\\\\\":0}}\\\",\\\"env_flag\\\":0}]},\\\"currentStyle\\\":{\\\"bgColor\\\":\\\"white\\\",\\\"fontSize\\\":\\\"m\\\",\\\"indent\\\":\\\"noindent\\\"}},\\\"user\\\":{\\\"uid\\\":\\\"0\\\"}}\u001b[0m\n\u001b[1;37m                                                                                                                                                                                                                                                                                                                                                                                                                                                                                                                                                                                                                                                                                                                                                                                                                                                                                                                                                                                                                                                                                                                                                                                                                                                                                                                                                                                                                                                                                                                                                                                                                                                                                                                                                                                                                                                                                                                                                                                                                                                                                                                                                                                                                                                                                                                                                                                                                                                                                                                                                                                                                                                                                                                                                                                                                                                                                                                                                                                                                                                                                                                                                                                                                                                                                                                                                                                                                                                                                                                                                                                                                                                                                                                                                                                                                                                                                                                                                                                                                                                                                                                                                                                                                                                                                                                                                                                                                                                                                                                                                                                                                                                                                                                                                                                                                                                                                                                                                                                                                                                                                                                                                                                                                                                                                                                                                                                                                                                                                                                                                                                                                                                                                                                                                                                                                                                                                                                                                                                                                                                                                                                      ^\u001b[0m\n\u001b[1;31mSyntaxError\u001b[0m\u001b[1;31m:\u001b[0m unexpected character after line continuation character\n"
     ]
    }
   ],
   "source": [
    "with open('json_img.txt','r') as f:\n",
    "    x=f.readlines()\n",
    "    print(x)\n",
    "    \n",
    "eval(x[0])"
   ]
  },
  {
   "cell_type": "code",
   "execution_count": 18,
   "metadata": {},
   "outputs": [],
   "source": [
    "j=['{\\\\\"detail\\\\\":{\\\\\"post_data\\\\\":\\\\\"测试1\\\\\\\\u003Cbr\\\\\\\\u003E测试2！！\\\\\\\\u003Cbr\\\\\\\\u003E测试3\\'\\\\\",\\\\\"word_count\\\\\":0,\\\\\"multi\\\\\":[{\\\\\"path\\\\\":\\\\\"https:\\\\\\\\u002F\\\\\\\\u002Fimg.baidu.com\\\\\\\\u002Fuser\\\\\\\\u002F2138826\\\\\\\\u002Fitem\\\\\\\\u002Fc0jjj\\\\\\\\u002Ftest.jpg\\\\\"}']"
   ]
  },
  {
   "cell_type": "code",
   "execution_count": 26,
   "metadata": {},
   "outputs": [
    {
     "ename": "SyntaxError",
     "evalue": "unexpected character after line continuation character (<string>, line 1)",
     "output_type": "error",
     "traceback": [
      "Traceback \u001b[1;36m(most recent call last)\u001b[0m:\n",
      "  File \u001b[0;32m\"F:\\ProgramData\\Anaconda3\\lib\\site-packages\\IPython\\core\\interactiveshell.py\"\u001b[0m, line \u001b[0;32m3265\u001b[0m, in \u001b[0;35mrun_code\u001b[0m\n    exec(code_obj, self.user_global_ns, self.user_ns)\n",
      "\u001b[1;36m  File \u001b[1;32m\"<ipython-input-26-4cdd228021ad>\"\u001b[1;36m, line \u001b[1;32m1\u001b[1;36m, in \u001b[1;35m<module>\u001b[1;36m\u001b[0m\n\u001b[1;33m    eval(\"{}\".format(j[0]))\u001b[0m\n",
      "\u001b[1;36m  File \u001b[1;32m\"<string>\"\u001b[1;36m, line \u001b[1;32m1\u001b[0m\n\u001b[1;33m    {\\\"detail\\\":{\\\"post_data\\\":\\\"黑叔\\\\u003Cbr\\\\u003E喜欢！！\\\\u003Cbr\\\\u003E小短腿'\\\",\\\"word_count\\\":0,\\\"multi\\\":[{\\\"path\\\":\\\"https:\\\\u002F\\\\u002Fimg.pstatp.com\\\\u002Fuser\\\\u002F2138826\\\\u002Fitem\\\\u002Fc0jjj\\\\u002Fef1707de9eaa4ec2839a681caa74248d.jpg\\\"}\u001b[0m\n\u001b[1;37m                                                                                                                                                                                                                                                     ^\u001b[0m\n\u001b[1;31mSyntaxError\u001b[0m\u001b[1;31m:\u001b[0m unexpected character after line continuation character\n"
     ]
    }
   ],
   "source": [
    "eval(\"{}\".format(j[0]))"
   ]
  },
  {
   "cell_type": "code",
   "execution_count": null,
   "metadata": {},
   "outputs": [],
   "source": []
  }
 ],
 "metadata": {
  "kernelspec": {
   "display_name": "Python 3",
   "language": "python",
   "name": "python3"
  },
  "language_info": {
   "codemirror_mode": {
    "name": "ipython",
    "version": 3
   },
   "file_extension": ".py",
   "mimetype": "text/x-python",
   "name": "python",
   "nbconvert_exporter": "python",
   "pygments_lexer": "ipython3",
   "version": "3.7.1"
  },
  "toc": {
   "base_numbering": 1,
   "nav_menu": {},
   "number_sections": true,
   "sideBar": true,
   "skip_h1_title": false,
   "title_cell": "Table of Contents",
   "title_sidebar": "Contents",
   "toc_cell": false,
   "toc_position": {},
   "toc_section_display": true,
   "toc_window_display": false
  },
  "varInspector": {
   "cols": {
    "lenName": 16,
    "lenType": 16,
    "lenVar": 40
   },
   "kernels_config": {
    "python": {
     "delete_cmd_postfix": "",
     "delete_cmd_prefix": "del ",
     "library": "var_list.py",
     "varRefreshCmd": "print(var_dic_list())"
    },
    "r": {
     "delete_cmd_postfix": ") ",
     "delete_cmd_prefix": "rm(",
     "library": "var_list.r",
     "varRefreshCmd": "cat(var_dic_list()) "
    }
   },
   "types_to_exclude": [
    "module",
    "function",
    "builtin_function_or_method",
    "instance",
    "_Feature"
   ],
   "window_display": false
  }
 },
 "nbformat": 4,
 "nbformat_minor": 2
}
