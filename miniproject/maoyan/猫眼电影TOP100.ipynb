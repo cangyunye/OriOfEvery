{
 "cells": [
  {
   "cell_type": "code",
   "execution_count": null,
   "metadata": {},
   "outputs": [],
   "source": [
    "import re,requests\n",
    "\n",
    "#请求头，必须加，不然无法爬取\n",
    "headers = {\n",
    "    'User-Agent':'Mozilla/5.0 (Windows NT 10.0; Win64; x64) AppleWebKit/537.36 (KHTML, like Gecko) Chrome/68.0.3440.106 Safari/537.36'\n",
    "}\n",
    "#猫眼看板地址\n",
    "maoyan_board = 'http://maoyan.com/board/4'\n",
    "board_get = requests.get(maoyan_board,headers=headers)\n",
    "#榜单列表，榜单列表区根据当前网页直接设定，也可在board页面找到特征，取href进行拼接\n",
    "pattern_board = re.compile('class=\"movie-item-info\".*?<a href=\"(.*?)\" title=\"(.*?)\" data-act=\"boarditem-click\" data-val=\"(.*?)\">(.*?)</a>.*?class=\"star\">\\s*(.*?)\\s*?</p>.*?<p class=\"releasetime\">(.*?)</p>',re.S)\n",
    "board_lists = re.findall(pattern_board,board_get.text)\n",
    "print(board_lists)\n",
    "for board_list in board_lists:\n",
    "    print(board_list[0],board_list[1],board_list[2],board_list[4],board_list[5])\n",
    "#写入字典\n"
   ]
  }
 ],
 "metadata": {
  "kernelspec": {
   "display_name": "Python 3",
   "language": "python",
   "name": "python3"
  },
  "language_info": {
   "codemirror_mode": {
    "name": "ipython",
    "version": 3
   },
   "file_extension": ".py",
   "mimetype": "text/x-python",
   "name": "python",
   "nbconvert_exporter": "python",
   "pygments_lexer": "ipython3",
   "version": "3.6.5"
  }
 },
 "nbformat": 4,
 "nbformat_minor": 2
}
