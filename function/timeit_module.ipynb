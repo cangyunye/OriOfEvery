{
 "cells": [
  {
   "cell_type": "markdown",
   "metadata": {},
   "source": [
    "# 测量小段代码的执行时间\n",
    "timeit模块\n",
    "该模块定义了三个使用函数和一个公共类\n",
    "\n",
    "timeit.timeit(stmt='pass', setup='pass', timer=<default timer>, number=1000000)\n",
    "\n",
    "创建一个Timer实例，参数分别是stmt（需要测量的语句或函数），setup（初始化代码或构建环境的导入语句），timer（计时函数），number（每一次测量中语句被执行的次数） \n",
    "注：由于timeit()正在执行语句，语句中如果存在返回值的话会阻止timeit()返回执行时间。timeit()会取代原语句中的返回值。\n",
    "\n",
    "timeit.repeat(stmt='pass', setup='pass', timer=<default timer>, repeat=3, number=1000000)\n",
    "\n",
    "创建一个Timer实例，参数分别是stmt（需要测量的语句或函数），setup（初始化代码或构建环境的导入语句），timer（计时函数），repeat（重复测量的次数），number（每一次测量中语句被执行的次数）\n",
    "\n",
    "timeit.default_timer()\n",
    "\n",
    "默认的计时器，一般是time.perf_counter()，time.perf_counter()方法能够在任一平台提供最高精度的计时器（它也只是记录了自然时间，记录自然时间会被很多其他因素影响，例如计算机的负载）\n",
    "\n",
    "class timeit.Timer(stmt='pass', setup='pass', timer=<timer function>)\n",
    "\n",
    "计算小段代码执行速度的类，构造函数需要的参数有stmt，setup，timer。前两个参数的默认值都是'pass'，timer参数是平台相关的；前两个参数都可以包含多个语句，多个语句间使用分号（;）或新行隔开。\n",
    "\n",
    "第一次测试语句的时间，可以使用timeit()方法；repeat()方法相当于持续多次调用timeit()方法并将结果返回为一个列表。\n",
    "\n",
    "stmt和setup参数也可以是可供调用但没有参数的对象，这将会在一个计时函数中嵌套调用它们，然后被timeit()所执行。注意，由于额外的调用，计时开销会相对略多。"
   ]
  },
  {
   "cell_type": "code",
   "execution_count": 14,
   "metadata": {},
   "outputs": [
    {
     "name": "stdout",
     "output_type": "stream",
     "text": [
      "0.2611876694028439 0.21186922203401082 0.1862156483268862\n"
     ]
    }
   ],
   "source": [
    "import timeit\n",
    "a=timeit.timeit('\"-\".join(str(n) for n in range(100))', number=10000)\n",
    "b=timeit.timeit('\"-\".join([str(n) for n in range(100)])', number=10000)\n",
    "c=timeit.timeit('\"-\".join(map(str, range(100)))', number=10000)\n",
    "print(a,b,c)"
   ]
  },
  {
   "cell_type": "markdown",
   "metadata": {},
   "source": [
    "# random生成指定范围内随机数测试"
   ]
  },
  {
   "cell_type": "code",
   "execution_count": 20,
   "metadata": {},
   "outputs": [
    {
     "name": "stdout",
     "output_type": "stream",
     "text": [
      "0.003485133068579671 \t 0.10222578029583929 \t 0.013157208691154665 \t 0.004925331773392827\n"
     ]
    }
   ],
   "source": [
    "import timeit as ti\n",
    "t1=\"int(random.random()*2000000)\"\n",
    "tt1=ti.timeit(t1,setup=\"import random\",number=10000)\n",
    "t2=\"''.join(str(i) for i in random.sample(range(0,9),5))\"#这里请用\"\"将本语句字符串化，以防调用了random\n",
    "tt2=ti.timeit(t2,setup=\"import random\",number=10000)\n",
    "t3=\"random.randrange(1000,2000000)\"\n",
    "tt3=ti.timeit(t3,setup=\"import random\",number=10000)\n",
    "t4=\"round(random.random()*2000000)\"\n",
    "tt4=ti.timeit(t4,setup=\"import random\",number=10000)\n",
    "print(tt1,'\\t',tt2,'\\t',tt3,'\\t',tt4)\n",
    "#显而易见的差距,选择第一种方式作为生成指定位数"
   ]
  },
  {
   "cell_type": "markdown",
   "metadata": {},
   "source": [
    "# 当前py脚本内函数测试"
   ]
  },
  {
   "cell_type": "code",
   "execution_count": 21,
   "metadata": {},
   "outputs": [
    {
     "name": "stdout",
     "output_type": "stream",
     "text": [
      "3.729761574858003\n"
     ]
    }
   ],
   "source": [
    "def test():\n",
    "    \"\"\"Stupid test function\"\"\"\n",
    "    L = [i for i in range(100)]\n",
    "if __name__ == '__main__':\n",
    "    import timeit\n",
    "    print(timeit.timeit(\"test()\", setup=\"from __main__ import test\"))"
   ]
  }
 ],
 "metadata": {
  "kernelspec": {
   "display_name": "Python 3",
   "language": "python",
   "name": "python3"
  },
  "language_info": {
   "codemirror_mode": {
    "name": "ipython",
    "version": 3
   },
   "file_extension": ".py",
   "mimetype": "text/x-python",
   "name": "python",
   "nbconvert_exporter": "python",
   "pygments_lexer": "ipython3",
   "version": "3.6.5"
  }
 },
 "nbformat": 4,
 "nbformat_minor": 2
}
