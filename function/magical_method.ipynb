{
 "cells": [
  {
   "cell_type": "markdown",
   "metadata": {},
   "source": [
    "# 魔法方法\n",
    "魔术方法\t调用方式\t解释\n",
    "__new__(cls [,...])\tinstance = MyClass(arg1, arg2)\t__new__ 在创建实例的时候被调用\n",
    "__init__(self [,...])\tinstance = MyClass(arg1, arg2)\t__init__ 在创建实例的时候被调用\n",
    "__cmp__(self, other)\tself == other, self > other, 等。\t在比较的时候调用\n",
    "__pos__(self)\t+self\t一元加运算符\n",
    "__neg__(self)\t-self\t一元减运算符\n",
    "__invert__(self)\t~self\t取反运算符\n",
    "__index__(self)\tx[self]\t对象被作为索引使用的时候\n",
    "__nonzero__(self)\tbool(self)\t对象的布尔值\n",
    "__getattr__(self, name)\tself.name # name 不存在\t访问一个不存在的属性时\n",
    "__setattr__(self, name, val)\tself.name = val\t对一个属性赋值时\n",
    "__delattr__(self, name)\tdel self.name\t删除一个属性时\n",
    "__getattribute(self, name)\tself.name\t访问任何属性时\n",
    "__getitem__(self, key)\tself[key]\t使用索引访问元素时\n",
    "__setitem__(self, key, val)\tself[key] = val\t对某个索引值赋值时\n",
    "__delitem__(self, key)\tdel self[key]\t删除某个索引值时\n",
    "__iter__(self)\tfor x in self\t迭代时\n",
    "__contains__(self, value)\tvalue in self, value not in self\t使用 in 操作测试关系时\n",
    "__concat__(self, value)\tself + other\t连接两个对象时\n",
    "__call__(self [,...])\tself(args)\t“调用”对象时\n",
    "__enter__(self)\twith self as x:\twith 语句环境管理\n",
    "__exit__(self, exc, val, trace)\twith self as x:\twith 语句环境管理\n",
    "__getstate__(self)\tpickle.dump(pkl_file, self)\t序列化\n",
    "__setstate__(self)\tdata = pickle.load(pkl_file)\t序列化"
   ]
  },
  {
   "cell_type": "code",
   "execution_count": 24,
   "metadata": {},
   "outputs": [],
   "source": [
    "class magical():\n",
    "    def __init__(self,a,b,c):\n",
    "        print(\"__init__.{0}.{1}.{2} \".format(a,b,c))\n",
    "    \n",
    "#     def __new__(cls):\n",
    "#         print(\"__new__ \")\n",
    "#         return super(A, cls).__new__(cls)\n",
    "\n",
    "    def __call__(self,a,b):  # 可以定义任意参数\n",
    "        print('__call__.{0}.{1} '.format(a,b))\n",
    "    "
   ]
  },
  {
   "cell_type": "code",
   "execution_count": 35,
   "metadata": {},
   "outputs": [
    {
     "name": "stdout",
     "output_type": "stream",
     "text": [
      "__init__.1.2.3 \n"
     ]
    }
   ],
   "source": [
    "ins=magical(1,2,3)"
   ]
  },
  {
   "cell_type": "code",
   "execution_count": 36,
   "metadata": {},
   "outputs": [
    {
     "name": "stdout",
     "output_type": "stream",
     "text": [
      "__call__.1.2 \n"
     ]
    }
   ],
   "source": [
    "ins(1,2)"
   ]
  },
  {
   "cell_type": "code",
   "execution_count": 37,
   "metadata": {},
   "outputs": [
    {
     "name": "stdout",
     "output_type": "stream",
     "text": [
      "__init__.1.2.3 \n",
      "__call__.1.2 \n"
     ]
    }
   ],
   "source": [
    "magical(1,2,3)(1,2)"
   ]
  },
  {
   "cell_type": "code",
   "execution_count": null,
   "metadata": {},
   "outputs": [],
   "source": []
  }
 ],
 "metadata": {
  "kernelspec": {
   "display_name": "Python 3",
   "language": "python",
   "name": "python3"
  },
  "language_info": {
   "codemirror_mode": {
    "name": "ipython",
    "version": 3
   },
   "file_extension": ".py",
   "mimetype": "text/x-python",
   "name": "python",
   "nbconvert_exporter": "python",
   "pygments_lexer": "ipython3",
   "version": "3.6.5"
  }
 },
 "nbformat": 4,
 "nbformat_minor": 2
}
