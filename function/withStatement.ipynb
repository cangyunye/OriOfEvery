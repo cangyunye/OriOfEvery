{
 "cells": [
  {
   "cell_type": "markdown",
   "metadata": {
    "heading_collapsed": true
   },
   "source": [
    "## 术语\n",
    "\n",
    "要使用 with 语句，首先要明白上下文管理器这一概念。有了上下文管理器，with 语句才能工作。\n",
    "\n",
    "下面是一组与上下文管理器和with 语句有关的概念。\n",
    "\n",
    "**上下文管理协议（Context Management Protocol）**：包含方法 `__enter__()` 和 `__exit__()`，支持\n",
    "\n",
    "该协议的对象要实现这两个方法。\n",
    "\n",
    "**上下文管理器（Context Manager）**：支持上下文管理协议的对象，这种对象实现了\n",
    "\n",
    "`__enter__()` 和 `__exit__()` 方法。上下文管理器定义执行 with 语句时要建立的运行时上下文，\n",
    "\n",
    "负责执行 with 语句块上下文中的进入与退出操作。通常使用 with 语句调用上下文管理器，\n",
    "\n",
    "也可以通过直接调用其方法来使用。\n",
    "\n",
    "**运行时上下文（runtime context）**：由上下文管理器创建，通过上下文管理器的 `__enter__()` 和\n",
    "\n",
    "`__exit__()` 方法实现，`__enter__()` 方法在语句体执行之前进入运行时上下文，`__exit__()` 在\n",
    "\n",
    "语句体执行完后从运行时上下文退出。with 语句支持运行时上下文这一概念。\n",
    "\n",
    "**上下文表达式（Context Expression）**：with 语句中跟在关键字 with 之后的表达式，该表达式\n",
    "\n",
    "要返回一个上下文管理器对象。\n",
    "\n",
    "语句体（with-body）：with 语句包裹起来的代码块，在执行语句体之前会调用上下文管\n",
    "\n",
    "理器的 `__enter__()` 方法，执行完语句体之后会执行 `__exit__()` 方法。\n",
    " "
   ]
  },
  {
   "cell_type": "markdown",
   "metadata": {},
   "source": [
    "## 基本语法和工作原理\n",
    "\n",
    "with 语句的语法格式如下：\n",
    "\n",
    "清单 1. with 语句的语法格式\n",
    "\n",
    "```python\n",
    "with context_expression [as target(s)]:\n",
    "    with-body\n",
    "```   \n",
    "清单 2. 多项表示\n",
    "```python\n",
    "with context_expression_1 as A, context_expression_2 as B:\n",
    "    with-body\n",
    "```\n",
    "清单 3. nested函数多项表示\n",
    "```python\n",
    "with nested(A(), B(), C()) as (X, Y, Z):\n",
    "     # with-body code here\n",
    "```\n",
    "清单 4.多嵌套\n",
    "```python\n",
    "with A() as X:\n",
    "    with B() as Y:\n",
    "        with C() as Z:\n",
    "             # with-body code here\n",
    "```\n",
    "\n",
    "1. 执行 context_expression，生成上下文管理器 context_manager\n",
    "\n",
    "2. 调用上下文管理器的 `__enter__()` 方法；如果使用了 as 子句，则将 `__enter__()` 方法的返回值赋值给 as 子句中的 target(s)\n",
    "\n",
    "3. 执行语句体 with-body\n",
    "\n",
    "4. 不管是否执行过程中是否发生了异常，执行上下文管理器的 `__exit__()` 方法，`__exit__()` 方法负责执行“清理”工作，如释放资源等。\n",
    "\n",
    "5. 如果执行过程中没有出现异常，或者语句体中执行了语句 break/continue/return，则以 None 作为参数调用 `__exit__(None, None, None)` \n",
    "\n",
    "6. 如果执行过程中出现异常，则使用 sys.exc_info 得到的异常信息为参数调用 `__exit__(exc_type, exc_value, exc_traceback)`\n",
    "\n",
    "7. 如果 `__exit__(type, value, traceback)` 返回 False，则会重新抛出异常，让with 之外的语句逻辑来处理异常\n",
    "\n",
    "open()方法 使用with语句\n",
    "```python\n",
    "with open(\"read.txt\",\"r\") as f:\n",
    "    print(f.readlines())\n",
    "```"
   ]
  },
  {
   "cell_type": "markdown",
   "metadata": {},
   "source": [
    "## 自定义with上下文管理器\n",
    "\n",
    "执行流程如下\n",
    "\n",
    "1. 自定义类，定义`__enter__()`和`__exit__()`方法\n",
    "\n",
    "2. 执行with语句块内操作\n",
    "\n",
    "3. with语句块结束，调用`__exit__()`方法\n",
    "\n",
    "`__enter__()` ：进入上下文管理器的运行时上下文，在语句体执行前调用。with 语句将该方法的返回值赋值给 as 子句中的 target，如果指定了 as 子句的话\n",
    "\n",
    "`__exit__(exc_type, exc_value, exc_traceback)` ：退出与上下文管理器相关的运行时上下文，返回一个布尔值表示是否对发生的异常进行处理。参数表示引起退出操作的异常，如果退出时没有发生异常，则3个参数都为None。如果发生异常，返回\n",
    "True 表示不处理异常，否则会在退出该方法后重新抛出异常以由 with 语句之外的代码逻辑进行处理。如果该方法内部产生异常，则会取代由 statement-body 中语句产生的异常。要处理异常时，不要显示重新抛出异常，即不能重新抛出通过参数传递进来的异常，只需要将返回值设置为 False 就可以了。之后，上下文管理代码会检测是否 `__exit__() `失败来处理异常"
   ]
  },
  {
   "cell_type": "code",
   "execution_count": 5,
   "metadata": {},
   "outputs": [],
   "source": [
    "class File():\n",
    "    def __init__(self, filename, mode):\n",
    "        self.filename = filename\n",
    "        self.mode = mode\n",
    "\n",
    "    def __enter__(self):\n",
    "        self.open_file = open(self.filename, self.mode)\n",
    "        return self.open_file\n",
    "\n",
    "    def __exit__(self, *args):\n",
    "        self.open_file.close()\n",
    "\n",
    "\n",
    "files = []\n",
    "for _ in range(10):\n",
    "    with File('foo.txt', 'w') as infile:\n",
    "        infile.write('foo')\n",
    "        files.append(infile)"
   ]
  },
  {
   "cell_type": "code",
   "execution_count": null,
   "metadata": {},
   "outputs": [],
   "source": [
    "from contextlib import contextmanager\n",
    "\n",
    "@contextmanager\n",
    "def open_file(path, mode):\n",
    "    the_file = open(path, mode)\n",
    "    yield the_file\n",
    "    the_file.close()\n",
    "\n",
    "files = []\n",
    "\n",
    "for x in range(100000):\n",
    "    with open_file('foo.txt', 'w') as infile:\n",
    "        files.append(infile)\n",
    "\n",
    "for f in files:\n",
    "    if not f.closed:\n",
    "        print('not closed')"
   ]
  },
  {
   "cell_type": "code",
   "execution_count": null,
   "metadata": {},
   "outputs": [],
   "source": [
    "from contextlib import contextmanager\n",
    "\n",
    "@contextmanager\n",
    "def tag(name):\n",
    "    print(\"<%s>\" % name)\n",
    "    yield\n",
    "    print(\"</%s>\" % name)\n",
    "\n",
    "with tag(\"h1\"):\n",
    "    print(\"foo\")\n",
    "\"\"\"\n",
    "<h1>\n",
    "foo\n",
    "</h1>\n",
    "\"\"\""
   ]
  },
  {
   "cell_type": "code",
   "execution_count": 1,
   "metadata": {},
   "outputs": [
    {
     "name": "stdout",
     "output_type": "stream",
     "text": [
      "Init.\n",
      "enter the with block.\n",
      "orange\n",
      "exit the with block.\n"
     ]
    }
   ],
   "source": [
    "class withm():\n",
    "    \n",
    "    def __init__(self,content):\n",
    "        self.content = content\n",
    "        print('Init.')\n",
    "\n",
    "    def __enter__(self):\n",
    "        print(\"enter the with block.\")\n",
    "        return self\n",
    "\n",
    "    def text(self):\n",
    "        print(self.content)\n",
    "\n",
    "\n",
    "    def __exit__(self, *args):\n",
    "        print(\"exit the with block.\")\n",
    "\n",
    "\n",
    "with withm('orange') as o:\n",
    "    o.text()"
   ]
  },
  {
   "cell_type": "code",
   "execution_count": 2,
   "metadata": {},
   "outputs": [
    {
     "name": "stdout",
     "output_type": "stream",
     "text": [
      "in enter\n",
      "type:  <class 'ZeroDivisionError'>\n",
      "val:  division by zero\n",
      "tb:  <traceback object at 0x000001EB352F0648>\n"
     ]
    },
    {
     "ename": "ZeroDivisionError",
     "evalue": "division by zero",
     "output_type": "error",
     "traceback": [
      "\u001b[1;31m---------------------------------------------------------------------------\u001b[0m",
      "\u001b[1;31mZeroDivisionError\u001b[0m                         Traceback (most recent call last)",
      "\u001b[1;32m<ipython-input-2-be3d7746db11>\u001b[0m in \u001b[0;36m<module>\u001b[1;34m\u001b[0m\n\u001b[0;32m     12\u001b[0m \u001b[1;33m\u001b[0m\u001b[0m\n\u001b[0;32m     13\u001b[0m \u001b[1;32mwith\u001b[0m \u001b[0mSample\u001b[0m\u001b[1;33m(\u001b[0m\u001b[1;33m)\u001b[0m \u001b[1;32mas\u001b[0m \u001b[0msample\u001b[0m\u001b[1;33m:\u001b[0m\u001b[1;33m\u001b[0m\u001b[1;33m\u001b[0m\u001b[0m\n\u001b[1;32m---> 14\u001b[1;33m     \u001b[0msample\u001b[0m\u001b[1;33m.\u001b[0m\u001b[0mdo_something\u001b[0m\u001b[1;33m(\u001b[0m\u001b[1;33m)\u001b[0m\u001b[1;33m\u001b[0m\u001b[1;33m\u001b[0m\u001b[0m\n\u001b[0m",
      "\u001b[1;32m<ipython-input-2-be3d7746db11>\u001b[0m in \u001b[0;36mdo_something\u001b[1;34m(self)\u001b[0m\n\u001b[0;32m      8\u001b[0m         \u001b[0mprint\u001b[0m \u001b[1;33m(\u001b[0m\u001b[1;34m\"tb: \"\u001b[0m\u001b[1;33m,\u001b[0m \u001b[0mexc_tb\u001b[0m\u001b[1;33m)\u001b[0m\u001b[1;33m\u001b[0m\u001b[1;33m\u001b[0m\u001b[0m\n\u001b[0;32m      9\u001b[0m     \u001b[1;32mdef\u001b[0m \u001b[0mdo_something\u001b[0m\u001b[1;33m(\u001b[0m\u001b[0mself\u001b[0m\u001b[1;33m)\u001b[0m\u001b[1;33m:\u001b[0m\u001b[1;33m\u001b[0m\u001b[1;33m\u001b[0m\u001b[0m\n\u001b[1;32m---> 10\u001b[1;33m         \u001b[0mbar\u001b[0m \u001b[1;33m=\u001b[0m \u001b[1;36m1\u001b[0m \u001b[1;33m/\u001b[0m \u001b[1;36m0\u001b[0m\u001b[1;33m\u001b[0m\u001b[1;33m\u001b[0m\u001b[0m\n\u001b[0m\u001b[0;32m     11\u001b[0m         \u001b[1;32mreturn\u001b[0m \u001b[0mbar\u001b[0m \u001b[1;33m+\u001b[0m \u001b[1;36m10\u001b[0m\u001b[1;33m\u001b[0m\u001b[1;33m\u001b[0m\u001b[0m\n\u001b[0;32m     12\u001b[0m \u001b[1;33m\u001b[0m\u001b[0m\n",
      "\u001b[1;31mZeroDivisionError\u001b[0m: division by zero"
     ]
    }
   ],
   "source": [
    "class Sample():\n",
    "    def __enter__(self):\n",
    "        print('in enter')\n",
    "        return self\n",
    "    def __exit__(self, exc_type, exc_val, exc_tb):\n",
    "        print (\"type: \", exc_type)\n",
    "        print (\"val: \", exc_val)\n",
    "        print (\"tb: \", exc_tb)\n",
    "    def do_something(self):\n",
    "        bar = 1 / 0\n",
    "        return bar + 10\n",
    "    \n",
    "with Sample() as sample:\n",
    "    sample.do_something()"
   ]
  },
  {
   "cell_type": "markdown",
   "metadata": {},
   "source": [
    "## contextlib 模块\n",
    "\n",
    "contextmanager用于对**生成器函数**进行装饰。"
   ]
  },
  {
   "cell_type": "code",
   "execution_count": 3,
   "metadata": {},
   "outputs": [
    {
     "name": "stdout",
     "output_type": "stream",
     "text": [
      "[Allocate resources]\n",
      "Code before yield-statement executes in __enter__\n",
      "Assigned Value: *** contextmanager demo ***\n",
      "Code after yield-statement executes in __exit__\n",
      "[Free resources]\n"
     ]
    }
   ],
   "source": [
    "from contextlib import contextmanager\n",
    " \n",
    "@contextmanager\n",
    "def demo():\n",
    "    print ('[Allocate resources]')\n",
    "    print ('Code before yield-statement executes in __enter__')\n",
    "    yield ('*** contextmanager demo ***')\n",
    "    print ('Code after yield-statement executes in __exit__')\n",
    "    print ('[Free resources]')\n",
    "\n",
    "with demo() as value:\n",
    "    print ('Assigned Value: %s' % value)"
   ]
  },
  {
   "cell_type": "markdown",
   "metadata": {},
   "source": [
    "1. yield之前的语句在`__enter__()`方法中执行，即在`with context_expression`中执行\n",
    "2. yield之后的语句在`__exit__()`中执行\n",
    "3. yield产生的值赋值给as中的value\n",
    "4. 不同于`__enter__()` / `__exit__()` contextmanager需要在yield语句前后定义，执行**获取**和**清理**操作。"
   ]
  },
  {
   "cell_type": "markdown",
   "metadata": {},
   "source": [
    "## 上下文管理 closing 实现\n",
    "\n",
    "上下文管理器会将包装的对象赋值给 as 子句的 target 变量，\n",
    "\n",
    "同时保证打开的对象在 with-body 执行完后会关闭掉。\n",
    "\n",
    "closing 上下文管理器包装起来的对象必须提供 close() 方法的定义，\n",
    "\n",
    "否则执行时会报 AttributeError 错误。"
   ]
  },
  {
   "cell_type": "code",
   "execution_count": 4,
   "metadata": {},
   "outputs": [
    {
     "name": "stdout",
     "output_type": "stream",
     "text": [
      "Acquire resources.\n",
      "Using resources\n",
      "Clean up any resources acquired.\n"
     ]
    }
   ],
   "source": [
    "class closing(object):\n",
    "    # help doc here\n",
    "    def __init__(self, thing):\n",
    "        self.thing = thing\n",
    "    def __enter__(self):\n",
    "        return self.thing\n",
    "    def __exit__(self, *exc_info):\n",
    "        self.thing.close()\n",
    "        \n",
    "class ClosingDemo(object):\n",
    "    def __init__(self):\n",
    "        self.acquire()\n",
    "    def acquire(self):\n",
    "        print ('Acquire resources.')\n",
    "    def free(self):\n",
    "        print ('Clean up any resources acquired.')\n",
    "    def close(self):\n",
    "        self.free()\n",
    "        \n",
    "with closing(ClosingDemo()):\n",
    "    print ('Using resources')"
   ]
  },
  {
   "cell_type": "markdown",
   "metadata": {},
   "source": [
    "closing 适用于提供了 close() 实现的对象，比如网络连接、数据库连接等，也可以在自定义类时通过接口 close() 来执行所需要的资源“清理”工作"
   ]
  },
  {
   "cell_type": "markdown",
   "metadata": {},
   "source": [
    "## ContextDecorator类继承"
   ]
  },
  {
   "cell_type": "code",
   "execution_count": 2,
   "metadata": {},
   "outputs": [
    {
     "name": "stdout",
     "output_type": "stream",
     "text": [
      "<p>\n",
      "Here is some non-HTML\n",
      "</p>\n"
     ]
    }
   ],
   "source": [
    "from contextlib import ContextDecorator\n",
    "\n",
    "class makeparagraph(ContextDecorator):\n",
    "    def __enter__(self):\n",
    "        print('<p>')\n",
    "        return self\n",
    "\n",
    "    def __exit__(self, *exc):\n",
    "        print('</p>')\n",
    "        return False\n",
    "\n",
    "@makeparagraph()\n",
    "def emit_html():\n",
    "    print('Here is some non-HTML')\n",
    "\n",
    "emit_html()"
   ]
  }
 ],
 "metadata": {
  "kernelspec": {
   "display_name": "Python 3",
   "language": "python",
   "name": "python3"
  },
  "language_info": {
   "codemirror_mode": {
    "name": "ipython",
    "version": 3
   },
   "file_extension": ".py",
   "mimetype": "text/x-python",
   "name": "python",
   "nbconvert_exporter": "python",
   "pygments_lexer": "ipython3",
   "version": "3.7.1"
  },
  "toc": {
   "base_numbering": 1,
   "nav_menu": {
    "height": "123px",
    "width": "202px"
   },
   "number_sections": true,
   "sideBar": true,
   "skip_h1_title": false,
   "title_cell": "Table of Contents",
   "title_sidebar": "Contents",
   "toc_cell": false,
   "toc_position": {},
   "toc_section_display": true,
   "toc_window_display": false
  },
  "varInspector": {
   "cols": {
    "lenName": 16,
    "lenType": 16,
    "lenVar": 40
   },
   "kernels_config": {
    "python": {
     "delete_cmd_postfix": "",
     "delete_cmd_prefix": "del ",
     "library": "var_list.py",
     "varRefreshCmd": "print(var_dic_list())"
    },
    "r": {
     "delete_cmd_postfix": ") ",
     "delete_cmd_prefix": "rm(",
     "library": "var_list.r",
     "varRefreshCmd": "cat(var_dic_list()) "
    }
   },
   "types_to_exclude": [
    "module",
    "function",
    "builtin_function_or_method",
    "instance",
    "_Feature"
   ],
   "window_display": false
  }
 },
 "nbformat": 4,
 "nbformat_minor": 2
}
