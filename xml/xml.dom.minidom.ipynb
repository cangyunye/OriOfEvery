{
 "cells": [
  {
   "cell_type": "markdown",
   "metadata": {},
   "source": [
    "\n",
    "https://docs.python.org/zh-cn/3.7/library/markup.html\n",
    "\n",
    "`parse()`函数可以采用文件名或打开的文件对象\n",
    "\n",
    "\n",
    "`xml.dom.minidom.parse(filename_or_file[, parser[, bufsize]])`\n",
    "\n",
    "如果你在一个字符串中有XML，你可以使用这个`parseString()`函数：\n",
    "\n",
    "```\n",
    "xml.dom.minidom.parseString(string[, parser])\n",
    "```\n",
    "\n",
    "返回一个表示字符串的文档。 此方法为该字符串创建一个StringIO对象，并将其传递给parse（）。\n",
    "\n",
    "这两个函数都会返回一个`Document`代表文档内容的对象。\n",
    "\n",
    "`parse()`和`parseString()`功能做的是一个“DOM生成器”，可以从任何SAX解析器解析接受事件并将它们转换成DOM树连接XML解析器。\n",
    "\n",
    "这些功能的名称可能是误导性的，但在学习接口时很容易理解。文档的解析将在这些函数返回之前完成; 只是这些函数本身不提供解析器实现。\n"
   ]
  },
  {
   "cell_type": "code",
   "execution_count": 1,
   "metadata": {},
   "outputs": [],
   "source": [
    "from xml.dom.minidom import parse,parseString\n",
    "import xml.dom.minidom\n",
    "documents=\"\"\"<Contact>\n",
    "        <Name>胡一刀</Name>\n",
    "        <Starred>0</Starred>\n",
    "        <PhoneList>\n",
    "            <Phone Type=\"2\">+86 199 9876 1807</Phone>\n",
    "        </PhoneList>\n",
    "        <PhoneList>\n",
    "            <Phone Type=\"2\">+86 199 9875 1807</Phone>\n",
    "        </PhoneList>\n",
    "        <EmailList>\n",
    "            <Email Type=\"2\">huyidao@xiaomi.com</Email>\n",
    "        </EmailList>\n",
    "        <Account value=\"0\">\n",
    "            <Name>215037230</Name>\n",
    "            <Type>com.xiaomi</Type>\n",
    "        </Account>\n",
    "        <GroupList>\n",
    "            <GroupName>CRM</GroupName>\n",
    "        </GroupList>\n",
    "    </Contact>\"\"\"\n",
    "\n",
    "DOMTree = parseString(documents)\n",
    "collection = DOMTree.documentElement\n"
   ]
  },
  {
   "cell_type": "code",
   "execution_count": 2,
   "metadata": {},
   "outputs": [
    {
     "name": "stdout",
     "output_type": "stream",
     "text": [
      "Contact\n"
     ]
    }
   ],
   "source": [
    "print(collection.tagName)"
   ]
  },
  {
   "cell_type": "code",
   "execution_count": 3,
   "metadata": {},
   "outputs": [
    {
     "data": {
      "text/plain": [
       "[<DOM Element: Name at 0x1fe1eb48c28>, <DOM Element: Name at 0x1fe1ebc9210>]"
      ]
     },
     "execution_count": 3,
     "metadata": {},
     "output_type": "execute_result"
    }
   ],
   "source": [
    "# 按标签名获取节点列表\n",
    "DOMTree.getElementsByTagName('Name')\n",
    "collection.getElementsByTagName('Name')"
   ]
  },
  {
   "cell_type": "code",
   "execution_count": 4,
   "metadata": {},
   "outputs": [
    {
     "data": {
      "text/plain": [
       "2"
      ]
     },
     "execution_count": 4,
     "metadata": {},
     "output_type": "execute_result"
    }
   ],
   "source": [
    "# 统计标签出现次数\n",
    "DOMTree.getElementsByTagName('Name').length"
   ]
  },
  {
   "cell_type": "code",
   "execution_count": 5,
   "metadata": {
    "scrolled": true
   },
   "outputs": [
    {
     "data": {
      "text/plain": [
       "<DOM Element: Name at 0x1fe1eb48c28>"
      ]
     },
     "execution_count": 5,
     "metadata": {},
     "output_type": "execute_result"
    }
   ],
   "source": [
    "# 指定节点列表项\n",
    "DOMTree.getElementsByTagName('Name').item(0)"
   ]
  },
  {
   "cell_type": "code",
   "execution_count": 6,
   "metadata": {},
   "outputs": [
    {
     "data": {
      "text/plain": [
       "<xml.dom.minidom.Attr at 0x1fe1ebb7390>"
      ]
     },
     "execution_count": 6,
     "metadata": {},
     "output_type": "execute_result"
    }
   ],
   "source": [
    "# 获取标签内属性\n",
    "collection.getElementsByTagName('Email').item(0).getAttributeNode(\"Type\")"
   ]
  },
  {
   "cell_type": "code",
   "execution_count": 7,
   "metadata": {},
   "outputs": [
    {
     "data": {
      "text/plain": [
       "'Type'"
      ]
     },
     "execution_count": 7,
     "metadata": {},
     "output_type": "execute_result"
    }
   ],
   "source": [
    "# 获取标签内属性名称\n",
    "collection.getElementsByTagName('Email').item(0).getAttributeNode(\"Type\").name"
   ]
  },
  {
   "cell_type": "code",
   "execution_count": 8,
   "metadata": {},
   "outputs": [
    {
     "data": {
      "text/plain": [
       "'2'"
      ]
     },
     "execution_count": 8,
     "metadata": {},
     "output_type": "execute_result"
    }
   ],
   "source": [
    "# 获取标签内属性值\n",
    "collection.getElementsByTagName('Email').item(0).getAttributeNode(\"Type\").value"
   ]
  },
  {
   "cell_type": "code",
   "execution_count": 9,
   "metadata": {},
   "outputs": [
    {
     "name": "stdout",
     "output_type": "stream",
     "text": [
      "PhoneList\n"
     ]
    }
   ],
   "source": [
    "# 获取标签名称\n",
    "print(DOMTree.getElementsByTagName('PhoneList')[0].nodeName)"
   ]
  },
  {
   "cell_type": "code",
   "execution_count": 10,
   "metadata": {},
   "outputs": [
    {
     "data": {
      "text/plain": [
       "[[<DOM Text node \"'胡一刀'\">], [<DOM Text node \"'215037230'\">]]"
      ]
     },
     "execution_count": 10,
     "metadata": {},
     "output_type": "execute_result"
    }
   ],
   "source": [
    "[t.childNodes for t in DOMTree.getElementsByTagName('Name')]"
   ]
  },
  {
   "cell_type": "code",
   "execution_count": 11,
   "metadata": {},
   "outputs": [
    {
     "name": "stdout",
     "output_type": "stream",
     "text": [
      "+86 199 9876 1807\n",
      "+86 199 9875 1807\n"
     ]
    }
   ],
   "source": [
    "# 获取节点下的VALUE值\n",
    "print(DOMTree.getElementsByTagName('PhoneList')[0].childNodes[1].childNodes[0].data)\n",
    "print(DOMTree.getElementsByTagName('PhoneList')[1].childNodes[1].childNodes[0].nodeValue)"
   ]
  },
  {
   "cell_type": "code",
   "execution_count": 12,
   "metadata": {
    "scrolled": true
   },
   "outputs": [
    {
     "name": "stdout",
     "output_type": "stream",
     "text": [
      "<html>\n",
      "<title>Demo slideshow</title>\n",
      "<p>Slide title</p>\n",
      "<p>Another demo slide</p>\n",
      "<h2>Slide title</h2>\n",
      "<ul>\n",
      "<li>This is a demo</li>\n",
      "<li>Of a program for processing slides</li>\n",
      "</ul>\n",
      "<h2>Another demo slide</h2>\n",
      "<ul>\n",
      "<li>It is important</li>\n",
      "<li>To have more than</li>\n",
      "<li>one slide</li>\n",
      "</ul>\n",
      "</html>\n"
     ]
    }
   ],
   "source": [
    "import xml.dom.minidom\n",
    "\n",
    "document = \"\"\"\\\n",
    "<slideshow>\n",
    "<title>Demo slideshow</title>\n",
    "<slide><title>Slide title</title>\n",
    "<point>This is a demo</point>\n",
    "<point>Of a program for processing slides</point>\n",
    "</slide>\n",
    "\n",
    "<slide><title>Another demo slide</title>\n",
    "<point>It is important</point>\n",
    "<point>To have more than</point>\n",
    "<point>one slide</point>\n",
    "</slide>\n",
    "</slideshow>\n",
    "\"\"\"\n",
    "\n",
    "dom = xml.dom.minidom.parseString(document)\n",
    "\n",
    "def getText(nodelist):\n",
    "    rc = []\n",
    "    for node in nodelist:\n",
    "        if node.nodeType == node.TEXT_NODE:\n",
    "            rc.append(node.data)\n",
    "    return ''.join(rc)\n",
    "\n",
    "def handleSlideshow(slideshow):\n",
    "    print(\"<html>\")\n",
    "    handleSlideshowTitle(slideshow.getElementsByTagName(\"title\")[0])\n",
    "    slides = slideshow.getElementsByTagName(\"slide\")\n",
    "    handleToc(slides)\n",
    "    handleSlides(slides)\n",
    "    print(\"</html>\")\n",
    "\n",
    "def handleSlides(slides):\n",
    "    for slide in slides:\n",
    "        handleSlide(slide)\n",
    "\n",
    "def handleSlide(slide):\n",
    "    handleSlideTitle(slide.getElementsByTagName(\"title\")[0])\n",
    "    handlePoints(slide.getElementsByTagName(\"point\"))\n",
    "\n",
    "def handleSlideshowTitle(title):\n",
    "    print(\"<title>%s</title>\" % getText(title.childNodes))\n",
    "\n",
    "def handleSlideTitle(title):\n",
    "    print(\"<h2>%s</h2>\" % getText(title.childNodes))\n",
    "\n",
    "def handlePoints(points):\n",
    "    print(\"<ul>\")\n",
    "    for point in points:\n",
    "        handlePoint(point)\n",
    "    print(\"</ul>\")\n",
    "\n",
    "def handlePoint(point):\n",
    "    print(\"<li>%s</li>\" % getText(point.childNodes))\n",
    "\n",
    "def handleToc(slides):\n",
    "    for slide in slides:\n",
    "        title = slide.getElementsByTagName(\"title\")[0]\n",
    "        print(\"<p>%s</p>\" % getText(title.childNodes))\n",
    "\n",
    "handleSlideshow(dom)\n"
   ]
  }
 ],
 "metadata": {
  "kernelspec": {
   "display_name": "Python 3",
   "language": "python",
   "name": "python3"
  },
  "language_info": {
   "codemirror_mode": {
    "name": "ipython",
    "version": 3
   },
   "file_extension": ".py",
   "mimetype": "text/x-python",
   "name": "python",
   "nbconvert_exporter": "python",
   "pygments_lexer": "ipython3",
   "version": "3.7.1"
  },
  "toc": {
   "base_numbering": 1,
   "nav_menu": {},
   "number_sections": true,
   "sideBar": true,
   "skip_h1_title": false,
   "title_cell": "Table of Contents",
   "title_sidebar": "Contents",
   "toc_cell": false,
   "toc_position": {},
   "toc_section_display": true,
   "toc_window_display": false
  },
  "varInspector": {
   "cols": {
    "lenName": 16,
    "lenType": 16,
    "lenVar": 40
   },
   "kernels_config": {
    "python": {
     "delete_cmd_postfix": "",
     "delete_cmd_prefix": "del ",
     "library": "var_list.py",
     "varRefreshCmd": "print(var_dic_list())"
    },
    "r": {
     "delete_cmd_postfix": ") ",
     "delete_cmd_prefix": "rm(",
     "library": "var_list.r",
     "varRefreshCmd": "cat(var_dic_list()) "
    }
   },
   "types_to_exclude": [
    "module",
    "function",
    "builtin_function_or_method",
    "instance",
    "_Feature"
   ],
   "window_display": false
  }
 },
 "nbformat": 4,
 "nbformat_minor": 2
}
