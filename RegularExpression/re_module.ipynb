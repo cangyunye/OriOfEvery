{
 "cells": [
  {
   "cell_type": "markdown",
   "metadata": {},
   "source": [
    "# python re模块攻略（正则表达式模块）\n"
   ]
  },
  {
   "cell_type": "markdown",
   "metadata": {},
   "source": [
    "## match()\n",
    "从字符串的起始位置开始匹配"
   ]
  },
  {
   "cell_type": "code",
   "execution_count": 2,
   "metadata": {
    "scrolled": true
   },
   "outputs": [
    {
     "name": "stdout",
     "output_type": "stream",
     "text": [
      "68\n",
      "sunrise\n",
      "morning\n"
     ]
    }
   ],
   "source": [
    "\n",
    "import re\n",
    "#文本内容\n",
    "content = 'WOW! Stunning sunrise seen this morning from Belle Plaine, Minnesota'\n",
    "#文本长度\n",
    "print(len(content))\n",
    "#匹配特征\n",
    "pattern = '^\\w{3}!\\sStunning (sun\\w{4}).*(\\w{3}ning).*Minnesota$'\n",
    "result = re.match(pattern,content)\n",
    "f=lambda x:print(result.group(x))\n",
    "f(1)\n",
    "f(2)"
   ]
  },
  {
   "cell_type": "markdown",
   "metadata": {},
   "source": [
    "^为匹配字符串的开头（对于match方法来说，可以不加，因为是必须从开始位置匹配）,\"\\w\""
   ]
  }
 ],
 "metadata": {
  "kernelspec": {
   "display_name": "Python 3",
   "language": "python",
   "name": "python3"
  },
  "language_info": {
   "codemirror_mode": {
    "name": "ipython",
    "version": 3
   },
   "file_extension": ".py",
   "mimetype": "text/x-python",
   "name": "python",
   "nbconvert_exporter": "python",
   "pygments_lexer": "ipython3",
   "version": "3.6.5"
  }
 },
 "nbformat": 4,
 "nbformat_minor": 2
}
