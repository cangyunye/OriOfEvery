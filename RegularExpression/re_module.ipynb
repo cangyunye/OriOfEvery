{
 "cells": [
  {
   "cell_type": "markdown",
   "metadata": {},
   "source": [
    "# python re模块攻略（正则表达式模块）\n"
   ]
  },
  {
   "cell_type": "markdown",
   "metadata": {},
   "source": [
    "## split()\n",
    "\n",
    "字符串str.split()也可以做到简单分割。\n",
    "\n",
    "但将一串文本按多个分隔符分割可以借助re模块的split()\n",
    "\n"
   ]
  },
  {
   "cell_type": "code",
   "execution_count": 4,
   "metadata": {
    "scrolled": true
   },
   "outputs": [
    {
     "data": {
      "text/plain": [
       "['Today',\n",
       " 'this',\n",
       " 'morning',\n",
       " \"I'm\",\n",
       " 'writing',\n",
       " 'my',\n",
       " 'script',\n",
       " 'and',\n",
       " 'learning',\n",
       " 'with',\n",
       " 'python.']"
      ]
     },
     "execution_count": 4,
     "metadata": {},
     "output_type": "execute_result"
    }
   ],
   "source": [
    "import re\n",
    "line = \"Today,this morning,I'm writing my script and learning with python.\"\n",
    "# 通过\\, 和\\s分别分割逗号和空格，返回列表作为结果\n",
    "re.split(r'[\\,,\\s]',line)"
   ]
  },
  {
   "cell_type": "code",
   "execution_count": 9,
   "metadata": {
    "scrolled": true
   },
   "outputs": [
    {
     "data": {
      "text/plain": [
       "['Today',\n",
       " ',',\n",
       " 'this',\n",
       " ' ',\n",
       " 'morning',\n",
       " ',',\n",
       " \"I'm\",\n",
       " ' ',\n",
       " 'writing',\n",
       " ' ',\n",
       " 'my',\n",
       " ' ',\n",
       " 'script',\n",
       " ' ',\n",
       " 'and',\n",
       " ' ',\n",
       " 'learning',\n",
       " ' ',\n",
       " 'with',\n",
       " ' ',\n",
       " 'python.']"
      ]
     },
     "execution_count": 9,
     "metadata": {},
     "output_type": "execute_result"
    }
   ],
   "source": [
    "# 括号内的特征，会被捕获，“|”进行逻辑或运算\n",
    "re.split(r'(\\,|\\s)',line)"
   ]
  },
  {
   "cell_type": "code",
   "execution_count": 11,
   "metadata": {},
   "outputs": [
    {
     "data": {
      "text/plain": [
       "['Today',\n",
       " 'this',\n",
       " 'morning',\n",
       " \"I'm\",\n",
       " 'writing',\n",
       " 'my',\n",
       " 'script',\n",
       " 'and',\n",
       " 'learning',\n",
       " 'with',\n",
       " 'python.']"
      ]
     },
     "execution_count": 11,
     "metadata": {},
     "output_type": "execute_result"
    }
   ],
   "source": [
    "# 括号内的“?:”可以使特征不被捕获\n",
    "re.split(r'(?:\\,|\\s)',line)"
   ]
  }
 ],
 "metadata": {
  "kernelspec": {
   "display_name": "Python 3",
   "language": "python",
   "name": "python3"
  },
  "language_info": {
   "codemirror_mode": {
    "name": "ipython",
    "version": 3
   },
   "file_extension": ".py",
   "mimetype": "text/x-python",
   "name": "python",
   "nbconvert_exporter": "python",
   "pygments_lexer": "ipython3",
   "version": "3.7.1"
  },
  "toc": {
   "base_numbering": 1,
   "nav_menu": {},
   "number_sections": true,
   "sideBar": true,
   "skip_h1_title": false,
   "title_cell": "Table of Contents",
   "title_sidebar": "Contents",
   "toc_cell": false,
   "toc_position": {},
   "toc_section_display": true,
   "toc_window_display": false
  },
  "varInspector": {
   "cols": {
    "lenName": 16,
    "lenType": 16,
    "lenVar": 40
   },
   "kernels_config": {
    "python": {
     "delete_cmd_postfix": "",
     "delete_cmd_prefix": "del ",
     "library": "var_list.py",
     "varRefreshCmd": "print(var_dic_list())"
    },
    "r": {
     "delete_cmd_postfix": ") ",
     "delete_cmd_prefix": "rm(",
     "library": "var_list.r",
     "varRefreshCmd": "cat(var_dic_list()) "
    }
   },
   "types_to_exclude": [
    "module",
    "function",
    "builtin_function_or_method",
    "instance",
    "_Feature"
   ],
   "window_display": false
  }
 },
 "nbformat": 4,
 "nbformat_minor": 2
}
