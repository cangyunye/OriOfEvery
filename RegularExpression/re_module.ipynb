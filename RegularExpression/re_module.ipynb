{
 "cells": [
  {
   "cell_type": "markdown",
   "metadata": {},
   "source": [
    "# python re模块攻略（正则表达式模块）\n",
    "\n",
    "\n",
    "正则表达式 Regular Expression (RegEx)是定义搜索特征的字符串序列。\n",
    "\n",
    "举例如下：\n",
    "\n",
    "```bash\n",
    "^a...s$\n",
    "```\n",
    "上面的代码定义了RegEx的特征，任意5个字符串，开始为`a`结束为`s`。\n",
    "\n",
    "      \n",
    "Expression:`^a...s$`\n",
    "\n",
    "| String      | Matched? |\n",
    "| :---------- | :------- |\n",
    "| `abs`       | No match |\n",
    "| `alias`     | Match    |\n",
    "| `abyss`     | Match    |\n",
    "| `Alias`     | No match |\n",
    "| `An abacus` | No match |\n",
    "\n",
    "下面，我们使用re模块来进行正则匹配"
   ]
  },
  {
   "cell_type": "code",
   "execution_count": 1,
   "metadata": {},
   "outputs": [
    {
     "name": "stdout",
     "output_type": "stream",
     "text": [
      "Search successful.\n"
     ]
    }
   ],
   "source": [
    "import re\n",
    "pattern = '^a...s$'\n",
    "test_string = 'abyss'\n",
    "result = re.match(pattern, test_string)\n",
    "if result:\n",
    "    print(\"Search successful.\")\n",
    "else:\n",
    "    print(\"Search unsuccessful.\")\t"
   ]
  },
  {
   "cell_type": "markdown",
   "metadata": {},
   "source": [
    "# 使用RegEx指定特征\n",
    "\n",
    "通过使用元字符串来指定正则表达式的特征，如前文所提到的`^`和`$`就是两个元字符。\n",
    "\n",
    "## 何谓元字符\n",
    "元字符可以被RegEx引擎解析为一个特殊的操作方式。\n",
    "\n",
    "以下是元字符列表\n",
    "\n",
    "[] . ^ $ * + ? {} () \\ |\n"
   ]
  },
  {
   "cell_type": "markdown",
   "metadata": {},
   "source": [
    "[] - 方括号\n",
    "\n",
    "方括号指定你想匹配的一组数据\n",
    "\n",
    "Expression：[abc]\n",
    "\n",
    "| String    | Matched? |\n",
    "| :---------- | :-------- |\n",
    "| `a`       | 1 match  |\n",
    "| `ac`        | 2 matches |          \n",
    "| `Hey Jude`  | No match  |          \n",
    "| `abc de ca` | 5 matches |\n",
    "\n",
    "[abc]表示匹配任何包含在`[]`内的元素，如a,b,c\n",
    "\n",
    "你也可以通过`-`指定字符串范围 .\n",
    "\n",
    "- `[a-e]`等同于`[abcde]`.\n",
    "- `[1-4]` 等同于 `[1234]`.\n",
    "- `[0-39]` 等同于`[01239]`.\n",
    "\n",
    "也可以通过`^` 标志在方括号内表示**补集**匹配。\n",
    "\n",
    "- `[^abc]` 表示匹配除了a，b，c的任意字符。\n",
    "- `[^0-9]` 表示匹配除了数字以外的字符。\n",
    "\n"
   ]
  },
  {
   "cell_type": "markdown",
   "metadata": {},
   "source": [
    "## re.findall()\n",
    "\n",
    "`findall(pattern, string, flags=0)`\n",
    "\n",
    "返回一串包含所有匹配项的列表，如果没找到，则返回空列表"
   ]
  },
  {
   "cell_type": "code",
   "execution_count": null,
   "metadata": {},
   "outputs": [],
   "source": [
    "# Program to extract numbers from a string\n",
    "import re\n",
    "string = 'hello 12 hi 89. Howdy 34'\n",
    "pattern = '\\d+'\n",
    "result = re.findall(pattern, string) \n",
    "print(result)\n",
    "# Output: ['12', '89', '34']"
   ]
  },
  {
   "cell_type": "markdown",
   "metadata": {},
   "source": [
    "## re.finditer()\n",
    "\n",
    "返回一个迭代(iterator)形式的match对象"
   ]
  },
  {
   "cell_type": "code",
   "execution_count": 23,
   "metadata": {},
   "outputs": [
    {
     "name": "stdout",
     "output_type": "stream",
     "text": [
      "07-16: carefully\n",
      "40-47: quickly\n"
     ]
    }
   ],
   "source": [
    "text = \"He was carefully disguised but captured quickly by police.\"\n",
    "for m in re.finditer(r\"\\w+ly\", text):\n",
    "    print('%02d-%02d: %s' % (m.start(), m.end(), m.group(0)))"
   ]
  },
  {
   "cell_type": "markdown",
   "metadata": {},
   "source": [
    "## re.split()\n",
    "\n",
    "`split(pattern, string, maxsplit=0, flags=0)`\n",
    "\n",
    "字符串str.split()也可以做到简单分割。\n",
    "\n",
    "但将一串文本按多个分隔符分割可以借助re模块的split(),如果没找到，则返回空列表"
   ]
  },
  {
   "cell_type": "code",
   "execution_count": 2,
   "metadata": {
    "scrolled": true
   },
   "outputs": [
    {
     "name": "stdout",
     "output_type": "stream",
     "text": [
      "['Twelve:', ' Eighty nine:', '.']\n"
     ]
    }
   ],
   "source": [
    "import re\n",
    "string = 'Twelve:12 Eighty nine:89.'\n",
    "pattern = '\\d+'\n",
    "result = re.split(pattern, string) \n",
    "print(result)\n",
    "# Output: ['Twelve:', ' Eighty nine:', '.']"
   ]
  },
  {
   "cell_type": "markdown",
   "metadata": {},
   "source": [
    "指定了maxsplit，则限制了最大切分次数"
   ]
  },
  {
   "cell_type": "code",
   "execution_count": 6,
   "metadata": {},
   "outputs": [
    {
     "name": "stdout",
     "output_type": "stream",
     "text": [
      "['Twelve:', ' Eighty nine:89 Nine:9.']\n"
     ]
    }
   ],
   "source": [
    "import re\n",
    "string = 'Twelve:12 Eighty nine:89 Nine:9.'\n",
    "pattern = '\\d+'\n",
    "# maxsplit = 1\n",
    "# split only at the first occurrence\n",
    "result = re.split(pattern, string, 1) \n",
    "print(result)\n",
    "# Output: ['Twelve:', ' Eighty nine:89 Nine:9.']"
   ]
  },
  {
   "cell_type": "markdown",
   "metadata": {},
   "source": [
    "## re.sub()\n",
    "\n",
    "sub(pattern, repl, string, count=0, flags=0)\n",
    "\n",
    "在指定string中，匹配对应的pattern，将匹配项替换为repl项"
   ]
  },
  {
   "cell_type": "code",
   "execution_count": 8,
   "metadata": {},
   "outputs": [
    {
     "name": "stdout",
     "output_type": "stream",
     "text": [
      "abc12de23f456\n"
     ]
    }
   ],
   "source": [
    "# Program to remove all whitespaces\n",
    "import re\n",
    "# multiline string\n",
    "string = 'abc 12\\\n",
    "de 23 \\n f45 6'\n",
    "# matches all whitespace characters\n",
    "pattern = '\\s+'\n",
    "# empty string\n",
    "replace = ''\n",
    "new_string = re.sub(pattern, replace, string) \n",
    "print(new_string)\n",
    "# Output: abc12de23f456"
   ]
  },
  {
   "cell_type": "markdown",
   "metadata": {},
   "source": [
    "传入count参数，控制替换次数"
   ]
  },
  {
   "cell_type": "code",
   "execution_count": 9,
   "metadata": {},
   "outputs": [
    {
     "name": "stdout",
     "output_type": "stream",
     "text": [
      "abc12de 23 \n",
      " f45 6\n"
     ]
    }
   ],
   "source": [
    "import re\n",
    "# multiline string\n",
    "string = 'abc 12\\\n",
    "de 23 \\n f45 6'\n",
    "# matches all whitespace characters\n",
    "pattern = '\\s+'\n",
    "replace = ''\n",
    "new_string = re.sub(r'\\s+', replace, string, 1) \n",
    "print(new_string)\n",
    "# Output:\n",
    "# abc12de 23\n",
    "# f45 6"
   ]
  },
  {
   "cell_type": "markdown",
   "metadata": {},
   "source": [
    "## re.subn()\n",
    "\n",
    "`subn(pattern, repl, string, count=0, flags=0)`\n",
    "\n",
    "与re.sub()有些相似，但是，它返回的是包含两个元素的元组，替换后的新字符串和替换的数量"
   ]
  },
  {
   "cell_type": "code",
   "execution_count": null,
   "metadata": {},
   "outputs": [],
   "source": [
    "# Program to remove all whitespaces\n",
    "import re\n",
    "# multiline string\n",
    "string = 'abc 12\\\n",
    "de 23 \\n f45 6'\n",
    "# matches all whitespace characters\n",
    "pattern = '\\s+'\n",
    "# empty string\n",
    "replace = ''\n",
    "new_string = re.subn(pattern, replace, string) \n",
    "print(new_string)\n",
    "# Output: ('abc12de23f456', 4)"
   ]
  },
  {
   "cell_type": "markdown",
   "metadata": {},
   "source": [
    "## re.search()\n",
    "\n",
    "`search(pattern, string, flags=0)`\n",
    "\n",
    "和match()方法有些相似，然而match只对开始的部分进行匹配，search返回的是第一个找到的匹配项的定位，也是一个`match`对象。如果未找到，返回`None`\n"
   ]
  },
  {
   "cell_type": "code",
   "execution_count": null,
   "metadata": {},
   "outputs": [],
   "source": [
    "import re\n",
    "string = \"Python is fun\"\n",
    "# check if 'Python' is at the beginning\n",
    "match = re.search('\\APython', string)\n",
    "if match:\n",
    "    print(\"pattern found inside the string\")\n",
    "else:\n",
    "    print(\"pattern not found\")  \n",
    "# Output: pattern found inside the string"
   ]
  },
  {
   "cell_type": "markdown",
   "metadata": {},
   "source": [
    "## re.compile\n",
    "`compile(pattern, flags=0)`\n",
    "\n",
    "compile 用于将特征编译为re对象，用来在入参为pattern的方法中使用。\n",
    "\n",
    "```python\n",
    "prog = re.compile(pattern)\n",
    "result = prog.match(string)\n",
    "```\n",
    "如上，与\n",
    "```python\n",
    "result = re.match(pattern, string)\n",
    "```\n",
    "等价\n",
    "\n",
    "但是使用compile有个好处在于，在一个程序中，可以节省对re的pattern对象重复利用的时间"
   ]
  },
  {
   "cell_type": "code",
   "execution_count": null,
   "metadata": {},
   "outputs": [],
   "source": []
  },
  {
   "cell_type": "code",
   "execution_count": 22,
   "metadata": {},
   "outputs": [
    {
     "name": "stdout",
     "output_type": "stream",
     "text": [
      "Help on function compile in module re:\n",
      "\n",
      "compile(pattern, flags=0)\n",
      "    Compile a regular expression pattern, returning a Pattern object.\n",
      "\n"
     ]
    }
   ],
   "source": [
    "help(re.compile)"
   ]
  },
  {
   "cell_type": "markdown",
   "metadata": {},
   "source": [
    "# Match object\n",
    "\n",
    "Match对象的几种属性\n",
    "\n",
    "## match.group()\n",
    "\n",
    "通过group，返回字符串的匹配部分。"
   ]
  },
  {
   "cell_type": "code",
   "execution_count": 13,
   "metadata": {},
   "outputs": [
    {
     "name": "stdout",
     "output_type": "stream",
     "text": [
      "801 35\n"
     ]
    }
   ],
   "source": [
    "import re\n",
    "string = '39801 356, 2102 1111'\n",
    "# Three digit number followed by space followed by two digit number\n",
    "pattern = '(\\d{3}) (\\d{2})'\n",
    "# match variable contains a Match object.\n",
    "match = re.search(pattern, string) \n",
    "if match:\n",
    "    print(match.group())\n",
    "else:\n",
    "    print(\"pattern not found\")\n",
    "# Output: 801 35"
   ]
  },
  {
   "cell_type": "markdown",
   "metadata": {},
   "source": [
    "特征`(\\d{3}) (\\d{2})`，有两个由`()`划分的分组"
   ]
  },
  {
   "cell_type": "code",
   "execution_count": 14,
   "metadata": {},
   "outputs": [
    {
     "data": {
      "text/plain": [
       "'801'"
      ]
     },
     "execution_count": 14,
     "metadata": {},
     "output_type": "execute_result"
    }
   ],
   "source": [
    "match.group(1)"
   ]
  },
  {
   "cell_type": "code",
   "execution_count": 15,
   "metadata": {},
   "outputs": [
    {
     "data": {
      "text/plain": [
       "('801', '35')"
      ]
     },
     "execution_count": 15,
     "metadata": {},
     "output_type": "execute_result"
    }
   ],
   "source": [
    "match.group(1, 2)"
   ]
  },
  {
   "cell_type": "code",
   "execution_count": 16,
   "metadata": {},
   "outputs": [
    {
     "data": {
      "text/plain": [
       "('801', '35')"
      ]
     },
     "execution_count": 16,
     "metadata": {},
     "output_type": "execute_result"
    }
   ],
   "source": [
    "match.groups()"
   ]
  },
  {
   "cell_type": "markdown",
   "metadata": {},
   "source": [
    "## match.start(), match.end() and match.span()\n",
    "\n",
    "start返回匹配项的开始索引，end则返回匹配项的尾部索引"
   ]
  },
  {
   "cell_type": "code",
   "execution_count": 17,
   "metadata": {},
   "outputs": [
    {
     "data": {
      "text/plain": [
       "2"
      ]
     },
     "execution_count": 17,
     "metadata": {},
     "output_type": "execute_result"
    }
   ],
   "source": [
    "match.start()"
   ]
  },
  {
   "cell_type": "code",
   "execution_count": 18,
   "metadata": {},
   "outputs": [
    {
     "data": {
      "text/plain": [
       "8"
      ]
     },
     "execution_count": 18,
     "metadata": {},
     "output_type": "execute_result"
    }
   ],
   "source": [
    "match.end()"
   ]
  },
  {
   "cell_type": "markdown",
   "metadata": {},
   "source": [
    "span返回一个元组，包含开始和结束"
   ]
  },
  {
   "cell_type": "code",
   "execution_count": 19,
   "metadata": {},
   "outputs": [
    {
     "data": {
      "text/plain": [
       "(2, 8)"
      ]
     },
     "execution_count": 19,
     "metadata": {},
     "output_type": "execute_result"
    }
   ],
   "source": [
    "match.span()"
   ]
  },
  {
   "cell_type": "markdown",
   "metadata": {},
   "source": [
    "## match.re and match.string\n",
    "\n",
    "match的re属性返回一个正则表达式对象。\n",
    "\n",
    "string属性返回所传递的字符串"
   ]
  },
  {
   "cell_type": "code",
   "execution_count": 20,
   "metadata": {},
   "outputs": [
    {
     "data": {
      "text/plain": [
       "re.compile(r'(\\d{3}) (\\d{2})', re.UNICODE)"
      ]
     },
     "execution_count": 20,
     "metadata": {},
     "output_type": "execute_result"
    }
   ],
   "source": [
    "match.re"
   ]
  },
  {
   "cell_type": "code",
   "execution_count": 21,
   "metadata": {},
   "outputs": [
    {
     "data": {
      "text/plain": [
       "'39801 356, 2102 1111'"
      ]
     },
     "execution_count": 21,
     "metadata": {},
     "output_type": "execute_result"
    }
   ],
   "source": [
    "match.string"
   ]
  },
  {
   "cell_type": "markdown",
   "metadata": {},
   "source": [
    "# 在RegEx前使用r前缀\n",
    "\n",
    "如果在定义一个正则表达式之前，使用一个`r`或者`R`作为前缀，那就表示原始字符串。\n",
    "\n",
    "如`'\\n'`表示一个新行，而`r'\\n'`则表示两个原始字符：即1个反斜杠`\\`和一个`n`\n",
    "\n",
    "`\\`本来是用作将特别的变量解释为元字符，然而使用`r`前缀，将整个字符串仅作为普通字符串表示了。"
   ]
  },
  {
   "cell_type": "code",
   "execution_count": null,
   "metadata": {},
   "outputs": [],
   "source": [
    "import re\n",
    "string = '\\n and \\r are escape sequences.'\n",
    "result = re.findall(r'[\\n\\r]', string) \n",
    "print(result)\n",
    "# Output: ['\\n', '\\r']"
   ]
  },
  {
   "cell_type": "markdown",
   "metadata": {},
   "source": [
    "## 写一个分词器\n"
   ]
  },
  {
   "cell_type": "code",
   "execution_count": 24,
   "metadata": {},
   "outputs": [
    {
     "name": "stdout",
     "output_type": "stream",
     "text": [
      "Token(type='IF', value='IF', line=2, column=4)\n",
      "Token(type='ID', value='quantity', line=2, column=7)\n",
      "Token(type='THEN', value='THEN', line=2, column=16)\n",
      "Token(type='ID', value='total', line=3, column=8)\n",
      "Token(type='ASSIGN', value=':=', line=3, column=14)\n",
      "Token(type='ID', value='total', line=3, column=17)\n",
      "Token(type='OP', value='+', line=3, column=23)\n",
      "Token(type='ID', value='price', line=3, column=25)\n",
      "Token(type='OP', value='*', line=3, column=31)\n",
      "Token(type='ID', value='quantity', line=3, column=33)\n",
      "Token(type='END', value=';', line=3, column=41)\n",
      "Token(type='ID', value='tax', line=4, column=8)\n",
      "Token(type='ASSIGN', value=':=', line=4, column=12)\n",
      "Token(type='ID', value='price', line=4, column=15)\n",
      "Token(type='OP', value='*', line=4, column=21)\n",
      "Token(type='NUMBER', value=0.05, line=4, column=23)\n",
      "Token(type='END', value=';', line=4, column=27)\n",
      "Token(type='ENDIF', value='ENDIF', line=5, column=4)\n",
      "Token(type='END', value=';', line=5, column=9)\n"
     ]
    }
   ],
   "source": [
    "import collections\n",
    "import re\n",
    "\n",
    "Token = collections.namedtuple('Token', ['type', 'value', 'line', 'column'])\n",
    "\n",
    "def tokenize(code):\n",
    "    keywords = {'IF', 'THEN', 'ENDIF', 'FOR', 'NEXT', 'GOSUB', 'RETURN'}\n",
    "    token_specification = [\n",
    "        ('NUMBER',   r'\\d+(\\.\\d*)?'),  # Integer or decimal number\n",
    "        ('ASSIGN',   r':='),           # Assignment operator\n",
    "        ('END',      r';'),            # Statement terminator\n",
    "        ('ID',       r'[A-Za-z]+'),    # Identifiers\n",
    "        ('OP',       r'[+\\-*/]'),      # Arithmetic operators\n",
    "        ('NEWLINE',  r'\\n'),           # Line endings\n",
    "        ('SKIP',     r'[ \\t]+'),       # Skip over spaces and tabs\n",
    "        ('MISMATCH', r'.'),            # Any other character\n",
    "    ]\n",
    "    tok_regex = '|'.join('(?P<%s>%s)' % pair for pair in token_specification)\n",
    "    line_num = 1\n",
    "    line_start = 0\n",
    "    for mo in re.finditer(tok_regex, code):\n",
    "        kind = mo.lastgroup\n",
    "        value = mo.group()\n",
    "        column = mo.start() - line_start\n",
    "        if kind == 'NUMBER':\n",
    "            value = float(value) if '.' in value else int(value)\n",
    "        elif kind == 'ID' and value in keywords:\n",
    "            kind = value\n",
    "        elif kind == 'NEWLINE':\n",
    "            line_start = mo.end()\n",
    "            line_num += 1\n",
    "            continue\n",
    "        elif kind == 'SKIP':\n",
    "            continue\n",
    "        elif kind == 'MISMATCH':\n",
    "            raise RuntimeError(f'{value!r} unexpected on line {line_num}')\n",
    "        yield Token(kind, value, line_num, column)\n",
    "\n",
    "statements = '''\n",
    "    IF quantity THEN\n",
    "        total := total + price * quantity;\n",
    "        tax := price * 0.05;\n",
    "    ENDIF;\n",
    "'''\n",
    "\n",
    "for token in tokenize(statements):\n",
    "    print(token)"
   ]
  },
  {
   "cell_type": "code",
   "execution_count": null,
   "metadata": {},
   "outputs": [],
   "source": []
  }
 ],
 "metadata": {
  "kernelspec": {
   "display_name": "Python 3",
   "language": "python",
   "name": "python3"
  },
  "language_info": {
   "codemirror_mode": {
    "name": "ipython",
    "version": 3
   },
   "file_extension": ".py",
   "mimetype": "text/x-python",
   "name": "python",
   "nbconvert_exporter": "python",
   "pygments_lexer": "ipython3",
   "version": "3.7.1"
  },
  "toc": {
   "base_numbering": 1,
   "nav_menu": {},
   "number_sections": true,
   "sideBar": true,
   "skip_h1_title": false,
   "title_cell": "Table of Contents",
   "title_sidebar": "Contents",
   "toc_cell": false,
   "toc_position": {},
   "toc_section_display": true,
   "toc_window_display": false
  },
  "varInspector": {
   "cols": {
    "lenName": 16,
    "lenType": 16,
    "lenVar": 40
   },
   "kernels_config": {
    "python": {
     "delete_cmd_postfix": "",
     "delete_cmd_prefix": "del ",
     "library": "var_list.py",
     "varRefreshCmd": "print(var_dic_list())"
    },
    "r": {
     "delete_cmd_postfix": ") ",
     "delete_cmd_prefix": "rm(",
     "library": "var_list.r",
     "varRefreshCmd": "cat(var_dic_list()) "
    }
   },
   "types_to_exclude": [
    "module",
    "function",
    "builtin_function_or_method",
    "instance",
    "_Feature"
   ],
   "window_display": false
  }
 },
 "nbformat": 4,
 "nbformat_minor": 2
}
