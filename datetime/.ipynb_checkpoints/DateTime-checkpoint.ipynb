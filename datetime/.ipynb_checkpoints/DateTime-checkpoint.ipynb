{
 "cells": [
  {
   "cell_type": "code",
   "execution_count": 1,
   "metadata": {
    "collapsed": true
   },
   "outputs": [],
   "source": [
    "import datetime as dt"
   ]
  },
  {
   "cell_type": "code",
   "execution_count": 2,
   "metadata": {},
   "outputs": [
    {
     "data": {
      "text/plain": [
       "1"
      ]
     },
     "execution_count": 2,
     "metadata": {},
     "output_type": "execute_result"
    }
   ],
   "source": [
    "dt.MINYEAR #表示datetime所能表示的最小年份，MINYEAR = 1。"
   ]
  },
  {
   "cell_type": "code",
   "execution_count": 3,
   "metadata": {},
   "outputs": [
    {
     "data": {
      "text/plain": [
       "9999"
      ]
     },
     "execution_count": 3,
     "metadata": {},
     "output_type": "execute_result"
    }
   ],
   "source": [
    "dt.MAXYEAR #表示datetime所能表示的最大年份，MAXYEAR = 9999。"
   ]
  },
  {
   "cell_type": "code",
   "execution_count": 4,
   "metadata": {},
   "outputs": [
    {
     "data": {
      "text/plain": [
       "datetime.date(2018, 7, 18)"
      ]
     },
     "execution_count": 4,
     "metadata": {},
     "output_type": "execute_result"
    }
   ],
   "source": [
    "dt.date.today() #今日"
   ]
  },
  {
   "cell_type": "code",
   "execution_count": 5,
   "metadata": {},
   "outputs": [
    {
     "data": {
      "text/plain": [
       "datetime.date(9999, 12, 31)"
      ]
     },
     "execution_count": 5,
     "metadata": {},
     "output_type": "execute_result"
    }
   ],
   "source": [
    "dt.date.max #date对象所能表示的最大日期"
   ]
  },
  {
   "cell_type": "code",
   "execution_count": 6,
   "metadata": {},
   "outputs": [
    {
     "data": {
      "text/plain": [
       "datetime.date(1, 1, 1)"
      ]
     },
     "execution_count": 6,
     "metadata": {},
     "output_type": "execute_result"
    }
   ],
   "source": [
    "dt.date.min #date对象所能表示的最小日期"
   ]
  },
  {
   "cell_type": "markdown",
   "metadata": {},
   "source": [
    "# 获取当前时间"
   ]
  },
  {
   "cell_type": "code",
   "execution_count": 7,
   "metadata": {},
   "outputs": [
    {
     "name": "stdout",
     "output_type": "stream",
     "text": [
      "2018-07-18 08:37:35.663682\n",
      "2018\n",
      "8:37:35\n"
     ]
    }
   ],
   "source": [
    "now = dt.datetime.now()\n",
    "currentTime=str(now.hour)+\":\"+str(now.minute)+\":\"+str(now.second)\n",
    "print(now)\n",
    "print(now.year)\n",
    "print(currentTime)"
   ]
  },
  {
   "cell_type": "markdown",
   "metadata": {},
   "source": [
    "# 获取今天、昨天和明天的日期"
   ]
  },
  {
   "cell_type": "code",
   "execution_count": 8,
   "metadata": {},
   "outputs": [
    {
     "name": "stdout",
     "output_type": "stream",
     "text": [
      "2018-07-17 08:37:35.684697\n",
      "2018-07-18 08:37:35.684697\n",
      "2018-07-19 08:37:35.684697\n"
     ]
    }
   ],
   "source": [
    "today = dt.datetime.today()\n",
    "yesterday = today - dt.timedelta(days=1)\n",
    "tomorrow = today + dt.timedelta(days=1)\n",
    "print(yesterday)\n",
    "print(today)\n",
    "print(tomorrow)"
   ]
  },
  {
   "cell_type": "markdown",
   "metadata": {},
   "source": [
    "# 将当前时间转换为字符串日期格式"
   ]
  },
  {
   "cell_type": "code",
   "execution_count": 9,
   "metadata": {},
   "outputs": [
    {
     "name": "stdout",
     "output_type": "stream",
     "text": [
      "2018-07-18 08:37:35\n"
     ]
    }
   ],
   "source": [
    "otherTime = now.strftime(\"%Y-%m-%d %H:%M:%S\")\n",
    "print(otherTime)"
   ]
  },
  {
   "cell_type": "markdown",
   "metadata": {},
   "source": [
    "# 将时间戳转换为指定格式的日期 "
   ]
  },
  {
   "cell_type": "code",
   "execution_count": 10,
   "metadata": {},
   "outputs": [
    {
     "name": "stdout",
     "output_type": "stream",
     "text": [
      "2016-07-31 04:12:12\n",
      "2016/07/31 04:12:12\n"
     ]
    }
   ],
   "source": [
    "timeStamp = 1469938332\n",
    "dt1 = dt.datetime.utcfromtimestamp(timeStamp)\n",
    "print(dt1)\n",
    "otherTime = dt1.strftime(\"%Y/%m/%d %H:%M:%S\")\n",
    "print(otherTime)"
   ]
  },
  {
   "cell_type": "markdown",
   "metadata": {},
   "source": [
    "# 获取当天开始和结束时间(00:00:00 23:59:59)"
   ]
  },
  {
   "cell_type": "code",
   "execution_count": 11,
   "metadata": {},
   "outputs": [
    {
     "name": "stdout",
     "output_type": "stream",
     "text": [
      "2018-07-18 00:00:00\n",
      "2018-07-18 23:59:59.999999\n"
     ]
    }
   ],
   "source": [
    "bgtm=dt.datetime.combine(dt.date.today(), dt.time.min)\n",
    "endtm=dt.datetime.combine(dt.date.today(), dt.time.max)\n",
    "print(bgtm)\n",
    "print(endtm)"
   ]
  },
  {
   "cell_type": "markdown",
   "metadata": {},
   "source": [
    "# 获取时间差"
   ]
  },
  {
   "cell_type": "code",
   "execution_count": 12,
   "metadata": {},
   "outputs": [
    {
     "name": "stdout",
     "output_type": "stream",
     "text": [
      "1281 days, 20:37:35.740236\n",
      "1281\n"
     ]
    },
    {
     "data": {
      "text/plain": [
       "110752655.740236"
      ]
     },
     "execution_count": 12,
     "metadata": {},
     "output_type": "execute_result"
    }
   ],
   "source": [
    "deltatime=(dt.datetime.now()-dt.datetime(2015,1,13,12,0,0))#返回days、seconds、microseconds\n",
    "print(deltatime)\n",
    "print(deltatime.days)\n",
    "deltatime.total_seconds()#表示时间间隔的总秒数。 "
   ]
  }
 ],
 "metadata": {
  "kernelspec": {
   "display_name": "Python 3",
   "language": "python",
   "name": "python3"
  },
  "language_info": {
   "codemirror_mode": {
    "name": "ipython",
    "version": 3
   },
   "file_extension": ".py",
   "mimetype": "text/x-python",
   "name": "python",
   "nbconvert_exporter": "python",
   "pygments_lexer": "ipython3",
   "version": "3.6.3"
  }
 },
 "nbformat": 4,
 "nbformat_minor": 2
}
