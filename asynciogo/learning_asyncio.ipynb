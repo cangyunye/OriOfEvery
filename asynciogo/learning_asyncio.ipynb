{
 "cells": [
  {
   "cell_type": "markdown",
   "metadata": {},
   "source": [
    "# 异步IO：asyncio（以下内容仅3.7+）\n",
    "\n",
    "异步，是指在发起一个IO操作时，无需等其结束，可以同时做其他事情，在事情完成后，可得到通知。\n",
    "\n",
    "asyncio模块包通过**async**/**await**语法实现协程代码。\n",
    "\n",
    "asyncio是作为Python高并发网络，网络服务器，数据库连接，序列任务分发等异步框架。\n",
    "\n",
    "异步程序要比经典的序列化程序复杂。\n",
    "\n",
    "## **理解异步、协程**\n",
    "\n",
    "现在我们讲了一些异步的使用，是时候解释一些概念了\n",
    "\n",
    "**同步、异步、阻塞、非阻塞**四个词语之间的联系\n",
    "\n",
    "- 首先要明确，前两者后后两者并不是一一对应的，它们不是在说同一件事情，但是非常类似，容易搞混\n",
    "- 一般我们说异步程序是非阻塞的，而同步既有阻塞也有非阻塞的\n",
    "- 非阻塞是指一个任务没做完，没有必要停在那里等它结束就可以开始下一个任务，保证一直在干活没有等待；阻塞就相反是一件事完全结束才开始另一件事\n",
    "- 在非阻塞的情况下，同步与异步都有可能，它们都可以在一个任务没结束就开启下一个任务。而二者的区别在于：（且称正在进行的程序为主程序）当第一个程序做完的时候（比如网络请求终于相应了），会自动通知主程序回来继续操作第一个任务的结果，这种是异步；而同步则是需要主程序不断去问第一个程序是否已经完成。\n",
    "- 四个词的区别参考[知乎回答](https://www.zhihu.com/question/19732473)\n",
    "\n",
    "**协程与多线程的区别**\n",
    "\n",
    "- 在非阻塞的情况下，多线程是同步的代表，协程是异步的代表。二者都开启了多个线程\n",
    "- 多线程中，多个线程会竞争谁先运行，一个等待结束也不会去通知主程序，这样没有章法的随机运行会造成一些资源浪费\n",
    "- 而协程中，多个线程（称为微线程）的调用和等待都是通过明确代码组织的。协程就像目标明确地执行一个又一个任务，而多线程则有一些彷徨迷茫的时间\n",
    "\n",
    "**两种异步**\n",
    "\n",
    "- 前面两种异步，一种是`await`只使用一个线程就可以实现任务切换，另一种是开启了多个线程，通过线程调度实现异步\n",
    "- 一般只用一个线程将任务在多个函数之间来回切换，是使用yield生成器实现的，例子可以看[这篇文章最后生产消费者例子](https://www.liaoxuefeng.com/wiki/0014316089557264a6b348958f449949df42a6d3a2e542c000/001432090171191d05dae6e129940518d1d6cf6eeaaa969000)\n",
    "\n",
    "**多进程、多线程、异步擅长方向**\n",
    "\n",
    "- 异步和多线程都是在IO密集型任务上优势明显，因为它们的本质都是在尽量避免IO等待时间造成的资源浪费。而多进程可以利用多核优势，适合CPU密集型任务\n",
    "- 相比于多线程，异步更适合每次等待时间较长、需要等待的任务较多的程序。因为多线程毕竟要创建新的线程，线程过多使线程竞争现象更加明显，资源浪费也就更多。如果每个任务等待时间过长，等待时间内势必开启了非常多任务，非常多线程，这时使用多线程就不是一个明智的决定。而异步则可以只开启一个线程在各个任务之间有条不紊进行，即能充分利用CPU资源，又不会影响程序运行效率"
   ]
  },
  {
   "cell_type": "markdown",
   "metadata": {},
   "source": [
    "# 协程与任务(coroutine and task)\n",
    "\n",
    "\n",
    "> 在jupyter notebook中使用asyncio.run()时发生asyncio.run() cannot be called from a running event loop的错误\n",
    "\n",
    "> 是因为ipython中已经运行了一个event loop\n",
    "\n",
    "> 对此，在jupyter中，将用await 直接用于演示\n",
    "\n",
    "本处概要：最外层asyncio API接口的协程和任务使用说明。\n",
    "\n",
    "## 协程\n",
    "\n",
    "协程corotine可通过在对象前声明`async/await`来定义，是异步编程的首选方式。\n",
    "\n",
    "举个如下片段的例子(Python 3.7+) ，打印 \"Hello\" ,等待1s，然后打印 \"world\""
   ]
  },
  {
   "cell_type": "code",
   "execution_count": 9,
   "metadata": {},
   "outputs": [
    {
     "name": "stdout",
     "output_type": "stream",
     "text": "hello\nworld\n"
    }
   ],
   "source": [
    "import asyncio\n",
    "\n",
    "async def main():\n",
    "    print(\"hello\")\n",
    "    await asyncio.sleep(1)\n",
    "    print('world')\n",
    "    \n",
    "#asyncio.run(main())\n",
    "await main()"
   ]
  },
  {
   "cell_type": "markdown",
   "metadata": {},
   "source": [
    "如果不通过run()函数，而是直接调用main()，则不会被执行\n",
    "\n",
    "如果要运行一个协程，asyncio提供三种机制。\n",
    "\n",
    "\n",
    "- [`asyncio.run()`](https://docs.python.org/3.7/library/asyncio-task.html#asyncio.run) 函数运行最顶层的入口函数，如上例举所指向“main()” 函数 \n",
    "\n",
    "- 协程等待期间，下面的代码片段会在1s之后打印“hello”，再继续等待2s之后，会打印\"world\"。\n"
   ]
  },
  {
   "cell_type": "code",
   "execution_count": 10,
   "metadata": {},
   "outputs": [
    {
     "name": "stdout",
     "output_type": "stream",
     "text": "started at 23:17:24\n23:17:24\n23:17:25:hello\n23:17:25\n23:17:27:world\nfinished at 23:17:27\n"
    }
   ],
   "source": [
    "import asyncio\n",
    "import time\n",
    "\n",
    "async def say_after(delay,what):\n",
    "    print(f\"{time.strftime('%X')}\")\n",
    "    await asyncio.sleep(delay)\n",
    "    print(f\"{time.strftime('%X')}:{what}\")\n",
    "\n",
    "async def main():\n",
    "    print(f\"started at {time.strftime('%X')}\")\n",
    "\n",
    "    await say_after(1,'hello')\n",
    "\n",
    "    await say_after(2,'world')\n",
    "\n",
    "    print(f\"finished at {time.strftime('%X')}\")\n",
    "\n",
    "#asyncio.run(main())\n",
    "await main()\n"
   ]
  },
  {
   "cell_type": "markdown",
   "metadata": {},
   "source": [
    "- 通过[`asyncio.create_task()`](https://docs.python.org/3.7/library/asyncio-task.html#asyncio.create_task) 函数封装协程作为asyncio [`Tasks`](https://docs.python.org/3.7/library/asyncio-task.html#asyncio.Task)的并发任务.\n",
    "\n",
    "  修改以上用例，运行两次 `say_after` 实现协程并发:"
   ]
  },
  {
   "cell_type": "code",
   "execution_count": 12,
   "metadata": {},
   "outputs": [
    {
     "name": "stdout",
     "output_type": "stream",
     "text": "started at 23:20:31\n23:20:31\n23:20:31\n23:20:32:hello\n23:20:33:world\nfinished at 23:20:33\n"
    }
   ],
   "source": [
    "async def main():\n",
    "    task1 = asyncio.create_task(\n",
    "        say_after(1, 'hello'))\n",
    "\n",
    "    task2 = asyncio.create_task(\n",
    "        say_after(2, 'world'))\n",
    "\n",
    "    print(f\"started at {time.strftime('%X')}\")\n",
    "\n",
    "    # Wait until both tasks are completed (should take\n",
    "    # around 2 seconds.)\n",
    "    await task1\n",
    "    await task2\n",
    "\n",
    "    print(f\"finished at {time.strftime('%X')}\")\n",
    "#asyncio.run(main())\n",
    "await main()"
   ]
  },
  {
   "cell_type": "markdown",
   "metadata": {},
   "source": [
    "# 可等待对象（awaitable）\n",
    "\n",
    "我们描述一个可等待对象是看它是否用`await`表达式修饰。很多asyncio APIs是设计为可等待对象。\n",
    "\n",
    "有三种类型的可等待对象： `coroutines`, `Tasks` 和 `Futures`。\n",
    "\n",
    "使用 `await` 可以将耗时等待的操作挂起，让出控制权\n",
    "\n",
    "当协程执行的时候遇到 `await`，时间循环就会将本协程挂起，转而去执行别的协程，直到其他的协程挂起或执行完毕。\n",
    "\n",
    "## Coroutines\n",
    "\n",
    "Python的协程是可等待对象(awaitable)，因此也能被其他协程`coroutine`等待。\n",
    "\n",
    "**要点**: 关于\"协程\"`coroutine`的术语在本文表示两种相关性紧密的概念。\n",
    "\n",
    "- 协程函数:async def修饰的函数；\n",
    "\n",
    "- 协程对象:通过**调用**协程函数返回的对象。\n",
    "\n",
    "asyncio也支持传统的基于生成器的协程。\n",
    "\n",
    "如下的coroutine对象创建了，但是前面没有await则不会被触发"
   ]
  },
  {
   "cell_type": "code",
   "execution_count": 16,
   "metadata": {},
   "outputs": [
    {
     "name": "stdout",
     "output_type": "stream",
     "text": "42\n"
    }
   ],
   "source": [
    "import asyncio\n",
    "\n",
    "async def nested():\n",
    "    return 42\n",
    "\n",
    "async def main():\n",
    "    # Nothing happens if we just call \"nested()\".\n",
    "    # A coroutine object is created but not awaited,\n",
    "    # so it *won't run at all*.\n",
    "    nested()\n",
    "\n",
    "    # Let's do it differently now and await it:\n",
    "    print(await nested())  # will print \"42\".\n",
    "\n",
    "#asyncio.run(main())\n",
    "await main()"
   ]
  },
  {
   "cell_type": "markdown",
   "metadata": {},
   "source": [
    "## Task\n",
    "\n",
    "它是对 coroutine 对象的进一步封装，它里面相比 coroutine 对象多了运行状态\n",
    "\n",
    "Task项是用来调度协程并发。\n",
    "\n",
    "当一个协程被任务函数[`asyncio.create_task()`](https://docs.python.org/3.7/library/asyncio-task.html#asyncio.create_task) 封装，那么协程将会自动进入调度运行。"
   ]
  },
  {
   "cell_type": "code",
   "execution_count": 3,
   "metadata": {
    "collapsed": true
   },
   "outputs": [
    {
     "name": "stdout",
     "output_type": "stream",
     "text": [
      "Coroutine: <coroutine object execute at 0x00000215792D47C8>\n",
      "After calling execute\n"
     ]
    },
    {
     "name": "stderr",
     "output_type": "stream",
     "text": [
      "F:\\ProgramData\\Anaconda3\\lib\\site-packages\\ipykernel_launcher.py:7: RuntimeWarning: coroutine 'execute' was never awaited\n",
      "  import sys\n"
     ]
    },
    {
     "ename": "RuntimeError",
     "evalue": "There is no current event loop in thread 'MainThread'.",
     "output_type": "error",
     "traceback": [
      "\u001b[1;31m---------------------------------------------------------------------------\u001b[0m",
      "\u001b[1;31mRuntimeError\u001b[0m                              Traceback (most recent call last)",
      "\u001b[1;32m<ipython-input-3-d69169b7aa0b>\u001b[0m in \u001b[0;36m<module>\u001b[1;34m\u001b[0m\n\u001b[0;32m      9\u001b[0m \u001b[0mprint\u001b[0m\u001b[1;33m(\u001b[0m\u001b[1;34m'After calling execute'\u001b[0m\u001b[1;33m)\u001b[0m\u001b[1;33m\u001b[0m\u001b[1;33m\u001b[0m\u001b[0m\n\u001b[0;32m     10\u001b[0m \u001b[1;33m\u001b[0m\u001b[0m\n\u001b[1;32m---> 11\u001b[1;33m \u001b[0mloop\u001b[0m \u001b[1;33m=\u001b[0m \u001b[0masyncio\u001b[0m\u001b[1;33m.\u001b[0m\u001b[0mget_event_loop\u001b[0m\u001b[1;33m(\u001b[0m\u001b[1;33m)\u001b[0m\u001b[1;33m\u001b[0m\u001b[1;33m\u001b[0m\u001b[0m\n\u001b[0m\u001b[0;32m     12\u001b[0m \u001b[0mtask\u001b[0m \u001b[1;33m=\u001b[0m \u001b[0mloop\u001b[0m\u001b[1;33m.\u001b[0m\u001b[0mcreate_task\u001b[0m\u001b[1;33m(\u001b[0m\u001b[0mcoroutine\u001b[0m\u001b[1;33m)\u001b[0m\u001b[1;33m\u001b[0m\u001b[1;33m\u001b[0m\u001b[0m\n\u001b[0;32m     13\u001b[0m \u001b[0mprint\u001b[0m\u001b[1;33m(\u001b[0m\u001b[1;34m'Task:'\u001b[0m\u001b[1;33m,\u001b[0m \u001b[0mtask\u001b[0m\u001b[1;33m)\u001b[0m\u001b[1;33m\u001b[0m\u001b[1;33m\u001b[0m\u001b[0m\n",
      "\u001b[1;32mF:\\ProgramData\\Anaconda3\\lib\\asyncio\\events.py\u001b[0m in \u001b[0;36mget_event_loop\u001b[1;34m(self)\u001b[0m\n\u001b[0;32m    642\u001b[0m         \u001b[1;32mif\u001b[0m \u001b[0mself\u001b[0m\u001b[1;33m.\u001b[0m\u001b[0m_local\u001b[0m\u001b[1;33m.\u001b[0m\u001b[0m_loop\u001b[0m \u001b[1;32mis\u001b[0m \u001b[1;32mNone\u001b[0m\u001b[1;33m:\u001b[0m\u001b[1;33m\u001b[0m\u001b[1;33m\u001b[0m\u001b[0m\n\u001b[0;32m    643\u001b[0m             raise RuntimeError('There is no current event loop in thread %r.'\n\u001b[1;32m--> 644\u001b[1;33m                                % threading.current_thread().name)\n\u001b[0m\u001b[0;32m    645\u001b[0m \u001b[1;33m\u001b[0m\u001b[0m\n\u001b[0;32m    646\u001b[0m         \u001b[1;32mreturn\u001b[0m \u001b[0mself\u001b[0m\u001b[1;33m.\u001b[0m\u001b[0m_local\u001b[0m\u001b[1;33m.\u001b[0m\u001b[0m_loop\u001b[0m\u001b[1;33m\u001b[0m\u001b[1;33m\u001b[0m\u001b[0m\n",
      "\u001b[1;31mRuntimeError\u001b[0m: There is no current event loop in thread 'MainThread'."
     ]
    }
   ],
   "source": [
    "import asyncio\n",
    " \n",
    "async def execute(x):\n",
    "    print('Number:', x)\n",
    "    return x\n",
    " \n",
    "coroutine = execute(1)\n",
    "print('Coroutine:', coroutine)\n",
    "print('After calling execute')\n",
    " \n",
    "loop = asyncio.get_event_loop()\n",
    "task = loop.create_task(coroutine)\n",
    "print('Task:', task)\n",
    "loop.run_until_complete(task)\n",
    "print('Task:', task)\n",
    "print('After calling loop')\n",
    "\n",
    "\"\"\"\n",
    "Coroutine: <coroutine object execute at 0x10e0f7830>\n",
    "After calling execute\n",
    "Task: <Task pending coro=<execute() running at demo.py:4>>\n",
    "Number: 1\n",
    "Task: <Task finished coro=<execute() done, defined at demo.py:4> result=1>\n",
    "After calling loop\n",
    "\"\"\""
   ]
  },
  {
   "cell_type": "markdown",
   "metadata": {},
   "source": [
    "另外定义 task 对象还有一种方式，就是直接通过 asyncio 的 ensure_future() 方法，返回结果也是 task 对象，这样的话我们就可以不借助于 loop 来定义，即使我们还没有声明 loop 也可以提前定义好 task 对象，写法如下："
   ]
  },
  {
   "cell_type": "code",
   "execution_count": null,
   "metadata": {},
   "outputs": [],
   "source": [
    "import asyncio\n",
    "\n",
    "async def execute(x):\n",
    "    print('Number:', x)\n",
    "    return x\n",
    "\n",
    "coroutine = execute(1)\n",
    "print('Coroutine:', coroutine)\n",
    "print('After calling execute')\n",
    "\n",
    "task = asyncio.ensure_future(coroutine)\n",
    "print('Task:', task)\n",
    "loop = asyncio.get_event_loop()\n",
    "loop.run_until_complete(task)\n",
    "print('Task:', task)\n",
    "print('After calling loop')\n",
    "\n",
    "\"\"\"\n",
    "Coroutine: <coroutine object execute at 0x10aa33830>\n",
    "After calling execute\n",
    "Task: <Task pending coro=<execute() running at demo.py:4>>\n",
    "Number: 1\n",
    "Task: <Task finished coro=<execute() done, defined at demo.py:4> result=1>\n",
    "After calling loop\n",
    "\"\"\""
   ]
  },
  {
   "cell_type": "markdown",
   "metadata": {},
   "source": [
    "## Futures\n",
    "\n",
    "未来对象是一个特殊的最底层可等待对象，也是作为异步操作的**最终结果**\n",
    "\n",
    "当一个`future`对象被`await`时，表示协程会持续等待，直到`future`对象的异步操作执行完毕。\n",
    "\n",
    "`Future`对象在asyncio中需要允许基于回调代码用于`async/await`表达式。\n",
    "\n",
    "通常而言，在应用层编程中不需要创建`Future`对象。\n",
    "\n",
    "`Future`对象，有时候会被某些库和asyncio APIs体现是可`await`的。"
   ]
  },
  {
   "cell_type": "code",
   "execution_count": null,
   "metadata": {},
   "outputs": [],
   "source": [
    "async def main():\n",
    "    await function_that_returns_a_future_obejct()\n",
    "    # this is also valid:\n",
    "    await asyncio.gather(function_that_returns_a_future_obejct(),\n",
    "                         some_python_coroutine())"
   ]
  },
  {
   "cell_type": "markdown",
   "metadata": {},
   "source": [
    "[`loop.run_in_executor()`](https://docs.python.org/3.7/library/asyncio-eventloop.html#asyncio.loop.run_in_executor)方法是一个在底层函数返回`Future`对象的例子。\n",
    "\n",
    "# 运行一个asyncio程序\n",
    "\n",
    "`asyncio.run(coro,*,debug=False)`\n",
    "\n",
    "此函数运行传入的协程，负责管理asyncio事件循环并**完结异步生成器**\n",
    "\n",
    "此函数总是会创建一个新的事件循环并在结束时关闭之，理想情况下只应该被调用一次。\n"
   ]
  },
  {
   "cell_type": "markdown",
   "metadata": {},
   "source": [
    "# 创建任务\n",
    "## create_task(coro)\n",
    "\n",
    "将coro协程打包为一个`TASK`排入日程准备执行。返回Task对象\n",
    "\n",
    "该任务会在`get_running_loop()`返回的循环中执行，如果当前线程没有运行的循环规则会引发`RuntimeError`\n",
    "\n",
    "python 3.7之前使用asyncio.ensure_future()函数"
   ]
  },
  {
   "cell_type": "code",
   "execution_count": 8,
   "metadata": {
    "scrolled": true
   },
   "outputs": [
    {
     "name": "stdout",
     "output_type": "stream",
     "text": [
      "begin\n",
      "20190328082600\n",
      "20190328082600\n",
      "end\n"
     ]
    }
   ],
   "source": [
    "import asyncio\n",
    "from datetime import datetime\n",
    "async def coro():\n",
    "    print(datetime.now().strftime(\"%Y%m%d%H%M%S\"))\n",
    "    await asyncio.sleep(1)\n",
    "\n",
    "async def main():\n",
    "    task1 = asyncio.create_task(coro())\n",
    "    task2 = asyncio.ensure_future(coro())\n",
    "    print(f\"begin\")\n",
    "    await task1\n",
    "    await task2\n",
    "    print(f\"end\")\n",
    "asyncio.run(main())\n"
   ]
  },
  {
   "cell_type": "markdown",
   "metadata": {},
   "source": [
    "# 休眠\n",
    "\n",
    "## sleep\n",
    "\n",
    "coroutine `asyncio.sleep(delay, result=None, *, loop=None)`\n",
    "\n",
    "阻塞 delay 指定的秒数。\n",
    "\n",
    "如果指定了 result，则当协程完成时将其返回给调用者。\n",
    "\n",
    "sleep() 总是会挂起当前任务，以允许其他任务运行。\n",
    "\n",
    "loop 参数已弃用，计划在 Python 3.10 中移除。\n",
    "\n",
    "以下协程示例运行 5 秒，每秒显示一次当前日期:"
   ]
  },
  {
   "cell_type": "code",
   "execution_count": null,
   "metadata": {},
   "outputs": [],
   "source": [
    "import asyncio\n",
    "import datetime\n",
    "\n",
    "async def display_date():\n",
    "    loop = asyncio.get_running_loop()\n",
    "    end_time = loop.time() + 5.0\n",
    "    while True:\n",
    "        print(datetime.datetime.now())\n",
    "        if (loop.time() + 1.0) >= end_time:\n",
    "            break\n",
    "        await asyncio.sleep(1)\n",
    "\n",
    "asyncio.run(display_date())"
   ]
  },
  {
   "cell_type": "markdown",
   "metadata": {},
   "source": [
    "# 并发运行任务\n",
    "\n",
    "## gather\n",
    "\n",
    "`awaitable asyncio.gather(*aws, loop=None, return_exceptions=False)`\n",
    "\n",
    "并发 运行 aws 序列中的 可等待对象。\n",
    "\n",
    "如果 aws 中的某个可等待对象为协程，它将自动作为一个任务加入日程。\n",
    "\n",
    "如果所有可等待对象都成功完成，结果将是一个由所有返回值聚合而成的列表。结果值的顺序与 aws 中可等待对象的顺序一致。\n",
    "\n",
    "如果 return_exceptions 为 `False` (默认)，所引发的首个异常会立即传播给等待 gather() 的任务。aws 序列中的其他可等待对象 **不会被取消** 并将继续运行。\n",
    "\n",
    "如果 return_exceptions 为 `True`，异常会和成功的结果一样处理，并聚合至结果列表。\n",
    "\n",
    "如果 `gather()` 被取消，所有被提交 (尚未完成) 的可等待对象也会 被取消。\n",
    "\n",
    "如果 aws 序列中的任一 Task 或 Future 对象 被取消，它将被当作引发了 `CancelledError` 一样处理 -- 在此情况下 gather() 调用 **不会** 被取消。这是为了防止一个已提交的 Task/Future 被取消导致其他 Tasks/Future 也被取消。"
   ]
  },
  {
   "cell_type": "code",
   "execution_count": null,
   "metadata": {},
   "outputs": [],
   "source": [
    "import asyncio\n",
    "\n",
    "async def factorial(name, number):\n",
    "    f = 1\n",
    "    for i in range(2, number + 1):\n",
    "        print(f\"Task {name}: Compute factorial({i})...\")\n",
    "        await asyncio.sleep(1)\n",
    "        f *= i\n",
    "    print(f\"Task {name}: factorial({number}) = {f}\")\n",
    "\n",
    "async def main():\n",
    "    # Schedule three calls *concurrently*:\n",
    "    await asyncio.gather(\n",
    "        factorial(\"A\", 2),\n",
    "        factorial(\"B\", 3),\n",
    "        factorial(\"C\", 4),\n",
    "    )\n",
    "\n",
    "asyncio.run(main())\n"
   ]
  },
  {
   "cell_type": "markdown",
   "metadata": {},
   "source": [
    "# 屏蔽取消操作\n",
    "\n",
    "awaitable asyncio.shield(aw, *, loop=None)\n",
    "\n",
    "保护一个 [可等待对象](https://docs.python.org/zh-cn/3/library/asyncio-task.html#asyncio-awaitables) 防止其被 [`取消`](https://docs.python.org/zh-cn/3/library/asyncio-task.html#asyncio.Task.cancel)。\n",
    "\n",
    "如果 *aw* 是一个协程，它将自动作为任务加入日程。\n",
    "\n",
    "以下语句:\n",
    "\n",
    "```\n",
    "res = await shield(something())\n",
    "```\n",
    "\n",
    "相当于:\n",
    "\n",
    "```\n",
    "res = await something()\n",
    "```\n",
    "\n",
    "*不同之处* 在于如果包含它的协程被取消，在 `something()` 中运行的任务不会被取消。从 `something()` 的角度看来，取消操作并没有发生。然而其调用者已被取消，因此 \"await\" 表达式仍然会引发 [`CancelledError`](https://docs.python.org/zh-cn/3/library/asyncio-exceptions.html#asyncio.CancelledError)。\n",
    "\n",
    "如果通过其他方式取消 `something()` (例如在其内部操作) 则 `shield()` 也会取消。\n",
    "\n",
    "如果希望完全忽略取消操作 (不推荐) 则 `shield()` 函数需要配合一个 try/except 代码段，如下所示:\n",
    "\n",
    "```\n",
    "try:\n",
    "    res = await shield(something())\n",
    "except CancelledError:\n",
    "    res = None\n",
    "```"
   ]
  },
  {
   "cell_type": "markdown",
   "metadata": {},
   "source": [
    "# 超时\n",
    "\n",
    "coroutine asyncio.wait_for(aw, timeout, *, loop=None)\n",
    "\n",
    "等待 aw 可等待对象 完成，指定 timeout 秒数后超时。\n",
    "\n",
    "如果 aw 是一个协程，它将自动作为任务加入日程。\n",
    "\n",
    "timeout 可以为 None，也可以为 float 或 int 型数值表示的等待秒数。如果 timeout 为 None，则等待直到完成。\n",
    "\n",
    "如果发生超时，任务将取消并引发 asyncio.TimeoutError.\n",
    "\n",
    "要避免任务 取消，可以加上 shield()。\n",
    "\n",
    "函数将等待直到目标对象确实被取消，所以总等待时间可能超过 timeout 指定的秒数。\n",
    "\n",
    "如果等待被取消，则 aw 指定的对象也会被取消。\n",
    "\n",
    "loop 参数已弃用，计划在 Python 3.10 中移除\n",
    "\n",
    "\n"
   ]
  },
  {
   "cell_type": "code",
   "execution_count": null,
   "metadata": {},
   "outputs": [],
   "source": [
    "async def eternity():\n",
    "    # Sleep for one hour\n",
    "    await asyncio.sleep(3600)\n",
    "    print('yay!')\n",
    "\n",
    "async def main():\n",
    "    # Wait for at most 1 second\n",
    "    try:\n",
    "        await asyncio.wait_for(eternity(), timeout=1.0)\n",
    "    except asyncio.TimeoutError:\n",
    "        print('timeout!')\n",
    "\n",
    "asyncio.run(main())"
   ]
  },
  {
   "cell_type": "markdown",
   "metadata": {},
   "source": [
    "# 简单等待\n"
   ]
  },
  {
   "cell_type": "code",
   "execution_count": null,
   "metadata": {},
   "outputs": [],
   "source": []
  },
  {
   "cell_type": "markdown",
   "metadata": {},
   "source": [
    "参考 https://www.imooc.com/article/263959\n",
    "\n",
    "https://docs.python.org/zh-cn/3/library/asyncio.html"
   ]
  }
 ],
 "metadata": {
  "kernelspec": {
   "display_name": "Python 3",
   "language": "python",
   "name": "python3"
  },
  "language_info": {
   "codemirror_mode": {
    "name": "ipython",
    "version": 3
   },
   "file_extension": ".py",
   "mimetype": "text/x-python",
   "name": "python",
   "nbconvert_exporter": "python",
   "pygments_lexer": "ipython3",
   "version": "3.7.4-final"
  },
  "toc": {
   "base_numbering": 1,
   "nav_menu": {},
   "number_sections": true,
   "sideBar": true,
   "skip_h1_title": false,
   "title_cell": "Table of Contents",
   "title_sidebar": "Contents",
   "toc_cell": false,
   "toc_position": {
    "height": "calc(100% - 180px)",
    "left": "10px",
    "top": "150px",
    "width": "307.038px"
   },
   "toc_section_display": true,
   "toc_window_display": true
  },
  "varInspector": {
   "cols": {
    "lenName": 16,
    "lenType": 16,
    "lenVar": 40
   },
   "kernels_config": {
    "python": {
     "delete_cmd_postfix": "",
     "delete_cmd_prefix": "del ",
     "library": "var_list.py",
     "varRefreshCmd": "print(var_dic_list())"
    },
    "r": {
     "delete_cmd_postfix": ") ",
     "delete_cmd_prefix": "rm(",
     "library": "var_list.r",
     "varRefreshCmd": "cat(var_dic_list()) "
    }
   },
   "types_to_exclude": [
    "module",
    "function",
    "builtin_function_or_method",
    "instance",
    "_Feature"
   ],
   "window_display": false
  }
 },
 "nbformat": 4,
 "nbformat_minor": 2
}