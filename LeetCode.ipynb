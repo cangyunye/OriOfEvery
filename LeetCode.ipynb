{
 "cells": [
  {
   "cell_type": "markdown",
   "metadata": {},
   "source": [
    "# 未完成\n",
    "\n",
    "1.删除链表中的节点"
   ]
  },
  {
   "cell_type": "markdown",
   "metadata": {},
   "source": [
    "# 删除链表中的节点\n",
    "\n",
    "https://leetcode-cn.com/explore/interview/card/top-interview-questions-easy/6/linked-list/41/"
   ]
  },
  {
   "cell_type": "code",
   "execution_count": 2,
   "metadata": {},
   "outputs": [
    {
     "name": "stdout",
     "output_type": "stream",
     "text": [
      "4\n"
     ]
    }
   ],
   "source": [
    "class ListNode(object):\n",
    "    def __init__(self, x):\n",
    "        self.val = x\n",
    "        self.next = None\n",
    "    \n",
    "\n",
    "class Solution(object):\n",
    "    def __init__(self,head):\n",
    "        self.n = head\n",
    "        \n",
    "    def deleteNode(self, node):\n",
    "        \"\"\"\n",
    "        :type node: ListNode\n",
    "        :rtype: void Do not return anything, modify node in-place instead.\n",
    "        \"\"\"\n",
    "        search = self.n\n",
    "        while True:\n",
    "            if search.next == None:\n",
    "                break\n",
    "            elif search.val == node:\n",
    "                self.n == self.n.next\n",
    "            else:\n",
    "                search = search.next\n",
    "      \n",
    "head = [4,5,1,9]    \n",
    "n = ListNode(head[0])\n",
    "for i in head[1:]:\n",
    "    n.next = ListNode(i)\n",
    "    \n",
    "while True:\n",
    "    if n.next == None:\n",
    "        break\n",
    "    print(n.val)\n",
    "    n = n.next\n",
    "              \n",
    "# test = Solution(n)\n",
    "# test.deleteNode(2)"
   ]
  },
  {
   "cell_type": "markdown",
   "metadata": {},
   "source": [
    "#   验证回文字符串\n",
    "\n",
    "https://leetcode-cn.com/explore/interview/card/top-interview-questions-easy/5/strings/36/\n"
   ]
  },
  {
   "cell_type": "code",
   "execution_count": null,
   "metadata": {},
   "outputs": [],
   "source": [
    "class Solution(object):\n",
    "    def isPalindrome(self, s):\n",
    "        \"\"\"\n",
    "        :type s: str\n",
    "        :rtype: bool\n",
    "        \"\"\"\n",
    "        # 筛选仅字母，无视大小写\n",
    "        def f(x):\n",
    "            if x.isalnum():\n",
    "                return True\n",
    "        l = [i.lower() for i in filter(f,s)]\n",
    "        for i in range(len(l)//2):\n",
    "            if l[i] != l[-i-1]:\n",
    "                return False\n",
    "            else:\n",
    "                continue\n",
    "        return True\n",
    "test = Solution()\n",
    "# test.isPalindrome(\"A man, a plan, a canal: Panama\")\n",
    "assert test.isPalindrome(\"A man, a plan, a canal: Panama\") == 'true'\n",
    "assert test.isPalindrome(\"race a car\") == 'false'\n",
    "assert test.isPalindrome(\"race a ecar\") == 'true'"
   ]
  },
  {
   "cell_type": "markdown",
   "metadata": {
    "heading_collapsed": true
   },
   "source": [
    "# 移动0\n",
    "\n",
    "https://leetcode-cn.com/explore/interview/card/top-interview-questions-easy/1/array/28/"
   ]
  },
  {
   "cell_type": "code",
   "execution_count": 60,
   "metadata": {
    "hidden": true
   },
   "outputs": [],
   "source": [
    "# 更慢\n",
    "class Solution(object):\n",
    "    def moveZeroes(self, nums):\n",
    "        \"\"\"\n",
    "        :type nums: List[int]\n",
    "        :rtype: None Do not return anything, modify nums in-place instead.\n",
    "        \"\"\"\n",
    "        # 倒着查第一个非0数\n",
    "        s = len(nums)\n",
    "        for i,j in enumerate(nums[-1::-1]):\n",
    "            if j != 0 :\n",
    "                d = s-i-1\n",
    "            else:\n",
    "                d = 0\n",
    "        c = nums.count(0) - d\n",
    "        while c > 0:\n",
    "            nums.remove(0)\n",
    "            nums.append(0)\n",
    "            c -= 1\n",
    "        return nums\n",
    "test = Solution()\n",
    "assert test.moveZeroes([0,1,0,3,12]) == [1,3,12,0,0]\n",
    "assert test.moveZeroes([0,1,0,0,0]) == [1,0,0,0,0]\n",
    "assert test.moveZeroes([2,1]) == [2,1]\n",
    "assert test.moveZeroes([0]) == [0]\n",
    "assert test.moveZeroes([1,0,1]) == [1,1,0]"
   ]
  },
  {
   "cell_type": "code",
   "execution_count": 29,
   "metadata": {
    "hidden": true
   },
   "outputs": [],
   "source": [
    "class Solution(object):\n",
    "    def moveZeroes(self, nums):\n",
    "        \"\"\"\n",
    "        :type nums: List[int]\n",
    "        :rtype: None Do not return anything, modify nums in-place instead.\n",
    "        \"\"\"\n",
    "        c = nums.count(0)\n",
    "        while c > 0:\n",
    "            nums.remove(0)\n",
    "            nums.append(0)\n",
    "            c -= 1\n",
    "        return nums\n",
    "test = Solution()\n",
    "\n",
    "assert test.moveZeroes([0,1,0,3,12]) == [1,3,12,0,0]\n",
    "assert test.moveZeroes([0,1,0,0,0]) == [1,0,0,0,0]\n"
   ]
  },
  {
   "cell_type": "markdown",
   "metadata": {
    "heading_collapsed": true
   },
   "source": [
    "#   字符串中的第一个唯一字符\n",
    "\n",
    "https://leetcode-cn.com/explore/interview/card/top-interview-questions-easy/5/strings/34/"
   ]
  },
  {
   "cell_type": "code",
   "execution_count": 27,
   "metadata": {
    "hidden": true
   },
   "outputs": [],
   "source": [
    "# 通过加入集合set，加速 in 的查找效率\n",
    "class Solution(object):\n",
    "    def firstUniqChar(self, s):\n",
    "        \"\"\"\n",
    "        :type s: str\n",
    "        :rtype: int\n",
    "        \"\"\"\n",
    "        exclude = set()\n",
    "        for i,j in enumerate(s):\n",
    "            if j in exclude:\n",
    "                continue\n",
    "            if j in s[i+1:]:\n",
    "                # 把匹配过的全部加入排除列，或者从s中删除\n",
    "                exclude.add(j)\n",
    "                continue\n",
    "            else:\n",
    "                return i\n",
    "        return -1\n",
    "            \n",
    "test = Solution()\n",
    "\n",
    "assert test.firstUniqChar(\"leetcode\") == 0\n",
    "assert test.firstUniqChar(\"loveleetcode\") == 2\n",
    "assert test.firstUniqChar(\"lovelove\") == -1"
   ]
  },
  {
   "cell_type": "code",
   "execution_count": 3,
   "metadata": {
    "hidden": true
   },
   "outputs": [],
   "source": [
    "# 超出时间限制\n",
    "class Solution(object):\n",
    "    def firstUniqChar(self, s):\n",
    "        \"\"\"\n",
    "        :type s: str\n",
    "        :rtype: int\n",
    "        \"\"\"\n",
    "        for j,i in enumerate(s):\n",
    "            if s.count(i)>1:\n",
    "                continue\n",
    "            else:\n",
    "                return j\n",
    "        return -1\n",
    "test = Solution()\n",
    "\n",
    "assert test.firstUniqChar(\"leetcode\") == 0\n",
    "assert test.firstUniqChar(\"loveleetcode\") == 2\n",
    "assert test.firstUniqChar(\"lovelove\") == -1"
   ]
  },
  {
   "cell_type": "markdown",
   "metadata": {
    "heading_collapsed": true
   },
   "source": [
    "# 输入一串数字\n",
    "\n",
    "将序列第一个数字提取，下一个数字搬到序列尾部，再提取序列第一个数字，再将下一个数字搬到序列尾部，获取最终生成数\n"
   ]
  },
  {
   "cell_type": "code",
   "execution_count": null,
   "metadata": {
    "hidden": true
   },
   "outputs": [],
   "source": [
    "def func():\n",
    "    s = input()\n",
    "    s = [i for i in s]\n",
    "    result = []\n",
    "    while True:\n",
    "        try:\n",
    "            result.append(s.pop(0))\n",
    "            print('s={}'.format(s))\n",
    "            s.insert(len(s),s.pop(0))\n",
    "        except IndexError :\n",
    "            print(int(''.join(result)))\n",
    "            break\n",
    "if __name__ == '__main__':\n",
    "    func()"
   ]
  },
  {
   "cell_type": "markdown",
   "metadata": {
    "heading_collapsed": true
   },
   "source": [
    "#  整数反转\n",
    "\n",
    "给出一个 32 位的有符号整数，你需要将这个整数中每位上的数字进行反转。\n",
    "\n",
    "https://leetcode-cn.com/explore/interview/card/top-interview-questions-easy/5/strings/33/"
   ]
  },
  {
   "cell_type": "code",
   "execution_count": null,
   "metadata": {
    "hidden": true
   },
   "outputs": [],
   "source": [
    "class Solution(object):\n",
    "    def reverse(self, x):\n",
    "        \"\"\"\n",
    "        :type x: int\n",
    "        :rtype: int\n",
    "        \"\"\"\n",
    "        if x>2147483647 or x<-2147483648:\n",
    "            return 0\n",
    "        if x <0:\n",
    "            x = str(x)\n",
    "            result = -int(x[-1:0:-1])\n",
    "        else:\n",
    "            x = str(x)\n",
    "            result = int(x[-1::-1])\n",
    "        return result if  -2147483647 <result < 2147483648 else 0\n",
    "test = Solution()\n",
    "\n",
    "assert test.reverse(2147483641) == 1463847412\n",
    "assert test.reverse(1534236469) == 0"
   ]
  },
  {
   "cell_type": "markdown",
   "metadata": {
    "heading_collapsed": true
   },
   "source": [
    "#  合并两个有序数组\n",
    "\n",
    "https://leetcode-cn.com/explore/interview/card/top-interview-questions-easy/8/sorting-and-searching/52/"
   ]
  },
  {
   "cell_type": "code",
   "execution_count": 8,
   "metadata": {
    "hidden": true
   },
   "outputs": [
    {
     "data": {
      "text/plain": [
       "[2, 3, 4, 5]"
      ]
     },
     "execution_count": 8,
     "metadata": {},
     "output_type": "execute_result"
    }
   ],
   "source": [
    "l = [4,2,3,5]\n",
    "l.sort()\n",
    "l"
   ]
  },
  {
   "cell_type": "code",
   "execution_count": null,
   "metadata": {
    "hidden": true
   },
   "outputs": [],
   "source": [
    "class Solution(object):\n",
    "    def merge(self, nums1, m, nums2, n):\n",
    "        \"\"\"\n",
    "        :type nums1: List[int]\n",
    "        :type m: int\n",
    "        :type nums2: List[int]\n",
    "        :type n: int\n",
    "        :rtype: None Do not return anything, modify nums1 in-place instead.\n",
    "        \"\"\"\n",
    "        del nums1[m:]\n",
    "        del nums2[n:]\n",
    "        nums1.extend(nums2)\n",
    "        nums1.sort()\n",
    "\n",
    "            return nums1\n",
    "test = Solution()\n",
    "nums1 = [1,2,3,4,5,8,9,10,11,12,17,19,21,49,50,51,52,0,0,0]\n",
    "m = 17\n",
    "nums2 = [2,11,16,20,0,0,0]\n",
    "n = 4\n",
    "assert test.merge(nums1, m, nums2, n) == [1, 2, 2, 3, 4, 5, 8, 9, 10, 11, 11, 12, 16, 17, 19, 20, 21, 49, 50, 51, 52]\n",
    "\n",
    "nums1 = [1,2,3,4,5,8,9,10,11,0,0,0]\n",
    "m = 9\n",
    "nums2 = [2,5,6,9,10,11,16,20,50,51,0,0,0]\n",
    "n = 10\n",
    "assert test.merge(nums1, m, nums2, n) == [1, 2, 2, 3, 4, 5, 5, 6, 8, 9, 9, 10, 10, 11, 11, 16, 20, 50, 51]\n",
    "#\n",
    "nums1 = [0]\n",
    "m = 0\n",
    "nums2 = [1]\n",
    "n = 1\n",
    "assert test.merge(nums1, m, nums2, n) == [1]\n",
    "\n",
    "nums1 = [1,2,3,0,0,0]\n",
    "m = 3\n",
    "nums2 = [2,5,6]\n",
    "n =  3\n",
    "\n",
    "assert test.merge(nums1, m, nums2, n) == [1, 2, 2, 3, 5, 6]\n",
    "#\n",
    "#\n",
    "nums1 = [1,0]\n",
    "m = 1\n",
    "nums2 =[2]\n",
    "n = 1\n",
    "assert test.merge(nums1, m, nums2, n) == [1,2]\n",
    "\n",
    "nums1 = [4,0]\n",
    "m = 1\n",
    "nums2 =[2]\n",
    "n = 1\n",
    "assert test.merge(nums1, m, nums2, n) == [2,4]\n",
    "\n",
    "nums1 = [1]\n",
    "m = 1\n",
    "nums2 = []\n",
    "n = 0\n",
    "\n",
    "assert test.merge(nums1, m, nums2, n) == [1]\n"
   ]
  },
  {
   "cell_type": "code",
   "execution_count": 5,
   "metadata": {
    "hidden": true,
    "scrolled": true
   },
   "outputs": [],
   "source": [
    "# 自建排序法，问题太多了\n",
    "class Solution(object):\n",
    "    def merge(self, nums1, m, nums2, n):\n",
    "        \"\"\"\n",
    "        :type nums1: List[int]\n",
    "        :type m: int\n",
    "        :type nums2: List[int]\n",
    "        :type n: int\n",
    "        :rtype: None Do not return anything, modify nums1 in-place instead.\n",
    "        \"\"\"\n",
    "        del nums1[m:]\n",
    "        del nums2[n:]\n",
    "        if m == 0:\n",
    "            nums1.extend(nums2)\n",
    "            return nums1\n",
    "        elif m == 1 and n >0:\n",
    "            if nums1[0] <= nums2[0]:\n",
    "                nums2.insert(0, nums1[0])\n",
    "                del nums1[0]\n",
    "                nums1.extend(nums2)\n",
    "            else:\n",
    "                for index,i in enumerate(nums2):\n",
    "                    if i <= nums1[0]:\n",
    "                        nums2.insert(index+1,nums1[0])\n",
    "                        nums1.remove(nums1[0])\n",
    "                        nums1.extend(nums2)\n",
    "                        break\n",
    "            return nums1\n",
    "        elif n == 0:\n",
    "            return nums1\n",
    "        else:\n",
    "            start = 0\n",
    "            # 将nums2中最小的找到插入位置，之后的\n",
    "            for index,i in enumerate(nums2):\n",
    "                # 先判断是否有相等的值，有则直接插入\n",
    "                end = m -1 + index\n",
    "                mid = (start + end )//2\n",
    "                if i in nums1:\n",
    "                    nums1.insert(nums1.index(i),i)\n",
    "                    continue\n",
    "                # 二分法找到第一个相匹配的值\n",
    "                while True:\n",
    "                    distance = (end - start )\n",
    "                    if distance == 1:\n",
    "                        if i < nums1[mid]:\n",
    "                            nums1.insert(mid,i)\n",
    "                            # 按顺序判断，每次插入更新起点\n",
    "                            start = mid\n",
    "                            break\n",
    "                        elif i > nums1[mid+1] :\n",
    "                            nums1.insert(mid+2,i)\n",
    "                            start = mid + 1\n",
    "                            break\n",
    "                        elif i > nums1[mid]:\n",
    "                            nums1.insert(mid+1,i)\n",
    "                            start = mid + 1\n",
    "                            break\n",
    "                        elif i == nums1[mid]:\n",
    "                            ext = mid + 1\n",
    "                            while True:\n",
    "                                if i == nums1[ext]:\n",
    "                                    ext += 1\n",
    "                                else:\n",
    "                                    mid = ext\n",
    "                                    break\n",
    "                            nums1.insert(ext,i)\n",
    "                            start = mid + 1\n",
    "                            break\n",
    "                    # print(f\"i={i},distance={distance},mid={mid}\")\n",
    "                    if i < nums1[mid] :\n",
    "                        end = mid\n",
    "                        mid = (start + end )//2\n",
    "                    elif nums1[mid] < i:\n",
    "                        start = mid\n",
    "                        mid = (start + end )//2\n",
    "                    else :\n",
    "                        nums1.insert(mid,i)\n",
    "                        break\n",
    "                    # print(f\"nums1:{nums1}\")\n",
    "            return nums1\n",
    "test = Solution()\n",
    "nums1 = [1,2,3,4,5,8,9,10,11,12,17,19,21,49,50,51,52,0,0,0]\n",
    "m = 17\n",
    "nums2 = [2,11,16,20,0,0,0]\n",
    "n = 4\n",
    "assert test.merge(nums1, m, nums2, n) == [1, 2, 2, 3, 4, 5, 8, 9, 10, 11, 11, 12, 16, 17, 19, 20, 21, 49, 50, 51, 52]\n",
    "\n",
    "nums1 = [1,2,3,4,5,8,9,10,11,0,0,0]\n",
    "m = 9\n",
    "nums2 = [2,5,6,9,10,11,16,20,50,51,0,0,0]\n",
    "n = 10\n",
    "assert test.merge(nums1, m, nums2, n) == [1, 2, 2, 3, 4, 5, 5, 6, 8, 9, 9, 10, 10, 11, 11, 16, 20, 50, 51]\n",
    "#\n",
    "nums1 = [0]\n",
    "m = 0\n",
    "nums2 = [1]\n",
    "n = 1\n",
    "assert test.merge(nums1, m, nums2, n) == [1]\n",
    "\n",
    "nums1 = [1,2,3,0,0,0]\n",
    "m = 3\n",
    "nums2 = [2,5,6]\n",
    "n =  3\n",
    "\n",
    "assert test.merge(nums1, m, nums2, n) == [1, 2, 2, 3, 5, 6]\n",
    "#\n",
    "#\n",
    "nums1 = [1,0]\n",
    "m = 1\n",
    "nums2 =[2]\n",
    "n = 1\n",
    "assert test.merge(nums1, m, nums2, n) == [1,2]\n",
    "\n",
    "nums1 = [4,0]\n",
    "m = 1\n",
    "nums2 =[2]\n",
    "n = 1\n",
    "assert test.merge(nums1, m, nums2, n) == [2,4]\n",
    "\n",
    "nums1 = [1]\n",
    "m = 1\n",
    "nums2 = []\n",
    "n = 0\n",
    "\n",
    "assert test.merge(nums1, m, nums2, n) == [1]\n"
   ]
  },
  {
   "cell_type": "markdown",
   "metadata": {
    "heading_collapsed": true
   },
   "source": [
    "#  位1的个数\n",
    "\n",
    "https://leetcode-cn.com/explore/interview/card/top-interview-questions-easy/26/others/64/\n",
    "\n",
    "这题对python有点问题，python是没有无符号整形的，实际在leetcode中的输入是整形转二进制\n"
   ]
  },
  {
   "cell_type": "code",
   "execution_count": null,
   "metadata": {
    "hidden": true
   },
   "outputs": [],
   "source": [
    "class Solution(object):\n",
    "    def hammingWeight(self, n):\n",
    "        \"\"\"\n",
    "        :type n: int\n",
    "        :rtype: int\n",
    "        \"\"\"\n",
    "        return str(bin(n)).count('1')\n",
    "test = Solution()\n",
    "assert test.hammingWeight(14) == 3\n"
   ]
  },
  {
   "cell_type": "markdown",
   "metadata": {
    "heading_collapsed": true
   },
   "source": [
    "# 3的幂\n",
    "\n",
    "https://leetcode-cn.com/explore/interview/card/top-interview-questions-easy/25/math/62/\n"
   ]
  },
  {
   "cell_type": "code",
   "execution_count": null,
   "metadata": {
    "hidden": true
   },
   "outputs": [],
   "source": [
    "class Solution:\n",
    "    def isPowerOfThree(self, n: int) -> bool:\n",
    "        if str(n)[-1] not in ['3','9','7','1']:\n",
    "            return False\n",
    "        if n == 1:\n",
    "            return True\n",
    "        while True:\n",
    "            n,l = divmod(n,3)\n",
    "            if l != 0 :\n",
    "                return False\n",
    "            elif n != 1:\n",
    "                continue\n",
    "            else:\n",
    "                return True\n",
    "            \n",
    "test = Solution()\n",
    "assert test.isPowerOfThree(1) == True\n",
    "assert test.isPowerOfThree(3) == True\n",
    "assert test.isPowerOfThree(4) == False\n",
    "assert test.isPowerOfThree(6) == False\n",
    "assert test.isPowerOfThree(9) == True\n",
    "assert test.isPowerOfThree(27) == True"
   ]
  },
  {
   "cell_type": "markdown",
   "metadata": {
    "heading_collapsed": true
   },
   "source": [
    "# 反转字符串\n",
    "\n",
    "https://leetcode-cn.com/explore/interview/card/top-interview-questions-easy/5/strings/32/\n",
    "\n",
    "要求原地修改，可以使用O(1)空间\n"
   ]
  },
  {
   "cell_type": "code",
   "execution_count": null,
   "metadata": {
    "hidden": true
   },
   "outputs": [],
   "source": [
    "class Solution:\n",
    "    def reverseString(self, s: list) -> None:\n",
    "        \"\"\"\n",
    "        Do not return anything, modify s in-place instead.\n",
    "        \"\"\"\n",
    "        for i in range(len(s)//2):\n",
    "            tmp = s[i]\n",
    "            s[i] = s[-(i+1)]\n",
    "            s[-(i+1)] = tmp\n",
    "        return s\n",
    "test = Solution()\n",
    "assert test.reverseString([\"h\",\"e\",\"l\",\"l\",\"o\"]) == [\"o\",\"l\",\"l\",\"e\",\"h\"]\n",
    "        "
   ]
  },
  {
   "cell_type": "code",
   "execution_count": null,
   "metadata": {
    "hidden": true
   },
   "outputs": [],
   "source": [
    "#非原地修改，不行\n",
    "class Solution:\n",
    "    def reverseString(self, s: list) -> None:\n",
    "        \"\"\"\n",
    "        Do not return anything, modify s in-place instead.\n",
    "        \"\"\"\n",
    "        return s[-1::-1]\n",
    "test = Solution()\n",
    "assert test.reverseString([\"h\",\"e\",\"l\",\"l\",\"o\"]) == [\"o\",\"l\",\"l\",\"e\",\"h\"]\n",
    "        "
   ]
  },
  {
   "cell_type": "markdown",
   "metadata": {
    "heading_collapsed": true
   },
   "source": [
    "# 两数之和\n",
    "\n",
    "\n",
    "https://leetcode-cn.com/explore/interview/card/top-interview-questions-easy/1/array/29/\n",
    "\n",
    "给定一个整数数组 nums 和一个目标值 target，请你在该数组中找出和为目标值的那 两个 整数，并返回他们的数组下标。\n",
    "\n",
    "你可以假设每种输入只会对应一个答案。但是，你不能重复利用这个数组中同样的元素。\n"
   ]
  },
  {
   "cell_type": "code",
   "execution_count": null,
   "metadata": {
    "hidden": true
   },
   "outputs": [],
   "source": [
    "# 终于能过了\n",
    "class Solution:\n",
    "    def twoSum(self, nums: list, target: int) -> list:\n",
    "        for i,j in enumerate(nums):\n",
    "            x = target - j\n",
    "            a = nums.index(j)\n",
    "            if x in nums :\n",
    "                while True:\n",
    "                    # 是否同一个索引\n",
    "                    b = nums.index(x)\n",
    "                    print(f\"j={j},x={x}\")\n",
    "                    print(f\"a={a},b={b}\")\n",
    "                    print(f\"{nums.count(x)}\")\n",
    "                    if x !=j:\n",
    "                        return [a,b]\n",
    "                    elif  x == j and a != b:\n",
    "                        return [a,b] \n",
    "                    elif x == j and a == b:\n",
    "                        c = nums.count(x)\n",
    "                        if c ==1:\n",
    "                            # 只有唯一数，退出\n",
    "                            break\n",
    "                        elif c > 1:\n",
    "                            # 倒着第二个索引\n",
    "                            nums.reverse()\n",
    "                            b = len(nums) - 1 - nums.index(x)\n",
    "                            return [a,b] \n",
    "                    else:\n",
    "                        break\n"
   ]
  },
  {
   "cell_type": "code",
   "execution_count": null,
   "metadata": {
    "hidden": true
   },
   "outputs": [],
   "source": [
    "# 超出时间限制，而且有错误\n",
    "class Solution:\n",
    "    def twoSum(self, nums: list, target: int) -> list:\n",
    "        for i,j in enumerate(nums):\n",
    "            x = target - j\n",
    "            a = nums.index(j)\n",
    "            while True:\n",
    "                if x in nums :\n",
    "                    b = nums.index(x)\n",
    "                    if  a != b:\n",
    "                        return [a,b] \n",
    "                    elif a == b and x == j:\n",
    "                        nums[a] = False\n",
    "                        continue\n",
    "                    else:\n",
    "                        break\n",
    "                else:\n",
    "                    break\n",
    "\n"
   ]
  },
  {
   "cell_type": "code",
   "execution_count": null,
   "metadata": {
    "hidden": true
   },
   "outputs": [],
   "source": [
    "# 超出时间限制，而且有错误\n",
    "class Solution:\n",
    "    def twoSum(self, nums: list, target: int) -> list:\n",
    "        for i,j in enumerate(nums):\n",
    "            x = target - j\n",
    "            for q,w in enumerate(nums):\n",
    "                if x == w and i != q:\n",
    "                    return [i,q]\n",
    "                else:\n",
    "                    continue\n",
    "\n"
   ]
  },
  {
   "cell_type": "code",
   "execution_count": null,
   "metadata": {
    "hidden": true
   },
   "outputs": [],
   "source": [
    "test = Solution()\n",
    "assert test.twoSum([2,7,11,15],9) == [0,1]\n",
    "assert test.twoSum([3,2,4],6) ==  [1,2]\n",
    "assert test.twoSum([3,3],6) ==  [0,1]\n",
    "assert test.twoSum([0,4,3,0],0) == [0,3]\n",
    "assert test.twoSum([0,4,3,0],3) == [0,2]"
   ]
  },
  {
   "cell_type": "markdown",
   "metadata": {
    "heading_collapsed": true
   },
   "source": [
    "# 从排序数组中删除重复项\n",
    "\n",
    "https://leetcode-cn.com/explore/interview/card/top-interview-questions-easy/1/array/21/\n",
    "\n",
    "什么叫在空间复杂度O(1)范围内？\n",
    "\n",
    "不增加新的内存使用，如定义新的数组保存，或新的变量保存"
   ]
  },
  {
   "cell_type": "code",
   "execution_count": null,
   "metadata": {
    "hidden": true
   },
   "outputs": [],
   "source": [
    "# 定义1个变量，占用O(1)空间记录\n",
    "class Solution:\n",
    "    def removeDuplicates(self, nums: list) -> int:\n",
    "        index = 0\n",
    "        for i in nums[1:]:\n",
    "            if nums[index] !=  i:\n",
    "                index += 1\n",
    "                num[index] = i\n",
    "        return index + 1\n",
    "test = Solution()\n",
    "result = test.removeDuplicates([-3,-3,-2,-1,0,0,1,1,1,2,2,3,3,4])\n",
    "print(result)"
   ]
  },
  {
   "cell_type": "code",
   "execution_count": null,
   "metadata": {
    "hidden": true
   },
   "outputs": [],
   "source": [
    "# 对已排序列表相邻俩数比较是否相同  OK\n",
    "class Solution:\n",
    "    def removeDuplicates(self, nums: list) -> int:\n",
    "        try:\n",
    "            for i in range(len(nums)):\n",
    "                while True:\n",
    "                    if nums[i] == nums[i+1]:\n",
    "                        del nums[i]\n",
    "                    else:\n",
    "                        break\n",
    "        except IndexError:\n",
    "            return len(nums)\n",
    "test = Solution()\n",
    "result = test.removeDuplicates([-3,-3,-2,-1,0,0,1,1,1,2,2,3,3,4])\n",
    "print(result)\n",
    "    "
   ]
  },
  {
   "cell_type": "code",
   "execution_count": null,
   "metadata": {
    "hidden": true
   },
   "outputs": [],
   "source": [
    "# del方法删除区间\n",
    "# 对于超长数组，超出了时间限制\n",
    "class Solution:\n",
    "    def removeDuplicates(self, nums: list) -> int:\n",
    "        try:\n",
    "            for i in range(len(nums)):\n",
    "                if nums.count(nums[i]) > 1:\n",
    "                    del nums[i:i+nums.count(nums[i])-1]\n",
    "                else:\n",
    "                    continue\n",
    "            \n",
    "        except IndexError:\n",
    "            return len(nums)\n",
    "test = Solution()\n",
    "result = test.removeDuplicates([0,0,1,1,1,2,2,3,3,4])\n",
    "print(result)\n",
    "    "
   ]
  },
  {
   "cell_type": "code",
   "execution_count": null,
   "metadata": {
    "hidden": true
   },
   "outputs": [],
   "source": [
    "# 循环读取超过1个的数进行删除\n",
    "# 对于超长数组，超出了时间限制\n",
    "class Solution:\n",
    "    def removeDuplicates(self, nums: list) -> int:\n",
    "        try:\n",
    "            for i in range(len(nums)):\n",
    "                while nums.count(nums[i])>1:\n",
    "                    nums.remove(nums[i])\n",
    "                    continue\n",
    "        except IndexError:\n",
    "            return len(nums)\n",
    "test = Solution()\n",
    "result = test.removeDuplicates([2,3,4,4,5])\n",
    "print(result)\n",
    "    "
   ]
  },
  {
   "cell_type": "code",
   "execution_count": null,
   "metadata": {
    "hidden": true
   },
   "outputs": [],
   "source": [
    "# 循环读取超过1个的数进行删除\n",
    "# 对于超长数组，超出了时间限制\n",
    "class Solution:\n",
    "    def removeDuplicates(self, nums: list) -> int:\n",
    "        try:\n",
    "            for i in range(len(nums)):\n",
    "                for j in range(1,nums.count(nums[i])):\n",
    "                    nums.remove(nums[i])\n",
    "        except IndexError:\n",
    "            return len(nums)\n",
    "test = Solution()\n",
    "result = test.removeDuplicates([2,3,4,4,5])\n",
    "print(result)\n",
    "    "
   ]
  },
  {
   "cell_type": "code",
   "execution_count": null,
   "metadata": {
    "hidden": true
   },
   "outputs": [],
   "source": [
    "# 空间复杂度超过O(1)，非原地修改\n",
    "class Solution:\n",
    "    def removeDuplicates(self, nums: list) -> int:\n",
    "        tmp=list(set(nums))\n",
    "        nums.clear()\n",
    "        nums.extend(tmp)\n",
    "        print(tmp)\n",
    "        return len(nums)\n",
    "test = Solution()\n",
    "result = test.removeDuplicates([0,0,1,1,1,2,2,3,3,4])\n",
    "print(result)\n",
    "    "
   ]
  },
  {
   "cell_type": "markdown",
   "metadata": {
    "heading_collapsed": true
   },
   "source": [
    "#  爬楼梯\n",
    "\n",
    "\n",
    "https://leetcode-cn.com/explore/interview/card/top-interview-questions-easy/23/dynamic-programming/54/\n",
    "\n",
    "假设你正在爬楼梯。需要 n 阶你才能到达楼顶。\n",
    "\n",
    "每次你可以爬 1 或 2 个台阶。你有多少种不同的方法可以爬到楼顶呢？\n",
    "\n",
    "注意：给定 n 是一个正整数。\n",
    "\n",
    "示例 1：\n",
    "\n",
    "输入： 2\n",
    "\n",
    "输出： 2\n",
    "\n",
    "解释： 有两种方法可以爬到楼顶。\n",
    "\n",
    "1.  1 阶 + 1 阶\n",
    "2.  2 阶\n",
    "\n",
    "示例 2：\n",
    "\n",
    "输入： 3\n",
    "\n",
    "输出： 3\n",
    "\n",
    "解释： 有三种方法可以爬到楼顶。\n",
    "1.  1 阶 + 1 阶 + 1 阶 \n",
    "2.  1 阶 + 2 阶\n",
    "3.  2 阶 + 1 阶\n",
    "\n",
    "\n",
    "\n",
    "输入： 4\n",
    "\n",
    "输出： 5\n",
    "\n",
    "1. 1 + 1 + 1 + 1\n",
    "2. 1 + 1 + 2\n",
    "3. 1 + 2 + 1\n",
    "4. 2 + 1 + 1\n",
    "5. 2 + 2\n",
    "\n",
    "\n",
    "方法1：\n",
    "\n",
    "0. f(0) = 0\n",
    "1. f(1) = 1\n",
    "2. f(2) = 2\n",
    "\n",
    "爬第N阶，f(N)\n",
    "\n",
    "爬第N-1阶，f(N-1)\n",
    "\n",
    "在考虑有序的情况下，可以表示\n",
    "\n",
    "从第N-1到第N阶，需要爬1阶\n",
    "\n",
    "从第N-2到第N阶，需要爬2阶\n",
    "\n",
    "即，有序的情况下，即便有相同组合，也应计算，所以最后一步前的相同组合实际是有序不同的组合\n",
    "\n",
    "\n",
    "3. f(N-2)+f(N-1)=f(N)\n",
    "\n",
    "方法2:\n",
    "\n",
    "二项式定理\n",
    "\n",
    "$$(1+2)^N$$\n",
    "\n",
    "- 1：一阶\n",
    "- 2：二阶\n",
    "- N：步数 设(1为x步，2为y步)\n",
    "- 约束条件： x+y=N,x+2y=n，x,y都是大于等于1的正整数\n",
    "- N//2是全为2步最大层数\n",
    "- N是全为1步最大层数\n",
    "\n",
    "\n",
    "\n",
    "\n"
   ]
  },
  {
   "cell_type": "code",
   "execution_count": null,
   "metadata": {
    "hidden": true
   },
   "outputs": [],
   "source": [
    "# 二项式定理\n",
    "class Solution:\n",
    "    def climbStairs(self, n: int) -> int:\n",
    "        # 计数器\n",
    "        count = 0\n",
    "        def jiechen(c):\n",
    "            if c>1:\n",
    "                return c*jiechen(c-1)\n",
    "            else:\n",
    "                return 1\n",
    "        def paixu(n,k):\n",
    "            return jiechen(n)//jiechen(n-k)\n",
    "        def zuhe(n,k):\n",
    "            return paixu(n,k)//jiechen(k)\n",
    "        # 设i为2的步数\n",
    "        # 遍历所有2的走法，并求出此种情况下的组合\n",
    "        for i in range(n//2+1):\n",
    "            # 2*i 为2所走的阶数\n",
    "            # 求在某(n-i)阶中，步法为1的组合\n",
    "            count += zuhe(n-i,n-2*i)      \n",
    "        for j in range(n+1):\n",
    "            # 2*i 为2所走的阶数\n",
    "            # 求在某(n-i)阶中，步法为1的组合\n",
    "            count += zuhe((n-i)/2,n-i)   \n",
    "        return count\n",
    "test = Solution() \n",
    "test.climbStairs(35)"
   ]
  },
  {
   "cell_type": "code",
   "execution_count": null,
   "metadata": {
    "hidden": true
   },
   "outputs": [],
   "source": [
    "import math  \n",
    "layers = 10\n",
    "for layer in range(layers):\n",
    "    for ones in range(layer+1):\n",
    "        print(math.factorial(ones+layer)/(math.factorial(ones)*math.factorial(layer)),end=\" \")\n",
    "    print('')"
   ]
  },
  {
   "cell_type": "code",
   "execution_count": null,
   "metadata": {
    "hidden": true
   },
   "outputs": [],
   "source": [
    "# 利用二项式定理（杨辉三角）急速解决\n",
    "import math\n",
    "\n",
    "\n",
    "class Solution(object):\n",
    "    def climbStairs(self, n):\n",
    "        num = 0\n",
    "        def jiechen(c):\n",
    "            if c>1:\n",
    "                return c*jiechen(c-1)\n",
    "            else:\n",
    "                return 1\n",
    "        def paixu(n,k):\n",
    "            return jiechen(n)//jiechen(n-k)\n",
    "        def zuhe(n,k):\n",
    "            return paixu(n,k)//jiechen(k)\n",
    "        for i in range(n//2+1):\n",
    "            ones = n-2*i\n",
    "#             num += math.factorial(ones+i)/(math.factorial(ones)*math.factorial(i))\n",
    "            num += zuhe(n-i,n-2*i)\n",
    "        return num\n",
    "test=Solution()\n",
    "for i in range(15):\n",
    "    print(i, test.climbStairs(i))\n",
    "# assert test.climbStairs(35) == 14930352"
   ]
  },
  {
   "cell_type": "code",
   "execution_count": null,
   "metadata": {
    "hidden": true
   },
   "outputs": [],
   "source": [
    "# 没有这个lru_cache就会超时的\n",
    "from functools import lru_cache\n",
    "\n",
    "class Solution:\n",
    "    @lru_cache(10**8)\n",
    "    def climbStairs(self, n: int) -> int:\n",
    "        if n == 0:\n",
    "            return 0\n",
    "        elif n == 1:\n",
    "            return 1\n",
    "        elif n == 2:\n",
    "            return 2\n",
    "        else:\n",
    "            return self.climbStairs(n-1) + self.climbStairs(n-2)"
   ]
  },
  {
   "cell_type": "code",
   "execution_count": null,
   "metadata": {
    "hidden": true,
    "scrolled": true
   },
   "outputs": [],
   "source": [
    "# 通过，但是效率太低，占用内存高\n",
    "class Solution:\n",
    "    def climbStairs(self, n: int) -> int:\n",
    "        result = [0,1]\n",
    "        if n >=3:\n",
    "            print('3')\n",
    "            for i in range(n):\n",
    "                result.append(result[-1]+result[-2])\n",
    "            return result[-1]\n",
    "        elif n == 1:\n",
    "            print('1')\n",
    "            return 1\n",
    "        elif n == 2:\n",
    "            print('2')\n",
    "            return 2\n",
    "        elif n == 0:\n",
    "            return 0\n"
   ]
  },
  {
   "cell_type": "code",
   "execution_count": null,
   "metadata": {
    "hidden": true
   },
   "outputs": [],
   "source": [
    "# 通过，效率还行\n",
    "class Solution:\n",
    "    def climbStairs(self, n: int) -> int:\n",
    "        result = [0,1,2]\n",
    "        if n < 3 :\n",
    "            return result[n]\n",
    "        pre,mid,end = 0,1,2\n",
    "        for _ in range(n-2):\n",
    "            result[pre] = result[mid]\n",
    "            result[mid] = result[end]\n",
    "            result[end] = result[pre] + result[mid]\n",
    "        return result[-1]\n",
    " "
   ]
  },
  {
   "cell_type": "code",
   "execution_count": null,
   "metadata": {
    "hidden": true
   },
   "outputs": [],
   "source": [
    "# 通过，但是效率中等\n",
    "class Solution:\n",
    "    def climbStairs(self, n: int) -> int:\n",
    "        result = [0,1,2]\n",
    "        if n < 3 :\n",
    "            return result[n]\n",
    "        def nextindex():\n",
    "            while True:\n",
    "                yield 1,2,0\n",
    "                yield 2,0,1\n",
    "                yield 0,1,2\n",
    "        node = nextindex()\n",
    "        for i in range(n-2):\n",
    "            # 轮询索引\n",
    "            pre,mid,end = next(node) \n",
    "            result[end] = result[pre] + result[mid]\n",
    "        return result[end]\n",
    " "
   ]
  },
  {
   "cell_type": "code",
   "execution_count": null,
   "metadata": {
    "hidden": true
   },
   "outputs": [],
   "source": [
    "# 别人的方法，还蛮简洁的\n",
    "class Solution:\n",
    "    def climbStairs(self, n: int) -> int:\n",
    "        i = 1    # 爬到1台阶仅有1种方法\n",
    "        j = 2    # 爬到2台阶有2种方法\n",
    "        for _ in range(3, n):         # 自底向上递推 F(n)=F(n-1)+F(n-2)\n",
    "            i, j = j, i + j           # 每次仅保留前两个值，依次往后推算\n",
    "        return i + j if n > 2 else n  # 注意当n=1,n=2时的情况"
   ]
  },
  {
   "cell_type": "code",
   "execution_count": null,
   "metadata": {
    "hidden": true,
    "scrolled": true
   },
   "outputs": [],
   "source": [
    "test = Solution()\n",
    "assert test.climbStairs(0) == 0\n",
    "assert test.climbStairs(1) == 1\n",
    "assert test.climbStairs(2) == 2\n",
    "assert test.climbStairs(3) == 3\n",
    "assert test.climbStairs(4) == 5\n",
    "assert test.climbStairs(35) == 14930352"
   ]
  },
  {
   "cell_type": "code",
   "execution_count": null,
   "metadata": {
    "hidden": true
   },
   "outputs": [],
   "source": [
    "\n",
    "            \n",
    "        "
   ]
  },
  {
   "cell_type": "code",
   "execution_count": null,
   "metadata": {
    "hidden": true
   },
   "outputs": [],
   "source": []
  }
 ],
 "metadata": {
  "kernelspec": {
   "display_name": "Python 3",
   "language": "python",
   "name": "python3"
  },
  "language_info": {
   "codemirror_mode": {
    "name": "ipython",
    "version": 3
   },
   "file_extension": ".py",
   "mimetype": "text/x-python",
   "name": "python",
   "nbconvert_exporter": "python",
   "pygments_lexer": "ipython3",
   "version": "3.7.1"
  },
  "toc": {
   "base_numbering": 1,
   "nav_menu": {},
   "number_sections": true,
   "sideBar": true,
   "skip_h1_title": false,
   "title_cell": "Table of Contents",
   "title_sidebar": "Contents",
   "toc_cell": false,
   "toc_position": {},
   "toc_section_display": true,
   "toc_window_display": false
  },
  "varInspector": {
   "cols": {
    "lenName": 16,
    "lenType": 16,
    "lenVar": 40
   },
   "kernels_config": {
    "python": {
     "delete_cmd_postfix": "",
     "delete_cmd_prefix": "del ",
     "library": "var_list.py",
     "varRefreshCmd": "print(var_dic_list())"
    },
    "r": {
     "delete_cmd_postfix": ") ",
     "delete_cmd_prefix": "rm(",
     "library": "var_list.r",
     "varRefreshCmd": "cat(var_dic_list()) "
    }
   },
   "position": {
    "height": "455.4px",
    "left": "1145.2px",
    "right": "20px",
    "top": "126px",
    "width": "350px"
   },
   "types_to_exclude": [
    "module",
    "function",
    "builtin_function_or_method",
    "instance",
    "_Feature"
   ],
   "window_display": false
  }
 },
 "nbformat": 4,
 "nbformat_minor": 2
}
