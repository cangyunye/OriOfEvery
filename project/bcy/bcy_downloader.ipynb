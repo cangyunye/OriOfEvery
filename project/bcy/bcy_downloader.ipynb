{
 "cells": [
  {
   "cell_type": "markdown",
   "metadata": {},
   "source": [
    "\"\"\"\n",
    "分析方案:\n",
    "\n",
    "登录https://bcy.net\n",
    "\n",
    "方案选择器：1 我的喜欢  2 原作/标签 3 获取评论 4 指定用户下图片\n",
    "\n",
    "进入个人主页https://bcy.net/u/605084\n",
    "\n",
    "选择我的喜欢https://bcy.net/u/605084/like\n",
    "\n",
    "获取内容分类下的图文原址作为list\n",
    "\n",
    "登录list[i] https://bcy.net/item/detail/6581722283805507847\n",
    "\n",
    "获取article标签下所有大图 `<div class=\"img-wrap-inner\"><img src=\"https://img-bcy-qn.pstatp.com/user/30172/item/web/179no/9314ae308f2811e89ada1b5c766b8a41.jpg/w650\"></div>`\n",
    "\n",
    "将获取的src地址去掉w650后下载，建立所有article对应的title目录<a class=\"cut\" href=\"/u/30172\" title=\"洛霁无\">洛霁无</a>\n",
    "\n",
    "考虑分布式下载\n",
    "\"\"\""
   ]
  },
  {
   "cell_type": "code",
   "execution_count": 1,
   "metadata": {},
   "outputs": [],
   "source": [
    "import requests\n",
    "from urllib.parse import urlencode\n",
    "from urllib.parse import urljoin\n",
    "from requests import codes\n",
    "import os\n",
    "import random\n",
    "from bs4 import BeautifulSoup\n",
    "import re\n",
    "headers={\n",
    "    'user-agent':'Mozilla/5.0 (Windows NT 10.0; Win64; x64) AppleWebKit/537.36 (KHTML, like Gecko) Chrome/70.0.3538.77 Safari/537.36'\n",
    "}"
   ]
  },
  {
   "cell_type": "code",
   "execution_count": 2,
   "metadata": {},
   "outputs": [],
   "source": [
    "headers={\n",
    "    'user-agent':'Mozilla/5.0 (Windows NT 10.0; Win64; x64) AppleWebKit/537.36 (KHTML, like Gecko) Chrome/70.0.3538.77 Safari/537.36'\n",
    "}\n",
    "url='https://bcy.net/u/605084/like'\n",
    "rg=requests.get(url,headers=headers)\n",
    "soup = BeautifulSoup(rg.text,'lxml')\n",
    "detail_page='https://bcy.net/item/detail/6578730940602777859'\n",
    "rgd=requests.get(detail_page,headers=headers)\n",
    "#中文编码\n",
    "rgd.encoding='utf-8'\n",
    "soupd = BeautifulSoup(rgd.text,'lxml')"
   ]
  },
  {
   "cell_type": "code",
   "execution_count": 3,
   "metadata": {},
   "outputs": [
    {
     "data": {
      "text/plain": [
       "'6578730940602777859'"
      ]
     },
     "execution_count": 3,
     "metadata": {},
     "output_type": "execute_result"
    }
   ],
   "source": [
    "from urllib.parse import urlparse\n",
    "urlparse(detail_page)\n",
    "from urllib.parse import urlsplit\n",
    "urlsplit(detail_page)\n",
    "re.search('detail/(.*)?',detail_page).groups()[0]"
   ]
  },
  {
   "cell_type": "code",
   "execution_count": 4,
   "metadata": {},
   "outputs": [],
   "source": [
    "#发现图片其实在soupd.find_all(name='script')中的某个window.__ssr_data = JSON.parse\n",
    "json_img=soupd.find_all(name='script',text=re.compile('JSON.parse(.*);(.*)'))\n",
    "json_img=re.findall('JSON.parse\\(\"(.*)\"\\);',str(json_img))\n",
    "import json\n",
    "str_j=eval(\"'{}'\".format(json_img[0]))\n",
    "jd=json.loads(str_j)\n",
    "#图片链接\n",
    "jd_multi=jd['detail']['post_data']['multi']\n",
    "jd_uid = jd['detail']['detail_user']['uid']\n",
    "jd_name = jd['detail']['detail_user']['uname']"
   ]
  },
  {
   "cell_type": "code",
   "execution_count": 5,
   "metadata": {},
   "outputs": [
    {
     "data": {
      "text/plain": [
       "{'detail': {'post_data': {'item_id': '6578730940602777859',\n",
       "   'uid': '1056569',\n",
       "   'ctime': '1531730159',\n",
       "   'type': 'note',\n",
       "   'title': '',\n",
       "   'summary': '',\n",
       "   'content': '',\n",
       "   'plain': '【穹妹正片】 <br><br>欢迎回家！主人~是你的女仆穹吗？<br><br>等了超久的正片了！！今天收到超开心！从后期大大那里拿到图超兴奋的(。・∀・)ノ゛<br>春日野穹:五谷杂粮<br>妆面：五谷杂粮<br>摄影：爸比@摄影师Poinko 微博：摄影师Poinko<br>后期：白夜@白夜-w 这个后期超棒！！<br>后勤：@今天也依旧吃不饱zz 毛娘后勤：@朽凉Sakura <br>emmmm…话废…没啥可说了 看片吧ヾ(≧∇≦*)',\n",
       "   'word_count': 0,\n",
       "   'multi': [{'path': 'https://img-bcy-qn.pstatp.com/user/1056569/item/c0jjg/672b562e2c864e719dedcc28b6bac422.jpg/w650',\n",
       "     'type': 'image',\n",
       "     'mid': '10474092',\n",
       "     'w': 4480,\n",
       "     'h': 6720,\n",
       "     'original_path': 'https://img-bcy-qn.pstatp.com/user/1056569/item/c0jjg/672b562e2c864e719dedcc28b6bac422.jpg'},\n",
       "    {'path': 'https://img-bcy-qn.pstatp.com/user/1056569/item/c0jjg/b8d43a984790496585aff2dc0964bfd0.jpg/w650',\n",
       "     'type': 'image',\n",
       "     'mid': '10474093',\n",
       "     'w': 3733,\n",
       "     'h': 5600,\n",
       "     'original_path': 'https://img-bcy-qn.pstatp.com/user/1056569/item/c0jjg/b8d43a984790496585aff2dc0964bfd0.jpg'},\n",
       "    {'path': 'https://img-bcy-qn.pstatp.com/user/1056569/item/c0jjg/abde1b6ae3544c13a9031e5925be350d.jpg/w650',\n",
       "     'type': 'image',\n",
       "     'mid': '10474094',\n",
       "     'w': 4480,\n",
       "     'h': 6720,\n",
       "     'original_path': 'https://img-bcy-qn.pstatp.com/user/1056569/item/c0jjg/abde1b6ae3544c13a9031e5925be350d.jpg'},\n",
       "    {'path': 'https://img-bcy-qn.pstatp.com/user/1056569/item/c0jjg/251c5069a49b436ba53ba55e74458cfc.jpg/w650',\n",
       "     'type': 'image',\n",
       "     'mid': '10474095',\n",
       "     'w': 4480,\n",
       "     'h': 6720,\n",
       "     'original_path': 'https://img-bcy-qn.pstatp.com/user/1056569/item/c0jjg/251c5069a49b436ba53ba55e74458cfc.jpg'},\n",
       "    {'path': 'https://img-bcy-qn.pstatp.com/user/1056569/item/c0jjg/85c680a195a34d3696ed8518f543d722.jpg/w650',\n",
       "     'type': 'image',\n",
       "     'mid': '10474096',\n",
       "     'w': 4480,\n",
       "     'h': 6720,\n",
       "     'original_path': 'https://img-bcy-qn.pstatp.com/user/1056569/item/c0jjg/85c680a195a34d3696ed8518f543d722.jpg'},\n",
       "    {'path': 'https://img-bcy-qn.pstatp.com/user/1056569/item/c0jjg/04b8ed73a3754ecdbb7796acb5f460c1.jpg/w650',\n",
       "     'type': 'image',\n",
       "     'mid': '10474097',\n",
       "     'w': 6720,\n",
       "     'h': 4480,\n",
       "     'original_path': 'https://img-bcy-qn.pstatp.com/user/1056569/item/c0jjg/04b8ed73a3754ecdbb7796acb5f460c1.jpg'},\n",
       "    {'path': 'https://img-bcy-qn.pstatp.com/user/1056569/item/c0jjg/e6b06accfbe142f7b3e5037f425b25fd.jpg/w650',\n",
       "     'type': 'image',\n",
       "     'mid': '10474098',\n",
       "     'w': 4480,\n",
       "     'h': 6720,\n",
       "     'original_path': 'https://img-bcy-qn.pstatp.com/user/1056569/item/c0jjg/e6b06accfbe142f7b3e5037f425b25fd.jpg'},\n",
       "    {'path': 'https://img-bcy-qn.pstatp.com/user/1056569/item/c0jjg/53b33a805db5415689cf687a6b614e0b.jpg/w650',\n",
       "     'type': 'image',\n",
       "     'mid': '10474099',\n",
       "     'w': 6720,\n",
       "     'h': 4480,\n",
       "     'original_path': 'https://img-bcy-qn.pstatp.com/user/1056569/item/c0jjg/53b33a805db5415689cf687a6b614e0b.jpg'},\n",
       "    {'path': 'https://img-bcy-qn.pstatp.com/user/1056569/item/c0jjg/0584b054b68f45da8fb94783b519537c.jpg/w650',\n",
       "     'type': 'image',\n",
       "     'mid': '10474100',\n",
       "     'w': 4480,\n",
       "     'h': 6720,\n",
       "     'original_path': 'https://img-bcy-qn.pstatp.com/user/1056569/item/c0jjg/0584b054b68f45da8fb94783b519537c.jpg'}],\n",
       "   'pic_num': 9,\n",
       "   'work': '缘之空',\n",
       "   'wid': '2031',\n",
       "   'work_real_name': '缘之空',\n",
       "   'post_tags': [{'tag_id': '399',\n",
       "     'tag_name': 'COS',\n",
       "     'type': 'tag',\n",
       "     'cover': 'https://img-bcy-qn.pstatp.com/core/tags/flag/c0jut/1d614ad0f07711e89700dbdffdb08f11.png/2X2',\n",
       "     'post_count': '394822'},\n",
       "    {'tag_id': '845',\n",
       "     'tag_name': '女仆',\n",
       "     'type': 'tag',\n",
       "     'cover': 'https://img-bcy-qn.pstatp.com/core/tags/flag/1789d/b65cf7f0796611e6a62277d239d00c41.jpg/2X2',\n",
       "     'post_count': '8983'},\n",
       "    {'tag_id': '1603',\n",
       "     'tag_name': '同人',\n",
       "     'type': 'tag',\n",
       "     'cover': 'https://img-bcy-qn.pstatp.com/user/101164503236/item/c0jwy/8d47fa0b4488487990ae8c9f36e01eae.png/2X2',\n",
       "     'post_count': '97228'},\n",
       "    {'tag_id': '4668',\n",
       "     'tag_name': '动画',\n",
       "     'type': 'tag',\n",
       "     'cover': 'https://img-bcy-qn.pstatp.com/core/tags/flag/178ki/56b8a0c0086c11e7aaf1e11581d66c9a.jpg/2X2',\n",
       "     'post_count': '36559'}],\n",
       "   'like_count': 954,\n",
       "   'user_liked': False,\n",
       "   'reply_count': 53,\n",
       "   'share_count': 10,\n",
       "   'at_user_infos': [{'at_uname': '摄影师Poinko',\n",
       "     'uid': '1049063',\n",
       "     'uname': '摄影师Poinko'},\n",
       "    {'at_uname': '白夜-w', 'uid': '253474', 'uname': '白夜-w'},\n",
       "    {'at_uname': '今天也依旧吃不饱zz', 'uid': '0'},\n",
       "    {'at_uname': '朽凉Sakura', 'uid': '236925', 'uname': '朽凉Sakura'}],\n",
       "   'editor_status': 'all_public',\n",
       "   'forbidden_right_click': True,\n",
       "   'view_need_login': False,\n",
       "   'view_need_fans': False,\n",
       "   'no_trans': True,\n",
       "   'no_modify': True,\n",
       "   'top_lists': [{'ttype_set': {'type': 'coser', 'name': 'COS榜'},\n",
       "     'sub_type_set': {'type': 'lastday', 'name': '日榜'},\n",
       "     'stime': '20180719',\n",
       "     'count': '0',\n",
       "     'rank': '4'},\n",
       "    {'ttype_set': {'type': 'coser', 'name': 'COS榜'},\n",
       "     'sub_type_set': {'type': 'lastday', 'name': '日榜'},\n",
       "     'stime': '20180718',\n",
       "     'count': '0',\n",
       "     'rank': '4'},\n",
       "    {'ttype_set': {'type': 'coser', 'name': 'COS榜'},\n",
       "     'sub_type_set': {'type': 'week', 'name': '周榜'},\n",
       "     'stime': '20180724',\n",
       "     'count': '0',\n",
       "     'rank': '18'},\n",
       "    {'ttype_set': {'type': 'coser', 'name': 'COS榜'},\n",
       "     'sub_type_set': {'type': 'week', 'name': '周榜'},\n",
       "     'stime': '20180723',\n",
       "     'count': '0',\n",
       "     'rank': '18'},\n",
       "    {'ttype_set': {'type': 'coser', 'name': 'COS榜'},\n",
       "     'sub_type_set': {'type': 'week', 'name': '周榜'},\n",
       "     'stime': '20180721',\n",
       "     'count': '0',\n",
       "     'rank': '18'},\n",
       "    {'ttype_set': {'type': 'coser', 'name': 'COS榜'},\n",
       "     'sub_type_set': {'type': 'week', 'name': '周榜'},\n",
       "     'stime': '20180722',\n",
       "     'count': '0',\n",
       "     'rank': '19'},\n",
       "    {'ttype_set': {'type': 'coser', 'name': 'COS榜'},\n",
       "     'sub_type_set': {'type': 'week', 'name': '周榜'},\n",
       "     'stime': '20180720',\n",
       "     'count': '0',\n",
       "     'rank': '23'},\n",
       "    {'ttype_set': {'type': 'coser', 'name': 'COS榜'},\n",
       "     'sub_type_set': {'type': 'week', 'name': '周榜'},\n",
       "     'stime': '20180719',\n",
       "     'count': '0',\n",
       "     'rank': '29'},\n",
       "    {'ttype_set': {'type': 'coser', 'name': 'COS榜'},\n",
       "     'sub_type_set': {'type': 'week', 'name': '周榜'},\n",
       "     'stime': '20180718',\n",
       "     'count': '0',\n",
       "     'rank': '49'}],\n",
       "   'postStatus': 'normal'},\n",
       "  'detail_user': {'uid': '1056569',\n",
       "   'avatar': 'https://img-bcy-qn.pstatp.com/Public/Upload/avatar/1056569/f74387b4d109489aa4978cf46fe20514/fat.jpg/abig',\n",
       "   'uname': '五谷杂粮',\n",
       "   'self_intro': 'cos老咸鱼 佛系出片 佛系玩cos',\n",
       "   'sex': 0,\n",
       "   'following': '43',\n",
       "   'follower': '1230',\n",
       "   'followstate': 'unfollow',\n",
       "   'value_user': 0,\n",
       "   'show_utags': True,\n",
       "   'utags': [{'ut_id': '33', 'ut_name': '老司机'},\n",
       "    {'ut_id': '36', 'ut_name': '学生党'},\n",
       "    {'ut_id': '1', 'ut_name': 'Coser'}]},\n",
       "  'top_lists': [{'id': '0',\n",
       "    'ttype': 'coser',\n",
       "    'sub_type': 'lastday',\n",
       "    'stime': '20180719',\n",
       "    'rank': '4'},\n",
       "   {'id': '0',\n",
       "    'ttype': 'coser',\n",
       "    'sub_type': 'lastday',\n",
       "    'stime': '20180718',\n",
       "    'rank': '4'},\n",
       "   {'id': '0',\n",
       "    'ttype': 'coser',\n",
       "    'sub_type': 'week',\n",
       "    'stime': '20180724',\n",
       "    'rank': '18'},\n",
       "   {'id': '0',\n",
       "    'ttype': 'coser',\n",
       "    'sub_type': 'week',\n",
       "    'stime': '20180723',\n",
       "    'rank': '18'},\n",
       "   {'id': '0',\n",
       "    'ttype': 'coser',\n",
       "    'sub_type': 'week',\n",
       "    'stime': '20180721',\n",
       "    'rank': '18'},\n",
       "   {'id': '0',\n",
       "    'ttype': 'coser',\n",
       "    'sub_type': 'week',\n",
       "    'stime': '20180722',\n",
       "    'rank': '19'},\n",
       "   {'id': '0',\n",
       "    'ttype': 'coser',\n",
       "    'sub_type': 'week',\n",
       "    'stime': '20180720',\n",
       "    'rank': '23'},\n",
       "   {'id': '0',\n",
       "    'ttype': 'coser',\n",
       "    'sub_type': 'week',\n",
       "    'stime': '20180719',\n",
       "    'rank': '29'},\n",
       "   {'id': '0',\n",
       "    'ttype': 'coser',\n",
       "    'sub_type': 'week',\n",
       "    'stime': '20180718',\n",
       "    'rank': '49'}],\n",
       "  'detail_banners': [{'link': 'https://bcy.net/huodong/204',\n",
       "    'path': 'https://img-bcy-qn.pstatp.com/editor/flag/c0juj/3a0d79e0e88b11e8a1686169f2a982d8.jpg',\n",
       "    'title': ''},\n",
       "   {'link': 'https://bcy.net/static/bcycos8intro#nav',\n",
       "    'path': 'https://img-bcy-qn.pstatp.com/editor/flag/c0jut/0b260430f07911e89b51db8a4ed73562.png',\n",
       "    'title': ''}],\n",
       "  'self': False,\n",
       "  'abTest': {'info': [{'rsp_type': 5,\n",
       "     'flight_name': '128850',\n",
       "     'version_name': '',\n",
       "     'parameters': '{}',\n",
       "     'client_version_name': '585022',\n",
       "     'client_parameters': '{\"bcy_wap_detail_recommend\":{\"type\":0}}',\n",
       "     'env_flag': 0}]},\n",
       "  'currentStyle': {'bgColor': 'white', 'fontSize': 'm', 'indent': 'noindent'}},\n",
       " 'user': {'uid': '0'}}"
      ]
     },
     "execution_count": 5,
     "metadata": {},
     "output_type": "execute_result"
    }
   ],
   "source": [
    "jd"
   ]
  },
  {
   "cell_type": "code",
   "execution_count": 124,
   "metadata": {},
   "outputs": [
    {
     "name": "stdout",
     "output_type": "stream",
     "text": [
      "https://img-bcy-qn.pstatp.com/user/1056569/item/c0jjg/672b562e2c864e719dedcc28b6bac422.jpg\n",
      "https://img-bcy-qn.pstatp.com/user/1056569/item/c0jjg/b8d43a984790496585aff2dc0964bfd0.jpg\n",
      "https://img-bcy-qn.pstatp.com/user/1056569/item/c0jjg/abde1b6ae3544c13a9031e5925be350d.jpg\n",
      "https://img-bcy-qn.pstatp.com/user/1056569/item/c0jjg/251c5069a49b436ba53ba55e74458cfc.jpg\n",
      "https://img-bcy-qn.pstatp.com/user/1056569/item/c0jjg/85c680a195a34d3696ed8518f543d722.jpg\n",
      "https://img-bcy-qn.pstatp.com/user/1056569/item/c0jjg/04b8ed73a3754ecdbb7796acb5f460c1.jpg\n",
      "https://img-bcy-qn.pstatp.com/user/1056569/item/c0jjg/e6b06accfbe142f7b3e5037f425b25fd.jpg\n",
      "https://img-bcy-qn.pstatp.com/user/1056569/item/c0jjg/53b33a805db5415689cf687a6b614e0b.jpg\n",
      "https://img-bcy-qn.pstatp.com/user/1056569/item/c0jjg/0584b054b68f45da8fb94783b519537c.jpg\n"
     ]
    }
   ],
   "source": [
    "for img_l in jd_multi:\n",
    "    print(img_l['path'].rstrip('/w650'))"
   ]
  },
  {
   "cell_type": "code",
   "execution_count": 132,
   "metadata": {},
   "outputs": [
    {
     "data": {
      "text/plain": [
       "[{'path': 'https://img-bcy-qn.pstatp.com/user/1056569/item/c0jjg/672b562e2c864e719dedcc28b6bac422.jpg/w650',\n",
       "  'type': 'image',\n",
       "  'mid': '10474092',\n",
       "  'w': 4480,\n",
       "  'h': 6720,\n",
       "  'original_path': 'https://img-bcy-qn.pstatp.com/user/1056569/item/c0jjg/672b562e2c864e719dedcc28b6bac422.jpg'},\n",
       " {'path': 'https://img-bcy-qn.pstatp.com/user/1056569/item/c0jjg/b8d43a984790496585aff2dc0964bfd0.jpg/w650',\n",
       "  'type': 'image',\n",
       "  'mid': '10474093',\n",
       "  'w': 3733,\n",
       "  'h': 5600,\n",
       "  'original_path': 'https://img-bcy-qn.pstatp.com/user/1056569/item/c0jjg/b8d43a984790496585aff2dc0964bfd0.jpg'},\n",
       " {'path': 'https://img-bcy-qn.pstatp.com/user/1056569/item/c0jjg/abde1b6ae3544c13a9031e5925be350d.jpg/w650',\n",
       "  'type': 'image',\n",
       "  'mid': '10474094',\n",
       "  'w': 4480,\n",
       "  'h': 6720,\n",
       "  'original_path': 'https://img-bcy-qn.pstatp.com/user/1056569/item/c0jjg/abde1b6ae3544c13a9031e5925be350d.jpg'},\n",
       " {'path': 'https://img-bcy-qn.pstatp.com/user/1056569/item/c0jjg/251c5069a49b436ba53ba55e74458cfc.jpg/w650',\n",
       "  'type': 'image',\n",
       "  'mid': '10474095',\n",
       "  'w': 4480,\n",
       "  'h': 6720,\n",
       "  'original_path': 'https://img-bcy-qn.pstatp.com/user/1056569/item/c0jjg/251c5069a49b436ba53ba55e74458cfc.jpg'},\n",
       " {'path': 'https://img-bcy-qn.pstatp.com/user/1056569/item/c0jjg/85c680a195a34d3696ed8518f543d722.jpg/w650',\n",
       "  'type': 'image',\n",
       "  'mid': '10474096',\n",
       "  'w': 4480,\n",
       "  'h': 6720,\n",
       "  'original_path': 'https://img-bcy-qn.pstatp.com/user/1056569/item/c0jjg/85c680a195a34d3696ed8518f543d722.jpg'},\n",
       " {'path': 'https://img-bcy-qn.pstatp.com/user/1056569/item/c0jjg/04b8ed73a3754ecdbb7796acb5f460c1.jpg/w650',\n",
       "  'type': 'image',\n",
       "  'mid': '10474097',\n",
       "  'w': 6720,\n",
       "  'h': 4480,\n",
       "  'original_path': 'https://img-bcy-qn.pstatp.com/user/1056569/item/c0jjg/04b8ed73a3754ecdbb7796acb5f460c1.jpg'},\n",
       " {'path': 'https://img-bcy-qn.pstatp.com/user/1056569/item/c0jjg/e6b06accfbe142f7b3e5037f425b25fd.jpg/w650',\n",
       "  'type': 'image',\n",
       "  'mid': '10474098',\n",
       "  'w': 4480,\n",
       "  'h': 6720,\n",
       "  'original_path': 'https://img-bcy-qn.pstatp.com/user/1056569/item/c0jjg/e6b06accfbe142f7b3e5037f425b25fd.jpg'},\n",
       " {'path': 'https://img-bcy-qn.pstatp.com/user/1056569/item/c0jjg/53b33a805db5415689cf687a6b614e0b.jpg/w650',\n",
       "  'type': 'image',\n",
       "  'mid': '10474099',\n",
       "  'w': 6720,\n",
       "  'h': 4480,\n",
       "  'original_path': 'https://img-bcy-qn.pstatp.com/user/1056569/item/c0jjg/53b33a805db5415689cf687a6b614e0b.jpg'},\n",
       " {'path': 'https://img-bcy-qn.pstatp.com/user/1056569/item/c0jjg/0584b054b68f45da8fb94783b519537c.jpg/w650',\n",
       "  'type': 'image',\n",
       "  'mid': '10474100',\n",
       "  'w': 4480,\n",
       "  'h': 6720,\n",
       "  'original_path': 'https://img-bcy-qn.pstatp.com/user/1056569/item/c0jjg/0584b054b68f45da8fb94783b519537c.jpg'}]"
      ]
     },
     "execution_count": 132,
     "metadata": {},
     "output_type": "execute_result"
    }
   ],
   "source": [
    "jd_multi"
   ]
  },
  {
   "cell_type": "code",
   "execution_count": 129,
   "metadata": {},
   "outputs": [
    {
     "data": {
      "text/plain": [
       "{'uid': '1056569',\n",
       " 'avatar': 'https://img-bcy-qn.pstatp.com/Public/Upload/avatar/1056569/f74387b4d109489aa4978cf46fe20514/fat.jpg/abig',\n",
       " 'uname': '五谷杂粮',\n",
       " 'self_intro': 'cos老咸鱼 佛系出片 佛系玩cos',\n",
       " 'sex': 0,\n",
       " 'following': '42',\n",
       " 'follower': '1197',\n",
       " 'followstate': 'unfollow',\n",
       " 'value_user': 0,\n",
       " 'show_utags': True,\n",
       " 'utags': [{'ut_id': '33', 'ut_name': '老司机'},\n",
       "  {'ut_id': '36', 'ut_name': '学生党'},\n",
       "  {'ut_id': '1', 'ut_name': 'Coser'}]}"
      ]
     },
     "execution_count": 129,
     "metadata": {},
     "output_type": "execute_result"
    }
   ],
   "source": [
    "jd['detail']['detail_user']"
   ]
  },
  {
   "cell_type": "code",
   "execution_count": 42,
   "metadata": {},
   "outputs": [
    {
     "name": "stdout",
     "output_type": "stream",
     "text": [
      "https://bcy.net/item/detail/6488041845753405198\n"
     ]
    }
   ],
   "source": [
    "from urllib.parse import urljoin\n",
    "bcyurl = 'https://bcy.net/'\n",
    "detailurl = '/item/detail/'\n",
    "detail_num = '6488041845753405198'\n",
    "k=urljoin(bcyurl,detailurl)\n",
    "k=urljoin(k,detail_num)\n",
    "print(k)"
   ]
  },
  {
   "cell_type": "code",
   "execution_count": 2,
   "metadata": {},
   "outputs": [
    {
     "data": {
      "text/plain": [
       "('c82b835006aa11e5ba23bde9dc36809e.jpg',\n",
       " <http.client.HTTPMessage at 0x1a91d2da0f0>)"
      ]
     },
     "execution_count": 2,
     "metadata": {},
     "output_type": "execute_result"
    }
   ],
   "source": [
    "\n",
    "l1 = 'https://img-bcy-qn.pstatp.com/coser/3845/post/1776y/c82b835006aa11e5ba23bde9dc36809e.jpg'\n",
    "\n",
    "# dl= re.search('item/(.*)?/(.*)?',img_l).groups()[1]\n",
    "fn=l1.split('/')[-1]\n",
    "from urllib.request import urlretrieve\n",
    "urlretrieve(l1,fn)"
   ]
  },
  {
   "cell_type": "code",
   "execution_count": 5,
   "metadata": {},
   "outputs": [
    {
     "data": {
      "text/plain": [
       "False"
      ]
     },
     "execution_count": 5,
     "metadata": {},
     "output_type": "execute_result"
    }
   ],
   "source": [
    "import os\n",
    "os.path.exists('c82b835006aa11e5ba23bde9dc36809e.jpg')"
   ]
  },
  {
   "cell_type": "code",
   "execution_count": 277,
   "metadata": {
    "collapsed": true
   },
   "outputs": [],
   "source": [
    "def page_range(content,*prange):\n",
    "    \"\"\"\n",
    "    before implement func detail_list,\n",
    "    we can set the range of page we need to process,\n",
    "    or process all the pages\n",
    "    params:\n",
    "        *prange: tuple for page begin to end.\n",
    "        eg.begin=1,end=20\n",
    "        prange=(1,20)\n",
    "    return list of like page range\n",
    "    \"\"\"\n",
    "    url_join = 'https://bcy.net/u/605084/like'\n",
    "\n",
    "    if len(prange) == 2:\n",
    "        begin_page,end_page = prange\n",
    "        print(prange[0],prange[1])\n",
    "    elif len(prange) == 1:\n",
    "        print(prange)\n",
    "        begin_page = prange[0]\n",
    "        end_page = tailpage(content)\n",
    "    else :\n",
    "        begin_page = 1\n",
    "        end_page = tailpage(content)\n",
    "    pages_list = []\n",
    "    for page_num in range(int(begin_page), int(end_page)+1):\n",
    "        pages_list.append(\n",
    "            urljoin(bcyurl, '{0}?&p={1}'.format(url_join, page_num)))\n",
    "    return pages_list\n",
    "        \n",
    "def tailpage(content) : \n",
    "    #判断尾页\n",
    "    soup = BeautifulSoup(content, 'lxml')\n",
    "    end_page = soup.find(\n",
    "        name='li', attrs={'class': 'pager__item js-nologinLink'}, text='尾页')\n",
    "    if end_page:\n",
    "        end_page = end_page.a.get('href')\n",
    "        end_page = re.search('p=(\\d+)', end_page)\n",
    "        end_page = end_page.groups()[0]\n",
    "    else:\n",
    "        end_page = 1\n",
    "    return end_page\n",
    "\n",
    "def detail_list(content):\n",
    "    \"\"\"\n",
    "    Generate detail_article_list \n",
    "    params:\n",
    "        content: html code from detail_page\n",
    "    return:\n",
    "        dict['title']=href\n",
    "    \"\"\"\n",
    "    soup = BeautifulSoup(content, 'lxml')\n",
    "    soup.prettify()\n",
    "    like_tags = soup.find_all(name='a', attrs={'class': 'db posr ovf'})\n",
    "    detail_list = {}\n",
    "    for tag in like_tags:\n",
    "#         print(tag)\n",
    "        print(urljoin(bcyurl, tag.attrs['href']))\n",
    "        \n",
    "#         detail_list[tag.li.a.attrs['title']]=tag.li.a.attrs['href']\n",
    "#     return detail_list"
   ]
  },
  {
   "cell_type": "code",
   "execution_count": 278,
   "metadata": {
    "collapsed": true
   },
   "outputs": [
    {
     "name": "stdout",
     "output_type": "stream",
     "text": [
      "https://bcy.net/item/detail/6627407361847853315\n",
      "https://bcy.net/item/detail/6578730940602777859\n",
      "https://bcy.net/item/detail/6605537235611681032\n",
      "https://bcy.net/item/detail/6511950028607586567\n",
      "https://bcy.net/item/detail/6619668408680055054\n",
      "https://bcy.net/item/detail/6546888999703675139\n",
      "https://bcy.net/item/detail/6604455635683639556\n",
      "https://bcy.net/item/detail/6625587487819432205\n",
      "https://bcy.net/item/detail/6620224254967283982\n",
      "https://bcy.net/item/detail/6612166506270687492\n",
      "https://bcy.net/item/detail/6589879185118855427\n",
      "https://bcy.net/item/detail/6562512313520226564\n",
      "https://bcy.net/item/detail/6627347236965581069\n",
      "https://bcy.net/item/detail/6238272644039335694\n",
      "https://bcy.net/item/detail/6194485104564264718\n",
      "https://bcy.net/item/detail/6411556574224998158\n",
      "https://bcy.net/item/detail/6519013556870971656\n",
      "https://bcy.net/item/detail/6512028221729407235\n",
      "https://bcy.net/item/detail/6573249991089848589\n",
      "https://bcy.net/item/detail/6626676719241658637\n",
      "https://bcy.net/item/detail/6515016036012523780\n",
      "https://bcy.net/item/detail/6509200138848722702\n",
      "https://bcy.net/item/detail/6509557329803894542\n",
      "https://bcy.net/item/detail/6496595496461688590\n",
      "https://bcy.net/item/detail/6570152486051512579\n",
      "https://bcy.net/item/detail/6611503612327624963\n",
      "https://bcy.net/item/detail/6626338904117084430\n",
      "https://bcy.net/item/detail/6626171281844732164\n",
      "https://bcy.net/item/detail/6582599216680403207\n",
      "https://bcy.net/item/detail/6619241139083936003\n",
      "https://bcy.net/item/detail/6620501767576617224\n",
      "https://bcy.net/item/detail/6609626448535748867\n",
      "https://bcy.net/item/detail/6618552932415570179\n",
      "https://bcy.net/item/detail/6620337964843008269\n",
      "https://bcy.net/item/detail/6588025840473211143\n"
     ]
    }
   ],
   "source": [
    "# tailpage(rg.text)\n",
    "# page_range(rg.text,3,5)\n",
    "detail_list(rg.text)"
   ]
  },
  {
   "cell_type": "code",
   "execution_count": 280,
   "metadata": {},
   "outputs": [
    {
     "name": "stdout",
     "output_type": "stream",
     "text": [
      "(1, 2)\n"
     ]
    },
    {
     "ename": "ValueError",
     "evalue": "Correct detail page have not been input.",
     "output_type": "error",
     "traceback": [
      "\u001b[1;31m---------------------------------------------------------------------------\u001b[0m",
      "\u001b[1;31mValueError\u001b[0m                                Traceback (most recent call last)",
      "\u001b[1;32m<ipython-input-280-c6360907f75d>\u001b[0m in \u001b[0;36m<module>\u001b[1;34m\u001b[0m\n\u001b[0;32m      2\u001b[0m     \u001b[0mprint\u001b[0m\u001b[1;33m(\u001b[0m\u001b[0maa\u001b[0m\u001b[1;33m)\u001b[0m\u001b[1;33m\u001b[0m\u001b[1;33m\u001b[0m\u001b[0m\n\u001b[0;32m      3\u001b[0m     \u001b[1;32mraise\u001b[0m \u001b[0mValueError\u001b[0m\u001b[1;33m(\u001b[0m\u001b[1;34m'Correct detail page have not been input.'\u001b[0m\u001b[1;33m)\u001b[0m\u001b[1;33m\u001b[0m\u001b[1;33m\u001b[0m\u001b[0m\n\u001b[1;32m----> 4\u001b[1;33m \u001b[0mstar\u001b[0m\u001b[1;33m(\u001b[0m\u001b[1;36m1\u001b[0m\u001b[1;33m,\u001b[0m\u001b[1;36m2\u001b[0m\u001b[1;33m)\u001b[0m\u001b[1;33m\u001b[0m\u001b[1;33m\u001b[0m\u001b[0m\n\u001b[0m",
      "\u001b[1;32m<ipython-input-280-c6360907f75d>\u001b[0m in \u001b[0;36mstar\u001b[1;34m(*aa)\u001b[0m\n\u001b[0;32m      1\u001b[0m \u001b[1;32mdef\u001b[0m \u001b[0mstar\u001b[0m\u001b[1;33m(\u001b[0m\u001b[1;33m*\u001b[0m\u001b[0maa\u001b[0m\u001b[1;33m)\u001b[0m\u001b[1;33m:\u001b[0m\u001b[1;33m\u001b[0m\u001b[1;33m\u001b[0m\u001b[0m\n\u001b[0;32m      2\u001b[0m     \u001b[0mprint\u001b[0m\u001b[1;33m(\u001b[0m\u001b[0maa\u001b[0m\u001b[1;33m)\u001b[0m\u001b[1;33m\u001b[0m\u001b[1;33m\u001b[0m\u001b[0m\n\u001b[1;32m----> 3\u001b[1;33m     \u001b[1;32mraise\u001b[0m \u001b[0mValueError\u001b[0m\u001b[1;33m(\u001b[0m\u001b[1;34m'Correct detail page have not been input.'\u001b[0m\u001b[1;33m)\u001b[0m\u001b[1;33m\u001b[0m\u001b[1;33m\u001b[0m\u001b[0m\n\u001b[0m\u001b[0;32m      4\u001b[0m \u001b[0mstar\u001b[0m\u001b[1;33m(\u001b[0m\u001b[1;36m1\u001b[0m\u001b[1;33m,\u001b[0m\u001b[1;36m2\u001b[0m\u001b[1;33m)\u001b[0m\u001b[1;33m\u001b[0m\u001b[1;33m\u001b[0m\u001b[0m\n",
      "\u001b[1;31mValueError\u001b[0m: Correct detail page have not been input."
     ]
    }
   ],
   "source": [
    "def star(*aa):\n",
    "    print(aa)\n",
    "    raise ValueError('Correct detail page have not been input.')\n",
    "star(1,2)"
   ]
  },
  {
   "cell_type": "code",
   "execution_count": 260,
   "metadata": {},
   "outputs": [
    {
     "name": "stdout",
     "output_type": "stream",
     "text": [
      "6488041845753405198\n",
      "6214365223982227214\n"
     ]
    }
   ],
   "source": [
    "detail={'dn1':'6488041845753405198','dn2':'6214365223982227214'}\n",
    "for dn in detail.values():\n",
    "    print(dn)"
   ]
  },
  {
   "cell_type": "code",
   "execution_count": null,
   "metadata": {},
   "outputs": [],
   "source": []
  }
 ],
 "metadata": {
  "kernelspec": {
   "display_name": "Python 3",
   "language": "python",
   "name": "python3"
  },
  "language_info": {
   "codemirror_mode": {
    "name": "ipython",
    "version": 3
   },
   "file_extension": ".py",
   "mimetype": "text/x-python",
   "name": "python",
   "nbconvert_exporter": "python",
   "pygments_lexer": "ipython3",
   "version": "3.7.1"
  }
 },
 "nbformat": 4,
 "nbformat_minor": 2
}
