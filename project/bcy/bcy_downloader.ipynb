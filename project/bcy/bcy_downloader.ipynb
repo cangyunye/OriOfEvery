{
 "cells": [
  {
   "cell_type": "markdown",
   "metadata": {},
   "source": [
    "\"\"\"\n",
    "分析方案:\n",
    "\n",
    "登录https://bcy.net\n",
    "\n",
    "方案选择器：1 我的喜欢  2 原作/标签 3 获取评论 4 指定用户下图片\n",
    "\n",
    "进入个人主页https://bcy.net/u/605084\n",
    "\n",
    "选择我的喜欢https://bcy.net/u/605084/like\n",
    "\n",
    "获取内容分类下的图文原址作为list\n",
    "\n",
    "登录list[i] https://bcy.net/item/detail/6581722283805507847\n",
    "\n",
    "获取article标签下所有大图 `<div class=\"img-wrap-inner\"><img src=\"https://img-bcy-qn.pstatp.com/user/30172/item/web/179no/9314ae308f2811e89ada1b5c766b8a41.jpg/w650\"></div>`\n",
    "\n",
    "将获取的src地址去掉w650后下载，建立所有article对应的title目录<a class=\"cut\" href=\"/u/30172\" title=\"洛霁无\">洛霁无</a>\n",
    "\n",
    "考虑分布式下载\n",
    "\"\"\""
   ]
  },
  {
   "cell_type": "code",
   "execution_count": 51,
   "metadata": {},
   "outputs": [],
   "source": [
    "import requests\n",
    "from urllib.parse import urlencode\n",
    "from urllib.parse import urljoin\n",
    "from requests import codes\n",
    "import os\n",
    "import random\n",
    "from bs4 import BeautifulSoup\n",
    "import re"
   ]
  },
  {
   "cell_type": "code",
   "execution_count": 24,
   "metadata": {},
   "outputs": [],
   "source": [
    "headers={\n",
    "    'user-agent':'Mozilla/5.0 (Windows NT 10.0; Win64; x64) AppleWebKit/537.36 (KHTML, like Gecko) Chrome/70.0.3538.77 Safari/537.36'\n",
    "}\n",
    "url='https://bcy.net/u/605084/like'\n",
    "rg=requests.get(url,headers=headers)\n",
    "soup = BeautifulSoup(rg.text,'lxml')\n",
    "detail_page='https://bcy.net/item/detail/6618446680347902222'\n",
    "rgd=requests.get(detail_page,headers=headers)\n",
    "#中文编码\n",
    "rgd.encoding='utf-8'\n",
    "soupd = BeautifulSoup(rgd.text,'lxml')"
   ]
  },
  {
   "cell_type": "code",
   "execution_count": 16,
   "metadata": {},
   "outputs": [],
   "source": [
    "#发现图片其实在soupd.find_all(name='script')中的某个window.__ssr_data = JSON.parse\n",
    "json_img=soupd.find_all(name='script',text=re.compile('JSON.parse(.*);(.*)'))\n",
    "json_img=re.findall('JSON.parse\\(\"(.*)\"\\);',str(json_img))\n",
    "import json\n",
    "str_j=eval(\"'{}'\".format(json_img[0]))\n",
    "jd=json.loads(str_j)\n",
    "#图片链接\n",
    "json_multi=jd['detail']['post_data']['multi']"
   ]
  },
  {
   "cell_type": "code",
   "execution_count": 17,
   "metadata": {},
   "outputs": [
    {
     "name": "stdout",
     "output_type": "stream",
     "text": [
      "https://img-bcy-qn.pstatp.com/user/2013626/item/c0js7/be85b115ecfc4baea094ab3dfaa4961c.jpg\n",
      "https://img-bcy-qn.pstatp.com/user/2013626/item/c0js7/d3c35bf292fd4d23902477f3dfa02fcb.jpg\n",
      "https://img-bcy-qn.pstatp.com/user/2013626/item/c0js7/6abf19c4af5448ae83c755c43d8986cf.jpg\n",
      "https://img-bcy-qn.pstatp.com/user/2013626/item/c0js7/de6029e903464fe0ab7e5cd862d64d25.jpg\n",
      "https://img-bcy-qn.pstatp.com/user/2013626/item/c0js7/0ebc24afd3ad405088f570d6d84130d3.jpg\n",
      "https://img-bcy-qn.pstatp.com/user/2013626/item/c0js7/c44560dbee3b402f96aec3514dcfc7fa.jpg\n",
      "https://img-bcy-qn.pstatp.com/user/2013626/item/c0js7/3ad33e627f5b40c8807bae518cfc8ca0.jpg\n",
      "https://img-bcy-qn.pstatp.com/user/2013626/item/c0js7/5b409b058d1247bd956117f25de6f20f.jpg\n",
      "https://img-bcy-qn.pstatp.com/user/2013626/item/c0js7/a7094968aa7c4cc785b3a4e9a0246d43.jpg\n",
      "https://img-bcy-qn.pstatp.com/user/2013626/item/c0js7/55251e0ffacf4948856ed7f25c734284.jpg\n",
      "https://img-bcy-qn.pstatp.com/user/2013626/item/c0js7/d25383e4cab0457a8c10c385bb8d9dd3.jpg\n",
      "https://img-bcy-qn.pstatp.com/user/2013626/item/c0js7/fc3dc5fdeccd4d39aa58006933b052c9.jpg\n",
      "https://img-bcy-qn.pstatp.com/user/2013626/item/c0js7/5c0a9fd3c8ee4085872b164bb95c478d.jpg\n"
     ]
    }
   ],
   "source": [
    "for img_l in json_multi:\n",
    "    print(img_l['path'].rstrip('/w650'))"
   ]
  },
  {
   "cell_type": "code",
   "execution_count": 13,
   "metadata": {},
   "outputs": [
    {
     "data": {
      "text/plain": [
       "[{'path': 'https://img-bcy-qn.pstatp.com/coser/58850/post/c0c4p/7b68a2b0c88511e7b1be05ee2d688961.jpg/w650',\n",
       "  'type': 'image',\n",
       "  'mid': '7637109',\n",
       "  'w': 1000,\n",
       "  'h': 1500},\n",
       " {'path': 'https://img-bcy-qn.pstatp.com/coser/58850/post/c0c4p/7a1b8940c88511e7b1be05ee2d688961.jpg/w650',\n",
       "  'type': 'image',\n",
       "  'mid': '7637101',\n",
       "  'w': 1500,\n",
       "  'h': 1000},\n",
       " {'path': 'https://img-bcy-qn.pstatp.com/coser/58850/post/c0c4p/7ccb18e0c88511e7b1be05ee2d688961.jpg/w650',\n",
       "  'type': 'image',\n",
       "  'mid': '7637119',\n",
       "  'w': 1500,\n",
       "  'h': 1000},\n",
       " {'path': 'https://img-bcy-qn.pstatp.com/coser/58850/post/c0c4p/7e809110c88511e7b1be05ee2d688961.jpg/w650',\n",
       "  'type': 'image',\n",
       "  'mid': '7637142',\n",
       "  'w': 999,\n",
       "  'h': 1500},\n",
       " {'path': 'https://img-bcy-qn.pstatp.com/coser/58850/post/c0c4p/7fd3ec10c88511e7b1be05ee2d688961.jpg/w650',\n",
       "  'type': 'image',\n",
       "  'mid': '7637150',\n",
       "  'w': 1500,\n",
       "  'h': 1025},\n",
       " {'path': 'https://img-bcy-qn.pstatp.com/coser/58850/post/c0c4p/815f4700c88511e7b1be05ee2d688961.jpg/w650',\n",
       "  'type': 'image',\n",
       "  'mid': '7637162',\n",
       "  'w': 1500,\n",
       "  'h': 874},\n",
       " {'path': 'https://img-bcy-qn.pstatp.com/coser/58850/post/c0c4p/82ac8780c88511e7b1be05ee2d688961.jpg/w650',\n",
       "  'type': 'image',\n",
       "  'mid': '7637170',\n",
       "  'w': 1500,\n",
       "  'h': 950},\n",
       " {'path': 'https://img-bcy-qn.pstatp.com/coser/58850/post/c0c4p/83bfcc40c88511e7b1be05ee2d688961.jpg/w650',\n",
       "  'type': 'image',\n",
       "  'mid': '7637183',\n",
       "  'w': 1500,\n",
       "  'h': 756},\n",
       " {'path': 'https://img-bcy-qn.pstatp.com/coser/58850/post/c0c4p/84d31100c88511e7b1be05ee2d688961.jpg/w650',\n",
       "  'type': 'image',\n",
       "  'mid': '7637203',\n",
       "  'w': 1500,\n",
       "  'h': 920}]"
      ]
     },
     "execution_count": 13,
     "metadata": {},
     "output_type": "execute_result"
    }
   ],
   "source": [
    "json_multi"
   ]
  },
  {
   "cell_type": "code",
   "execution_count": 21,
   "metadata": {},
   "outputs": [
    {
     "data": {
      "text/plain": [
       "{'uid': '2013626',\n",
       " 'avatar': 'https://img-bcy-qn.pstatp.com/Public/Upload/avatar/2013626/1a51d0f66a174b639e15dcfd19136245/fat.jpg/abig',\n",
       " 'uname': '_之子于归',\n",
       " 'self_intro': '醉后不知天在水，满船清梦压星河♪',\n",
       " 'sex': 0,\n",
       " 'following': '5',\n",
       " 'follower': '387',\n",
       " 'followstate': 'unfollow',\n",
       " 'value_user': 0,\n",
       " 'show_utags': True,\n",
       " 'utags': [{'ut_id': '1', 'ut_name': 'Coser'},\n",
       "  {'ut_id': '3', 'ut_name': '写手'},\n",
       "  {'ut_id': '30', 'ut_name': '御姐'}]}"
      ]
     },
     "execution_count": 21,
     "metadata": {},
     "output_type": "execute_result"
    }
   ],
   "source": [
    "jd['detail']['detail_user']['uname']"
   ]
  },
  {
   "cell_type": "code",
   "execution_count": 73,
   "metadata": {},
   "outputs": [
    {
     "name": "stdout",
     "output_type": "stream",
     "text": [
      "[]\n"
     ]
    }
   ],
   "source": [
    "# soup.prettify()\n",
    "a=soup.find_all(name='li',attrs={'class':'pager__item js-nologinLink'},text='尾页')\n",
    "print(a[0])\n",
    "print(a[0].a)\n",
    "print(a[0].a.get('href'))\n",
    "z=a[0].a.get('href')\n",
    "r=re.search('p=(\\d+)',z)\n",
    "print(r)\n",
    "r.groups()[0]"
   ]
  },
  {
   "cell_type": "code",
   "execution_count": 53,
   "metadata": {},
   "outputs": [
    {
     "data": {
      "text/plain": [
       "'https://bcy.net/u/605084/like?&p=1'"
      ]
     },
     "execution_count": 53,
     "metadata": {},
     "output_type": "execute_result"
    }
   ],
   "source": [
    "bcyurl='https://bcy.net/'\n",
    "pages={'begin':1,'end':2}\n",
    "url_join='/u/605084/like'\n",
    "urljoin(bcyurl,'{0}?&p={1}'.format(url_join,pages['begin']))"
   ]
  },
  {
   "cell_type": "code",
   "execution_count": null,
   "metadata": {},
   "outputs": [],
   "source": []
  }
 ],
 "metadata": {
  "kernelspec": {
   "display_name": "Python 3",
   "language": "python",
   "name": "python3"
  },
  "language_info": {
   "codemirror_mode": {
    "name": "ipython",
    "version": 3
   },
   "file_extension": ".py",
   "mimetype": "text/x-python",
   "name": "python",
   "nbconvert_exporter": "python",
   "pygments_lexer": "ipython3",
   "version": "3.7.1"
  }
 },
 "nbformat": 4,
 "nbformat_minor": 2
}
