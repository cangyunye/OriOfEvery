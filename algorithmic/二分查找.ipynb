{
 "cells": [
  {
   "cell_type": "markdown",
   "metadata": {},
   "source": [
    " 二分查找，对于**排序**的数据查找最多只需要\\\\(log_2n\\\\)步。\n",
    " \n",
    " 下列示例为对于一个从小到大的排序数据进行查找。"
   ]
  },
  {
   "cell_type": "code",
   "execution_count": null,
   "metadata": {},
   "outputs": [],
   "source": [
    "data = [1, 2, 3, 4, 5, 6, 7, 8, 9]\n",
    "\n",
    "i = 0\n",
    "def binarysearch(target, source):\n",
    "    global i\n",
    "    i+=1\n",
    "    lenth = len(source)\n",
    "    mid = lenth / 2  if lenth % 2 == 0 else int(lenth / 2) + 1\n",
    "    if source[mid] > target:\n",
    "        # 使用return，控制最底层递归得到target后不会再返回上层调用继续执行\n",
    "        return binarysearch(target, source[0:mid])\n",
    "    elif source[mid] < target:\n",
    "        # 需要注意作为数组的下标要-1。\n",
    "        return binarysearch(target, source[mid-1:lenth])\n",
    "    elif source[mid] == target:\n",
    "        # 返回查找值和查找次数\n",
    "        return target,i\n",
    "    else :\n",
    "        return None\n",
    "\n",
    "# assert binarysearch(3,data) == (3,3) ,\"False\"\n",
    "assert binarysearch(7,data) == (7,3) ,\"False\""
   ]
  },
  {
   "cell_type": "code",
   "execution_count": null,
   "metadata": {},
   "outputs": [],
   "source": [
    "def binary_search(target,source):\n",
    "    high = len(source) - 1\n",
    "    low = 0\n",
    "    while low <= high:\n",
    "        mid = int((high + low)/2 )\n",
    "        guess = source[mid]\n",
    "        if guess == target:\n",
    "            #返回数组下标\n",
    "            return mid\n",
    "        elif guess > target:\n",
    "            high = mid - 1\n",
    "        else :\n",
    "            low = mid + 1\n",
    "            \n",
    "binary_search(3,data)"
   ]
  }
 ],
 "metadata": {
  "kernelspec": {
   "display_name": "Python 3",
   "language": "python",
   "name": "python3"
  },
  "language_info": {
   "codemirror_mode": {
    "name": "ipython",
    "version": 3
   },
   "file_extension": ".py",
   "mimetype": "text/x-python",
   "name": "python",
   "nbconvert_exporter": "python",
   "pygments_lexer": "ipython3",
   "version": "3.7.1"
  },
  "toc": {
   "base_numbering": 1,
   "nav_menu": {},
   "number_sections": true,
   "sideBar": true,
   "skip_h1_title": false,
   "title_cell": "Table of Contents",
   "title_sidebar": "Contents",
   "toc_cell": false,
   "toc_position": {},
   "toc_section_display": true,
   "toc_window_display": false
  },
  "varInspector": {
   "cols": {
    "lenName": 16,
    "lenType": 16,
    "lenVar": 40
   },
   "kernels_config": {
    "python": {
     "delete_cmd_postfix": "",
     "delete_cmd_prefix": "del ",
     "library": "var_list.py",
     "varRefreshCmd": "print(var_dic_list())"
    },
    "r": {
     "delete_cmd_postfix": ") ",
     "delete_cmd_prefix": "rm(",
     "library": "var_list.r",
     "varRefreshCmd": "cat(var_dic_list()) "
    }
   },
   "types_to_exclude": [
    "module",
    "function",
    "builtin_function_or_method",
    "instance",
    "_Feature"
   ],
   "window_display": false
  }
 },
 "nbformat": 4,
 "nbformat_minor": 2
}
