{
 "cells": [
  {
   "cell_type": "markdown",
   "metadata": {},
   "source": [
    "# 选择排序\n",
    "\n",
    "如，有数据\n",
    "```python\n",
    "data = [[a,241],[b,32],[c,13],[d,34],[e,16],[f,8]]\n",
    "```\n",
    "需要根据其内部数据的第2列进行排序。\n",
    "\n",
    "方案：\n",
    "\n",
    "1. 每次循环找到最小列\n",
    "2. 将找到的列提取加入新列表\n",
    "3. 在剩余列中重新循环\n"
   ]
  },
  {
   "cell_type": "code",
   "execution_count": 12,
   "metadata": {},
   "outputs": [],
   "source": [
    "def findsmaller(arr):\n",
    "    smallest = arr[0]\n",
    "    mark = 0\n",
    "    for i in range(1,len(arr)):\n",
    "        if arr[i] <smallest:\n",
    "            smallest = arr[i]\n",
    "            mark = i\n",
    "    return mark\n"
   ]
  },
  {
   "cell_type": "code",
   "execution_count": 13,
   "metadata": {},
   "outputs": [],
   "source": [
    "def selections(datas):\n",
    "    out = []\n",
    "    a=[i[0] for i in datas]\n",
    "    b=[i[1] for i in datas]\n",
    "    for i in range(len(b)):\n",
    "        smark = a[findsmaller(b)]\n",
    "        out.append([smark,b.pop()])\n",
    "    return out\n",
    "        \n",
    "    \n",
    "    "
   ]
  },
  {
   "cell_type": "code",
   "execution_count": 14,
   "metadata": {},
   "outputs": [
    {
     "name": "stdout",
     "output_type": "stream",
     "text": [
      "[['f', 8], ['c', 16], ['c', 34], ['c', 13], ['b', 32], ['a', 241]]\n"
     ]
    }
   ],
   "source": [
    "datas = [['a',241],['b',32],['c',13],['d',34],['e',16],['f',8]]\n",
    "print(selections(datas))"
   ]
  }
 ],
 "metadata": {
  "kernelspec": {
   "display_name": "Python 3",
   "language": "python",
   "name": "python3"
  },
  "language_info": {
   "codemirror_mode": {
    "name": "ipython",
    "version": 3
   },
   "file_extension": ".py",
   "mimetype": "text/x-python",
   "name": "python",
   "nbconvert_exporter": "python",
   "pygments_lexer": "ipython3",
   "version": "3.7.1"
  },
  "toc": {
   "base_numbering": 1,
   "nav_menu": {},
   "number_sections": true,
   "sideBar": true,
   "skip_h1_title": false,
   "title_cell": "Table of Contents",
   "title_sidebar": "Contents",
   "toc_cell": false,
   "toc_position": {},
   "toc_section_display": true,
   "toc_window_display": false
  },
  "varInspector": {
   "cols": {
    "lenName": 16,
    "lenType": 16,
    "lenVar": 40
   },
   "kernels_config": {
    "python": {
     "delete_cmd_postfix": "",
     "delete_cmd_prefix": "del ",
     "library": "var_list.py",
     "varRefreshCmd": "print(var_dic_list())"
    },
    "r": {
     "delete_cmd_postfix": ") ",
     "delete_cmd_prefix": "rm(",
     "library": "var_list.r",
     "varRefreshCmd": "cat(var_dic_list()) "
    }
   },
   "types_to_exclude": [
    "module",
    "function",
    "builtin_function_or_method",
    "instance",
    "_Feature"
   ],
   "window_display": false
  }
 },
 "nbformat": 4,
 "nbformat_minor": 2
}
