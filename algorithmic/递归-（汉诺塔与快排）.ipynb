{
 "cells": [
  {
   "cell_type": "markdown",
   "metadata": {},
   "source": [
    "# 递归\n",
    "\n",
    "递归方法，需要有一个基线条件，即控制停止，以及一个递归条件。\n",
    "\n",
    "\n",
    "## 汉诺塔的图解递归算法\n",
    "\n",
    "### 起源\n",
    "汉诺塔（又称河内塔）问题是源于印度一个古老传说的益智玩具。大梵天创造世界的时候做了三根金刚石柱子，在一根柱子上从下往上按照大小顺序摞着64片黄金圆盘。大梵天命令婆罗门把圆盘从下面开始按大小顺序\n",
    "重新摆放在另一根柱子上。并且规定，在小圆盘上不能放大圆盘，在三根柱子之间一次只能移动一个圆盘。\n",
    "\n",
    "### 抽象为数学问题\n",
    "如下图所示，从左到右有A、B、C三根柱子，其中A柱子上面有从小叠到大的n个圆盘，现要求将A柱子上的圆盘移到C柱子上去，期间只有一个原则：一次只能移到一个盘子且大盘子不能在小盘子上面，求移动的步骤和移动的次数\n",
    "抽象为数学问题\n",
    "\n",
    "\n",
    "![汉诺塔](https://dmego.me/2016/10/16/hanoi/1240.jpg)\n",
    "\n",
    "首先，我们应该倒序分析，即最后三个盘子如何搬运到C，搬移顺序如下\n",
    "\n",
    "（1） 把n-1个盘子由A 移到 B；\n",
    "\n",
    "（2） 把第n个盘子由A移到 C；\n",
    "\n",
    "（3） 把n-1个盘子由B 移到 C；\n",
    "\n",
    "此时，我们将(n-1)视作剩余的所有(n-1)个盘子\n",
    "\n",
    "当执行到第3步，即剩余的所有盘子都叠到C时\n",
    "\n",
    "我们重复求(n-1)个盘子的最后三步如何搬运到C，无限递归下去"
   ]
  },
  {
   "cell_type": "code",
   "execution_count": 1,
   "metadata": {},
   "outputs": [
    {
     "name": "stdout",
     "output_type": "stream",
     "text": [
      "第1次移动，将A移动到B\n",
      "第2次移动，将A移动到C\n",
      "第3次移动，将B移动到C\n"
     ]
    }
   ],
   "source": [
    "step = 0\n",
    "def dmove(disks,N,M):\n",
    "    global step\n",
    "    step+=1\n",
    "    print(f\"第{step}次移动，将{N}移动到{M}\")\n",
    "\n",
    "def hanotower(disks,A,B,C):\n",
    "    # A基准盘\n",
    "    # B辅助盘\n",
    "    # C定位盘\n",
    "    if(disks == 1):\n",
    "        #如果只剩一个盘子，那么就是最后一步，从A移动到C\n",
    "        dmove(1,A,C)\n",
    "    else:\n",
    "        hanotower(disks-1,A,C,B)\n",
    "        dmove(disks,A,C)\n",
    "        hanotower(disks-1,B,A,C)\n",
    "    \n",
    "\n",
    "hanotower(2,'A','B','C')"
   ]
  },
  {
   "cell_type": "markdown",
   "metadata": {},
   "source": [
    "## 用递归实现将一个列表的数相加\n",
    "\n",
    "1.判断数列中是否有数据\n",
    "\n",
    "2.对剩下数据重复递归\n",
    "\n",
    "3.基线条件：列表为空，即终止递归"
   ]
  },
  {
   "cell_type": "code",
   "execution_count": 2,
   "metadata": {
    "scrolled": true
   },
   "outputs": [
    {
     "data": {
      "text/plain": [
       "10"
      ]
     },
     "execution_count": 2,
     "metadata": {},
     "output_type": "execute_result"
    }
   ],
   "source": [
    "def s(li):\n",
    "    if li:\n",
    "        return li[0]+s(li[1:])\n",
    "    else:\n",
    "        return 0\n",
    "li=[1,2,3,4]    \n",
    "s(li)"
   ]
  },
  {
   "cell_type": "markdown",
   "metadata": {},
   "source": [
    "## 快速排序\n",
    "\n",
    "我们用到Divide && Conquer 即分治方案来进行快速排序\n",
    "\n",
    "还是以数组为例\n",
    "\n",
    "1. 首先，从数组中选择一个元素作为基准值(pivot)，拟定为数组第一个元素。\n",
    "2. 找出比基准值小的元素以及比基准值大的元素进行分区。\n",
    "3. 对分区快速排序\n",
    "4. 基线条件，空数组，一个元素的数组不排序\n",
    "\n",
    "快速排序的速度取决于选择的基准值。\n",
    "\n",
    "如果基准值刚好为中值，则效率最高，所以我们通常采用随机取值作为基准值"
   ]
  },
  {
   "cell_type": "code",
   "execution_count": 3,
   "metadata": {},
   "outputs": [],
   "source": [
    "def qsort(li):\n",
    "    if len(li) < 2:\n",
    "        return li\n",
    "    base=li.pop(0)\n",
    "    small = [i for i in li if i < base]\n",
    "    large = [i for i in li if i > base]\n",
    "    return qsort(small) + [base] + qsort(large)\n",
    "    \n",
    "    "
   ]
  },
  {
   "cell_type": "code",
   "execution_count": 4,
   "metadata": {},
   "outputs": [
    {
     "name": "stdout",
     "output_type": "stream",
     "text": [
      "[1, 2, 3, 4]\n"
     ]
    }
   ],
   "source": [
    "li=[1,2,3,4]    \n",
    "print(qsort(li))"
   ]
  }
 ],
 "metadata": {
  "kernelspec": {
   "display_name": "Python 3",
   "language": "python",
   "name": "python3"
  },
  "language_info": {
   "codemirror_mode": {
    "name": "ipython",
    "version": 3
   },
   "file_extension": ".py",
   "mimetype": "text/x-python",
   "name": "python",
   "nbconvert_exporter": "python",
   "pygments_lexer": "ipython3",
   "version": "3.7.1"
  },
  "toc": {
   "base_numbering": 1,
   "nav_menu": {},
   "number_sections": true,
   "sideBar": true,
   "skip_h1_title": false,
   "title_cell": "Table of Contents",
   "title_sidebar": "Contents",
   "toc_cell": false,
   "toc_position": {},
   "toc_section_display": true,
   "toc_window_display": false
  },
  "varInspector": {
   "cols": {
    "lenName": 16,
    "lenType": 16,
    "lenVar": 40
   },
   "kernels_config": {
    "python": {
     "delete_cmd_postfix": "",
     "delete_cmd_prefix": "del ",
     "library": "var_list.py",
     "varRefreshCmd": "print(var_dic_list())"
    },
    "r": {
     "delete_cmd_postfix": ") ",
     "delete_cmd_prefix": "rm(",
     "library": "var_list.r",
     "varRefreshCmd": "cat(var_dic_list()) "
    }
   },
   "types_to_exclude": [
    "module",
    "function",
    "builtin_function_or_method",
    "instance",
    "_Feature"
   ],
   "window_display": false
  }
 },
 "nbformat": 4,
 "nbformat_minor": 2
}
