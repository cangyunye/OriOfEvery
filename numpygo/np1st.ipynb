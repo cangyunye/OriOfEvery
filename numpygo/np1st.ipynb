{
 "metadata": {
  "language_info": {
   "codemirror_mode": {
    "name": "ipython",
    "version": 3
   },
   "file_extension": ".py",
   "mimetype": "text/x-python",
   "name": "python",
   "nbconvert_exporter": "python",
   "pygments_lexer": "ipython3",
   "version": "3.7.4-final"
  },
  "orig_nbformat": 2,
  "kernelspec": {
   "name": "python37464bitanaconda3condaa46a307d878f4e4fbe10730e7a6c2907",
   "display_name": "Python 3.7.4 64-bit ('Anaconda3': conda)"
  }
 },
 "nbformat": 4,
 "nbformat_minor": 2,
 "cells": [
  {
   "cell_type": "markdown",
   "metadata": {},
   "source": [
    "# 如何创建数组"
   ]
  },
  {
   "cell_type": "code",
   "execution_count": 1,
   "metadata": {
    "tags": []
   },
   "outputs": [
    {
     "output_type": "stream",
     "name": "stdout",
     "text": "[0 1 2 3 4]\n<class 'numpy.ndarray'>\n"
    },
    {
     "output_type": "execute_result",
     "data": {
      "text/plain": "array([0, 1, 2, 3, 4])"
     },
     "metadata": {},
     "execution_count": 1
    }
   ],
   "source": [
    "# 创建一维数组\n",
    "import numpy as np\n",
    "list1 = [0,1,2,3,4]\n",
    "arr1d = np.array(list1)\n",
    "print(arr1d)\n",
    "print(type(arr1d))\n",
    "arr1d\n"
   ]
  },
  {
   "cell_type": "code",
   "execution_count": 2,
   "metadata": {
    "tags": []
   },
   "outputs": [
    {
     "output_type": "execute_result",
     "data": {
      "text/plain": "array([2, 3, 4, 5, 6])"
     },
     "metadata": {},
     "execution_count": 2
    }
   ],
   "source": [
    "# 对于列表来说不可以操作\n",
    "# [1,2,3] + 2\n",
    "# 但是对于ndarray可以\n",
    "arr1d + 2\n",
    "# 对于列表来说，操作size可以使用pop或者append来修改\n",
    "#  [1,2,3].append(4)\n",
    "# 但是对于ndarray来说，创建后不可以再增减元素，但可以对元素进行修改"
   ]
  },
  {
   "cell_type": "code",
   "execution_count": 3,
   "metadata": {},
   "outputs": [
    {
     "output_type": "execute_result",
     "data": {
      "text/plain": "array([[0, 1, 2],\n       [3, 4, 5],\n       [6, 7, 8]])"
     },
     "metadata": {},
     "execution_count": 3
    }
   ],
   "source": [
    "# 创建2d数组\n",
    "list2 = [[0,1,2], [3,4,5], [6,7,8]]\n",
    "arr2d = np.array(list2)\n",
    "arr2d"
   ]
  },
  {
   "cell_type": "code",
   "execution_count": 42,
   "metadata": {},
   "outputs": [
    {
     "output_type": "execute_result",
     "data": {
      "text/plain": "array([[0., 1., 2.],\n       [3., 4., 5.],\n       [6., 7., 8.]])"
     },
     "metadata": {},
     "execution_count": 42
    }
   ],
   "source": [
    "# 创建浮点型2d数组\n",
    "arr2d_f = np.array(list2,dtype='float')\n",
    "arr2d_f"
   ]
  },
  {
   "cell_type": "code",
   "execution_count": 9,
   "metadata": {},
   "outputs": [
    {
     "output_type": "execute_result",
     "data": {
      "text/plain": "array([[0, 1, 2],\n       [3, 4, 5],\n       [6, 7, 8]])"
     },
     "metadata": {},
     "execution_count": 9
    }
   ],
   "source": [
    "# 其他dtypes 包括: 'float', 'int', 'bool', 'str' and 'object'.\n",
    "# 如果要对数据类型做转换，使用astype\n",
    "arr2d_f.astype('int')"
   ]
  },
  {
   "cell_type": "code",
   "execution_count": 11,
   "metadata": {},
   "outputs": [
    {
     "output_type": "execute_result",
     "data": {
      "text/plain": "array([['0', '1', '2'],\n       ['3', '4', '5'],\n       ['6', '7', '8']], dtype='<U11')"
     },
     "metadata": {},
     "execution_count": 11
    }
   ],
   "source": [
    "# 只要是array对象，就可以进行类型转换，包括连续转换\n",
    "arr2d_f.astype('int').astype('str')"
   ]
  },
  {
   "cell_type": "code",
   "execution_count": 12,
   "metadata": {},
   "outputs": [
    {
     "output_type": "execute_result",
     "data": {
      "text/plain": "array([ True, False,  True])"
     },
     "metadata": {},
     "execution_count": 12
    }
   ],
   "source": [
    "# 创建bool类型的数据，只有True和False，非空数值将被转换为True\n",
    "arr2d_b = np.array([1,0,10],dtype='bool')\n",
    "arr2d_b"
   ]
  },
  {
   "cell_type": "code",
   "execution_count": 14,
   "metadata": {},
   "outputs": [
    {
     "output_type": "execute_result",
     "data": {
      "text/plain": "array([1, 'a'], dtype=object)"
     },
     "metadata": {},
     "execution_count": 14
    }
   ],
   "source": [
    "# 和list不同，array要求所有数据为一致的对象，除非使用的dtype='object'\n",
    "arr1d_obj = np.array([1, 'a'],dtype='object')\n",
    "arr1d_obj"
   ]
  },
  {
   "cell_type": "code",
   "execution_count": 15,
   "metadata": {},
   "outputs": [
    {
     "output_type": "execute_result",
     "data": {
      "text/plain": "[1, 'a']"
     },
     "metadata": {},
     "execution_count": 15
    }
   ],
   "source": [
    "# array对象也可以再转换为list对象\n",
    "arr1d_obj.tolist()"
   ]
  },
  {
   "cell_type": "markdown",
   "metadata": {},
   "source": [
    "## 总结python的list和array的主要区别\n",
    "\n",
    "1. list不支持向量操作，而array支持向量操作\n",
    "2. array一旦创建就不可变更size，除非新建一个array或者覆盖一个已经存在的。\n",
    "3. 每个数组有且只有1个dtype时，所有的项都会是那个类型.\n",
    "4. 等价的array和list，前者占用空间更少。\n",
    "\n",
    "# 如何查看numpy的array的维度，数量和类型。"
   ]
  },
  {
   "cell_type": "code",
   "execution_count": 3,
   "metadata": {
    "tags": []
   },
   "outputs": [
    {
     "output_type": "stream",
     "name": "stdout",
     "text": "Shape:  (3, 4)\nDatatype:  float64\nSize:  12\nNum Dimensions:  2\n"
    }
   ],
   "source": [
    "# 创建一个3行4列的2维数组\n",
    "list2 = [[1, 2, 3, 4],[3, 4, 5, 6], [5, 6, 7, 8]]\n",
    "arr2 = np.array(list2, dtype='float')\n",
    "arr2\n",
    "\n",
    "#> array([[ 1.,  2.,  3.,  4.],\n",
    "#>        [ 3.,  4.,  5.,  6.],\n",
    "#>        [ 5.,  6.,  7.,  8.]])\n",
    "# shape\n",
    "print('Shape: ', arr2.shape)\n",
    "\n",
    "# dtype\n",
    "print('Datatype: ', arr2.dtype)\n",
    "\n",
    "# size\n",
    "print('Size: ', arr2.size)\n",
    "\n",
    "# ndim\n",
    "print('Num Dimensions: ', arr2.ndim)"
   ]
  },
  {
   "cell_type": "markdown",
   "metadata": {},
   "source": [
    "# 如何提取数组项"
   ]
  },
  {
   "cell_type": "code",
   "execution_count": 35,
   "metadata": {
    "tags": []
   },
   "outputs": [
    {
     "output_type": "stream",
     "name": "stdout",
     "text": "两行两列\n [[1. 2.]\n [3. 4.]]\n一行两列\n [[1. 2.]]\n第二行前两列\n [[3. 4.]]\n第二到三行第二到三列\n [[4. 5.]\n [6. 7.]]\n"
    }
   ],
   "source": [
    "print(\"两行两列\\n\",arr2[:2,:2])\n",
    "  \n",
    "print(\"一行两列\\n\",arr2[:1,:2])\n",
    "\n",
    "print(\"第二行前两列\\n\",arr2[1:2,:2])\n",
    "\n",
    "print(\"第二到三行第二到三列\\n\",arr2[1:3,1:3])\n",
    "\n"
   ]
  },
  {
   "cell_type": "code",
   "execution_count": 36,
   "metadata": {},
   "outputs": [
    {
     "output_type": "execute_result",
     "data": {
      "text/plain": "array([[False, False, False, False],\n       [False, False,  True,  True],\n       [ True,  True,  True,  True]])"
     },
     "metadata": {},
     "execution_count": 36
    }
   ],
   "source": [
    "# 通过计算式直接将数组转化为bool型\n",
    "b = arr2>4\n",
    "# 对于元素大于4的值为真\n",
    "b"
   ]
  },
  {
   "cell_type": "code",
   "execution_count": 37,
   "metadata": {},
   "outputs": [
    {
     "output_type": "execute_result",
     "data": {
      "text/plain": "array([5., 6., 5., 6., 7., 8.])"
     },
     "metadata": {},
     "execution_count": 37
    }
   ],
   "source": [
    "# bool式作为列表索引输入数组\n",
    "arr2[b]"
   ]
  },
  {
   "cell_type": "markdown",
   "metadata": {},
   "source": [
    "# 如何翻转数组\n"
   ]
  },
  {
   "cell_type": "code",
   "execution_count": 44,
   "metadata": {
    "tags": []
   },
   "outputs": [
    {
     "output_type": "stream",
     "name": "stdout",
     "text": "仅对行翻转\n [[5. 6. 7. 8.]\n [3. 4. 5. 6.]\n [1. 2. 3. 4.]]\n对称翻转\n [[8. 7. 6. 5.]\n [6. 5. 4. 3.]\n [4. 3. 2. 1.]]\n对称翻转\n [[4. 3. 2. 1.]\n [6. 5. 4. 3.]\n [8. 7. 6. 5.]]\n"
    }
   ],
   "source": [
    "# 二维数组翻转\n",
    "# 切片每组为slice(起点,终点,步长)，步长为-1则为倒序在中括号中用:分隔，其中起点和终点为左闭右开，如slice(1,3,1)，实际上只有索引1,2\n",
    "print(\"仅对行翻转\\n\",arr2[::-1,])\n",
    "print(\"对称翻转\\n\",arr2[::-1,::-1])\n",
    "print(\"仅对行列翻转\\n\",arr2[::,::-1])\n",
    "# 切片中的参数每个维度以逗号分隔，相当于[axis=0,axis=1,axis=2,...]"
   ]
  },
  {
   "cell_type": "code",
   "execution_count": 61,
   "metadata": {
    "tags": []
   },
   "outputs": [
    {
     "output_type": "stream",
     "name": "stdout",
     "text": "[[ 0  1  2  3  4  5  6  7  8  9]\n [10 11 12 13 14 15 16 17 18 19]\n [20 21 22 23 24 25 26 27 28 29]\n [30 31 32 33 34 35 36 37 38 39]\n [40 41 42 43 44 45 46 47 48 49]\n [50 51 52 53 54 55 56 57 58 59]] \n====选取第2->4行，5-7-9列====\n[[15 17 19]\n [25 27 29]\n [35 37 39]]\n"
    }
   ],
   "source": [
    "# 二维数组指定位置选取\n",
    "arr2d_ind = np.arange(60).reshape(6,10)\n",
    "print(arr2d_ind,\"\\n====选取第2->4行，5-7-9列====\")\n",
    "\n",
    "print(arr2d_ind[1:4:,5:10:2])"
   ]
  },
  {
   "cell_type": "code",
   "execution_count": 6,
   "metadata": {
    "tags": []
   },
   "outputs": [
    {
     "output_type": "stream",
     "name": "stdout",
     "text": "[[[ 0  1  2  3  4]\n  [ 5  6  7  8  9]\n  [10 11 12 13 14]\n  [15 16 17 18 19]]\n\n [[20 21 22 23 24]\n  [25 26 27 28 29]\n  [30 31 32 33 34]\n  [35 36 37 38 39]]\n\n [[40 41 42 43 44]\n  [45 46 47 48 49]\n  [50 51 52 53 54]\n  [55 56 57 58 59]]\n\n [[60 61 62 63 64]\n  [65 66 67 68 69]\n  [70 71 72 73 74]\n  [75 76 77 78 79]]\n\n [[80 81 82 83 84]\n  [85 86 87 88 89]\n  [90 91 92 93 94]\n  [95 96 97 98 99]]] \n====选取d1:2->4，d2:1-2-3,d3:1,3,5====\n[[[20 22 24]\n  [25 27 29]\n  [30 32 34]\n  [35 37 39]]\n\n [[40 42 44]\n  [45 47 49]\n  [50 52 54]\n  [55 57 59]]\n\n [[60 62 64]\n  [65 67 69]\n  [70 72 74]\n  [75 77 79]]]\n"
    }
   ],
   "source": [
    "# 多维数组选取，本质上来说相当于贴片中的位置参数是按维度依次排序\n",
    "arr3d_ind =  np.arange(100).reshape(5,4,5)\n",
    "print(arr3d_ind,\"\\n====选取d1:2->4，d2:1-2-3,d3:1,3,5====\")\n",
    "print(arr3d_ind[1:4:,0:4:,0:5:2])\n"
   ]
  },
  {
   "cell_type": "markdown",
   "metadata": {},
   "source": [
    "# 如何表示丢失的值和无限的值"
   ]
  },
  {
   "cell_type": "code",
   "execution_count": 66,
   "metadata": {},
   "outputs": [
    {
     "output_type": "execute_result",
     "data": {
      "text/plain": "array([[ 1.,  2.,  3.,  4.],\n       [ 3., nan, inf,  6.],\n       [ 5.,  6.,  7.,  8.]])"
     },
     "metadata": {},
     "execution_count": 66
    }
   ],
   "source": [
    "# 使用np.nan表示丢失的值,np.inf表示无限大\n",
    "arr2[1,1] = np.nan\n",
    "arr2[1,2] = np.inf\n",
    "arr2"
   ]
  },
  {
   "cell_type": "code",
   "execution_count": 69,
   "metadata": {
    "tags": []
   },
   "outputs": [
    {
     "output_type": "stream",
     "name": "stdout",
     "text": "空值和无限值bool式子\n [[False False False False]\n [False  True  True False]\n [False False False False]]\n"
    },
    {
     "output_type": "execute_result",
     "data": {
      "text/plain": "array([[ 1.,  2.,  3.,  4.],\n       [ 3., -1., -1.,  6.],\n       [ 5.,  6.,  7.,  8.]])"
     },
     "metadata": {},
     "execution_count": 69
    }
   ],
   "source": [
    "# 特殊情况下，对于丢失的值，也可以使用-1或者0代替\n",
    "# 先构造bool表达式，判断\n",
    "missing_bool = np.isnan(arr2) | np.isinf(arr2)\n",
    "print(\"空值和无限值bool式子\\n\",missing_bool)\n",
    "arr2[missing_bool] = -1\n",
    "arr2\n",
    "\n"
   ]
  },
  {
   "cell_type": "markdown",
   "metadata": {},
   "source": [
    "# 如何计算方差，最小值，最大值?"
   ]
  },
  {
   "cell_type": "code",
   "execution_count": 3,
   "metadata": {
    "tags": []
   },
   "outputs": [
    {
     "output_type": "stream",
     "name": "stdout",
     "text": "平均数: 6.0\n最小值: 1\n最大值: 11\n"
    },
    {
     "output_type": "execute_result",
     "data": {
      "text/plain": "array([[ 1,  3,  5],\n       [ 7,  9, 11]])"
     },
     "metadata": {},
     "execution_count": 3
    }
   ],
   "source": [
    "arr3 = np.array([1,3,5,7,9,11]).reshape(2,3)\n",
    "print(\"平均数:\",arr3.mean())\n",
    "print(\"最小值:\",arr3.min())0\n",
    "print(\"最大值:\",arr3.max())\n",
    "arr3"
   ]
  },
  {
   "cell_type": "code",
   "execution_count": 4,
   "metadata": {
    "tags": []
   },
   "outputs": [
    {
     "output_type": "stream",
     "name": "stdout",
     "text": "最小行: [1 3 5]\n最小列: [1 7]\n"
    }
   ],
   "source": [
    "# 行列最小，可以使用amin或者min，不过后者可以给np数据类型直接使用，前者为调用方法\n",
    "print(\"最小行:\",np.amin(arr3,axis=0))\n",
    "print(\"最小列:\",np.amin(arr3,axis=1))"
   ]
  },
  {
   "cell_type": "code",
   "execution_count": 7,
   "metadata": {
    "tags": []
   },
   "outputs": [
    {
     "output_type": "stream",
     "name": "stdout",
     "text": "[[[ 0  1  2  3  4]\n  [ 5  6  7  8  9]\n  [10 11 12 13 14]\n  [15 16 17 18 19]]\n\n [[20 21 22 23 24]\n  [25 26 27 28 29]\n  [30 31 32 33 34]\n  [35 36 37 38 39]]\n\n [[40 41 42 43 44]\n  [45 46 47 48 49]\n  [50 51 52 53 54]\n  [55 56 57 58 59]]\n\n [[60 61 62 63 64]\n  [65 66 67 68 69]\n  [70 71 72 73 74]\n  [75 76 77 78 79]]\n\n [[80 81 82 83 84]\n  [85 86 87 88 89]\n  [90 91 92 93 94]\n  [95 96 97 98 99]]]\n第一维度中最小:\n [[ 0  1  2  3  4]\n [ 5  6  7  8  9]\n [10 11 12 13 14]\n [15 16 17 18 19]]\n第二维度中最小:\n [[ 0  1  2  3  4]\n [20 21 22 23 24]\n [40 41 42 43 44]\n [60 61 62 63 64]\n [80 81 82 83 84]]\n第三维度中最小:\n [[ 0  5 10 15]\n [20 25 30 35]\n [40 45 50 55]\n [60 65 70 75]\n [80 85 90 95]]\n显然,求取三维的最小值,实际上都降维到二维了,后续可以继续使用二维求最小值:\n\n第三维度中最小的最小列:\n [ 0 20 40 60 80]\n"
    }
   ],
   "source": [
    "# 三维 最小\n",
    "print(arr3d_ind)\n",
    "# axis从最高维度或说从列表外列表的列表最外层前一层算起即axis=0\n",
    "# 故axis=max时，为列表里面的最里层一维数组\n",
    "print(\"第一维度中最小:\\n\",np.min(arr3d_ind,axis=0))\n",
    "print(\"第二维度中最小:\\n\",np.min(arr3d_ind,axis=1))\n",
    "print(\"第三维度中最小:\\n\",np.min(arr3d_ind,axis=2))\n",
    "print(\"显然,求取三维的最小值,实际上都降维到二维了,后续可以继续使用二维求最小值:\\n\")\n",
    "print(\"第三维度中最小的最小列:\\n\",np.amin(arr3d_ind,axis=2).min(axis=1))\n",
    "# 跨维度计算比较难以理解最后一维，一般来说，都是列\n",
    "\n"
   ]
  },
  {
   "cell_type": "code",
   "execution_count": 63,
   "metadata": {
    "tags": []
   },
   "outputs": [
    {
     "output_type": "stream",
     "name": "stdout",
     "text": "原始数组： [[0 1 2]\n [3 4 5]\n [6 7 8]]\n二维累加\n [ 0  1  3  6 10 15 21 28 36]\n一维累加\n [  0   1   4  10  20  35  56  84 120]\n二维按列累加\n [[ 0  1  2]\n [ 3  5  7]\n [ 9 12 15]]\n二维按行累加\n [[ 0  1  3]\n [ 3  7 12]\n [ 6 13 21]]\n"
    }
   ],
   "source": [
    "# 数组累加\n",
    "print(\"原始数组：\",arr2d)\n",
    "# 无论几维数组直接累加会降维成一维\n",
    "print(\"二维累加\\n\",np.cumsum(arr2d))\n",
    "print(\"一维累加\\n\",np.cumsum(arr2d).cumsum())\n",
    "print(\"二维按列累加\\n\",np.cumsum(arr2d,axis=0))\n",
    "print(\"二维按行累加\\n\",np.cumsum(arr2d,axis=1))\n"
   ]
  },
  {
   "cell_type": "code",
   "execution_count": 8,
   "metadata": {},
   "outputs": [
    {
     "output_type": "execute_result",
     "data": {
      "text/plain": "array([[[  0,   1,   2,   3,   4],\n        [  5,   6,   7,   8,   9],\n        [ 10,  11,  12,  13,  14],\n        [ 15,  16,  17,  18,  19]],\n\n       [[ 20,  22,  24,  26,  28],\n        [ 30,  32,  34,  36,  38],\n        [ 40,  42,  44,  46,  48],\n        [ 50,  52,  54,  56,  58]],\n\n       [[ 60,  63,  66,  69,  72],\n        [ 75,  78,  81,  84,  87],\n        [ 90,  93,  96,  99, 102],\n        [105, 108, 111, 114, 117]],\n\n       [[120, 124, 128, 132, 136],\n        [140, 144, 148, 152, 156],\n        [160, 164, 168, 172, 176],\n        [180, 184, 188, 192, 196]],\n\n       [[200, 205, 210, 215, 220],\n        [225, 230, 235, 240, 245],\n        [250, 255, 260, 265, 270],\n        [275, 280, 285, 290, 295]]], dtype=int32)"
     },
     "metadata": {},
     "execution_count": 8
    }
   ],
   "source": [
    "# 从三维最外层内一层的每组开始累加\n",
    "arr3d_ind.cumsum(axis=0)"
   ]
  },
  {
   "cell_type": "code",
   "execution_count": 9,
   "metadata": {},
   "outputs": [
    {
     "output_type": "execute_result",
     "data": {
      "text/plain": "array([[[  0,   1,   3,   6,  10],\n        [  5,  11,  18,  26,  35],\n        [ 10,  21,  33,  46,  60],\n        [ 15,  31,  48,  66,  85]],\n\n       [[ 20,  41,  63,  86, 110],\n        [ 25,  51,  78, 106, 135],\n        [ 30,  61,  93, 126, 160],\n        [ 35,  71, 108, 146, 185]],\n\n       [[ 40,  81, 123, 166, 210],\n        [ 45,  91, 138, 186, 235],\n        [ 50, 101, 153, 206, 260],\n        [ 55, 111, 168, 226, 285]],\n\n       [[ 60, 121, 183, 246, 310],\n        [ 65, 131, 198, 266, 335],\n        [ 70, 141, 213, 286, 360],\n        [ 75, 151, 228, 306, 385]],\n\n       [[ 80, 161, 243, 326, 410],\n        [ 85, 171, 258, 346, 435],\n        [ 90, 181, 273, 366, 460],\n        [ 95, 191, 288, 386, 485]]], dtype=int32)"
     },
     "metadata": {},
     "execution_count": 9
    }
   ],
   "source": [
    "# 从三维最内层内一维开始累加\n",
    "arr3d_ind.cumsum(axis=2)"
   ]
  },
  {
   "cell_type": "markdown",
   "metadata": {},
   "source": [
    "# 如何根据已经存在的数组创建新的数组"
   ]
  },
  {
   "cell_type": "code",
   "execution_count": 29,
   "metadata": {
    "tags": []
   },
   "outputs": [
    {
     "output_type": "stream",
     "name": "stdout",
     "text": "[0 8 8 8 8 5 6 7 8 9]\n"
    }
   ],
   "source": [
    "# 由于ndarray相当于不可变类型，索引直接赋值的部分也能直接操作原有数组\n",
    "arr_un = np.arange(10)\n",
    "arr_tmp = arr_un[1:5]\n",
    "arr_tmp[arr_tmp%1==0] = 8\n",
    "print(arr_un)\n",
    "# 改变arr_tmp就改变了原有arr_un数组"
   ]
  },
  {
   "cell_type": "code",
   "execution_count": 32,
   "metadata": {
    "tags": []
   },
   "outputs": [
    {
     "output_type": "stream",
     "name": "stdout",
     "text": "[0 1 2 3 4 5 6 7 8 9]\n"
    }
   ],
   "source": [
    "arr_un = np.arange(10)\n",
    "arr_new = arr_un[1:5].copy()\n",
    "arr_tmp = arr_new[1:5]\n",
    "arr_tmp[arr_tmp%1==0] = 8\n",
    "print(arr_un)"
   ]
  },
  {
   "cell_type": "markdown",
   "metadata": {},
   "source": [
    "# flatten() 和 ravel()的不同\n",
    "\n",
    "扁平化函数中，使用flatten创建的array，数组修改不会影响到原有数组，而ravel创建的数组会影响原有数组"
   ]
  },
  {
   "cell_type": "code",
   "execution_count": 27,
   "metadata": {
    "tags": []
   },
   "outputs": [
    {
     "output_type": "stream",
     "name": "stdout",
     "text": "原始数组 [[[ 0  1  2]\n  [ 3  4  5]\n  [ 6  7  8]]\n\n [[ 9 10 11]\n  [12 13 14]\n  [15 16 17]]]\nflatten赋值的数组没有改变原有数组\n [[[ 0  1  2]\n  [ 3  4  5]\n  [ 6  7  8]]\n\n [[ 9 10 11]\n  [12 13 14]\n  [15 16 17]]]\nravel赋值的数组改变原有数组\n [[[ 0 31 31]\n  [31  4  5]\n  [ 6  7  8]]\n\n [[ 9 10 11]\n  [12 13 14]\n  [15 16 17]]]\n"
    }
   ],
   "source": [
    "arr4 = np.arange(18).reshape(2,3,3)\n",
    "print(\"原始数组\",arr4)\n",
    "x =  arr4.flatten()\n",
    "x[1:2]=31\n",
    "print(\"flatten赋值的数组没有改变原有数组\\n\",arr4)\n",
    "y = arr4.ravel()\n",
    "y[1:4]=31\n",
    "print(\"ravel赋值的数组改变原有数组\\n\",arr4)"
   ]
  },
  {
   "cell_type": "markdown",
   "metadata": {},
   "source": [
    "# 创建基本序列"
   ]
  },
  {
   "cell_type": "code",
   "execution_count": 29,
   "metadata": {},
   "outputs": [
    {
     "output_type": "execute_result",
     "data": {
      "text/plain": "array([10,  9,  8,  7,  6,  5,  4,  3,  2,  1,  0, -1, -2, -3, -4, -5, -6,\n       -7, -8, -9])"
     },
     "metadata": {},
     "execution_count": 29
    }
   ],
   "source": [
    "np.arange(10,-10,-1)"
   ]
  },
  {
   "cell_type": "code",
   "execution_count": 31,
   "metadata": {},
   "outputs": [
    {
     "output_type": "execute_result",
     "data": {
      "text/plain": "array([ 1,  6, 11, 17, 22, 28, 33, 39, 44, 50])"
     },
     "metadata": {},
     "execution_count": 31
    }
   ],
   "source": [
    "# 等距数组\n",
    "np.linspace(start=1, stop=50, num=10, dtype=int)"
   ]
  },
  {
   "cell_type": "code",
   "execution_count": 36,
   "metadata": {},
   "outputs": [
    {
     "output_type": "execute_result",
     "data": {
      "text/plain": "array([1.00000000e+01, 2.78255940e+06, 7.74263683e+11, 2.15443469e+17,\n       5.99484250e+22, 1.66810054e+28, 4.64158883e+33, 1.29154967e+39,\n       3.59381366e+44, 1.00000000e+50])"
     },
     "metadata": {},
     "execution_count": 36
    }
   ],
   "source": [
    "# 设置自然对数\n",
    "np.logspace(start=1, stop=50, num=10, base=10) "
   ]
  },
  {
   "cell_type": "markdown",
   "metadata": {},
   "source": [
    "# 0数组和1数组"
   ]
  },
  {
   "cell_type": "code",
   "execution_count": 41,
   "metadata": {},
   "outputs": [
    {
     "output_type": "execute_result",
     "data": {
      "text/plain": "array([[[0., 0.],\n        [0., 0.]],\n\n       [[0., 0.],\n        [0., 0.]]])"
     },
     "metadata": {},
     "execution_count": 41
    }
   ],
   "source": [
    "np.zeros([2,2,2])"
   ]
  },
  {
   "cell_type": "code",
   "execution_count": 42,
   "metadata": {},
   "outputs": [
    {
     "output_type": "execute_result",
     "data": {
      "text/plain": "array([[1., 1.],\n       [1., 1.]])"
     },
     "metadata": {},
     "execution_count": 42
    }
   ],
   "source": [
    "np.ones([2,2])"
   ]
  },
  {
   "cell_type": "markdown",
   "metadata": {},
   "source": [
    "# 创建重复队列"
   ]
  },
  {
   "cell_type": "code",
   "execution_count": 89,
   "metadata": {
    "tags": []
   },
   "outputs": [
    {
     "output_type": "stream",
     "name": "stdout",
     "text": "原始数组\n [ 1  2  3  4  5  6  7  8  9 10]\nrepeat将数组所有元素依次重复n次\n [ 1  1  2  2  3  3  4  4  5  5  6  6  7  7  8  8  9  9 10 10]\nTile将数组重复n次\n [ 1  2  3  4  5  6  7  8  9 10  1  2  3  4  5  6  7  8  9 10]\n"
    }
   ],
   "source": [
    "z = np.linspace(1,10,num=10,dtype=int)\n",
    "print(\"原始数组\\n\",z)\n",
    "print(\"repeat将数组所有元素依次重复n次\\n\",z.repeat(2))\n",
    "print(\"Tile将数组重复n次\\n\",np.tile(z,2))"
   ]
  },
  {
   "cell_type": "markdown",
   "metadata": {},
   "source": [
    "# 生成随机数"
   ]
  },
  {
   "cell_type": "code",
   "execution_count": 74,
   "metadata": {
    "tags": []
   },
   "outputs": [
    {
     "output_type": "stream",
     "name": "stdout",
     "text": "[0.53615507 0.29799816]\n"
    }
   ],
   "source": [
    "# 生成0到1之间的二维随机数\n",
    "print(np.random.rand(2,2))"
   ]
  },
  {
   "cell_type": "code",
   "execution_count": 59,
   "metadata": {
    "tags": []
   },
   "outputs": [
    {
     "output_type": "stream",
     "name": "stdout",
     "text": "[[-1.37236846 -2.15435945]\n [-0.63778334  0.20704982]]\n"
    }
   ],
   "source": [
    "# 生成正态分布，均值为0，标准差为1的二维随机数\n",
    "print(np.random.randn(2,2))"
   ]
  },
  {
   "cell_type": "code",
   "execution_count": 70,
   "metadata": {
    "tags": []
   },
   "outputs": [
    {
     "output_type": "stream",
     "name": "stdout",
     "text": "[[3 9 9 1 5]\n [2 9 8 5 8]]\n"
    }
   ],
   "source": [
    "# 生成0到10的随机整数\n",
    "print(np.random.randint(0,10,size=[2,5]))\n"
   ]
  },
  {
   "cell_type": "code",
   "execution_count": 78,
   "metadata": {
    "tags": []
   },
   "outputs": [
    {
     "output_type": "stream",
     "name": "stdout",
     "text": "[[0.85208743 0.07907654]\n [0.07137391 0.53862724]]\n"
    }
   ],
   "source": [
    "# 生成一个随机数在0到1之间，和rand的区别在于参数输入方式\n",
    "print(np.random.random([2,2])) "
   ]
  },
  {
   "cell_type": "code",
   "execution_count": 109,
   "metadata": {
    "tags": []
   },
   "outputs": [
    {
     "output_type": "stream",
     "name": "stdout",
     "text": "随机选择数:\n [ 1  2  3  4  5  6  7  8  9 10]\n随机选择:\n [[ 5  4]\n [10  2]]\n随机选择任意项:\n [['z' 'k']\n ['s' 'j']]\n预设概率随机选择\n ['o' 'a' 'u' 'o' 'a' 'a' 'u' 'a' 'o' 'i']\n"
    }
   ],
   "source": [
    "# 随机选择构建2x3数组\n",
    "print(\"随机选择数:\\n\",z)\n",
    "print(\"随机选择:\\n\",np.random.choice(z,size=[2,2]))\n",
    "print(\"随机选择任意项:\\n\",np.random.choice(['a','b','e','f','z','s','d','h','j','k'],size=[2,2]))\n",
    "# 设定p参数依次对应choice第一个参数值出现概率,sum(p)=1\n",
    "#print(\"预设概率随机选择\\n\",np.random.choice(['a', 'e', 'i', 'o', 'u'], size=10, p=[0.3, .1, 0.1, 0.4, 0.1]))  "
   ]
  },
  {
   "cell_type": "code",
   "execution_count": null,
   "metadata": {},
   "outputs": [],
   "source": [
    "# jupyter不知道是不是有什么相同的变量占用了，用不出来\n",
    "# Create the random state\n",
    "rn = np.random.RandomState(100)\n",
    "\n",
    "# Create random numbers between [0,1) of shape 2,2\n",
    "print(rn.rand(2,2))\n",
    "\n",
    "#> [[ 0.54  0.28]\n",
    "#>  [ 0.42  0.84]]\n",
    "# Set the random seed\n",
    "np.random.seed(100)\n",
    "\n",
    "# Create random numbers between [0,1) of shape 2,2\n",
    "print(np.random.rand(2,2))\n",
    "\n",
    "#> [[ 0.54  0.28]\n",
    "#>  [ 0.42  0.84]]"
   ]
  },
  {
   "cell_type": "markdown",
   "metadata": {},
   "source": [
    "# 获取每个数值唯一值和数量"
   ]
  },
  {
   "cell_type": "code",
   "execution_count": 129,
   "metadata": {
    "tags": []
   },
   "outputs": [
    {
     "output_type": "stream",
     "name": "stdout",
     "text": "[[10  2]\n [12  2]]\nuniqs: [ 2 10 12]\ncounts: [2 1 1]\n"
    }
   ],
   "source": [
    "z = np.random.randint(1,20,size=[2,2])\n",
    "print(z)\n",
    "uniqs,counts = np.unique(z,return_counts=True)\n",
    "print(\"uniqs:\",uniqs)\n",
    "print(\"counts:\",counts)"
   ]
  }
 ]
}