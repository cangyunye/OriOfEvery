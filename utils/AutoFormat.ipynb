{
 "cells": [
  {
   "cell_type": "markdown",
   "metadata": {},
   "source": [
    "Description:\n",
    "\n",
    "\treturn a merged string by inputing a number and a string.\n",
    "    \n",
    "eg. \n",
    "\n",
    "merge(3,'%s')\n",
    "\n",
    "return '%s,%s,%s'\n",
    "\n",
    "Where could be used for?\n",
    "\n",
    "\tWhen you designed a sql script like below.\n",
    "    \n",
    "```python\n",
    "\tsql='INSERT INTO TABLE1 ( COLUMNS )\tVALUES ( VALS )'\n",
    "\tCOLUMNS = '%s,%s,%s'\n",
    "\tVALS = '%s,%s,%s'\n",
    "\tsql % (a,b,c,d,e,f)\n",
    "```"
   ]
  },
  {
   "cell_type": "code",
   "execution_count": 4,
   "metadata": {},
   "outputs": [],
   "source": [
    "#datapreset\n",
    "cols = ['version','begindate','enddate','executor']\n",
    "vals = ['IT100','20190219','20190319','hy']\n"
   ]
  },
  {
   "cell_type": "code",
   "execution_count": 5,
   "metadata": {},
   "outputs": [
    {
     "name": "stdout",
     "output_type": "stream",
     "text": [
      "[\"'IT100'\", \"'20190219'\", \"'20190319'\", \"'hy'\"]\n",
      "INSERT INTO TABLE1 ( version,begindate,enddate,executor ) VALUES ( IT100,20190219,20190319,hy )\n"
     ]
    }
   ],
   "source": [
    "from functools import reduce\n",
    "\n",
    "def merge(iterstr):\n",
    "\treturn reduce(lambda x,y:x + ',' + y,iterstr)\n",
    "\n",
    "def addstr(it):\n",
    "    return \"'\"+it+\"'\"\n",
    "def mergestr(iterstr):\n",
    "    for i in iterstr:\n",
    "        addstr(i)\n",
    "    return \n",
    "print(list(map(addstr,vals)))\n",
    "\n",
    "# 拼接列\n",
    "COLUMNS = merge(cols)\n",
    "# 拼接值\n",
    "VALUES = merge(vals)\n",
    "\n",
    "sql=\"INSERT INTO TABLE1 ( {COLUMNS} ) VALUES ( {VALUES} )\"\n",
    "result=sql.format(COLUMNS=COLUMNS,VALUES=VALUES)\n",
    "\n",
    "print(result)"
   ]
  },
  {
   "cell_type": "code",
   "execution_count": 6,
   "metadata": {},
   "outputs": [
    {
     "data": {
      "text/plain": [
       "'INSERT INTO TABLE1 ( version,begindate,enddate,executor ) VALUES ( IT100,20190219,20190319,hy )'"
      ]
     },
     "execution_count": 6,
     "metadata": {},
     "output_type": "execute_result"
    }
   ],
   "source": [
    "COLUMNS = \",\".join(cols)\n",
    "VALUES = \",\".join(vals)\n",
    "sql=\"INSERT INTO TABLE1 ( {COLUMNS} ) VALUES ( {VALUES} )\"\n",
    "sql.format(COLUMNS=COLUMNS,VALUES=VALUES)"
   ]
  },
  {
   "cell_type": "markdown",
   "metadata": {},
   "source": [
    "后续应该对VALUES列表每个值增加单引号对，才可以插入"
   ]
  },
  {
   "cell_type": "code",
   "execution_count": 14,
   "metadata": {},
   "outputs": [
    {
     "name": "stdout",
     "output_type": "stream",
     "text": [
      "'IT100'\n",
      "'20190219'\n",
      "'20190319'\n",
      "'hy'\n"
     ]
    }
   ],
   "source": [
    "for i in map(addstr,VALUES.split(',')):\n",
    "    print(i)"
   ]
  },
  {
   "cell_type": "code",
   "execution_count": 16,
   "metadata": {},
   "outputs": [
    {
     "data": {
      "text/plain": [
       "(\"'IT100'\", \"'20190219'\", \"'20190319'\", \"'hy'\")"
      ]
     },
     "execution_count": 16,
     "metadata": {},
     "output_type": "execute_result"
    }
   ],
   "source": [
    "tuple(map(addstr,VALUES.split(',')))"
   ]
  }
 ],
 "metadata": {
  "kernelspec": {
   "display_name": "Python 3",
   "language": "python",
   "name": "python3"
  },
  "language_info": {
   "codemirror_mode": {
    "name": "ipython",
    "version": 3
   },
   "file_extension": ".py",
   "mimetype": "text/x-python",
   "name": "python",
   "nbconvert_exporter": "python",
   "pygments_lexer": "ipython3",
   "version": "3.7.1"
  },
  "toc": {
   "base_numbering": 1,
   "nav_menu": {},
   "number_sections": true,
   "sideBar": true,
   "skip_h1_title": false,
   "title_cell": "Table of Contents",
   "title_sidebar": "Contents",
   "toc_cell": false,
   "toc_position": {},
   "toc_section_display": true,
   "toc_window_display": false
  },
  "varInspector": {
   "cols": {
    "lenName": 16,
    "lenType": 16,
    "lenVar": 40
   },
   "kernels_config": {
    "python": {
     "delete_cmd_postfix": "",
     "delete_cmd_prefix": "del ",
     "library": "var_list.py",
     "varRefreshCmd": "print(var_dic_list())"
    },
    "r": {
     "delete_cmd_postfix": ") ",
     "delete_cmd_prefix": "rm(",
     "library": "var_list.r",
     "varRefreshCmd": "cat(var_dic_list()) "
    }
   },
   "types_to_exclude": [
    "module",
    "function",
    "builtin_function_or_method",
    "instance",
    "_Feature"
   ],
   "window_display": false
  }
 },
 "nbformat": 4,
 "nbformat_minor": 2
}
