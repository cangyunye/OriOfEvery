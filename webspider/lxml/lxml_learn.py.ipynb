{
 "cells": [
  {
   "cell_type": "markdown",
   "metadata": {},
   "source": [
    "## 解析HTML内容"
   ]
  },
  {
   "cell_type": "code",
   "execution_count": 1,
   "metadata": {},
   "outputs": [
    {
     "name": "stdout",
     "output_type": "stream",
     "text": [
      "<html><body><div>\n",
      "<ul>\n",
      "<li class=\"item-0\"><a href=\"link1.html\">first item</a></li>\n",
      "<li class=\"item-1\"><a href=\"link2.html\">second item</a></li>\n",
      "<li class=\"item-inactive\"><a href=\"link3.html\">third item</a></li>\n",
      "<li class=\"item-1\"><a href=\"link4.html\">fourth item</a></li>\n",
      "<li class=\"item-0\"><a href=\"link5.html\">fifth item</a>\n",
      "</li></ul>\n",
      "</div>\n",
      "</body></html>\n"
     ]
    }
   ],
   "source": [
    "from lxml import etree\n",
    "#输入一端HTML文本\n",
    "text='''\n",
    "<div>\n",
    "<ul>\n",
    "<li class=\"item-0\"><a href=\"link1.html\">first item</a></li>\n",
    "<li class=\"item-1\"><a href=\"link2.html\">second item</a></li>\n",
    "<li class=\"item-inactive\"><a href=\"link3.html\">third item</a></li>\n",
    "<li class=\"item-1\"><a href=\"link4.html\">fourth item</a></li>\n",
    "<li class=\"item-0\"><a href=\"link5.html\">fifth item</a>\n",
    "</ul>\n",
    "</div>\n",
    "'''\n",
    "#构造HTML解析器\n",
    "html = etree.HTML(text)\n",
    "#将解析器转化为字符串,输出为Bytes型\n",
    "result = etree.tostring(html)\n",
    "#utf-8格式输出\n",
    "print(result.decode(\"utf-8\"))\n",
    "#我们发现，HTML文本被补齐<html><body>标签，以及缺失的fifthe item后的</li>标签"
   ]
  },
  {
   "cell_type": "markdown",
   "metadata": {},
   "source": [
    "## 读取文件解析HTML文本"
   ]
  },
  {
   "cell_type": "code",
   "execution_count": 2,
   "metadata": {},
   "outputs": [
    {
     "name": "stdout",
     "output_type": "stream",
     "text": [
      "<!DOCTYPE html PUBLIC \"-//W3C//DTD HTML 4.0 Transitional//EN\" \"http://www.w3.org/TR/REC-html40/loose.dtd\">\n",
      "<html><body><div>&#13;\n",
      "<ul>&#13;\n",
      "<li class=\"item-0\"><a href=\"link1.html\">first item</a></li>&#13;\n",
      "<li class=\"item-1\"><a href=\"link2.html\">second item</a></li>&#13;\n",
      "<li class=\"item-inactive\"><a href=\"link3.html\">third item</a></li>&#13;\n",
      "<li class=\"item-1\"><a href=\"link4.html\">fourth item</a></li>&#13;\n",
      "<li class=\"item-0\"><a href=\"link5.html\">fifth item</a>&#13;\n",
      "</li></ul>&#13;\n",
      "</div></body></html>\n"
     ]
    }
   ],
   "source": [
    "#直接读取文本文件进行解析\n",
    "from lxml import etree\n",
    "html = etree.parse('./test.html',etree.HTMLParser())\n",
    "result = etree.tostring(html)\n",
    "print(result.decode('utf-8'))\n",
    "#本次解析，多了一个DOCTYPE声明，不影响后续流程"
   ]
  },
  {
   "cell_type": "markdown",
   "metadata": {},
   "source": [
    "## 属性选择"
   ]
  },
  {
   "cell_type": "code",
   "execution_count": 3,
   "metadata": {},
   "outputs": [
    {
     "name": "stdout",
     "output_type": "stream",
     "text": [
      "[<Element li at 0x1c6d64d5fc8>, <Element li at 0x1c6d65ade48>]\n"
     ]
    }
   ],
   "source": [
    "from lxml import etree\n",
    "html = etree.parse('./test.html',etree.HTMLParser())\n",
    "#选取li节点下的class属性，值为item-0,返回为列表\n",
    "result_attr = html.xpath('//li[@class=\"item-0\"]')\n",
    "print(result_attr)"
   ]
  },
  {
   "cell_type": "markdown",
   "metadata": {},
   "source": [
    "## 选取子节点"
   ]
  },
  {
   "cell_type": "code",
   "execution_count": 4,
   "metadata": {},
   "outputs": [
    {
     "name": "stdout",
     "output_type": "stream",
     "text": [
      "[<Element html at 0x1c6d65dc788>, <Element body at 0x1c6d65dc808>, <Element div at 0x1c6d65dc848>, <Element ul at 0x1c6d65dc888>, <Element li at 0x1c6d65dc8c8>, <Element a at 0x1c6d65dc948>, <Element li at 0x1c6d65dc988>, <Element a at 0x1c6d65dc9c8>, <Element li at 0x1c6d65dca08>, <Element a at 0x1c6d65dc908>, <Element li at 0x1c6d65dca48>, <Element a at 0x1c6d65dca88>, <Element li at 0x1c6d65dcac8>, <Element a at 0x1c6d65dcb08>]\n",
      "[<Element li at 0x1c6d65dc8c8>, <Element li at 0x1c6d65dc988>, <Element li at 0x1c6d65dca08>, <Element li at 0x1c6d65dca48>, <Element li at 0x1c6d65dcac8>]\n",
      "[<Element a at 0x1c6d65dc948>, <Element a at 0x1c6d65dc9c8>, <Element a at 0x1c6d65dc908>, <Element a at 0x1c6d65dca88>, <Element a at 0x1c6d65dcb08>]\n",
      "[<Element a at 0x1c6d65dc948>, <Element a at 0x1c6d65dc9c8>, <Element a at 0x1c6d65dc908>, <Element a at 0x1c6d65dca88>, <Element a at 0x1c6d65dcb08>]\n",
      "[]\n"
     ]
    }
   ],
   "source": [
    "from lxml import etree\n",
    "html = etree.parse('./test.html',etree.HTMLParser())\n",
    "#匹配所有节点\n",
    "result_all_node = html.xpath('//*')\n",
    "print(result_all_node)\n",
    "#匹配所有li节点\n",
    "result_all_node_li = html.xpath('//li')\n",
    "print(result_all_node_li)\n",
    "#匹配所有li节点下a节点，即获取子节点\n",
    "result_all_node_li_a = html.xpath('//li/a')\n",
    "print(result_all_node_li_a)\n",
    "#匹配所有ul节点下a节点,即获取子孙节点\n",
    "result_all_node_ul_a = html.xpath('//ul//a')\n",
    "print(result_all_node_ul_a)\n",
    "#如果使用/a，则无法获取到子孙节点\n",
    "result_all_node_ul_except = html.xpath('//ul/a')\n",
    "print(result_all_node_ul_except)"
   ]
  },
  {
   "cell_type": "markdown",
   "metadata": {},
   "source": [
    "## 选取父节点"
   ]
  },
  {
   "cell_type": "code",
   "execution_count": 5,
   "metadata": {},
   "outputs": [
    {
     "name": "stdout",
     "output_type": "stream",
     "text": [
      "['item-1']\n"
     ]
    }
   ],
   "source": [
    "from lxml import etree\n",
    "html = etree.parse('./test.html',etree.HTMLParser())\n",
    "#匹配子节点a，href属性值为\"link4.html\"的节点后，寻找..父节点的属性class\n",
    "result_parent = html.xpath('//a[@href=\"link4.html\"]/../@class')\n",
    "print(result_parent)"
   ]
  },
  {
   "cell_type": "markdown",
   "metadata": {},
   "source": [
    "## 文本获取"
   ]
  },
  {
   "cell_type": "code",
   "execution_count": 6,
   "metadata": {},
   "outputs": [
    {
     "name": "stdout",
     "output_type": "stream",
     "text": [
      "fourth item\n",
      "[]\n",
      "['second item', 'fourth item']\n",
      "['first item', 'fifth item', '\\r\\n']\n"
     ]
    }
   ],
   "source": [
    "from lxml import etree\n",
    "html = etree.parse('./test.html',etree.HTMLParser())\n",
    "#匹配子节点a\n",
    "result_a = html.xpath('//a[@href=\"link4.html\"]')\n",
    "#使用text属性获取文本\n",
    "print(result_a[0].text)\n",
    "#如果直接选取属性class=\"item-inactive\"下调用text()，很明显无法调用成功\n",
    "result_ax = html.xpath('//li[@class=\"item-inactive\"]/text()')\n",
    "print(result_ax)\n",
    "#但是可以增加定位到子节点a\n",
    "result_ax = html.xpath('//li[@class=\"item-1\"]/a/text()')\n",
    "print(result_ax)\n",
    "#或者使用//,多出来的\\r\\n，是由于在解析html文件时，进行了自动修正，补充了尾部标签的换行。\n",
    "result_ax = html.xpath('//li[@class=\"item-0\"]//text()')\n",
    "print(result_ax)"
   ]
  },
  {
   "cell_type": "markdown",
   "metadata": {},
   "source": [
    "## 属性获取"
   ]
  },
  {
   "cell_type": "code",
   "execution_count": 7,
   "metadata": {},
   "outputs": [
    {
     "name": "stdout",
     "output_type": "stream",
     "text": [
      "['link1.html', 'link2.html', 'link3.html', 'link4.html', 'link5.html']\n"
     ]
    }
   ],
   "source": [
    "#获取如href的值\n",
    "from lxml import etree\n",
    "html = etree.parse('./test.html',etree.HTMLParser())\n",
    "#匹配子节点a下的属性href，与a[@href=value]属性匹配不同，此处由于进行属性获取，不加[]\n",
    "result_attri = html.xpath('//a/@href')\n",
    "#返回值为列表形式\n",
    "print(result_attri)"
   ]
  },
  {
   "cell_type": "markdown",
   "metadata": {},
   "source": [
    "### 属性值模糊匹配\n",
    "> 当属性值包含某个特征，可以使用contains(第一个参数属性名称,模糊匹配即可的属性值)"
   ]
  },
  {
   "cell_type": "code",
   "execution_count": 8,
   "metadata": {},
   "outputs": [
    {
     "name": "stdout",
     "output_type": "stream",
     "text": [
      "['first item']\n"
     ]
    }
   ],
   "source": [
    "from lxml import etree\n",
    "text = '''\n",
    "<li class=\"li li-first\"><a href=\"link.html\">first item</a></li>\n",
    "'''\n",
    "html = etree.HTML(text)\n",
    "result = html.xpath('//li[contains(@class,\"li-f\")]/a/text()')\n",
    "print(result)"
   ]
  },
  {
   "cell_type": "markdown",
   "metadata": {},
   "source": [
    "### 多属性匹配\n",
    "> 如果遇到节点中含有多个属性，那么可以使用and进行连接"
   ]
  },
  {
   "cell_type": "code",
   "execution_count": 9,
   "metadata": {},
   "outputs": [
    {
     "name": "stdout",
     "output_type": "stream",
     "text": [
      "['first item']\n"
     ]
    }
   ],
   "source": [
    "from lxml import etree\n",
    "text = '''\n",
    "<li class=\"li li-first\" name=\"item\"><a href=\"link.html\">first item</a></li>\n",
    "'''\n",
    "html = etree.HTML(text)\n",
    "#注意，and需要在li节点下[]中使用\n",
    "result = html.xpath('//li[contains(@class,\"li\") and @name=\"item\"]/a/text()')\n",
    "print(result)"
   ]
  },
  {
   "cell_type": "markdown",
   "metadata": {},
   "source": [
    "## XPath 运算符\n",
    "\n",
    "\n",
    "下面列出了可用在 XPath 表达式中的运算符：\n",
    "\n",
    "| 运算符 | 描述           | 实例                      | 返回值                                                       |\n",
    "| ------ | -------------- | ------------------------- | ------------------------------------------------------------ |\n",
    "| 丨   | 计算两个节点集 | //book 丨 //cd            | 返回所有拥有 book 和 cd 元素的节点集                         |\n",
    "| +      | 加法           | 6 + 4                     | 10                                                           |\n",
    "| -      | 减法           | 6 - 4                     | 2                                                            |\n",
    "| *      | 乘法           | 6 * 4                     | 24                                                           |\n",
    "| div    | 除法           | 8 div 4                   | 2                                                            |\n",
    "| =      | 等于           | price=9.80                | 如果 price 是 9.80，则返回 true。如果 price 是 9.90，则返回 false。 |\n",
    "| !=     | 不等于         | price!=9.80               | 如果 price 是 9.90，则返回 true。如果 price 是 9.80，则返回 false。 |\n",
    "| <      | 小于           | price<9.80                | 如果 price 是 9.00，则返回 true。如果 price 是 9.90，则返回 false。 |\n",
    "| <=     | 小于或等于     | price<=9.80               | 如果 price 是 9.00，则返回 true。如果 price 是 9.90，则返回 false。 |\n",
    "| >      | 大于           | price>9.80                | 如果 price 是 9.90，则返回 true。如果 price 是 9.80，则返回 false。 |\n",
    "| >=     | 大于或等于     | price>=9.80               | 如果 price 是 9.90，则返回 true。如果 price 是 9.70，则返回 false。 |\n",
    "| or     | 或             | price=9.80 or price=9.70  | 如果 price 是 9.80，则返回 true。如果 price 是 9.50，则返回 false。 |\n",
    "| and    | 与             | price>9.00 and price<9.90 | 如果 price 是 9.80，则返回 true。如果 price 是 8.50，则返回 false。 |\n",
    "| mod    | 计算除法的余数 | 5 mod 2                   | 1                                                            |"
   ]
  },
  {
   "cell_type": "markdown",
   "metadata": {},
   "source": []
  },
  {
   "cell_type": "markdown",
   "metadata": {},
   "source": [
    "## 按序选择\n",
    "> 当配配多个节点的时候，可以通过传入索引，选择特定的次序。"
   ]
  },
  {
   "cell_type": "code",
   "execution_count": 10,
   "metadata": {},
   "outputs": [
    {
     "name": "stdout",
     "output_type": "stream",
     "text": [
      "['first item']\n",
      "['fifth item']\n",
      "['first item', 'second item']\n",
      "['third item']\n"
     ]
    }
   ],
   "source": [
    "from lxml import etree\n",
    "html = etree.parse('./test.html',etree.HTMLParser())\n",
    "#选择索引第一位\n",
    "result_1 = html.xpath('//li[1]/a/text()')\n",
    "print(result_1)\n",
    "#选择索引最后一位\n",
    "result_2 = html.xpath('//li[last()]/a/text()')\n",
    "print(result_2)\n",
    "#选择索引第3位前\n",
    "result_3 = html.xpath('//li[position()<3]/a/text()')\n",
    "print(result_3)\n",
    "#选择索引倒数第3位\n",
    "result_4 = html.xpath('//li[last()-2]/a/text()')\n",
    "print(result_4)"
   ]
  },
  {
   "cell_type": "markdown",
   "metadata": {},
   "source": [
    "## 节点轴选择\n",
    "> Xpath提供了很多节点轴的选择方法，包括获取子元素、兄弟元素、父元素、祖先元素等。"
   ]
  },
  {
   "cell_type": "code",
   "execution_count": 11,
   "metadata": {},
   "outputs": [
    {
     "name": "stdout",
     "output_type": "stream",
     "text": [
      "[<Element html at 0x1c6d65e7688>, <Element body at 0x1c6d65e7788>, <Element div at 0x1c6d65e77c8>, <Element ul at 0x1c6d65e7808>]\n",
      "[<Element div at 0x1c6d65e77c8>]\n",
      "['item-0']\n",
      "[<Element a at 0x1c6d65e79c8>]\n",
      "[]\n",
      "[<Element a at 0x1c6d65e77c8>]\n",
      "[<Element li at 0x1c6d65e7788>, <Element li at 0x1c6d65e7a08>, <Element li at 0x1c6d65e7a48>, <Element li at 0x1c6d65e7a88>]\n"
     ]
    }
   ],
   "source": [
    "from lxml import etree\n",
    "html = etree.parse('./test.html',etree.HTMLParser())\n",
    "#调用ancestor后去所有祖先节点，后续跟::，然后加节点选择器，使用*表示匹配所有节点，因此，返回了第一个li及诶单的所有祖先节点，li>ul>div>body>html\n",
    "result = html.xpath('//li[1]/ancestor::*')\n",
    "print(result)\n",
    "#限定祖先节点仅div\n",
    "result = html.xpath('//li[1]/ancestor::div')\n",
    "print(result)\n",
    "#调用ancestor选择所有的属性值，使用*代表获取节点的所有属性，及li节点的所有属性值\n",
    "result = html.xpath('//li[1]/attribute::*')\n",
    "print(result)\n",
    "#调用child，获取所有直接的子节点，然后限定为href=\"link1.html\"的a节点\n",
    "result = html.xpath('//li[1]/child::a[@href=\"link1.html\"]')\n",
    "print(result)\n",
    "#调用descendant，获取所有子孙节点，并限定节点为span，因为没有span，所以未输出\n",
    "result = html.xpath('//li[1]/descendant::span')\n",
    "print(result)\n",
    "#调用following，直接获取当前节点后所有节点，通过*匹配，但是增加索引，故获取的为第二个后续节点\n",
    "result = html.xpath('//li[1]/following::*[2]')\n",
    "print(result)\n",
    "#调用following-sibling获取当前节点的所有同级节点，指定*匹配，即所有同级节点\n",
    "result = html.xpath('//li[1]/following-sibling::*')\n",
    "print(result)"
   ]
  },
  {
   "cell_type": "code",
   "execution_count": null,
   "metadata": {},
   "outputs": [],
   "source": []
  }
 ],
 "metadata": {
  "kernelspec": {
   "display_name": "Python 3",
   "language": "python",
   "name": "python3"
  },
  "language_info": {
   "codemirror_mode": {
    "name": "ipython",
    "version": 3
   },
   "file_extension": ".py",
   "mimetype": "text/x-python",
   "name": "python",
   "nbconvert_exporter": "python",
   "pygments_lexer": "ipython3",
   "version": "3.6.5"
  }
 },
 "nbformat": 4,
 "nbformat_minor": 2
}
