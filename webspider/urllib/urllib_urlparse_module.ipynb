{
 "cells": [
  {
   "cell_type": "markdown",
   "metadata": {},
   "source": [
    "### urlparse返回ParseResult类型结果--元组"
   ]
  },
  {
   "cell_type": "code",
   "execution_count": 12,
   "metadata": {},
   "outputs": [
    {
     "name": "stdout",
     "output_type": "stream",
     "text": [
      "<class 'urllib.parse.ParseResult'> ParseResult(scheme='http', netloc='www.baidu.com', path='/index.html', params='user', query='id=5', fragment='comment')\n",
      "<class 'urllib.parse.ParseResult'> http http\n"
     ]
    }
   ],
   "source": [
    "from urllib.parse import urlparse\n",
    "result = urlparse('http://www.baidu.com/index.html;user?id=5#comment')\n",
    "print(type(result),result)\n",
    "print(type(result),result[0],result.scheme)"
   ]
  },
  {
   "cell_type": "markdown",
   "metadata": {},
   "source": [
    "://前面的scheme代表协议；第一个/符号前面是netloc，代表域名，后面是path，代表访问路径，分号“;”后面是params，代表参数；问号“?”后面代表查询条件，一般用作GET类型的URL，井号“#”后面是锚点，用于定位页面内部位置。\n",
    "标准连接格式：\n",
    "scheme://netloc/path;params?query#fragment"
   ]
  },
  {
   "cell_type": "code",
   "execution_count": 3,
   "metadata": {},
   "outputs": [
    {
     "name": "stdout",
     "output_type": "stream",
     "text": [
      "<class 'urllib.parse.ParseResult'> ParseResult(scheme='https', netloc='', path='www.baidu.com/index.html', params='user', query='id=5#comment', fragment='')\n"
     ]
    }
   ],
   "source": [
    "from urllib.parse import urlparse\n",
    "result = urlparse('www.baidu.com/index.html;user?id=5#comment',scheme='https',allow_fragments=False)\n",
    "print(type(result),result)\n"
   ]
  },
  {
   "cell_type": "markdown",
   "metadata": {},
   "source": [
    "scheme可以作为默认参数添加,如果allow_fragments设置为False，则会被解析为path、parameters或query中一部分。"
   ]
  },
  {
   "cell_type": "markdown",
   "metadata": {},
   "source": [
    "### urlunparse反向解析可接受列表，元组或者特定结构数据"
   ]
  },
  {
   "cell_type": "code",
   "execution_count": 13,
   "metadata": {},
   "outputs": [
    {
     "name": "stdout",
     "output_type": "stream",
     "text": [
      "<class 'urllib.parse.ParseResult'> ParseResult(scheme='https', netloc='www.baidu.com', path='/index.html', params='user', query='id=5', fragment='comment')\n",
      "<class 'str'> https://www.baidu.com/index.html;user?id=5#comment\n",
      "<class 'str'> https://www.baidu.com/index.html;user?a=6#comment\n",
      "<class 'str'> https://www.baidu.com/index.html;user?a=7#comment\n"
     ]
    }
   ],
   "source": [
    "from urllib.parse import urlparse,urlunparse\n",
    "result = urlparse('https://www.baidu.com/index.html;user?id=5#comment')\n",
    "print(type(result),result)\n",
    "res = urlunparse(result)\n",
    "res2 = urlunparse(['https','www.baidu.com','index.html','user','a=6','comment'])\n",
    "res3 = urlunparse(('https','www.baidu.com','index.html','user','a=7','comment'))\n",
    "print(type(res),res)\n",
    "print(type(res2),res2)\n",
    "print(type(res3),res3)"
   ]
  },
  {
   "cell_type": "markdown",
   "metadata": {},
   "source": [
    "### urljoin()拼合链接"
   ]
  },
  {
   "cell_type": "code",
   "execution_count": null,
   "metadata": {},
   "outputs": [],
   "source": [
    "from urllib.parse import urljoin\n",
    "print(urljoin('http://www.baidu.com','FAQ.html'))\n",
    "print(urljoin('http://www.baidu.com','https://www.python.org/downloads/release/python-370/'))\n",
    "print(urljoin('https://docs.python.org/','3.8/whatsnew/3.8.html#new-features'))\n",
    "print(urljoin('https://docs.python.org/???','3.8/whatsnew/3.8.html#new-features'))"
   ]
  },
  {
   "cell_type": "markdown",
   "metadata": {},
   "source": [
    "urljoin()方法，提供的第一个base_url作为基础参数和第二个参数新的连接拼合，会自动对scheme、netloc、path这三个内容在新连接中补充，适合爬虫爬取的链接拼接。"
   ]
  },
  {
   "cell_type": "markdown",
   "metadata": {},
   "source": [
    "### 将中文编码转化为URL编码"
   ]
  },
  {
   "cell_type": "code",
   "execution_count": 1,
   "metadata": {
    "scrolled": true
   },
   "outputs": [
    {
     "name": "stdout",
     "output_type": "stream",
     "text": [
      "https://www.baidu.com/s?wd=%E5%A3%81%E7%BA%B8\n"
     ]
    }
   ],
   "source": [
    "from urllib.parse import quote\n",
    "keyword = '壁纸'\n",
    "url= 'https://www.baidu.com/s?wd='+quote(keyword)\n",
    "print(url)"
   ]
  },
  {
   "cell_type": "markdown",
   "metadata": {},
   "source": [
    "### 对URL进行解码"
   ]
  },
  {
   "cell_type": "code",
   "execution_count": 3,
   "metadata": {},
   "outputs": [
    {
     "name": "stdout",
     "output_type": "stream",
     "text": [
      "https://www.baidu.com/s?wd=壁纸\n"
     ]
    }
   ],
   "source": [
    "from urllib.parse import unquote\n",
    "url = 'https://www.baidu.com/s?wd=%E5%A3%81%E7%BA%B8'\n",
    "print(unquote(url))"
   ]
  },
  {
   "cell_type": "code",
   "execution_count": null,
   "metadata": {},
   "outputs": [],
   "source": []
  }
 ],
 "metadata": {
  "kernelspec": {
   "display_name": "Python 3",
   "language": "python",
   "name": "python3"
  },
  "language_info": {
   "codemirror_mode": {
    "name": "ipython",
    "version": 3
   },
   "file_extension": ".py",
   "mimetype": "text/x-python",
   "name": "python",
   "nbconvert_exporter": "python",
   "pygments_lexer": "ipython3",
   "version": "3.6.5"
  }
 },
 "nbformat": 4,
 "nbformat_minor": 2
}
