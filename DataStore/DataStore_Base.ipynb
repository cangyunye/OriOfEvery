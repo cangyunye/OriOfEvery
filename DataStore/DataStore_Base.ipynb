{
 "cells": [
  {
   "cell_type": "markdown",
   "metadata": {},
   "source": [
    "# 数据存储\n"
   ]
  },
  {
   "cell_type": "code",
   "execution_count": 3,
   "metadata": {},
   "outputs": [
    {
     "ename": "SyntaxError",
     "evalue": "unexpected EOF while parsing (<ipython-input-3-ab6f26c0bc0a>, line 19)",
     "output_type": "error",
     "traceback": [
      "\u001b[1;36m  File \u001b[1;32m\"<ipython-input-3-ab6f26c0bc0a>\"\u001b[1;36m, line \u001b[1;32m19\u001b[0m\n\u001b[1;33m    \u001b[0m\n\u001b[1;37m    ^\u001b[0m\n\u001b[1;31mSyntaxError\u001b[0m\u001b[1;31m:\u001b[0m unexpected EOF while parsing\n"
     ]
    }
   ],
   "source": [
    "import requests\n",
    "from pyquery import PyQuery as pq\n",
    "url = 'https://www.zhihu.com/explore'\n",
    "headers = {\n",
    "    'user-agent': 'Mozilla/5.0 (Windows NT 10.0; Win64; x64) AppleWebKit/537.36 (KHTML, like Gecko) Chrome/70.0.3538.67 Safari/537.36'\n",
    "}\n",
    "html = requests.get(url,headers=headers).text\n",
    "doc = pq(html)\n",
    "items = doc('.explore-tab .feed-item').items()\n",
    "for item in items:\n",
    "    question = item.find('h2').text()\n",
    "    author = item.find('.author-link-line').text()\n",
    "    answer = pq(item.find('.content').html()).text()\n",
    "#     file = open('explore.txt','a',encoding='utf-8')\n",
    "#     file.write('\\n'.join([question,author,answer])\n",
    "    print('\\n'.join([question,author,answer])\n",
    "# #     file.write('\\n' + '=' * 50 + '\\n')\n",
    "#     file.close()\n",
    "               "
   ]
  },
  {
   "cell_type": "code",
   "execution_count": null,
   "metadata": {},
   "outputs": [],
   "source": []
  }
 ],
 "metadata": {
  "kernelspec": {
   "display_name": "Python 3",
   "language": "python",
   "name": "python3"
  },
  "language_info": {
   "codemirror_mode": {
    "name": "ipython",
    "version": 3
   },
   "file_extension": ".py",
   "mimetype": "text/x-python",
   "name": "python",
   "nbconvert_exporter": "python",
   "pygments_lexer": "ipython3",
   "version": "3.6.5"
  }
 },
 "nbformat": 4,
 "nbformat_minor": 2
}
