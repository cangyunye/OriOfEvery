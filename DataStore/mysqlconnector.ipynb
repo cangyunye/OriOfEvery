{
 "cells": [
  {
   "cell_type": "code",
   "execution_count": 1,
   "metadata": {},
   "outputs": [
    {
     "name": "stdout",
     "output_type": "stream",
     "text": [
      "('bcy_detail_post',)\n",
      "('bcy_detail_user',)\n",
      "('bcy_img',)\n",
      "('proxies_pool',)\n"
     ]
    }
   ],
   "source": [
    "import mysql.connector\n",
    "mydb = mysql.connector.connect(\n",
    "    host=\"localhost\",  # 数据库主机地址\n",
    "    user=\"yunye\",  # 数据库用户名\n",
    "    passwd=\"804104937\",  # 数据库密码\n",
    "    database=\"yunye\")\n",
    "mycursor = mydb.cursor()\n",
    "\n",
    "mycursor.execute(\"SHOW tables\")\n",
    "\n",
    "for x in mycursor:\n",
    "    print(x)"
   ]
  },
  {
   "cell_type": "code",
   "execution_count": null,
   "metadata": {},
   "outputs": [],
   "source": [
    "mydb = mysql.connector.connect(\n",
    "    host=\"localhost\",  # 数据库主机地址\n",
    "    user=\"yunye\",  # 数据库用户名\n",
    "    passwd=\"804104937\",  # 数据库密码\n",
    "    database=\"yunye\")\n",
    "mycursor = mydb.cursor()\n",
    "\n",
    "item_id = json_struct['detail']['post_data']['item_id']\n",
    "uid = json_struct['detail']['post_data']['uid']\n",
    "plain = json_struct['detail']['post_data']['plain']\n",
    "multi_original_path = json.dumps(json_struct['detail']['post_data']['multi'])\n",
    "# json_str=[[op['mid'],op['original_path']] for op in multi]\n",
    "work = json_struct['detail']['post_data']['work']\n",
    "# wid=json_struct['detail']['post_data']['wid']\n",
    "try:\n",
    "    wid = json_struct['detail']['post_data']['wid']\n",
    "except KeyError as e:\n",
    "    wid = \"NULL\"\n",
    "\n",
    "like_count = json_struct['detail']['post_data']['like_count']\n",
    "reply_count = json_struct['detail']['post_data']['reply_count']\n",
    "share_count = json_struct['detail']['post_data']['share_count']\n",
    "sql = \"INSERT INTO bcy_detail_post(item_id, uid, plain, multi_original_path, work, wid) VALUES (%s,%s,%s,%s,%s,%s);\"\n",
    "val = [item_id, uid, plain, multi_original_path, work, wid]\n",
    "\n",
    "mycursor.execute(sql, val)"
   ]
  },
  {
   "cell_type": "code",
   "execution_count": null,
   "metadata": {},
   "outputs": [],
   "source": [
    "insert_bcy_detail_user = \"\"\"INSERT INTO bcy_detail_post(item_id, uid, plain, multi_original_path, work, wid) VALUES (%s,%s,%s,%s,%s,%s);\"\"\"\n",
    "bcy_detail_user.params = ()\n",
    "# sql = \"INSERT INTO sites (name, url) VALUES (%s, %s)\"\n",
    "# val = (\"RUNOOB\", \"https://www.runoob.com\")\n",
    "mycursor.execute(sql, val)\n",
    " \n",
    "mydb.commit()    # 数据表内容有更新，必须使用到该语句\n",
    " \n",
    "print(mycursor.rowcount, \"记录插入成功。\")"
   ]
  },
  {
   "cell_type": "code",
   "execution_count": null,
   "metadata": {},
   "outputs": [],
   "source": [
    "sql = \"INSERT INTO sites (name, url) VALUES (%s, %s)\"\n",
    "val = [\n",
    "  ('Google', 'https://www.google.com'),\n",
    "  ('Github', 'https://www.github.com'),\n",
    "  ('Taobao', 'https://www.taobao.com'),\n",
    "  ('stackoverflow', 'https://www.stackoverflow.com/')\n",
    "]\n",
    " \n",
    "mycursor.executemany(sql, val)\n",
    " \n",
    "mydb.commit()    # 数据表内容有更新，必须使用到该语句\n",
    " \n",
    "print(mycursor.rowcount, \"记录插入成功。\")"
   ]
  }
 ],
 "metadata": {
  "kernelspec": {
   "display_name": "Python 3",
   "language": "python",
   "name": "python3"
  },
  "language_info": {
   "codemirror_mode": {
    "name": "ipython",
    "version": 3
   },
   "file_extension": ".py",
   "mimetype": "text/x-python",
   "name": "python",
   "nbconvert_exporter": "python",
   "pygments_lexer": "ipython3",
   "version": "3.7.1"
  },
  "toc": {
   "base_numbering": 1,
   "nav_menu": {},
   "number_sections": true,
   "sideBar": true,
   "skip_h1_title": false,
   "title_cell": "Table of Contents",
   "title_sidebar": "Contents",
   "toc_cell": false,
   "toc_position": {},
   "toc_section_display": true,
   "toc_window_display": false
  },
  "varInspector": {
   "cols": {
    "lenName": 16,
    "lenType": 16,
    "lenVar": 40
   },
   "kernels_config": {
    "python": {
     "delete_cmd_postfix": "",
     "delete_cmd_prefix": "del ",
     "library": "var_list.py",
     "varRefreshCmd": "print(var_dic_list())"
    },
    "r": {
     "delete_cmd_postfix": ") ",
     "delete_cmd_prefix": "rm(",
     "library": "var_list.r",
     "varRefreshCmd": "cat(var_dic_list()) "
    }
   },
   "types_to_exclude": [
    "module",
    "function",
    "builtin_function_or_method",
    "instance",
    "_Feature"
   ],
   "window_display": false
  }
 },
 "nbformat": 4,
 "nbformat_minor": 2
}
