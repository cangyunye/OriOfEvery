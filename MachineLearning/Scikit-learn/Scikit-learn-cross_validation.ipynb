{
 "cells": [
  {
   "cell_type": "markdown",
   "metadata": {},
   "source": [
    "# 将数据均分成多份进行交叉验证"
   ]
  },
  {
   "cell_type": "code",
   "execution_count": 1,
   "metadata": {},
   "outputs": [
    {
     "name": "stdout",
     "output_type": "stream",
     "text": [
      "[0.96666667 1.         0.93333333 0.96666667 1.        ]\n",
      "0.9733333333333334\n"
     ]
    }
   ],
   "source": [
    "from sklearn.datasets import load_iris\n",
    "from sklearn.neighbors import KNeighborsClassifier\n",
    "from sklearn.model_selection import cross_val_score\n",
    "iris = load_iris()\n",
    "X = iris.data\n",
    "y = iris.target\n",
    "#根据数据点附近的5个值来得出y值,调整n_neighbors可以控制拟合度\n",
    "knn = KNeighborsClassifier(n_neighbors=5)\n",
    "#cv，将X,y测试级数据均分5等分进行打分相对于train_test_split模式使用\n",
    "scores = cross_val_score(knn,X,y,cv=5,scoring='accuracy')\n",
    "print(scores)\n",
    "print(scores.mean())"
   ]
  },
  {
   "cell_type": "markdown",
   "metadata": {},
   "source": [
    "# 寻找最佳n_neighbors值\n",
    "n_neighbors 是指定搜寻最近的样本数据的数量"
   ]
  },
  {
   "cell_type": "code",
   "execution_count": 2,
   "metadata": {
    "scrolled": true
   },
   "outputs": [
    {
     "data": {
      "text/plain": [
       "<Figure size 640x480 with 1 Axes>"
      ]
     },
     "metadata": {},
     "output_type": "display_data"
    }
   ],
   "source": [
    "import matplotlib.pyplot as plt\n",
    "k_range = range(1,31)\n",
    "k_scores = []\n",
    "for k in k_range:\n",
    "    knn = KNeighborsClassifier(n_neighbors=k)\n",
    "#     loss = -cross_val_score(knn,X,y,cv=10,scoring='neg_mean_squared_error') # for regression 查误差，越小越好，同时knn选择Regression系列\n",
    "    scores = cross_val_score(knn,X,y,cv=10,scoring='accuracy') # for calssification 查匹配度，越接近1越好\n",
    "    k_scores.append(scores.mean())\n",
    "plt.plot(k_range,k_scores)\n",
    "plt.xlabel('Value of K for KNN')\n",
    "plt.ylabel('Cross Validated Accuracy')\n",
    "plt.show()"
   ]
  },
  {
   "cell_type": "markdown",
   "metadata": {},
   "source": [
    "# Learning_curve学习曲线评估误差\n",
    "在训练集的10%，25%，50%，75%，100%处通过负平均方差对训练拟合度评估"
   ]
  },
  {
   "cell_type": "code",
   "execution_count": null,
   "metadata": {},
   "outputs": [],
   "source": [
    "from sklearn.model_selection import learning_curve\n",
    "from sklearn.datasets import load_digits\n",
    "from sklearn.svm import SVC\n",
    "import matplotlib.pyplot as plt \n",
    "import numpy as np\n",
    "digits = load_digits()\n",
    "X = digits.data\n",
    "y = digits.target\n",
    "#进行cv10次均分数据的交叉验证，在训练集的10%，25%，50%，75%，100%处通过负平均方差打分\n",
    "train_sizes,train_loss,test_loss=learning_curve(SVC(gamma=0.001),X,y,cv=10,scoring='neg_mean_squared_error',train_sizes=[0.1,0.25,0.5,0.75,1])\n",
    "train_loss_mean = -np.mean(train_loss,axis=1)\n",
    "test_loss_mean = -np.mean(test_loss,axis=1)\n",
    "plt.plot(train_sizes,train_loss_mean,'o-',color=\"r\",label=\"Training\")\n",
    "plt.plot(train_sizes,test_loss_mean,'o-',color=\"g\",label=\"Cross-validation\")\n",
    "plt.xlabel(\"Training examples\")\n",
    "plt.ylabel(\"Loss\")\n",
    "plt.legend(loc=\"best\")\n",
    "plt.show()"
   ]
  },
  {
   "cell_type": "markdown",
   "metadata": {},
   "source": [
    "# Validation_curve验证曲线验证模型中的参数取值\n",
    "SVC中的gamma参数取值为param_range时，求取负最低均方差"
   ]
  },
  {
   "cell_type": "code",
   "execution_count": null,
   "metadata": {},
   "outputs": [],
   "source": [
    "from sklearn.model_selection import validation_curve\n",
    "from sklearn.datasets import load_digits\n",
    "from sklearn.svm import SVC\n",
    "import matplotlib.pyplot as plt \n",
    "import numpy as np\n",
    "digits = load_digits()\n",
    "X = digits.data\n",
    "y = digits.target\n",
    "param_range = np.logspace(-6,-2.3,5)\n",
    "#进行cv10次均分数据的交叉验证，SVC中的gamma参数取值为param_range时，求取负最低均方差\n",
    "train_loss,test_loss=validation_curve(SVC(),X,y,param_name='gamma',param_range=param_range,cv=10,scoring='neg_mean_squared_error')\n",
    "train_loss_mean = -np.mean(train_loss,axis=1)\n",
    "test_loss_mean = -np.mean(test_loss,axis=1)\n",
    "plt.plot(param_range,train_loss_mean,'o-',color=\"r\",label=\"Training\")\n",
    "plt.plot(param_range,test_loss_mean,'o-',color=\"g\",label=\"Cross-validation\")\n",
    "plt.xlabel(\"gamma\")\n",
    "plt.ylabel(\"Loss\")\n",
    "plt.legend(loc=\"best\")\n",
    "plt.show() "
   ]
  }
 ],
 "metadata": {
  "kernelspec": {
   "display_name": "Python 3",
   "language": "python",
   "name": "python3"
  },
  "language_info": {
   "codemirror_mode": {
    "name": "ipython",
    "version": 3
   },
   "file_extension": ".py",
   "mimetype": "text/x-python",
   "name": "python",
   "nbconvert_exporter": "python",
   "pygments_lexer": "ipython3",
   "version": "3.6.5"
  }
 },
 "nbformat": 4,
 "nbformat_minor": 2
}
