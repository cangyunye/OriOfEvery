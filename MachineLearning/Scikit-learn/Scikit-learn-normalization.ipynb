{
 "cells": [
  {
   "cell_type": "markdown",
   "metadata": {},
   "source": [
    "# 数据正常化"
   ]
  },
  {
   "cell_type": "code",
   "execution_count": 1,
   "metadata": {},
   "outputs": [
    {
     "data": {
      "text/plain": [
       "<Figure size 640x480 with 1 Axes>"
      ]
     },
     "metadata": {},
     "output_type": "display_data"
    },
    {
     "name": "stdout",
     "output_type": "stream",
     "text": [
      "[0 1 1 1 1 1 0 1 1 0 1 1 1 0 1 0 0 0 0 0 0 1 0 0 0 0 1 0 1 0 0 0 1 1 0 0 1\n",
      " 1 0 1 0 0 1 1 1 0 1 0 0 0 1 1 1 1 0 0 1 0 0 1 1 1 0 0 0 0 1 0 1 0 0 0 0 1\n",
      " 0 0 1 0 1 0 1 1 0 1 0 0 1 0 0 0]\n",
      "0.4888888888888889\n"
     ]
    }
   ],
   "source": [
    "from sklearn import preprocessing\n",
    "import numpy as numpy\n",
    "from sklearn.model_selection import train_test_split\n",
    "#生成分类数据\n",
    "from sklearn.datasets.samples_generator import make_classification\n",
    "from sklearn.svm import SVC\n",
    "import matplotlib.pyplot as plt\n",
    "\n",
    "# a = np.array([[10,2.7,3.6],\n",
    "# [-100,5,-2],\n",
    "# [120,20,40]],dtype=np.float64)\n",
    "# print(a)\n",
    "# print(preprocessing.scale(a))\n",
    "#构造分类数据，300个样本，2个特征，2个相关属性(informative)，随机产生22个状态（random_state)，\n",
    "X,y = make_classification(n_samples=300,n_features=2,n_redundant=0,n_informative=2,random_state=22,n_clusters_per_class=1,scale=100 )\n",
    "#绘制散点图\n",
    "plt.scatter(X[:,0],X[:,1],c=y)\n",
    "plt.show()\n",
    "X_train,X_test,y_train,y_test=train_test_split(X,y,test_size=0.3)\n",
    "#采用C-Support Vector Classification模型\n",
    "clf = SVC()\n",
    "#拟合训练\n",
    "clf.fit(X_train,y_train)\n",
    "#用test数据预估\n",
    "clf.predict(X_test)\n",
    "print(y_test)\n",
    "print(clf.score(X_test,y_test))\n",
    "\n"
   ]
  },
  {
   "cell_type": "markdown",
   "metadata": {},
   "source": [
    "# preprocessing.scale进行缩放比例"
   ]
  },
  {
   "cell_type": "code",
   "execution_count": 2,
   "metadata": {},
   "outputs": [
    {
     "name": "stdout",
     "output_type": "stream",
     "text": [
      "[0 1 1 0 0 1 0 1 0 0 0 1 0 0 1 0 0 1 0 0 1 0 0 0 1 1 1 0 1 1 0 0 1 0 0 1 1\n",
      " 1 0 1 0 0 1 1 1 1 0 0 0 1 0 0 0 1 1 1 0 0 0 1 1 1 0 1 1 0 1 1 0 1 1 0 1 0\n",
      " 1 0 1 1 1 1 0 1 0 0 0 0 1 1 0 1]\n",
      "0.9777777777777777\n"
     ]
    }
   ],
   "source": [
    "#区间缩放，比例尺缩小\n",
    "X = preprocessing.scale(X)\n",
    "X_train,X_test,y_train,y_test=train_test_split(X,y,test_size=0.3)\n",
    "#采用C-Support Vector Classification模型\n",
    "clf = SVC()\n",
    "#拟合训练\n",
    "clf.fit(X_train,y_train)\n",
    "#用test数据预估\n",
    "clf.predict(X_test)\n",
    "print(y_test)\n",
    "print(clf.score(X_test,y_test))"
   ]
  },
  {
   "cell_type": "code",
   "execution_count": 4,
   "metadata": {},
   "outputs": [],
   "source": []
  },
  {
   "cell_type": "code",
   "execution_count": null,
   "metadata": {},
   "outputs": [],
   "source": []
  }
 ],
 "metadata": {
  "kernelspec": {
   "display_name": "Python 3",
   "language": "python",
   "name": "python3"
  },
  "language_info": {
   "codemirror_mode": {
    "name": "ipython",
    "version": 3
   },
   "file_extension": ".py",
   "mimetype": "text/x-python",
   "name": "python",
   "nbconvert_exporter": "python",
   "pygments_lexer": "ipython3",
   "version": "3.6.5"
  }
 },
 "nbformat": 4,
 "nbformat_minor": 2
}
