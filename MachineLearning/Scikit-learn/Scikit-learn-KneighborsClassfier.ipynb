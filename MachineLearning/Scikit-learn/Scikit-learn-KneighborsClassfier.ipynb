{
 "cells": [
  {
   "cell_type": "markdown",
   "metadata": {},
   "source": [
    "# 鸢尾花类型识别 近邻分类"
   ]
  },
  {
   "cell_type": "code",
   "execution_count": null,
   "metadata": {},
   "outputs": [],
   "source": [
    "#Iris鸢尾花数据\n",
    "import numpy as np\n",
    "from sklearn import datasets\n",
    "from sklearn.model_selection import train_test_split\n",
    "from sklearn.neighbors import KNeighborsClassifier\n",
    "iris = datasets.load_iris()\n",
    "#iris特征\n",
    "iris_X = iris.data\n",
    "print(iris_X[:2,:])\n",
    "#iris的类型\n",
    "iris_y = iris.target\n",
    "print(iris_y)\n",
    "#测试比例占用0.3，即x_test和y_test为30%的总数据,x_train,y_train占70%数据\n",
    "#那这是为什么要分开嘞，因为这个分开就是就是拿一组数据集合里分给你什么是测试的部分什么是当做（训练）实际的部分\n",
    "#然后用实际的部分训练完成后的预期函数再读取测试部分，预估要一致\n",
    "X_train,X_test,y_train,y_test = train_test_split(iris_X,iris_y,test_size=0.3)\n",
    "print(y_train)\n",
    "#定义选择的模块为最近邻http://sklearn.apachecn.org/cn/0.19.0/modules/neighbors.html\n",
    "knn = KNeighborsClassifier()\n",
    "#放入拟合用训练数据\n",
    "knn.fit(X_train,y_train)\n",
    "#用测试数据去预测\n",
    "print(knn.predict(X_test))\n",
    "print(y_test)"
   ]
  }
 ],
 "metadata": {
  "kernelspec": {
   "display_name": "Python 3",
   "language": "python",
   "name": "python3"
  },
  "language_info": {
   "codemirror_mode": {
    "name": "ipython",
    "version": 3
   },
   "file_extension": ".py",
   "mimetype": "text/x-python",
   "name": "python",
   "nbconvert_exporter": "python",
   "pygments_lexer": "ipython3",
   "version": "3.6.5"
  }
 },
 "nbformat": 4,
 "nbformat_minor": 2
}
