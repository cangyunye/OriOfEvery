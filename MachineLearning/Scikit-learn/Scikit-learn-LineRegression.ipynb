{
 "cells": [
  {
   "cell_type": "markdown",
   "metadata": {},
   "source": [
    "# 线性回归LinearRegression 波士顿房价"
   ]
  },
  {
   "cell_type": "code",
   "execution_count": 9,
   "metadata": {},
   "outputs": [
    {
     "name": "stdout",
     "output_type": "stream",
     "text": [
      "[30.00821269 25.0298606  30.5702317  28.60814055]\n",
      "[24.  21.6 34.7 33.4]\n",
      "coefficient： [-1.07170557e-01  4.63952195e-02  2.08602395e-02  2.68856140e+00\n",
      " -1.77957587e+01  3.80475246e+00  7.51061703e-04 -1.47575880e+00\n",
      "  3.05655038e-01 -1.23293463e-02 -9.53463555e-01  9.39251272e-03\n",
      " -5.25466633e-01]\n",
      "interception： 36.4911032803614\n",
      "{'copy_X': True, 'fit_intercept': True, 'n_jobs': 1, 'normalize': False}\n",
      "0.7406077428649428\n"
     ]
    }
   ],
   "source": [
    "from sklearn import datasets\n",
    "from sklearn.linear_model import LinearRegression\n",
    "loaded_data = datasets.load_boston()\n",
    "#特征数据\n",
    "data_X = loaded_data.data\n",
    "#返回属性\n",
    "data_y = loaded_data.target\n",
    "#线性回归模型\n",
    "model = LinearRegression()\n",
    "#拟合函数训练\n",
    "model.fit(data_X,data_y)\n",
    "#将采样数据data_X输入，predict返回属性\n",
    "print(model.predict(data_X[:4,:]))\n",
    "#打印实际数据，结果发现区别挺大的，所以，建议使用train_test_split将data分为test和train两部分随机再试一把\n",
    "print(data_y[:4])\n",
    "#打印因子系数\n",
    "print(\"coefficient：\",model.coef_)\n",
    "print(\"interception：\",model.intercept_)\n",
    "#返回定义LinearRegression时的给定参数\n",
    "print(model.get_params())\n",
    "#将预测结果对比打分,获得准确度\n",
    "print(model.score(data_X,data_y))"
   ]
  },
  {
   "cell_type": "markdown",
   "metadata": {},
   "source": [
    "# 构造线性回归数据 make_regression"
   ]
  },
  {
   "cell_type": "code",
   "execution_count": 5,
   "metadata": {},
   "outputs": [
    {
     "data": {
      "image/png": "[encoded data removed]",
      "text/plain": [
       "<Figure size 432x288 with 1 Axes>"
      ]
     },
     "metadata": {},
     "output_type": "display_data"
    }
   ],
   "source": [
    "from sklearn import datasets\n",
    "from sklearn.linear_model import LinearRegression\n",
    "import matplotlib.pyplot as plt\n",
    "#构造一组线性回归数据，100个采样，1个特征，1个返回属性，离散值为10\n",
    "X,y = datasets.make_regression(n_samples=100,n_features=1,n_targets=1,noise=10)\n",
    "#散点图\n",
    "plt.scatter(X,y)\n",
    "#打开图形显示器\n",
    "plt.show()"
   ]
  },
  {
   "cell_type": "markdown",
   "metadata": {},
   "source": []
  },
  {
   "cell_type": "code",
   "execution_count": null,
   "metadata": {},
   "outputs": [],
   "source": []
  }
 ],
 "metadata": {
  "kernelspec": {
   "display_name": "Python 3",
   "language": "python",
   "name": "python3"
  },
  "language_info": {
   "codemirror_mode": {
    "name": "ipython",
    "version": 3
   },
   "file_extension": ".py",
   "mimetype": "text/x-python",
   "name": "python",
   "nbconvert_exporter": "python",
   "pygments_lexer": "ipython3",
   "version": "3.6.5"
  }
 },
 "nbformat": 4,
 "nbformat_minor": 2
}
