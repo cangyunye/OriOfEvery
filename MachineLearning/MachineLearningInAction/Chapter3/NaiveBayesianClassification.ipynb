{
 "cells": [
  {
   "cell_type": "markdown",
   "metadata": {},
   "source": [
    "# 朴素贝叶斯\n",
    "优点：数据较少的情况下仍然有效\n",
    "缺点：对于输入数据的准备方式较为敏感\n",
    "## 一般过程：\n",
    "1. 收集数据\n",
    "2. 准备数据：数值型或布尔型\n",
    "3. 分析数据\n",
    "4. 训练算法：计算不同的独立特征的条件概率\n",
    "5. 计算错误率\n"
   ]
  },
  {
   "cell_type": "code",
   "execution_count": 1,
   "metadata": {},
   "outputs": [],
   "source": [
    "def loadDataSet(): #词表转换成向量\n",
    "    postingList = [['my','dog','has','flea','problems','help','please'],\n",
    "                  ['maybe','not','take','him','to','dog','park','stupid'],\n",
    "                  ['my','dalmation','is','so','cute','I','love','him'],\n",
    "                  ['stop','posting','stupid','worthless','garbage'],\n",
    "                  ['mr','licks','ate','my','steak','how','to','stop','him'],\n",
    "                  ['quit','buying','worthless','dog','food','stupid']]\n",
    "    classVec = [0,1,0,1,0,1] #1表示侮辱性文字，0代表正常言论\n",
    "    return postingList,classVec"
   ]
  },
  {
   "cell_type": "code",
   "execution_count": 18,
   "metadata": {},
   "outputs": [],
   "source": [
    "def createVocabList(dataSet):#取出数据集所有单独标签\n",
    "    vocabSet = set([])\n",
    "    for document in dataSet:\n",
    "        vocabSet = vocabSet | set(document) #“|”求集合的并集\n",
    "    return list(vocabSet)"
   ]
  },
  {
   "cell_type": "code",
   "execution_count": 19,
   "metadata": {},
   "outputs": [],
   "source": [
    "def setOfWordsVec(vocabList,inputSet):\n",
    "    returnVec = [0]*len(vocabList) #数据等长0向量列表\n",
    "    for word in inputSet: #遍历inputSet，统计vocabList词汇表中出现的次数\n",
    "        if word in vocabList:\n",
    "            returnVec[vocabList.index(word)] = 1\n",
    "        else:\n",
    "            print(\"the word: %s is not in my Vocabulary\" % word)\n",
    "    return returnVec"
   ]
  },
  {
   "cell_type": "code",
   "execution_count": 20,
   "metadata": {},
   "outputs": [
    {
     "data": {
      "text/plain": [
       "['worthless',\n",
       " 'stupid',\n",
       " 'ate',\n",
       " 'how',\n",
       " 'garbage',\n",
       " 'him',\n",
       " 'park',\n",
       " 'please',\n",
       " 'take',\n",
       " 'flea',\n",
       " 'love',\n",
       " 'dalmation',\n",
       " 'buying',\n",
       " 'food',\n",
       " 'posting',\n",
       " 'dog',\n",
       " 'to',\n",
       " 'help',\n",
       " 'not',\n",
       " 'is',\n",
       " 'stop',\n",
       " 'licks',\n",
       " 'maybe',\n",
       " 'my',\n",
       " 'so',\n",
       " 'I',\n",
       " 'has',\n",
       " 'quit',\n",
       " 'problems',\n",
       " 'cute',\n",
       " 'mr',\n",
       " 'steak']"
      ]
     },
     "execution_count": 20,
     "metadata": {},
     "output_type": "execute_result"
    }
   ],
   "source": [
    "listOPosts,listClasses = loadDataSet()\n",
    "myVocabList = createVocabList(listOPosts)\n",
    "myVocabList"
   ]
  },
  {
   "cell_type": "code",
   "execution_count": null,
   "metadata": {},
   "outputs": [],
   "source": []
  }
 ],
 "metadata": {
  "kernelspec": {
   "display_name": "Python 3",
   "language": "python",
   "name": "python3"
  },
  "language_info": {
   "codemirror_mode": {
    "name": "ipython",
    "version": 3
   },
   "file_extension": ".py",
   "mimetype": "text/x-python",
   "name": "python",
   "nbconvert_exporter": "python",
   "pygments_lexer": "ipython3",
   "version": "3.7.1"
  }
 },
 "nbformat": 4,
 "nbformat_minor": 2
}
