{
 "cells": [
  {
   "cell_type": "markdown",
   "metadata": {},
   "source": [
    "# 信息的定量描述\n",
    "直观理解： \n",
    "若消息发生的概率很大，受信者事先已经有所估计，则该消息的信息量就很小。 \n",
    "若消息发生的概率很小，受信者感觉到很突然，该消息所含有的信息量就很大。 \n",
    "所以信息量和概率联系在了一起，信息量可以表示为概率的函数。那么怎样的函数可以用来描述信息量呢？函数f(p)f(p)应该满足以下条件： \n",
    "1. f(p)应该是概率p的严格单调递减函数， \n",
    "2. 当p=1时，f(p)=0 \n",
    "3. 当p=0时，f(p)=∞\n",
    "4. 两个独立事件的联合信息量应该等于它们信息量之和。 \n",
    "以下是f(p)=−log(p)f(p)=−log(p)的图像，满足以上的所有的要求。\n",
    "\n",
    "# ID3算法熵计算公式\n",
    "\n",
    "1. 选择分类\\\\(x_i\\\\)的概率\n",
    "\n",
    "2. 信息期望值\n",
    "\n",
    "自信息和熵的定义\n",
    "若一个消息xx出现的概率为p，那么这个消息所含有的信息量为 \n",
    "$$I=−log(p)$$\n",
    "\n",
    "上式称为消息x的自信息，自信息有两种含义： \n",
    "1. 当该消息发生之前，表示发生该消息的不确定性， \n",
    "2. 当该消息发生之后，表示消息所含有的信息量。 \n",
    "信源含有的信息量是信源发出的所有可能消息的平均不确定性，香农把信源所含有的信息量称为熵，是指每个符号所含有的信息量（自信息）的统计平均。若X是一个离散随机变量，概率分布为\\\\(p(x)=P(X=x)\\\\),\\\\(x∈X\\\\)，那么XX的熵为 \n",
    "$$H(X)=\\sum_{i}^{N}p(xi)I(xi)=−\\sum_{i}^{N}p(xi)logp(xi)$$\n",
    "\n",
    "\n",
    "$$H(X)=-\\sum_{i=1}^{n}p(x_i)log_2p(x_i)$$\n",
    "\n",
    "\n",
    "# 设计决策树\n",
    "| 依水 | 鳍否 | 鱼否 |\n",
    "| ---- | ---- | ---- |\n",
    "| yes  | yes  | yes  |\n",
    "| yes  | yes  | yes  |\n",
    "| yes  | no  | no   |\n",
    "| no  | yes  | no   |\n",
    "| no  | no  | no   |\n",
    "\n",
    "1. 从目的导向，先看最终决策项的信息熵 \\\\(H(X)\\\\)  --求先验熵，即求**鱼否**的信息熵。\n",
    "$$H(鱼)=-\\frac{2}{5}log_2\\frac{2}{5}$$\n",
    "$$H(非鱼)=-\\frac{3}{5}log_2\\frac{3}{5}$$\n",
    "$$H(鱼判别)=H(鱼)+H(非鱼)$$\n",
    "\n",
    "2. 已处于某条件类下的各项，--计算后验熵，即求条件中每项成立的各个熵\n",
    "$$H(鱼否|鳍)=-\\frac{2}{3}log_2\\frac{2}{3}-\\frac{1}{3}log_2\\frac{1}{3}$$\n",
    "$$H(鱼否|无鳍)=-\\frac{0}{2}log_2\\frac{0}{2}-\\frac{2}{2}log_2\\frac{2}{2}$$\n",
    "$$H(鱼否|依水)=-\\frac{2}{3}log_2\\frac{2}{3}-\\frac{1}{3}log_2\\frac{1}{3}$$\n",
    "$$H(鱼否|非水)=-\\frac{0}{2}log_2\\frac{0}{2}-\\frac{2}{2}log_2\\frac{2}{2}$$\n",
    "\n",
    "3. 对给定\\\\(Y\\\\)成立的条件下，\\\\(X\\\\)集合求和后验熵即条件熵\\\\(H(X)\\\\)，即求 \\\\(H(鱼否|决策项)\\\\)，即条件熵=\\\\(p_i\\\\)*先验熵\n",
    "$$H(鱼否|鳍否)=H(鱼否|鳍)+H(鱼否|无鳍)$$\n",
    "$$H(鱼否|依水否)=H(鱼否|依水)+H(鱼否|非水)$$\n",
    "\n",
    "4. 信息增益，对**每组判别项与是否结果**的关系\n",
    "$$I(鱼否：鳍否)=H(鱼否)-H(鱼否|鳍否)$$\n",
    "$$I(鱼否：依水否)=H(鱼否)-H(鱼否|依水否)$$\n",
    "\n",
    "先计算先验熵，再计算后验熵，最后计算条件熵\n",
    "\n",
    "\n",
    "按不确定性最小，信息量最大排在树根\n",
    "即，信息增益\\\\(I\\\\)最大的作为树根\n"
   ]
  },
  {
   "cell_type": "code",
   "execution_count": 18,
   "metadata": {},
   "outputs": [],
   "source": [
    "from math import log\n",
    "def calcShannonEnt(dataSet): #这个数据集计算香农熵格式要求最后一列数据为判别标签作为H(Label)\n",
    "  numEntries = len(dataSet) #数据集长度\n",
    "  labelCounts = {}\n",
    "  for featVec in dataSet: #对数据集内所有判别式初始化为0\n",
    "    currentLabel = featVec[-1] #区每组数据尾部作为最终判别标签\n",
    "    if currentLabel not in labelCounts.keys():\n",
    "      labelCounts[currentLabel] = 0\n",
    "    labelCounts[currentLabel] += 1\n",
    "  shannonEnt = 0.0 #香农熵\n",
    "  for key in labelCounts:#每个类标签出现概率之和，先验熵\n",
    "    prob = float(labelCounts[key])/numEntries  #计算每个类标签的出现概率\n",
    "    shannonEnt -= prob * log(prob,2) #后验熵 += 后验熵\n",
    "  return shannonEnt #先验熵"
   ]
  },
  {
   "cell_type": "code",
   "execution_count": 19,
   "metadata": {},
   "outputs": [],
   "source": [
    "def createDataSet():\n",
    "  dataSet = [\n",
    "    [1,1,'yes'],\n",
    "    [1,1,'yes'],\n",
    "    [1,0,'no'],\n",
    "    [0,1,'no'],\n",
    "    [0,1,'no']\n",
    "  ]\n",
    "  labels = ['no surfacing','flippers']\n",
    "  return dataSet,labels"
   ]
  },
  {
   "cell_type": "markdown",
   "metadata": {},
   "source": [
    "# 按照给定特征划分数据集"
   ]
  },
  {
   "cell_type": "code",
   "execution_count": 20,
   "metadata": {},
   "outputs": [],
   "source": [
    "def splitDataSet(dataSet,index,value):#其实这个东西就是用作统计概率用的分数项\n",
    "    retDataSet = []\n",
    "    for featVec in dataSet: \n",
    "    # index列为value的数据集【该数据集需要排除index列】\n",
    "    # 判断index列的值是否为value\n",
    "        if featVec[index] == value:\n",
    "        # chop out index used for splitting\n",
    "        # [:index]表示前index行，即若 index 为2，就是取 featVec 的前 index 行\n",
    "            reducedFeatVec = featVec[:index]\n",
    "            reducedFeatVec.extend(featVec[index+1:])\n",
    "        # [index+1:]表示从跳过 index 的 index+1行，取接下来的数据\n",
    "        # 收集结果值 index列为value的行【该行需要排除index列】\n",
    "            retDataSet.append(reducedFeatVec)\n",
    "    return retDataSet\n"
   ]
  },
  {
   "cell_type": "code",
   "execution_count": 21,
   "metadata": {},
   "outputs": [
    {
     "name": "stdout",
     "output_type": "stream",
     "text": [
      "[[1, 1, 'yes'], [1, 1, 'yes'], [1, 0, 'no'], [0, 1, 'no'], [0, 1, 'no']]\n",
      "0.9709505944546686\n",
      "[[1, 'yes'], [1, 'yes'], [0, 'no']] \n",
      " [[1, 'no'], [1, 'no']]\n",
      "[[1, 'yes'], [1, 'yes'], [0, 'no'], [0, 'no']] \n",
      " [[1, 'no']]\n"
     ]
    }
   ],
   "source": [
    "myDat,labels = createDataSet()\n",
    "print(myDat)\n",
    "sn = calcShannonEnt(myDat)\n",
    "print(sn)\n",
    "x1 = splitDataSet(myDat,0,1)\n",
    "x2 = splitDataSet(myDat,0,0)\n",
    "x3 = splitDataSet(myDat,1,1)\n",
    "x4 = splitDataSet(myDat,1,0)\n",
    "print(x1,'\\n',x2)\n",
    "print(x3,'\\n',x4)"
   ]
  },
  {
   "cell_type": "markdown",
   "metadata": {},
   "source": [
    "# 选择最好的数据集划分方式"
   ]
  },
  {
   "cell_type": "code",
   "execution_count": 22,
   "metadata": {},
   "outputs": [],
   "source": [
    "def chooseBestFeatureToSplit(dataSet): #要求最后一列为数据为判别标签作为H(Label)\n",
    "    numFeatures = len(dataSet[0]) - 1\n",
    "    baseEntropy = calcShannonEnt(dataSet) #即得到H(结果)\n",
    "    bestInfoGain, bestFeature = 0.0,-1\n",
    "    for i in range(numFeatures):\n",
    "        featList = [example[i] for example in dataSet] #判别项 列表值\n",
    "        uniqueVals = set(featList) #取判别项唯一值\n",
    "        newEntropy = 0.0\n",
    "        for value in uniqueVals :#求信息增益\n",
    "            subDataSet = splitDataSet(dataSet,i,value) #对每一列判别项，取每一组值分类\n",
    "            prob = len(subDataSet)/float(len(dataSet)) #求每一组值发生概率\n",
    "            newEntropy += prob * calcShannonEnt(subDataSet) #条件熵 +=条件熵\n",
    "        infoGain = baseEntropy - newEntropy\n",
    "        print('infoGain=',infoGain,'bestFeature=',i,baseEntropy,newEntropy)\n",
    "        if (infoGain > bestInfoGain): #求信息增益最大项\n",
    "            bestInfoGain = infoGain\n",
    "            bestFeature = i\n",
    "    return bestFeature"
   ]
  },
  {
   "cell_type": "code",
   "execution_count": 23,
   "metadata": {},
   "outputs": [],
   "source": [
    "def majorityCnt(classList): #返回类中最多项的次数\n",
    "    classCount = {}\n",
    "    for vote in classList:\n",
    "        if vote not in classCount.keys():\n",
    "            classCount[vote] = 0\n",
    "            classCount[vote] += 1\n",
    "    sortedClassCount = sorted(classCount.iteritems(),key=operator.itemgetter(1),reverse=True)\n",
    "    return sortedClassCount[0][0]"
   ]
  },
  {
   "cell_type": "markdown",
   "metadata": {},
   "source": [
    "# 创建树"
   ]
  },
  {
   "cell_type": "code",
   "execution_count": 24,
   "metadata": {},
   "outputs": [],
   "source": [
    "def createTree(dataSet,labels):\n",
    "    classList = [example[-1] for example in dataSet]\n",
    "    if classList.count(classList[0]) == len(classList):\n",
    "        return classList[0]\n",
    "    if len(dataSet[0]) == 1:\n",
    "        return majorityCnt(classList)\n",
    "    bestFeat = chooseBestFeatureToSplit(dataSet)\n",
    "    bestFeatLabel = labels[bestFeat]\n",
    "    myTree = {bestFeatLabel:{}}\n",
    "    del(labels[bestFeat]) #用后销毁\n",
    "    featValues = [example[bestFeat] for example in dataSet]\n",
    "    uniqueVals = set(featValues)\n",
    "    for value in uniqueVals: #每次树干的每个支\n",
    "        subLabels = labels[:]\n",
    "        myTree[bestFeatLabel][value] = createTree(splitDataSet(dataSet,bestFeat,value),subLabels)#每个支即每个新树干，新树干数据集取自最佳类\n",
    "    return myTree\n",
    "    "
   ]
  },
  {
   "cell_type": "code",
   "execution_count": 25,
   "metadata": {},
   "outputs": [
    {
     "name": "stdout",
     "output_type": "stream",
     "text": [
      "infoGain= 0.4199730940219749 bestFeature= 0 0.9709505944546686 0.5509775004326937\n",
      "infoGain= 0.17095059445466854 bestFeature= 1 0.9709505944546686 0.8\n",
      "infoGain= 0.9182958340544896 bestFeature= 0 0.9182958340544896 0.0\n"
     ]
    }
   ],
   "source": [
    "myTree = createTree(myDat,labels)"
   ]
  },
  {
   "cell_type": "markdown",
   "metadata": {},
   "source": [
    "# Matplot作图"
   ]
  },
  {
   "cell_type": "code",
   "execution_count": 26,
   "metadata": {},
   "outputs": [],
   "source": [
    "#!/usr/bin/python\n",
    "# -*- coding: UTF-8 -*-\n",
    "\n",
    "'''\n",
    "Created on Oct 14, 2010\n",
    "Update on 2017-02-27\n",
    "Decision Tree Source Code for Machine Learning in Action Ch. 3\n",
    "Author: Peter Harrington/jiangzhonglian\n",
    "'''\n",
    "import matplotlib.pyplot as plt\n",
    "\n",
    "# 定义文本框 和 箭头格式 【 sawtooth 波浪方框, round4 矩形方框 , fc表示字体颜色的深浅 0.1~0.9 依次变浅，没错是变浅】\n",
    "decisionNode = dict(boxstyle=\"sawtooth\", fc=\"0.8\")\n",
    "leafNode = dict(boxstyle=\"round4\", fc=\"0.8\")\n",
    "arrow_args = dict(arrowstyle=\"<-\")\n",
    "\n",
    "\n",
    "def getNumLeafs(myTree):\n",
    "    numLeafs = 0\n",
    "    firstStr = list(myTree.keys())[0]\n",
    "    secondDict = myTree[firstStr]\n",
    "    # 根节点开始遍历\n",
    "    for key in secondDict.keys():\n",
    "        # 判断子节点是否为dict, 不是+1\n",
    "        if type(secondDict[key]) is dict:\n",
    "            numLeafs += getNumLeafs(secondDict[key])\n",
    "        else:\n",
    "            numLeafs += 1\n",
    "    return numLeafs\n",
    "\n",
    "\n",
    "def getTreeDepth(myTree):\n",
    "    maxDepth = 0\n",
    "    firstStr = list(myTree.keys())[0]\n",
    "    secondDict = myTree[firstStr]\n",
    "    # 根节点开始遍历\n",
    "    for key in secondDict.keys():\n",
    "        # 判断子节点是不是dict, 求分枝的深度\n",
    "        # ----------写法1 start ---------------\n",
    "        if type(secondDict[key]) is dict:\n",
    "            thisDepth = 1 + getTreeDepth(secondDict[key])\n",
    "        else:\n",
    "            thisDepth = 1\n",
    "        # ----------写法1 end ---------------\n",
    "\n",
    "        # ----------写法2 start --------------\n",
    "        # thisDepth = 1 + getTreeDepth(secondDict[key]) if type(secondDict[key]) is dict else 1\n",
    "        # ----------写法2 end --------------\n",
    "        # 记录最大的分支深度\n",
    "        maxDepth = max(maxDepth, thisDepth)\n",
    "    return maxDepth\n",
    "\n",
    "\n",
    "def plotNode(nodeTxt, centerPt, parentPt, nodeType):\n",
    "    createPlot.ax1.annotate(nodeTxt, xy=parentPt,  xycoords='axes fraction', xytext=centerPt, textcoords='axes fraction', va=\"center\", ha=\"center\", bbox=nodeType, arrowprops=arrow_args)\n",
    "\n",
    "\n",
    "def plotMidText(cntrPt, parentPt, txtString):\n",
    "    xMid = (parentPt[0] - cntrPt[0]) / 2 + cntrPt[0]\n",
    "    yMid = (parentPt[1] - cntrPt[1]) / 2 + cntrPt[1]\n",
    "    createPlot.ax1.text(xMid, yMid, txtString, va=\"center\", ha=\"center\", rotation=30)\n",
    "\n",
    "\n",
    "def plotTree(myTree, parentPt, nodeTxt):\n",
    "    # 获取叶子节点的数量\n",
    "    numLeafs = getNumLeafs(myTree)\n",
    "    # 获取树的深度\n",
    "    # depth = getTreeDepth(myTree)\n",
    "\n",
    "    # 找出第1个中心点的位置，然后与 parentPt定点进行划线\n",
    "    cntrPt = (plotTree.xOff + (1 + numLeafs) / 2 / plotTree.totalW, plotTree.yOff)\n",
    "    # print(cntrPt)\n",
    "    # 并打印输入对应的文字\n",
    "    plotMidText(cntrPt, parentPt, nodeTxt)\n",
    "\n",
    "    firstStr = list(myTree.keys())[0]\n",
    "    # 可视化Node分支点\n",
    "    plotNode(firstStr, cntrPt, parentPt, decisionNode)\n",
    "    # 根节点的值\n",
    "    secondDict = myTree[firstStr]\n",
    "    # y值 = 最高点-层数的高度[第二个节点位置]\n",
    "    plotTree.yOff = plotTree.yOff - 1 / plotTree.totalD\n",
    "    for key in secondDict.keys():\n",
    "        # 判断该节点是否是Node节点\n",
    "        if type(secondDict[key]) is dict:\n",
    "            # 如果是就递归调用[recursion]\n",
    "            plotTree(secondDict[key], cntrPt, str(key))\n",
    "        else:\n",
    "            # 如果不是，就在原来节点一半的地方找到节点的坐标\n",
    "            plotTree.xOff = plotTree.xOff + 1 / plotTree.totalW\n",
    "            # 可视化该节点位置\n",
    "            plotNode(secondDict[key], (plotTree.xOff, plotTree.yOff), cntrPt, leafNode)\n",
    "            # 并打印输入对应的文字\n",
    "            plotMidText((plotTree.xOff, plotTree.yOff), cntrPt, str(key))\n",
    "    plotTree.yOff = plotTree.yOff + 1 / plotTree.totalD\n",
    "\n",
    "\n",
    "def createPlot(inTree):\n",
    "    # 创建一个figure的模版\n",
    "    fig = plt.figure(1, facecolor='green')\n",
    "    fig.clf()\n",
    "\n",
    "    axprops = dict(xticks=[], yticks=[])\n",
    "    # 表示创建一个1行，1列的图，createPlot.ax1 为第 1 个子图，\n",
    "    createPlot.ax1 = plt.subplot(111, frameon=False, **axprops)\n",
    "\n",
    "    plotTree.totalW = float(getNumLeafs(inTree))\n",
    "    plotTree.totalD = float(getTreeDepth(inTree))\n",
    "    # 半个节点的长度\n",
    "    plotTree.xOff = -0.5 / plotTree.totalW\n",
    "    plotTree.yOff = 1.0\n",
    "    plotTree(inTree, (0.5, 1.0), '')\n",
    "    plt.show()\n",
    "\n",
    "\n",
    "# # 测试画图\n",
    "# def createPlot():\n",
    "#     fig = plt.figure(1, facecolor='white')\n",
    "#     fig.clf()\n",
    "#     # ticks for demo puropses\n",
    "#     createPlot.ax1 = plt.subplot(111, frameon=False)\n",
    "#     plotNode('a decision node', (0.5, 0.1), (0.1, 0.5), decisionNode)\n",
    "#     plotNode('a leaf node', (0.8, 0.1), (0.3, 0.8), leafNode)\n",
    "#     plt.show()\n",
    "\n",
    "\n",
    "# 测试数据集\n",
    "def retrieveTree(i):\n",
    "    listOfTrees = [\n",
    "        {'no surfacing': {0: 'no', 1: {'flippers': {0: 'no', 1: 'yes'}}}},\n",
    "        {'no surfacing': {0: 'no', 1: {'flippers': {0: {'head': {0: 'no', 1: 'yes'}}, 1: 'no'}}}}\n",
    "    ]\n",
    "    return listOfTrees[i]\n",
    "\n",
    "\n",
    "# myTree = retrieveTree(1)\n",
    "# createPlot(myTree)"
   ]
  },
  {
   "cell_type": "markdown",
   "metadata": {},
   "source": [
    "# 使用决策树预测隐形眼镜类型\n",
    "lenses.txt 透镜组数据\n",
    "age prescript astigmatic tearRate"
   ]
  },
  {
   "cell_type": "code",
   "execution_count": 27,
   "metadata": {},
   "outputs": [
    {
     "name": "stdout",
     "output_type": "stream",
     "text": [
      "infoGain= 0.03939650364612124 bestFeature= 0 1.3260875253642983 1.286691021718177\n",
      "infoGain= 0.039510835423565815 bestFeature= 1 1.3260875253642983 1.2865766899407325\n",
      "infoGain= 0.37700523001147723 bestFeature= 2 1.3260875253642983 0.9490822953528211\n",
      "infoGain= 0.5487949406953986 bestFeature= 3 1.3260875253642983 0.7772925846688997\n",
      "infoGain= 0.22125183600446618 bestFeature= 0 1.5545851693377994 1.3333333333333333\n",
      "infoGain= 0.09543725231055489 bestFeature= 1 1.5545851693377994 1.4591479170272446\n",
      "infoGain= 0.7704260414863776 bestFeature= 2 1.5545851693377994 0.7841591278514218\n",
      "infoGain= 0.2516291673878229 bestFeature= 0 0.9182958340544896 0.6666666666666666\n",
      "infoGain= 0.4591479170272448 bestFeature= 1 0.9182958340544896 0.4591479170272448\n",
      "infoGain= 0.9182958340544896 bestFeature= 0 0.9182958340544896 0.0\n",
      "infoGain= 0.3166890883150208 bestFeature= 0 0.6500224216483541 0.3333333333333333\n",
      "infoGain= 0.19087450462110933 bestFeature= 1 0.6500224216483541 0.4591479170272448\n",
      "infoGain= 1.0 bestFeature= 0 1.0 0.0\n"
     ]
    },
    {
     "data": {
      "text/plain": [
       "{'tearRate': {'reduced': 'no lenses',\n",
       "  'normal': {'astigmatic': {'yes': {'prescript': {'myope': 'hard',\n",
       "      'hyper': {'age': {'presbyopic': 'no lenses',\n",
       "        'pre': 'no lenses',\n",
       "        'young': 'hard'}}}},\n",
       "    'no': {'age': {'presbyopic': {'prescript': {'myope': 'no lenses',\n",
       "        'hyper': 'soft'}},\n",
       "      'pre': 'soft',\n",
       "      'young': 'soft'}}}}}}"
      ]
     },
     "execution_count": 27,
     "metadata": {},
     "output_type": "execute_result"
    }
   ],
   "source": [
    "fr = open('lenses.txt')\n",
    "lenses = [inst.strip().split('\\t') for inst in fr.readlines()]\n",
    "lensesLabels = ['age','prescript', 'astigmatic', 'tearRate']\n",
    "lensesTree = createTree(lenses,lensesLabels)\n",
    "lensesTree"
   ]
  },
  {
   "cell_type": "code",
   "execution_count": 28,
   "metadata": {},
   "outputs": [
    {
     "data": {
      "image/png": "[encoded data removed]",
      "text/plain": [
       "<Figure size 432x288 with 1 Axes>"
      ]
     },
     "metadata": {},
     "output_type": "display_data"
    }
   ],
   "source": [
    "createPlot(lensesTree)"
   ]
  },
  {
   "cell_type": "code",
   "execution_count": null,
   "metadata": {},
   "outputs": [],
   "source": []
  }
 ],
 "metadata": {
  "kernelspec": {
   "display_name": "Python 3",
   "language": "python",
   "name": "python3"
  },
  "language_info": {
   "codemirror_mode": {
    "name": "ipython",
    "version": 3
   },
   "file_extension": ".py",
   "mimetype": "text/x-python",
   "name": "python",
   "nbconvert_exporter": "python",
   "pygments_lexer": "ipython3",
   "version": "3.7.1"
  }
 },
 "nbformat": 4,
 "nbformat_minor": 2
}
