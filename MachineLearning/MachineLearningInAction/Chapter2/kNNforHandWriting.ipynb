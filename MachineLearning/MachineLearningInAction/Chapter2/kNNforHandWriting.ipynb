{
 "cells": [
  {
   "cell_type": "markdown",
   "metadata": {},
   "source": [
    "# 手写识别系统\n",
    "功能：针对0-9进行识别\n",
    "方案：\n",
    "1. 收集数据(digits.zip，提供32x32的二进制图像)\n",
    "2. 编写函数classify0()，将图像格式转换为分类器可使用的格式\n",
    "3. 提取所有样本训练\n"
   ]
  },
  {
   "cell_type": "code",
   "execution_count": 1,
   "metadata": {},
   "outputs": [],
   "source": [
    "from numpy import *\n",
    "def classify0(inX,dataSet,labels,k):\n",
    "    from collections import Counter\n",
    "    m=dataSet.shape[0]\n",
    "    dataSet_labels = {}\n",
    "    #计算测试数据inX与所有dataSet的欧式范值\n",
    "    inX = tile(inX,(m,1)) #先将inX扩展为同size矩阵便于计算\n",
    "    distance_array = ((dataSet - inX) ** 2).sum(axis=1) ** 0.5\n",
    "    #对计算的欧式范值进行排序，找寻差值最小的索引号\n",
    "    sort_idx=distance_array.argsort(axis=0)\n",
    "    count_labels=[]\n",
    "    idx = 0\n",
    "    while idx < k:\n",
    "        count_labels.append(labels[sort_idx[idx]]) #按距离最小顺序依次加入列表\n",
    "        idx +=1\n",
    "    return Counter(count_labels).most_common()[0][0] #统计出现频率最高的类\n",
    "    "
   ]
  },
  {
   "cell_type": "code",
   "execution_count": 7,
   "metadata": {},
   "outputs": [
    {
     "data": {
      "text/plain": [
       "'B'"
      ]
     },
     "execution_count": 7,
     "metadata": {},
     "output_type": "execute_result"
    }
   ],
   "source": [
    "group = array([[1.0,1.1],[1.0,1.0],[0,0],[0,0.1]])\n",
    "labels = ['A','A','B','B']\n",
    "classify0([0,0],group,labels,3)"
   ]
  },
  {
   "cell_type": "markdown",
   "metadata": {},
   "source": [
    "## 循环读取图像文本，转化为Numpy数组"
   ]
  },
  {
   "cell_type": "code",
   "execution_count": 2,
   "metadata": {},
   "outputs": [],
   "source": [
    "def img2vector(filename):\n",
    "    returnVect = zeros((1,1024)) #初始化1列，1024项Numpy 0值数组\n",
    "    fr = open(filename,'r')\n",
    "    for i in range(32):#读取32行\n",
    "        lineStr = fr.readline()#逐行读取\n",
    "        for j in range(32):#读取32列\n",
    "            returnVect[0,32*i+j] = int(lineStr[j]) #对0*i行第j列转换的项赋值\n",
    "    return returnVect\n"
   ]
  },
  {
   "cell_type": "code",
   "execution_count": 3,
   "metadata": {},
   "outputs": [
    {
     "data": {
      "text/plain": [
       "array([0., 0., 0., 0., 0., 0., 0., 0., 0., 0., 0., 0., 0., 0., 0., 1., 1.,\n",
       "       1., 0., 0., 0., 0., 0., 0., 0., 0., 0., 0., 0., 0., 0.])"
      ]
     },
     "execution_count": 3,
     "metadata": {},
     "output_type": "execute_result"
    }
   ],
   "source": [
    "filename='trainingDigits/0_13.txt'\n",
    "img2vector(filename)[0,0:31]"
   ]
  },
  {
   "cell_type": "code",
   "execution_count": 4,
   "metadata": {},
   "outputs": [],
   "source": [
    "def handwritingClassTest():\n",
    "    from os import listdir\n",
    "    hwLabels = []\n",
    "    trainingFileList = listdir('trainingDigits')# 列出所有训练样本\n",
    "    m = len(trainingFileList)\n",
    "    trainingMat = zeros((m,1024))\n",
    "    for i in range(m): #将所有样本转换为1024列的numpy数组格式\n",
    "        fileNameStr = trainingFileList[i] \n",
    "        fileStr = fileNameStr.split('.')[0]\n",
    "        classNumStr = int(fileStr.split('_')[0]) #提取文件名中的数字代表\n",
    "        hwLabels.append(classNumStr)\n",
    "        trainingMat[i,:] = img2vector('trainingDigits/%s' % fileNameStr)\n",
    "    testFileList = listdir('testDigits') # 列出所有测试样本\n",
    "    errorCount = 0.0\n",
    "    mTest = len(testFileList)\n",
    "    for i in range(mTest):\n",
    "        fileNameStr = testFileList[i]\n",
    "        fileStr = fileNameStr.split('.')[0]\n",
    "        classNumStr = int(fileStr.split('_')[0])\n",
    "        vectorUnderTest = img2vector('testDigits/%s' % fileNameStr)\n",
    "        classifierResult = classify0(vectorUnderTest,trainingMat,hwLabels,3) #调用k临近函数验证\n",
    "#         print(\"the classifier came back with:%d, the real answer is: %d\"%  (classifierResult,classNumStr))\n",
    "        if (classifierResult != classNumStr):\n",
    "            print(\"the classifier came back with:%d, the real answer is: %d\"%  (classifierResult,classNumStr))\n",
    "            errorCount += 1.0\n",
    "    print(\"\\nthe total number of errors is: %d\" % errorCount )\n",
    "    print(\"\\nthe total error rate is: %f\" % (errorCount/float(mTest)) )"
   ]
  },
  {
   "cell_type": "code",
   "execution_count": 5,
   "metadata": {},
   "outputs": [
    {
     "name": "stdout",
     "output_type": "stream",
     "text": [
      "the classifier came back with:7, the real answer is: 1\n",
      "the classifier came back with:9, the real answer is: 3\n",
      "the classifier came back with:3, the real answer is: 5\n",
      "the classifier came back with:6, the real answer is: 5\n",
      "the classifier came back with:6, the real answer is: 8\n",
      "the classifier came back with:3, the real answer is: 8\n",
      "the classifier came back with:1, the real answer is: 8\n",
      "the classifier came back with:1, the real answer is: 8\n",
      "the classifier came back with:1, the real answer is: 9\n",
      "the classifier came back with:7, the real answer is: 9\n",
      "\n",
      "the total number of errors is: 10\n",
      "\n",
      "the total error rate is: 0.010571\n"
     ]
    }
   ],
   "source": [
    "handwritingClassTest()"
   ]
  }
 ],
 "metadata": {
  "kernelspec": {
   "display_name": "Python 3",
   "language": "python",
   "name": "python3"
  },
  "language_info": {
   "codemirror_mode": {
    "name": "ipython",
    "version": 3
   },
   "file_extension": ".py",
   "mimetype": "text/x-python",
   "name": "python",
   "nbconvert_exporter": "python",
   "pygments_lexer": "ipython3",
   "version": "3.7.1"
  }
 },
 "nbformat": 4,
 "nbformat_minor": 2
}
