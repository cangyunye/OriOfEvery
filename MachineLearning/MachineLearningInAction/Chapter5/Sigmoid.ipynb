{
 "cells": [
  {
   "attachments": {
    "sigmoid.jpg": {
     "image/jpeg": "[encoded data removed]"
    }
   },
   "cell_type": "markdown",
   "metadata": {},
   "source": [
    "# Logistic回归\n",
    "优点：计算代价不高，易于理解和实现\n",
    "\n",
    "缺点：容易欠拟合，分类精度可能不高\n",
    "\n",
    "适用数据类型：数值型和标称型数据（非数值型数据可以用数值作为标签进行代替）\n",
    "\n",
    "我们需要的函数，期望具备特性为，某个范围输出0，其他范围输出1，但并不期望为阶跃式函数。\n",
    "\n",
    "Sigmoid函数具备0到1之间的过渡，刚好适用这种情况。\n",
    "\n",
    "$$\\sigma(z)=\\frac{1}{1+e^{-z}}$$\n",
    "\n",
    "```octave\n",
    "#octave作图\n",
    "x = [-20:0.1:20];\n",
    "y = 1 ./ (1 .+ e .^(-x));\n",
    "plot(x,y)\n",
    "```\n",
    "\n",
    "![sigmoid.jpg](attachment:sigmoid.jpg)\n",
    "\n",
    "显然，当x为0时，Sigmoid函数值为0.5，\\\\(|x|\\\\)接近4时，即发生跳跃至0或1\n",
    "\n",
    "Sigmoid函数输入记为z:\n",
    "\n",
    "$$z =w_0x_0+w_1x_1+...+w_nx_n$$\n",
    "\n",
    "向量写法：\\\\(z=W^TX\\\\) (字母大写代表矩阵)\n",
    "\n",
    "# 梯度上升法\n",
    "\n",
    "如果梯度记为\\\\(\\nabla\\\\),则函数f(x,y)的梯度表示为：\n",
    "\n",
    "\n",
    "$$\\nabla{f(x,y)}=\\left( \\begin{matrix}\n",
    "\\frac{\\partial{f(x,y)}}{\\partial{x}} \\\\\\\\\n",
    "\\frac{\\partial{f(x,y)}}{\\partial{y}}\n",
    "\\end{matrix} \\right)\n",
    "$$\n",
    "\n",
    "用向量来表示梯度算法的迭代公式如下：\n",
    "$$w:=w+\\alpha{\\nabla_w}f(w)$$\n",
    "\n",
    "\\\\(\\alpha\\\\)记做步长\n",
    "\n",
    "沿着x的方向移动$$\\frac{\\partial{f(x,y)}}{\\partial{x}}$$\n",
    "\n",
    "沿着y的方向移动$$\\frac{\\partial{f(x,y)}}{\\partial{y}}$$\n"
   ]
  },
  {
   "cell_type": "code",
   "execution_count": null,
   "metadata": {},
   "outputs": [],
   "source": []
  }
 ],
 "metadata": {
  "kernelspec": {
   "display_name": "Python 3",
   "language": "python",
   "name": "python3"
  },
  "language_info": {
   "codemirror_mode": {
    "name": "ipython",
    "version": 3
   },
   "file_extension": ".py",
   "mimetype": "text/x-python",
   "name": "python",
   "nbconvert_exporter": "python",
   "pygments_lexer": "ipython3",
   "version": "3.7.1"
  }
 },
 "nbformat": 4,
 "nbformat_minor": 2
}
