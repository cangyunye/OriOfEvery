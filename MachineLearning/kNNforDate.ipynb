{
 "cells": [
  {
   "cell_type": "markdown",
   "metadata": {},
   "source": [
    "# k-近邻算法一般流程\n",
    "1. 收集数据，并格式化\n",
    "2. 距离计算\n",
    "3. 分析数据\n",
    "4. 测试算法，即准确度"
   ]
  },
  {
   "cell_type": "code",
   "execution_count": 1,
   "metadata": {},
   "outputs": [
    {
     "data": {
      "text/plain": [
       "(array([[1. , 1.1],\n",
       "        [1. , 1. ],\n",
       "        [0. , 0. ],\n",
       "        [0. , 0.1]]), ['A', 'A', 'B', 'B'])"
      ]
     },
     "execution_count": 1,
     "metadata": {},
     "output_type": "execute_result"
    }
   ],
   "source": [
    "#科学计算工具包\n",
    "from numpy import *\n",
    "#运算符模块\n",
    "import operator \n",
    "\n",
    "def createDataSet():\n",
    "    #用于创建数据集合标签\n",
    "    group = array([[1.0,1.1],[1.0,1.0],[0,0],[0,0.1]])\n",
    "    labels = ['A','A','B','B']\n",
    "    return group,labels\n",
    "createDataSet()"
   ]
  },
  {
   "cell_type": "markdown",
   "metadata": {},
   "source": [
    "对未知类别属性的数据集中的每个点依次执行以下操作：\n",
    "1. 计算已知类别数据集中的点与测试点之间的距离。\n",
    "2. 按照距离递增次序排序。\n",
    "3. 选取与测试点距离最小的k个点。\n",
    "4. 确定前k个点所在类别的出现频率。\n",
    "5. 返回前k个点出现频率最高的类别作为当前点的预测分类。\n",
    "\n"
   ]
  },
  {
   "cell_type": "code",
   "execution_count": 2,
   "metadata": {},
   "outputs": [
    {
     "data": {
      "text/plain": [
       "'B'"
      ]
     },
     "execution_count": 2,
     "metadata": {},
     "output_type": "execute_result"
    }
   ],
   "source": [
    "def classify0(inX,dataSet,labels,k):\n",
    "    #第n维，即表示列表符号\"[]\"第几层，从1层开始，第1维表示[a,b,c]的a,b,c等3个项\n",
    "    #统计第1维项数量，即数据的行数\n",
    "    dataSetSize = dataSet.shape[0]\n",
    "    #将输入坐标通过tile，扩大为样本数据的行数，然后每行减去对应行的样本\n",
    "    diffMat = tile(inX,(dataSetSize,1)) - dataSet\n",
    "    #求矩阵各项平方\n",
    "    sqDiffMat = diffMat**2\n",
    "    #对第2维项求和,即对所有列求和\n",
    "    sqDistances = sqDiffMat.sum(axis=1)\n",
    "    #取根号\n",
    "    distances = sqDistances**0.5\n",
    "    #按照距离递增排序,返回索引号\n",
    "    sortedDistIndicies = distances.argsort()\n",
    "    classCount = {}\n",
    "    #选择距离最小的k个点\n",
    "    for i in range(k):\n",
    "        #排序的前k个点对应的类\n",
    "        voteIlabel = labels[sortedDistIndicies[i]]\n",
    "        #字典对每个类的统计\n",
    "        classCount[voteIlabel] = classCount.get(voteIlabel,0) + 1\n",
    "    #依据字典的值itemgetter(1)，即统计数进行排序\n",
    "    sortedClassCount = sorted(classCount.items(),key=operator.itemgetter(1),reverse=True)\n",
    "    #返回最大统计数\n",
    "    return sortedClassCount[0][0]\n",
    "group,labels = createDataSet()   \n",
    "classify0([0,0],group,labels,3)"
   ]
  },
  {
   "cell_type": "markdown",
   "metadata": {},
   "source": [
    "# 读取约会匹配特征文本到列表\n",
    "\n",
    "飞行公里  玩游戏所耗时间百分比   每周冰淇淋体积   喜欢度\n"
   ]
  },
  {
   "cell_type": "code",
   "execution_count": 3,
   "metadata": {},
   "outputs": [
    {
     "name": "stdout",
     "output_type": "stream",
     "text": [
      "[[4.0920000e+04 8.3269760e+00 9.5395200e-01]\n",
      " [1.4488000e+04 7.1534690e+00 1.6739040e+00]\n",
      " [2.6052000e+04 1.4418710e+00 8.0512400e-01]\n",
      " ...\n",
      " [2.6575000e+04 1.0650102e+01 8.6662700e-01]\n",
      " [4.8111000e+04 9.1345280e+00 7.2804500e-01]\n",
      " [4.3757000e+04 7.8826010e+00 1.3324460e+00]]\n",
      "[3, 2, 1, 1, 1, 1, 3, 3, 1, 3, 1, 1, 2, 1, 1, 1, 1, 1, 2, 3, 2, 1, 2, 3, 2, 3, 2, 3, 2, 1, 3, 1, 3, 1, 2, 1, 1, 2, 3, 3, 1, 2, 3, 3, 3, 1, 1, 1, 1, 2, 2, 1, 3, 2, 2, 2, 2, 3, 1, 2, 1, 2, 2, 2, 2, 2, 3, 2, 3, 1, 2, 3, 2, 2, 1, 3, 1, 1, 3, 3, 1, 2, 3, 1, 3, 1, 2, 2, 1, 1, 3, 3, 1, 2, 1, 3, 3, 2, 1, 1, 3, 1, 2, 3, 3, 2, 3, 3, 1, 2, 3, 2, 1, 3, 1, 2, 1, 1, 2, 3, 2, 3, 2, 3, 2, 1, 3, 3, 3, 1, 3, 2, 2, 3, 1, 3, 3, 3, 1, 3, 1, 1, 3, 3, 2, 3, 3, 1, 2, 3, 2, 2, 3, 3, 3, 1, 2, 2, 1, 1, 3, 2, 3, 3, 1, 2, 1, 3, 1, 2, 3, 2, 3, 1, 1, 1, 3, 2, 3, 1, 3, 2, 1, 3, 2, 2, 3, 2, 3, 2, 1, 1, 3, 1, 3, 2, 2, 2, 3, 2, 2, 1, 2, 2, 3, 1, 3, 3, 2, 1, 1, 1, 2, 1, 3, 3, 3, 3, 2, 1, 1, 1, 2, 3, 2, 1, 3, 1, 3, 2, 2, 3, 1, 3, 1, 1, 2, 1, 2, 2, 1, 3, 1, 3, 2, 3, 1, 2, 3, 1, 1, 1, 1, 2, 3, 2, 2, 3, 1, 2, 1, 1, 1, 3, 3, 2, 1, 1, 1, 2, 2, 3, 1, 1, 1, 2, 1, 1, 2, 1, 1, 1, 2, 2, 3, 2, 3, 3, 3, 3, 1, 2, 3, 1, 1, 1, 3, 1, 3, 2, 2, 1, 3, 1, 3, 2, 2, 1, 2, 2, 3, 1, 3, 2, 1, 1, 3, 3, 2, 3, 3, 2, 3, 1, 3, 1, 3, 3, 1, 3, 2, 1, 3, 1, 3, 2, 1, 2, 2, 1, 3, 1, 1, 3, 3, 2, 2, 3, 1, 2, 3, 3, 2, 2, 1, 1, 1, 1, 3, 2, 1, 1, 3, 2, 1, 1, 3, 3, 3, 2, 3, 2, 1, 1, 1, 1, 1, 3, 2, 2, 1, 2, 1, 3, 2, 1, 3, 2, 1, 3, 1, 1, 3, 3, 3, 3, 2, 1, 1, 2, 1, 3, 3, 2, 1, 2, 3, 2, 1, 2, 2, 2, 1, 1, 3, 1, 1, 2, 3, 1, 1, 2, 3, 1, 3, 1, 1, 2, 2, 1, 2, 2, 2, 3, 1, 1, 1, 3, 1, 3, 1, 3, 3, 1, 1, 1, 3, 2, 3, 3, 2, 2, 1, 1, 1, 2, 1, 2, 2, 3, 3, 3, 1, 1, 3, 3, 2, 3, 3, 2, 3, 3, 3, 2, 3, 3, 1, 2, 3, 2, 1, 1, 1, 1, 3, 3, 3, 3, 2, 1, 1, 1, 1, 3, 1, 1, 2, 1, 1, 2, 3, 2, 1, 2, 2, 2, 3, 2, 1, 3, 2, 3, 2, 3, 2, 1, 1, 2, 3, 1, 3, 3, 3, 1, 2, 1, 2, 2, 1, 2, 2, 2, 2, 2, 3, 2, 1, 3, 3, 2, 2, 2, 3, 1, 2, 1, 1, 3, 2, 3, 2, 3, 2, 3, 3, 2, 2, 1, 3, 1, 2, 1, 3, 1, 1, 1, 3, 1, 1, 3, 3, 2, 2, 1, 3, 1, 1, 3, 2, 3, 1, 1, 3, 1, 3, 3, 1, 2, 3, 1, 3, 1, 1, 2, 1, 3, 1, 1, 1, 1, 2, 1, 3, 1, 2, 1, 3, 1, 3, 1, 1, 2, 2, 2, 3, 2, 2, 1, 2, 3, 3, 2, 3, 3, 3, 2, 3, 3, 1, 3, 2, 3, 2, 1, 2, 1, 1, 1, 2, 3, 2, 2, 1, 2, 2, 1, 3, 1, 3, 3, 3, 2, 2, 3, 3, 1, 2, 2, 2, 3, 1, 2, 1, 3, 1, 2, 3, 1, 1, 1, 2, 2, 3, 1, 3, 1, 1, 3, 1, 2, 3, 1, 2, 3, 1, 2, 3, 2, 2, 2, 3, 1, 3, 1, 2, 3, 2, 2, 3, 1, 2, 3, 2, 3, 1, 2, 2, 3, 1, 1, 1, 2, 2, 1, 1, 2, 1, 2, 1, 2, 3, 2, 1, 3, 3, 3, 1, 1, 3, 1, 2, 3, 3, 2, 2, 2, 1, 2, 3, 2, 2, 3, 2, 2, 2, 3, 3, 2, 1, 3, 2, 1, 3, 3, 1, 2, 3, 2, 1, 3, 3, 3, 1, 2, 2, 2, 3, 2, 3, 3, 1, 2, 1, 1, 2, 1, 3, 1, 2, 2, 1, 3, 2, 1, 3, 3, 2, 2, 2, 1, 2, 2, 1, 3, 1, 3, 1, 3, 3, 1, 1, 2, 3, 2, 2, 3, 1, 1, 1, 1, 3, 2, 2, 1, 3, 1, 2, 3, 1, 3, 1, 3, 1, 1, 3, 2, 3, 1, 1, 3, 3, 3, 3, 1, 3, 2, 2, 1, 1, 3, 3, 2, 2, 2, 1, 2, 1, 2, 1, 3, 2, 1, 2, 2, 3, 1, 2, 2, 2, 3, 2, 1, 2, 1, 2, 3, 3, 2, 3, 1, 1, 3, 3, 1, 2, 2, 2, 2, 2, 2, 1, 3, 3, 3, 3, 3, 1, 1, 3, 2, 1, 2, 1, 2, 2, 3, 2, 2, 2, 3, 1, 2, 1, 2, 2, 1, 1, 2, 3, 3, 1, 1, 1, 1, 3, 3, 3, 3, 3, 3, 1, 3, 3, 2, 3, 2, 3, 3, 2, 2, 1, 1, 1, 3, 3, 1, 1, 1, 3, 3, 2, 1, 2, 1, 1, 2, 2, 1, 1, 1, 3, 1, 1, 2, 3, 2, 2, 1, 3, 1, 2, 3, 1, 2, 2, 2, 2, 3, 2, 3, 3, 1, 2, 1, 2, 3, 1, 3, 2, 2, 2, 2, 2, 2, 2, 2, 2, 2, 2, 2, 3, 2, 2, 2, 2, 2, 1, 3, 3, 3]\n"
     ]
    }
   ],
   "source": [
    "def file2matrix(filename):\n",
    "    fr = open(filename)\n",
    "    love_dictionary = {'largeDoses':3, 'smallDoses':2, 'didntLike':1}\n",
    "    arrayOLines = fr.readlines()\n",
    "    numberOfLines = len(arrayOLines)\n",
    "    returnMat = zeros((numberOfLines,3))\n",
    "    classLabelVector = []\n",
    "    index = 0\n",
    "    for line in arrayOLines:\n",
    "        line = line.strip() #清除行前后的空格以及换行符\n",
    "        listFromLine = line.split('\\t') #根据\\t分组\n",
    "        returnMat[index,:] = listFromLine[0:3]# 将前三行赋值\n",
    "        if listFromLine[-1].isdigit():#矩阵最后一列是否数字\n",
    "            classLabelVector.append((int(listFromLine[-1])))\n",
    "        else:\n",
    "            classLabelVector.append(love_dictionary.get(listFromLine[-1]))\n",
    "        index += 1\n",
    "    fr.close()\n",
    "    return returnMat,classLabelVector\n",
    "datingDataMat,datingLabels = file2matrix('datingTestSet.txt')\n",
    "print(datingDataMat)\n",
    "print(datingLabels)"
   ]
  },
  {
   "cell_type": "markdown",
   "metadata": {},
   "source": [
    "# Matplotlib散点图"
   ]
  },
  {
   "cell_type": "code",
   "execution_count": 4,
   "metadata": {},
   "outputs": [
    {
     "data": {
      "text/plain": [
       "<Figure size 640x480 with 1 Axes>"
      ]
     },
     "metadata": {},
     "output_type": "display_data"
    }
   ],
   "source": [
    "import matplotlib\n",
    "import matplotlib.pyplot as plt\n",
    "fig = plt.figure() #指定画布\n",
    "ax = fig.add_subplot(111) #在指定画布中分割为1行1列，选择第1块\n",
    "ax.scatter(datingDataMat[:,1],datingDataMat[:,2],15.0*array(datingLabels),15.0*array(datingLabels))\n",
    "plt.show()"
   ]
  },
  {
   "cell_type": "markdown",
   "metadata": {},
   "source": [
    "# 归一化数据 \n",
    "由于飞行公里数相对于其他特征来说，数值非常大，在使用欧式范数公式计算中，飞行公里数严重影响了其他数据表现\n",
    "\n",
    "故将采取数据归一化，使三个特征值归纳到0到1或-1到1之间。\n",
    "\n",
    "公式：newvalue = (oldValue -min)/(max - min)"
   ]
  },
  {
   "cell_type": "code",
   "execution_count": 5,
   "metadata": {},
   "outputs": [
    {
     "name": "stdout",
     "output_type": "stream",
     "text": [
      "[[0.44832535 0.39805139 0.56233353]\n",
      " [0.15873259 0.34195467 0.98724416]\n",
      " [0.28542943 0.06892523 0.47449629]\n",
      " ...\n",
      " [0.29115949 0.50910294 0.51079493]\n",
      " [0.52711097 0.43665451 0.4290048 ]\n",
      " [0.47940793 0.3768091  0.78571804]]\n",
      "[9.1273000e+04 2.0919349e+01 1.6943610e+00]\n",
      "[0.       0.       0.001156]\n"
     ]
    }
   ],
   "source": [
    "def autoNorm(dataSet):\n",
    "  minVals = dataSet.min(0) #axis=0;求每列的最小值\n",
    "  maxVals = dataSet.max(0) #axis=0,求每列的最大值\n",
    "  ranges = maxVals - minVals \n",
    "  normDataSet = zeros(shape(dataSet)) #以dataSet行列设置0值矩阵\n",
    "  m = dataSet.shape[0] #axis=0，每列的长度\n",
    "  normDataSet = dataSet - tile(minVals,(m,1)) #矩阵相减在同一size\n",
    "  normDataSet = normDataSet/tile(ranges,(m,1)) #矩阵相除在同一size\n",
    "  return normDataSet,ranges,minVals\n",
    "\n",
    "normMat,ranges,minVals = autoNorm(datingDataMat)\n",
    "print(normMat)\n",
    "print(ranges)\n",
    "print(minVals)"
   ]
  },
  {
   "cell_type": "markdown",
   "metadata": {},
   "source": [
    "# 分类器针对约会匹配数据的测试代码\n",
    "1. 提供已有数据的90%作为训练样本训练分类器\n",
    "2. 使用10%的随机数据测试分类器\n",
    "3. 错误率=错误结果/测试总数据"
   ]
  },
  {
   "cell_type": "code",
   "execution_count": 6,
   "metadata": {},
   "outputs": [
    {
     "name": "stdout",
     "output_type": "stream",
     "text": [
      "the classifier came back with:3, the real answer is: 3\n",
      "the classifier came back with:2, the real answer is: 2\n",
      "the classifier came back with:1, the real answer is: 1\n",
      "the classifier came back with:1, the real answer is: 1\n",
      "the classifier came back with:1, the real answer is: 1\n",
      "the classifier came back with:1, the real answer is: 1\n",
      "the classifier came back with:3, the real answer is: 3\n",
      "the classifier came back with:3, the real answer is: 3\n",
      "the classifier came back with:1, the real answer is: 1\n",
      "the classifier came back with:3, the real answer is: 3\n",
      "the classifier came back with:1, the real answer is: 1\n",
      "the classifier came back with:1, the real answer is: 1\n",
      "the classifier came back with:2, the real answer is: 2\n",
      "the classifier came back with:1, the real answer is: 1\n",
      "the classifier came back with:1, the real answer is: 1\n",
      "the classifier came back with:1, the real answer is: 1\n",
      "the classifier came back with:1, the real answer is: 1\n",
      "the classifier came back with:1, the real answer is: 1\n",
      "the classifier came back with:2, the real answer is: 2\n",
      "the classifier came back with:3, the real answer is: 3\n",
      "the classifier came back with:2, the real answer is: 2\n",
      "the classifier came back with:1, the real answer is: 1\n",
      "the classifier came back with:2, the real answer is: 2\n",
      "the classifier came back with:3, the real answer is: 3\n",
      "the classifier came back with:2, the real answer is: 2\n",
      "the classifier came back with:3, the real answer is: 3\n",
      "the classifier came back with:2, the real answer is: 2\n",
      "the classifier came back with:3, the real answer is: 3\n",
      "the classifier came back with:2, the real answer is: 2\n",
      "the classifier came back with:1, the real answer is: 1\n",
      "the classifier came back with:3, the real answer is: 3\n",
      "the classifier came back with:1, the real answer is: 1\n",
      "the classifier came back with:3, the real answer is: 3\n",
      "the classifier came back with:1, the real answer is: 1\n",
      "the classifier came back with:2, the real answer is: 2\n",
      "the classifier came back with:1, the real answer is: 1\n",
      "the classifier came back with:1, the real answer is: 1\n",
      "the classifier came back with:2, the real answer is: 2\n",
      "the classifier came back with:3, the real answer is: 3\n",
      "the classifier came back with:3, the real answer is: 3\n",
      "the classifier came back with:1, the real answer is: 1\n",
      "the classifier came back with:2, the real answer is: 2\n",
      "the classifier came back with:3, the real answer is: 3\n",
      "the classifier came back with:3, the real answer is: 3\n",
      "the classifier came back with:3, the real answer is: 3\n",
      "the classifier came back with:1, the real answer is: 1\n",
      "the classifier came back with:1, the real answer is: 1\n",
      "the classifier came back with:1, the real answer is: 1\n",
      "the classifier came back with:1, the real answer is: 1\n",
      "the classifier came back with:2, the real answer is: 2\n",
      "the classifier came back with:2, the real answer is: 2\n",
      "the classifier came back with:1, the real answer is: 1\n",
      "the classifier came back with:3, the real answer is: 3\n",
      "the classifier came back with:2, the real answer is: 2\n",
      "the classifier came back with:2, the real answer is: 2\n",
      "the classifier came back with:2, the real answer is: 2\n",
      "the classifier came back with:2, the real answer is: 2\n",
      "the classifier came back with:3, the real answer is: 3\n",
      "the classifier came back with:1, the real answer is: 1\n",
      "the classifier came back with:2, the real answer is: 2\n",
      "the classifier came back with:1, the real answer is: 1\n",
      "the classifier came back with:2, the real answer is: 2\n",
      "the classifier came back with:2, the real answer is: 2\n",
      "the classifier came back with:2, the real answer is: 2\n",
      "the classifier came back with:2, the real answer is: 2\n",
      "the classifier came back with:2, the real answer is: 2\n",
      "the classifier came back with:3, the real answer is: 3\n",
      "the classifier came back with:2, the real answer is: 2\n",
      "the classifier came back with:3, the real answer is: 3\n",
      "the classifier came back with:1, the real answer is: 1\n",
      "the classifier came back with:2, the real answer is: 2\n",
      "the classifier came back with:3, the real answer is: 3\n",
      "the classifier came back with:2, the real answer is: 2\n",
      "the classifier came back with:2, the real answer is: 2\n",
      "the classifier came back with:3, the real answer is: 1\n",
      "the total error rate is:0.010000\n",
      "the classifier came back with:3, the real answer is: 3\n",
      "the classifier came back with:1, the real answer is: 1\n",
      "the classifier came back with:1, the real answer is: 1\n",
      "the classifier came back with:3, the real answer is: 3\n",
      "the classifier came back with:3, the real answer is: 3\n",
      "the classifier came back with:1, the real answer is: 1\n",
      "the classifier came back with:2, the real answer is: 2\n",
      "the classifier came back with:3, the real answer is: 3\n",
      "the classifier came back with:3, the real answer is: 1\n",
      "the total error rate is:0.020000\n",
      "the classifier came back with:3, the real answer is: 3\n",
      "the classifier came back with:1, the real answer is: 1\n",
      "the classifier came back with:2, the real answer is: 2\n",
      "the classifier came back with:2, the real answer is: 2\n",
      "the classifier came back with:1, the real answer is: 1\n",
      "the classifier came back with:1, the real answer is: 1\n",
      "the classifier came back with:3, the real answer is: 3\n",
      "the classifier came back with:2, the real answer is: 3\n",
      "the total error rate is:0.030000\n",
      "the classifier came back with:1, the real answer is: 1\n",
      "the classifier came back with:2, the real answer is: 2\n",
      "the classifier came back with:1, the real answer is: 1\n",
      "the classifier came back with:3, the real answer is: 3\n",
      "the classifier came back with:3, the real answer is: 3\n",
      "the classifier came back with:2, the real answer is: 2\n",
      "the classifier came back with:2, the real answer is: 1\n",
      "the total error rate is:0.040000\n",
      "the classifier came back with:1, the real answer is: 1\n"
     ]
    }
   ],
   "source": [
    "def datingClassTest():\n",
    "    hoRatio = 0.10\n",
    "    datingDataMat,datingLabels = file2matrix('datingTestSet.txt')\n",
    "    normMat,ranges,minVals = autoNorm(datingDataMat)\n",
    "    m = normMat.shape[0]  #总样本量\n",
    "    numTestVecs = int(m*hoRatio) #测试数据集抽取hoRatio的量\n",
    "    errorCount = 0.0\n",
    "    for i in range(numTestVecs):\n",
    "        classifierResult = classify0(normMat[i,:],normMat[numTestVecs:m,:],datingLabels[numTestVecs:m],4) #m-numTestVecs个样本\n",
    "        print(\"the classifier came back with:%d, the real answer is: %d\" % (classifierResult ,datingLabels[i]))\n",
    "        if (classifierResult != datingLabels[i]):\n",
    "            errorCount += 1.0\n",
    "            print(\"the total error rate is:%f\" % (errorCount/float(numTestVecs)))\n",
    "datingClassTest()\n",
    "    "
   ]
  },
  {
   "cell_type": "code",
   "execution_count": 7,
   "metadata": {},
   "outputs": [
    {
     "name": "stdout",
     "output_type": "stream",
     "text": [
      "percentage of time spent playing video games?23.123\n",
      "frequent flier miles earned per year?21512\n",
      "liters of ice cream consumed per year?2.151\n",
      "You will probably like this person: in large doses\n"
     ]
    }
   ],
   "source": [
    "def classifyPerson():\n",
    "    resultList = ['not at all','in small doses', 'in large doses']\n",
    "    percentTats = float(input(\"percentage of time spent playing video games?\"))\n",
    "    ffMiles = float(input(\"frequent flier miles earned per year?\"))\n",
    "    iceCream = float(input(\"liters of ice cream consumed per year?\"))\n",
    "    datingDataMat,datingLabels = file2matrix('datingTestSet2.txt')\n",
    "    normMat,ranges,minVals = autoNorm(datingDataMat)\n",
    "    inArr = array([ffMiles,percentTats,iceCream])\n",
    "    classifierResult = classify0((inArr-minVals)/ranges,normMat,datingLabels,3)\n",
    "    print(\"You will probably like this person:\",resultList[classifierResult-1])\n",
    "classifyPerson()"
   ]
  }
 ],
 "metadata": {
  "kernelspec": {
   "display_name": "Python 3",
   "language": "python",
   "name": "python3"
  },
  "language_info": {
   "codemirror_mode": {
    "name": "ipython",
    "version": 3
   },
   "file_extension": ".py",
   "mimetype": "text/x-python",
   "name": "python",
   "nbconvert_exporter": "python",
   "pygments_lexer": "ipython3",
   "version": "3.7.1"
  }
 },
 "nbformat": 4,
 "nbformat_minor": 2
}
